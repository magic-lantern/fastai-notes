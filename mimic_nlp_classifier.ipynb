{
 "cells": [
  {
   "cell_type": "markdown",
   "metadata": {},
   "source": [
    "# Based on our custom MIMIC language model, train a classifier\n",
    "\n",
    "Make sure mimic_nlp_lm has been run first and sucessfully completed. That notebook builds the language model that allows classificiation to occur."
   ]
  },
  {
   "cell_type": "code",
   "execution_count": 1,
   "metadata": {},
   "outputs": [],
   "source": [
    "from fastai.text import *\n",
    "from sklearn.model_selection import train_test_split\n",
    "import glob\n",
    "import gc"
   ]
  },
  {
   "cell_type": "markdown",
   "metadata": {},
   "source": [
    "Setup filenames and paths"
   ]
  },
  {
   "cell_type": "code",
   "execution_count": 2,
   "metadata": {},
   "outputs": [],
   "source": [
    "# pandas doesn't understand ~, so provide full path\n",
    "base_path = Path.home() / 'mimic'\n",
    "\n",
    "# files used during processing - all aggregated here\n",
    "admissions_file = base_path/'ADMISSIONS.csv'\n",
    "notes_file = base_path/'NOTEEVENTS.csv'\n",
    "\n",
    "class_file = 'mimic_cl.pickle'\n",
    "notes_pickle_file = base_path/'noteevents.pickle'\n",
    "data_lm_file = 'mimic_lm.pickle' # actual file is at base_path/lm_file but due to fastai function, have to pass file name separately\n",
    "init_model_file = base_path/'mimic_fit_head'\n",
    "cycles_file = base_path/'cl_num_iterations.pickle'\n",
    "lm_base_file = 'mimic_lm_fine_tuned_'\n",
    "enc_file = 'mimic_fine_tuned_enc'\n",
    "class_file = 'mimic_cl.pickle'"
   ]
  },
  {
   "cell_type": "markdown",
   "metadata": {},
   "source": [
    "Setup parameters for models"
   ]
  },
  {
   "cell_type": "code",
   "execution_count": 3,
   "metadata": {},
   "outputs": [],
   "source": [
    "# original data set too large to work with in reasonable time due to limted GPU resources\n",
    "pct_data_sample = 0.1\n",
    "# how much to hold out for validation\n",
    "valid_pct = 0.2\n",
    "# for repeatability - different seed than used with language model\n",
    "seed = 1776\n",
    "# for language model building - not sure how this will translate to classifier\n",
    "# batch size of 128 GPU uses 14GB RAM\n",
    "# batch size of 96 GPU uses 9GB RAM\n",
    "# batch size of 48 GPU uses 5GB RAM\n",
    "bs=96"
   ]
  },
  {
   "cell_type": "code",
   "execution_count": 4,
   "metadata": {},
   "outputs": [
    {
     "name": "stdout",
     "output_type": "stream",
     "text": [
      "Loading noteevent pickle file\n",
      "(2083180, 11)\n"
     ]
    }
   ],
   "source": [
    "orig_df = pd.DataFrame()\n",
    "if os.path.isfile(notes_pickle_file):\n",
    "    print('Loading noteevent pickle file')\n",
    "    orig_df = pd.read_pickle(notes_pickle_file)\n",
    "    print(orig_df.shape)\n",
    "else:\n",
    "    print('Could not find noteevent pickle file; creating it')\n",
    "    # run this the first time to covert CSV to Pickle file\n",
    "    orig_df = pd.read_csv(notes_file, low_memory=False, memory_map=True)\n",
    "    orig_df.to_pickle(notes_pickle_file)"
   ]
  },
  {
   "cell_type": "markdown",
   "metadata": {},
   "source": [
    "Since seed is different, this should be quite different than the language model dataset.\n",
    "\n",
    "Should I show details on how many records are in language model dataset?"
   ]
  },
  {
   "cell_type": "code",
   "execution_count": 5,
   "metadata": {},
   "outputs": [],
   "source": [
    "df = orig_df.sample(frac=pct_data_sample, random_state=seed)"
   ]
  },
  {
   "cell_type": "code",
   "execution_count": 6,
   "metadata": {},
   "outputs": [
    {
     "data": {
      "text/html": [
       "<div>\n",
       "<style scoped>\n",
       "    .dataframe tbody tr th:only-of-type {\n",
       "        vertical-align: middle;\n",
       "    }\n",
       "\n",
       "    .dataframe tbody tr th {\n",
       "        vertical-align: top;\n",
       "    }\n",
       "\n",
       "    .dataframe thead th {\n",
       "        text-align: right;\n",
       "    }\n",
       "</style>\n",
       "<table border=\"1\" class=\"dataframe\">\n",
       "  <thead>\n",
       "    <tr style=\"text-align: right;\">\n",
       "      <th></th>\n",
       "      <th>ROW_ID</th>\n",
       "      <th>SUBJECT_ID</th>\n",
       "      <th>HADM_ID</th>\n",
       "      <th>CHARTDATE</th>\n",
       "      <th>CHARTTIME</th>\n",
       "      <th>STORETIME</th>\n",
       "      <th>CATEGORY</th>\n",
       "      <th>DESCRIPTION</th>\n",
       "      <th>CGID</th>\n",
       "      <th>ISERROR</th>\n",
       "      <th>TEXT</th>\n",
       "    </tr>\n",
       "  </thead>\n",
       "  <tbody>\n",
       "    <tr>\n",
       "      <th>1452901</th>\n",
       "      <td>1454539</td>\n",
       "      <td>14755</td>\n",
       "      <td>151669.0</td>\n",
       "      <td>2125-02-13</td>\n",
       "      <td>2125-02-13 05:37:00</td>\n",
       "      <td>2125-02-13 05:40:00</td>\n",
       "      <td>Nursing/other</td>\n",
       "      <td>Report</td>\n",
       "      <td>19585.0</td>\n",
       "      <td>NaN</td>\n",
       "      <td>Respiratory Care:\\nPatient on PSV overnight of...</td>\n",
       "    </tr>\n",
       "    <tr>\n",
       "      <th>462929</th>\n",
       "      <td>466766</td>\n",
       "      <td>46041</td>\n",
       "      <td>176979.0</td>\n",
       "      <td>2160-06-02</td>\n",
       "      <td>2160-06-02 02:43:00</td>\n",
       "      <td>2160-06-02 02:57:32</td>\n",
       "      <td>Nursing</td>\n",
       "      <td>Nursing Progress Note</td>\n",
       "      <td>18654.0</td>\n",
       "      <td>NaN</td>\n",
       "      <td>Shock, cardiogenic\\n   Assessment:\\n   Hemodyn...</td>\n",
       "    </tr>\n",
       "    <tr>\n",
       "      <th>227661</th>\n",
       "      <td>237449</td>\n",
       "      <td>81883</td>\n",
       "      <td>118744.0</td>\n",
       "      <td>2143-10-28</td>\n",
       "      <td>NaN</td>\n",
       "      <td>NaN</td>\n",
       "      <td>ECG</td>\n",
       "      <td>Report</td>\n",
       "      <td>NaN</td>\n",
       "      <td>NaN</td>\n",
       "      <td>Compared to tracing #1 the patient's rate has ...</td>\n",
       "    </tr>\n",
       "    <tr>\n",
       "      <th>597361</th>\n",
       "      <td>603087</td>\n",
       "      <td>50450</td>\n",
       "      <td>147724.0</td>\n",
       "      <td>2191-09-20</td>\n",
       "      <td>2191-09-20 23:48:00</td>\n",
       "      <td>2191-09-20 23:48:27</td>\n",
       "      <td>Physician</td>\n",
       "      <td>Physician Attending Admission Note - MICU</td>\n",
       "      <td>16383.0</td>\n",
       "      <td>NaN</td>\n",
       "      <td>Chief Complaint:  GI Bleed-melena and hemateme...</td>\n",
       "    </tr>\n",
       "    <tr>\n",
       "      <th>973311</th>\n",
       "      <td>962711</td>\n",
       "      <td>7287</td>\n",
       "      <td>108868.0</td>\n",
       "      <td>2152-06-02</td>\n",
       "      <td>2152-06-02 23:18:00</td>\n",
       "      <td>NaN</td>\n",
       "      <td>Radiology</td>\n",
       "      <td>PELVIS PORTABLE</td>\n",
       "      <td>NaN</td>\n",
       "      <td>NaN</td>\n",
       "      <td>[**2152-6-2**] 11:18 PM\\n PELVIS PORTABLE     ...</td>\n",
       "    </tr>\n",
       "  </tbody>\n",
       "</table>\n",
       "</div>"
      ],
      "text/plain": [
       "          ROW_ID  SUBJECT_ID   HADM_ID   CHARTDATE            CHARTTIME  \\\n",
       "1452901  1454539       14755  151669.0  2125-02-13  2125-02-13 05:37:00   \n",
       "462929    466766       46041  176979.0  2160-06-02  2160-06-02 02:43:00   \n",
       "227661    237449       81883  118744.0  2143-10-28                  NaN   \n",
       "597361    603087       50450  147724.0  2191-09-20  2191-09-20 23:48:00   \n",
       "973311    962711        7287  108868.0  2152-06-02  2152-06-02 23:18:00   \n",
       "\n",
       "                   STORETIME       CATEGORY  \\\n",
       "1452901  2125-02-13 05:40:00  Nursing/other   \n",
       "462929   2160-06-02 02:57:32        Nursing   \n",
       "227661                   NaN            ECG   \n",
       "597361   2191-09-20 23:48:27     Physician    \n",
       "973311                   NaN      Radiology   \n",
       "\n",
       "                                       DESCRIPTION     CGID  ISERROR  \\\n",
       "1452901                                     Report  19585.0      NaN   \n",
       "462929                       Nursing Progress Note  18654.0      NaN   \n",
       "227661                                      Report      NaN      NaN   \n",
       "597361   Physician Attending Admission Note - MICU  16383.0      NaN   \n",
       "973311                             PELVIS PORTABLE      NaN      NaN   \n",
       "\n",
       "                                                      TEXT  \n",
       "1452901  Respiratory Care:\\nPatient on PSV overnight of...  \n",
       "462929   Shock, cardiogenic\\n   Assessment:\\n   Hemodyn...  \n",
       "227661   Compared to tracing #1 the patient's rate has ...  \n",
       "597361   Chief Complaint:  GI Bleed-melena and hemateme...  \n",
       "973311   [**2152-6-2**] 11:18 PM\\n PELVIS PORTABLE     ...  "
      ]
     },
     "execution_count": 6,
     "metadata": {},
     "output_type": "execute_result"
    }
   ],
   "source": [
    "df.head()"
   ]
  },
  {
   "cell_type": "code",
   "execution_count": 7,
   "metadata": {},
   "outputs": [
    {
     "name": "stdout",
     "output_type": "stream",
     "text": [
      "Unique Categories: 15\n",
      "Unique Descriptions: 1708\n"
     ]
    }
   ],
   "source": [
    "print('Unique Categories:', len(df.CATEGORY.unique()))\n",
    "print('Unique Descriptions:', len(df.DESCRIPTION.unique()))"
   ]
  },
  {
   "cell_type": "markdown",
   "metadata": {},
   "source": [
    "Original section from lesson3\n",
    "```python\n",
    "data_clas = (TextList.from_folder(path, vocab=data_lm.vocab)\n",
    "             #grab all the text files in path\n",
    "             .split_by_folder(valid='test')\n",
    "             #split by train and valid folder (that only keeps 'train' and 'test' so no need to filter)\n",
    "             .label_from_folder(classes=['neg', 'pos'])\n",
    "             #label them all with their folders\n",
    "             .databunch(bs=bs))\n",
    "\n",
    "data_clas.save('data_clas.pkl')\n",
    "```"
   ]
  },
  {
   "cell_type": "code",
   "execution_count": 8,
   "metadata": {},
   "outputs": [
    {
     "name": "stdout",
     "output_type": "stream",
     "text": [
      "loading existing language model\n"
     ]
    }
   ],
   "source": [
    "if os.path.isfile(base_path/data_lm_file):\n",
    "    print('loading existing language model')\n",
    "    data_lm = load_data(base_path, data_lm_file, bs=bs)\n",
    "else:\n",
    "    print('ERROR: language model file not found.')"
   ]
  },
  {
   "cell_type": "code",
   "execution_count": null,
   "metadata": {},
   "outputs": [],
   "source": [
    "filename = base_path/class_file\n",
    "if os.path.isfile(filename):\n",
    "    data_cl = load_data(base_path, class_file, bs=bs)\n",
    "else:\n",
    "    # do I need a vocab here? test with and without...\n",
    "    data_cl = (TextList.from_df(df, base_path, cols='TEXT', vocab=data_lm.vocab)\n",
    "               #df has several columns; actual text is in column TEXT\n",
    "               .split_by_rand_pct(valid_pct=valid_pct, seed=seed)\n",
    "               #We randomly split and keep 20% for validation, set see for repeatability\n",
    "               .label_from_df(cols='DESCRIPTION')\n",
    "               #building classifier to automatically determine DESCRIPTION\n",
    "               .databunch(bs=bs))\n",
    "    data_cl.save(filename)"
   ]
  },
  {
   "cell_type": "code",
   "execution_count": null,
   "metadata": {},
   "outputs": [],
   "source": [
    "learn = text_classifier_learner(data_cl, AWD_LSTM, drop_mult=0.5)\n",
    "learn.load_encoder(enc_file)"
   ]
  },
  {
   "cell_type": "code",
   "execution_count": null,
   "metadata": {},
   "outputs": [],
   "source": [
    "learn.lr_find()"
   ]
  },
  {
   "cell_type": "code",
   "execution_count": null,
   "metadata": {},
   "outputs": [],
   "source": [
    "learn.recorder.plot()"
   ]
  },
  {
   "cell_type": "markdown",
   "metadata": {},
   "source": [
    "Change learning rate based on results from the above plot"
   ]
  },
  {
   "cell_type": "code",
   "execution_count": null,
   "metadata": {},
   "outputs": [],
   "source": [
    "learn.fit_one_cycle(1, 2e-2, moms=(0.8,0.7))"
   ]
  },
  {
   "cell_type": "markdown",
   "metadata": {},
   "source": [
    "Now need to fine tune"
   ]
  },
  {
   "cell_type": "code",
   "execution_count": null,
   "metadata": {},
   "outputs": [],
   "source": [
    "learn.unfreeze()"
   ]
  },
  {
   "cell_type": "code",
   "execution_count": null,
   "metadata": {},
   "outputs": [],
   "source": []
  },
  {
   "cell_type": "code",
   "execution_count": null,
   "metadata": {},
   "outputs": [],
   "source": []
  },
  {
   "cell_type": "code",
   "execution_count": null,
   "metadata": {},
   "outputs": [],
   "source": []
  },
  {
   "cell_type": "markdown",
   "metadata": {},
   "source": [
    "## Create a classifier to predict Length of Stay (LOS)\n",
    "\n",
    "Steps:\n",
    "1. Load Admissions data\n",
    "1. Calculate Length of Stay\n",
    "1. Join Admissions data with Notes data (on HADM_ID) - Columns needed for classifier: LOS, TEXT\n",
    "\n",
    "Would also be nice to see a graphical summary of LOS."
   ]
  },
  {
   "cell_type": "code",
   "execution_count": 9,
   "metadata": {},
   "outputs": [
    {
     "name": "stdout",
     "output_type": "stream",
     "text": [
      "Loading ADMISSIONS.csv\n"
     ]
    },
    {
     "data": {
      "text/plain": [
       "(58976, 19)"
      ]
     },
     "execution_count": 9,
     "metadata": {},
     "output_type": "execute_result"
    }
   ],
   "source": [
    "print('Loading ADMISSIONS.csv')\n",
    "a_orig = pd.read_csv(admissions_file, low_memory=False, memory_map=True)\n",
    "a_orig.shape"
   ]
  },
  {
   "cell_type": "code",
   "execution_count": 10,
   "metadata": {},
   "outputs": [
    {
     "data": {
      "text/html": [
       "<div>\n",
       "<style scoped>\n",
       "    .dataframe tbody tr th:only-of-type {\n",
       "        vertical-align: middle;\n",
       "    }\n",
       "\n",
       "    .dataframe tbody tr th {\n",
       "        vertical-align: top;\n",
       "    }\n",
       "\n",
       "    .dataframe thead th {\n",
       "        text-align: right;\n",
       "    }\n",
       "</style>\n",
       "<table border=\"1\" class=\"dataframe\">\n",
       "  <thead>\n",
       "    <tr style=\"text-align: right;\">\n",
       "      <th></th>\n",
       "      <th>HADM_ID</th>\n",
       "      <th>ADMITTIME</th>\n",
       "      <th>DISCHTIME</th>\n",
       "      <th>admittime</th>\n",
       "      <th>dischtime</th>\n",
       "      <th>los</th>\n",
       "    </tr>\n",
       "  </thead>\n",
       "  <tbody>\n",
       "    <tr>\n",
       "      <th>0</th>\n",
       "      <td>165315</td>\n",
       "      <td>2196-04-09 12:26:00</td>\n",
       "      <td>2196-04-10 15:54:00</td>\n",
       "      <td>2196-04-09 12:26:00</td>\n",
       "      <td>2196-04-10 15:54:00</td>\n",
       "      <td>1.0</td>\n",
       "    </tr>\n",
       "    <tr>\n",
       "      <th>1</th>\n",
       "      <td>152223</td>\n",
       "      <td>2153-09-03 07:15:00</td>\n",
       "      <td>2153-09-08 19:10:00</td>\n",
       "      <td>2153-09-03 07:15:00</td>\n",
       "      <td>2153-09-08 19:10:00</td>\n",
       "      <td>5.0</td>\n",
       "    </tr>\n",
       "    <tr>\n",
       "      <th>2</th>\n",
       "      <td>124321</td>\n",
       "      <td>2157-10-18 19:34:00</td>\n",
       "      <td>2157-10-25 14:00:00</td>\n",
       "      <td>2157-10-18 19:34:00</td>\n",
       "      <td>2157-10-25 14:00:00</td>\n",
       "      <td>6.0</td>\n",
       "    </tr>\n",
       "    <tr>\n",
       "      <th>3</th>\n",
       "      <td>161859</td>\n",
       "      <td>2139-06-06 16:14:00</td>\n",
       "      <td>2139-06-09 12:48:00</td>\n",
       "      <td>2139-06-06 16:14:00</td>\n",
       "      <td>2139-06-09 12:48:00</td>\n",
       "      <td>2.0</td>\n",
       "    </tr>\n",
       "    <tr>\n",
       "      <th>4</th>\n",
       "      <td>129635</td>\n",
       "      <td>2160-11-02 02:06:00</td>\n",
       "      <td>2160-11-05 14:55:00</td>\n",
       "      <td>2160-11-02 02:06:00</td>\n",
       "      <td>2160-11-05 14:55:00</td>\n",
       "      <td>3.0</td>\n",
       "    </tr>\n",
       "  </tbody>\n",
       "</table>\n",
       "</div>"
      ],
      "text/plain": [
       "   HADM_ID            ADMITTIME            DISCHTIME           admittime  \\\n",
       "0   165315  2196-04-09 12:26:00  2196-04-10 15:54:00 2196-04-09 12:26:00   \n",
       "1   152223  2153-09-03 07:15:00  2153-09-08 19:10:00 2153-09-03 07:15:00   \n",
       "2   124321  2157-10-18 19:34:00  2157-10-25 14:00:00 2157-10-18 19:34:00   \n",
       "3   161859  2139-06-06 16:14:00  2139-06-09 12:48:00 2139-06-06 16:14:00   \n",
       "4   129635  2160-11-02 02:06:00  2160-11-05 14:55:00 2160-11-02 02:06:00   \n",
       "\n",
       "            dischtime  los  \n",
       "0 2196-04-10 15:54:00  1.0  \n",
       "1 2153-09-08 19:10:00  5.0  \n",
       "2 2157-10-25 14:00:00  6.0  \n",
       "3 2139-06-09 12:48:00  2.0  \n",
       "4 2160-11-05 14:55:00  3.0  "
      ]
     },
     "execution_count": 10,
     "metadata": {},
     "output_type": "execute_result"
    }
   ],
   "source": [
    "a_df = a_orig[['HADM_ID', 'ADMITTIME', 'DISCHTIME']].copy()\n",
    "#pd.to_datetime('2014-04-09T152959.999993-0500', utc=True)\n",
    "# passing format just to make sure conversion doesn't mess something up\n",
    "a_df['admittime'] = pd.to_datetime(a_df.ADMITTIME, format='%Y-%m-%d %H:%M:%S')\n",
    "a_df['dischtime'] = pd.to_datetime(a_df.DISCHTIME, format='%Y-%m-%d %H:%M:%S')\n",
    "a_df['los'] = (a_df['dischtime'] - a_df['admittime']).astype('timedelta64[D]')\n",
    "# there are 98 admissions where length of stay is negative. change to 0\n",
    "a_df.loc[a_df.los < 0, 'los'] = 0\n",
    "a_df.head()"
   ]
  },
  {
   "cell_type": "code",
   "execution_count": 11,
   "metadata": {},
   "outputs": [
    {
     "data": {
      "application/vnd.vegalite.v3+json": {
       "$schema": "https://vega.github.io/schema/vega-lite/v3.3.0.json",
       "config": {
        "mark": {
         "tooltip": null
        },
        "view": {
         "height": 300,
         "width": 400
        }
       },
       "data": {
        "name": "data-2738e37813521cf597b27c4fae3eef42"
       },
       "datasets": {
        "data-2738e37813521cf597b27c4fae3eef42": [
         {
          "ADMITTIME": "2196-04-09 12:26:00",
          "DISCHTIME": "2196-04-10 15:54:00",
          "HADM_ID": 165315,
          "admittime": "2196-04-09T12:26:00",
          "dischtime": "2196-04-10T15:54:00",
          "los": 1
         },
         {
          "ADMITTIME": "2153-09-03 07:15:00",
          "DISCHTIME": "2153-09-08 19:10:00",
          "HADM_ID": 152223,
          "admittime": "2153-09-03T07:15:00",
          "dischtime": "2153-09-08T19:10:00",
          "los": 5
         },
         {
          "ADMITTIME": "2157-10-18 19:34:00",
          "DISCHTIME": "2157-10-25 14:00:00",
          "HADM_ID": 124321,
          "admittime": "2157-10-18T19:34:00",
          "dischtime": "2157-10-25T14:00:00",
          "los": 6
         },
         {
          "ADMITTIME": "2139-06-06 16:14:00",
          "DISCHTIME": "2139-06-09 12:48:00",
          "HADM_ID": 161859,
          "admittime": "2139-06-06T16:14:00",
          "dischtime": "2139-06-09T12:48:00",
          "los": 2
         },
         {
          "ADMITTIME": "2160-11-02 02:06:00",
          "DISCHTIME": "2160-11-05 14:55:00",
          "HADM_ID": 129635,
          "admittime": "2160-11-02T02:06:00",
          "dischtime": "2160-11-05T14:55:00",
          "los": 3
         },
         {
          "ADMITTIME": "2126-05-06 15:16:00",
          "DISCHTIME": "2126-05-13 15:00:00",
          "HADM_ID": 197661,
          "admittime": "2126-05-06T15:16:00",
          "dischtime": "2126-05-13T15:00:00",
          "los": 6
         },
         {
          "ADMITTIME": "2191-11-30 22:16:00",
          "DISCHTIME": "2191-12-03 14:45:00",
          "HADM_ID": 134931,
          "admittime": "2191-11-30T22:16:00",
          "dischtime": "2191-12-03T14:45:00",
          "los": 2
         },
         {
          "ADMITTIME": "2177-09-01 07:15:00",
          "DISCHTIME": "2177-09-06 16:00:00",
          "HADM_ID": 162569,
          "admittime": "2177-09-01T07:15:00",
          "dischtime": "2177-09-06T16:00:00",
          "los": 5
         },
         {
          "ADMITTIME": "2172-10-14 14:17:00",
          "DISCHTIME": "2172-10-19 14:37:00",
          "HADM_ID": 104557,
          "admittime": "2172-10-14T14:17:00",
          "dischtime": "2172-10-19T14:37:00",
          "los": 5
         },
         {
          "ADMITTIME": "2108-08-22 23:27:00",
          "DISCHTIME": "2108-08-30 15:00:00",
          "HADM_ID": 128652,
          "admittime": "2108-08-22T23:27:00",
          "dischtime": "2108-08-30T15:00:00",
          "los": 7
         },
         {
          "ADMITTIME": "2170-04-04 08:00:00",
          "DISCHTIME": "2170-04-23 12:45:00",
          "HADM_ID": 175413,
          "admittime": "2170-04-04T08:00:00",
          "dischtime": "2170-04-23T12:45:00",
          "los": 19
         },
         {
          "ADMITTIME": "2116-12-23 22:30:00",
          "DISCHTIME": "2116-12-27 12:05:00",
          "HADM_ID": 176176,
          "admittime": "2116-12-23T22:30:00",
          "dischtime": "2116-12-27T12:05:00",
          "los": 3
         },
         {
          "ADMITTIME": "2186-07-18 16:46:00",
          "DISCHTIME": "2186-07-20 16:00:00",
          "HADM_ID": 115799,
          "admittime": "2186-07-18T16:46:00",
          "dischtime": "2186-07-20T16:00:00",
          "los": 1
         },
         {
          "ADMITTIME": "2191-02-23 05:23:00",
          "DISCHTIME": "2191-02-25 20:20:00",
          "HADM_ID": 144319,
          "admittime": "2191-02-23T05:23:00",
          "dischtime": "2191-02-25T20:20:00",
          "los": 2
         },
         {
          "ADMITTIME": "2122-02-10 11:15:00",
          "DISCHTIME": "2122-02-20 15:30:00",
          "HADM_ID": 166707,
          "admittime": "2122-02-10T11:15:00",
          "dischtime": "2122-02-20T15:30:00",
          "los": 10
         },
         {
          "ADMITTIME": "2131-04-30 07:15:00",
          "DISCHTIME": "2131-05-08 14:00:00",
          "HADM_ID": 182104,
          "admittime": "2131-04-30T07:15:00",
          "dischtime": "2131-05-08T14:00:00",
          "los": 8
         },
         {
          "ADMITTIME": "2131-05-12 19:49:00",
          "DISCHTIME": "2131-05-25 13:30:00",
          "HADM_ID": 122659,
          "admittime": "2131-05-12T19:49:00",
          "dischtime": "2131-05-25T13:30:00",
          "los": 12
         },
         {
          "ADMITTIME": "2134-05-10 11:30:00",
          "DISCHTIME": "2134-05-20 13:16:00",
          "HADM_ID": 165660,
          "admittime": "2134-05-10T11:30:00",
          "dischtime": "2134-05-20T13:16:00",
          "los": 10
         },
         {
          "ADMITTIME": "2183-08-21 16:48:00",
          "DISCHTIME": "2183-08-26 18:54:00",
          "HADM_ID": 188670,
          "admittime": "2183-08-21T16:48:00",
          "dischtime": "2183-08-26T18:54:00",
          "los": 5
         },
         {
          "ADMITTIME": "2166-08-10 00:28:00",
          "DISCHTIME": "2166-09-04 11:30:00",
          "HADM_ID": 185910,
          "admittime": "2166-08-10T00:28:00",
          "dischtime": "2166-09-04T11:30:00",
          "los": 25
         },
         {
          "ADMITTIME": "2114-11-29 21:04:00",
          "DISCHTIME": "2114-12-09 15:10:00",
          "HADM_ID": 106266,
          "admittime": "2114-11-29T21:04:00",
          "dischtime": "2114-12-09T15:10:00",
          "los": 9
         },
         {
          "ADMITTIME": "2132-12-31 10:30:00",
          "DISCHTIME": "2133-01-27 15:45:00",
          "HADM_ID": 101757,
          "admittime": "2132-12-31T10:30:00",
          "dischtime": "2133-01-27T15:45:00",
          "los": 27
         },
         {
          "ADMITTIME": "2197-12-06 07:13:00",
          "DISCHTIME": "2198-01-03 14:00:00",
          "HADM_ID": 174486,
          "admittime": "2197-12-06T07:13:00",
          "dischtime": "2198-01-03T14:00:00",
          "los": 28
         },
         {
          "ADMITTIME": "2198-08-02 04:49:00",
          "DISCHTIME": "2198-10-26 14:55:00",
          "HADM_ID": 145674,
          "admittime": "2198-08-02T04:49:00",
          "dischtime": "2198-10-26T14:55:00",
          "los": 85
         },
         {
          "ADMITTIME": "2198-11-01 22:36:00",
          "DISCHTIME": "2198-11-14 14:20:00",
          "HADM_ID": 122609,
          "admittime": "2198-11-01T22:36:00",
          "dischtime": "2198-11-14T14:20:00",
          "los": 12
         },
         {
          "ADMITTIME": "2199-10-20 12:05:00",
          "DISCHTIME": "2199-10-23 17:30:00",
          "HADM_ID": 101651,
          "admittime": "2199-10-20T12:05:00",
          "dischtime": "2199-10-23T17:30:00",
          "los": 3
         },
         {
          "ADMITTIME": "2199-12-21 22:37:00",
          "DISCHTIME": "2200-01-18 11:45:00",
          "HADM_ID": 117876,
          "admittime": "2199-12-21T22:37:00",
          "dischtime": "2200-01-18T11:45:00",
          "los": 27
         },
         {
          "ADMITTIME": "2168-10-24 23:48:00",
          "DISCHTIME": "2168-10-29 03:23:00",
          "HADM_ID": 110872,
          "admittime": "2168-10-24T23:48:00",
          "dischtime": "2168-10-29T03:23:00",
          "los": 4
         },
         {
          "ADMITTIME": "2176-06-30 03:00:00",
          "DISCHTIME": "2176-07-03 15:12:00",
          "HADM_ID": 144265,
          "admittime": "2176-06-30T03:00:00",
          "dischtime": "2176-07-03T15:12:00",
          "los": 3
         },
         {
          "ADMITTIME": "2176-06-25 17:50:00",
          "DISCHTIME": "2176-07-02 14:28:00",
          "HADM_ID": 154871,
          "admittime": "2176-06-25T17:50:00",
          "dischtime": "2176-07-02T14:28:00",
          "los": 6
         },
         {
          "ADMITTIME": "2121-05-10 10:18:00",
          "DISCHTIME": "2121-05-12 21:39:00",
          "HADM_ID": 108205,
          "admittime": "2121-05-10T10:18:00",
          "dischtime": "2121-05-12T21:39:00",
          "los": 2
         },
         {
          "ADMITTIME": "2122-01-05 22:58:00",
          "DISCHTIME": "2122-01-24 16:38:00",
          "HADM_ID": 148959,
          "admittime": "2122-01-05T22:58:00",
          "dischtime": "2122-01-24T16:38:00",
          "los": 18
         },
         {
          "ADMITTIME": "2112-07-10 02:31:00",
          "DISCHTIME": "2112-07-16 13:45:00",
          "HADM_ID": 142749,
          "admittime": "2112-07-10T02:31:00",
          "dischtime": "2112-07-16T13:45:00",
          "los": 6
         },
         {
          "ADMITTIME": "2112-07-28 17:08:00",
          "DISCHTIME": "2112-08-03 17:56:00",
          "HADM_ID": 150873,
          "admittime": "2112-07-28T17:08:00",
          "dischtime": "2112-08-03T17:56:00",
          "los": 6
         },
         {
          "ADMITTIME": "2176-03-01 15:26:00",
          "DISCHTIME": "2176-03-03 14:04:00",
          "HADM_ID": 196503,
          "admittime": "2176-03-01T15:26:00",
          "dischtime": "2176-03-03T14:04:00",
          "los": 1
         },
         {
          "ADMITTIME": "2130-05-22 20:10:00",
          "DISCHTIME": "2130-05-30 15:15:00",
          "HADM_ID": 136153,
          "admittime": "2130-05-22T20:10:00",
          "dischtime": "2130-05-30T15:15:00",
          "los": 7
         },
         {
          "ADMITTIME": "2147-12-15 17:10:00",
          "DISCHTIME": "2147-12-23 12:17:00",
          "HADM_ID": 139873,
          "admittime": "2147-12-15T17:10:00",
          "dischtime": "2147-12-23T12:17:00",
          "los": 7
         },
         {
          "ADMITTIME": "2164-11-18 20:27:00",
          "DISCHTIME": "2164-11-22 15:18:00",
          "HADM_ID": 134462,
          "admittime": "2164-11-18T20:27:00",
          "dischtime": "2164-11-22T15:18:00",
          "los": 3
         },
         {
          "ADMITTIME": "2160-09-08 11:47:00",
          "DISCHTIME": "2160-09-14 14:30:00",
          "HADM_ID": 119940,
          "admittime": "2160-09-08T11:47:00",
          "dischtime": "2160-09-14T14:30:00",
          "los": 6
         },
         {
          "ADMITTIME": "2137-07-11 17:56:00",
          "DISCHTIME": "2137-07-16 16:00:00",
          "HADM_ID": 105889,
          "admittime": "2137-07-11T17:56:00",
          "dischtime": "2137-07-16T16:00:00",
          "los": 4
         },
         {
          "ADMITTIME": "2139-12-16 19:48:00",
          "DISCHTIME": "2139-12-22 16:15:00",
          "HADM_ID": 138061,
          "admittime": "2139-12-16T19:48:00",
          "dischtime": "2139-12-22T16:15:00",
          "los": 5
         },
         {
          "ADMITTIME": "2142-10-09 07:15:00",
          "DISCHTIME": "2142-10-16 14:20:00",
          "HADM_ID": 145787,
          "admittime": "2142-10-09T07:15:00",
          "dischtime": "2142-10-16T14:20:00",
          "los": 7
         },
         {
          "ADMITTIME": "2153-03-04 01:17:00",
          "DISCHTIME": "2153-03-08 18:57:00",
          "HADM_ID": 123421,
          "admittime": "2153-03-04T01:17:00",
          "dischtime": "2153-03-08T18:57:00",
          "los": 4
         },
         {
          "ADMITTIME": "2147-12-08 23:38:00",
          "DISCHTIME": "2148-01-02 11:18:00",
          "HADM_ID": 113500,
          "admittime": "2147-12-08T23:38:00",
          "dischtime": "2148-01-02T11:18:00",
          "los": 24
         },
         {
          "ADMITTIME": "2114-07-08 17:22:00",
          "DISCHTIME": "2114-07-16 16:00:00",
          "HADM_ID": 144383,
          "admittime": "2114-07-08T17:22:00",
          "dischtime": "2114-07-16T16:00:00",
          "los": 7
         },
         {
          "ADMITTIME": "2116-04-26 18:58:00",
          "DISCHTIME": "2116-04-30 18:16:00",
          "HADM_ID": 119203,
          "admittime": "2116-04-26T18:58:00",
          "dischtime": "2116-04-30T18:16:00",
          "los": 3
         },
         {
          "ADMITTIME": "2186-10-01 23:15:00",
          "DISCHTIME": "2186-10-11 18:00:00",
          "HADM_ID": 146828,
          "admittime": "2186-10-01T23:15:00",
          "dischtime": "2186-10-11T18:00:00",
          "los": 9
         },
         {
          "ADMITTIME": "2192-11-19 18:14:00",
          "DISCHTIME": "2192-11-27 14:35:00",
          "HADM_ID": 181750,
          "admittime": "2192-11-19T18:14:00",
          "dischtime": "2192-11-27T14:35:00",
          "los": 7
         },
         {
          "ADMITTIME": "2129-06-10 00:32:00",
          "DISCHTIME": "2129-06-20 14:39:00",
          "HADM_ID": 157907,
          "admittime": "2129-06-10T00:32:00",
          "dischtime": "2129-06-20T14:39:00",
          "los": 10
         },
         {
          "ADMITTIME": "2133-02-20 18:21:00",
          "DISCHTIME": "2133-02-24 14:42:00",
          "HADM_ID": 144073,
          "admittime": "2133-02-20T18:21:00",
          "dischtime": "2133-02-24T14:42:00",
          "los": 3
         },
         {
          "ADMITTIME": "2186-11-21 07:15:00",
          "DISCHTIME": "2186-11-28 14:05:00",
          "HADM_ID": 190539,
          "admittime": "2186-11-21T07:15:00",
          "dischtime": "2186-11-28T14:05:00",
          "los": 7
         },
         {
          "ADMITTIME": "2112-06-23 19:40:00",
          "DISCHTIME": "2112-06-26 10:15:00",
          "HADM_ID": 132761,
          "admittime": "2112-06-23T19:40:00",
          "dischtime": "2112-06-26T10:15:00",
          "los": 2
         },
         {
          "ADMITTIME": "2128-11-30 10:28:00",
          "DISCHTIME": "2128-12-02 12:35:00",
          "HADM_ID": 196010,
          "admittime": "2128-11-30T10:28:00",
          "dischtime": "2128-12-02T12:35:00",
          "los": 2
         },
         {
          "ADMITTIME": "2191-01-10 02:12:00",
          "DISCHTIME": "2191-01-19 16:10:00",
          "HADM_ID": 190797,
          "admittime": "2191-01-10T02:12:00",
          "dischtime": "2191-01-19T16:10:00",
          "los": 9
         },
         {
          "ADMITTIME": "2170-03-20 20:20:00",
          "DISCHTIME": "2170-03-23 18:00:00",
          "HADM_ID": 155385,
          "admittime": "2170-03-20T20:20:00",
          "dischtime": "2170-03-23T18:00:00",
          "los": 2
         },
         {
          "ADMITTIME": "2191-08-10 15:53:00",
          "DISCHTIME": "2191-08-14 14:29:00",
          "HADM_ID": 138795,
          "admittime": "2191-08-10T15:53:00",
          "dischtime": "2191-08-14T14:29:00",
          "los": 3
         },
         {
          "ADMITTIME": "2136-04-03 18:35:00",
          "DISCHTIME": "2136-04-05 14:30:00",
          "HADM_ID": 190665,
          "admittime": "2136-04-03T18:35:00",
          "dischtime": "2136-04-05T14:30:00",
          "los": 1
         },
         {
          "ADMITTIME": "2104-01-02 02:01:00",
          "DISCHTIME": "2104-01-08 10:30:00",
          "HADM_ID": 181711,
          "admittime": "2104-01-02T02:01:00",
          "dischtime": "2104-01-08T10:30:00",
          "los": 6
         },
         {
          "ADMITTIME": "2141-08-26 00:07:00",
          "DISCHTIME": "2141-08-30 12:14:00",
          "HADM_ID": 162774,
          "admittime": "2141-08-26T00:07:00",
          "dischtime": "2141-08-30T12:14:00",
          "los": 4
         },
         {
          "ADMITTIME": "2184-09-21 10:03:00",
          "DISCHTIME": "2184-09-23 14:11:00",
          "HADM_ID": 177285,
          "admittime": "2184-09-21T10:03:00",
          "dischtime": "2184-09-23T14:11:00",
          "los": 2
         },
         {
          "ADMITTIME": "2197-11-14 17:07:00",
          "DISCHTIME": "2197-11-19 16:42:00",
          "HADM_ID": 104130,
          "admittime": "2197-11-14T17:07:00",
          "dischtime": "2197-11-19T16:42:00",
          "los": 4
         },
         {
          "ADMITTIME": "2146-11-12 14:58:00",
          "DISCHTIME": "2146-11-14 14:30:00",
          "HADM_ID": 198892,
          "admittime": "2146-11-12T14:58:00",
          "dischtime": "2146-11-14T14:30:00",
          "los": 1
         },
         {
          "ADMITTIME": "2118-06-17 14:40:00",
          "DISCHTIME": "2118-07-20 12:30:00",
          "HADM_ID": 176332,
          "admittime": "2118-06-17T14:40:00",
          "dischtime": "2118-07-20T12:30:00",
          "los": 32
         },
         {
          "ADMITTIME": "2119-01-04 18:12:00",
          "DISCHTIME": "2119-02-03 01:35:00",
          "HADM_ID": 189535,
          "admittime": "2119-01-04T18:12:00",
          "dischtime": "2119-02-03T01:35:00",
          "los": 29
         },
         {
          "ADMITTIME": "2113-02-15 00:19:00",
          "DISCHTIME": "2113-02-19 15:30:00",
          "HADM_ID": 116009,
          "admittime": "2113-02-15T00:19:00",
          "dischtime": "2113-02-19T15:30:00",
          "los": 4
         },
         {
          "ADMITTIME": "2169-01-07 01:50:00",
          "DISCHTIME": "2169-01-07 14:20:00",
          "HADM_ID": 195961,
          "admittime": "2169-01-07T01:50:00",
          "dischtime": "2169-01-07T14:20:00",
          "los": 0
         },
         {
          "ADMITTIME": "2143-03-03 09:25:00",
          "DISCHTIME": "2143-03-18 13:01:00",
          "HADM_ID": 172056,
          "admittime": "2143-03-03T09:25:00",
          "dischtime": "2143-03-18T13:01:00",
          "los": 15
         },
         {
          "ADMITTIME": "2132-08-10 07:13:00",
          "DISCHTIME": "2132-08-20 15:47:00",
          "HADM_ID": 143430,
          "admittime": "2132-08-10T07:13:00",
          "dischtime": "2132-08-20T15:47:00",
          "los": 10
         },
         {
          "ADMITTIME": "2188-08-25 00:14:00",
          "DISCHTIME": "2188-09-04 10:30:00",
          "HADM_ID": 104518,
          "admittime": "2188-08-25T00:14:00",
          "dischtime": "2188-09-04T10:30:00",
          "los": 10
         },
         {
          "ADMITTIME": "2155-02-25 12:45:00",
          "DISCHTIME": "2155-03-06 15:00:00",
          "HADM_ID": 186474,
          "admittime": "2155-02-25T12:45:00",
          "dischtime": "2155-03-06T15:00:00",
          "los": 9
         },
         {
          "ADMITTIME": "2157-12-02 00:45:00",
          "DISCHTIME": "2157-12-02 03:55:00",
          "HADM_ID": 155252,
          "admittime": "2157-12-02T00:45:00",
          "dischtime": "2157-12-02T03:55:00",
          "los": 0
         },
         {
          "ADMITTIME": "2173-12-15 16:16:00",
          "DISCHTIME": "2174-01-03 18:30:00",
          "HADM_ID": 170467,
          "admittime": "2173-12-15T16:16:00",
          "dischtime": "2174-01-03T18:30:00",
          "los": 19
         },
         {
          "ADMITTIME": "2174-01-04 22:21:00",
          "DISCHTIME": "2174-01-19 11:30:00",
          "HADM_ID": 108329,
          "admittime": "2174-01-04T22:21:00",
          "dischtime": "2174-01-19T11:30:00",
          "los": 14
         },
         {
          "ADMITTIME": "2129-03-21 15:33:00",
          "DISCHTIME": "2129-04-09 13:30:00",
          "HADM_ID": 190201,
          "admittime": "2129-03-21T15:33:00",
          "dischtime": "2129-04-09T13:30:00",
          "los": 18
         },
         {
          "ADMITTIME": "2185-09-01 10:42:00",
          "DISCHTIME": "2185-09-05 12:30:00",
          "HADM_ID": 178596,
          "admittime": "2185-09-01T10:42:00",
          "dischtime": "2185-09-05T12:30:00",
          "los": 4
         },
         {
          "ADMITTIME": "2164-02-03 22:07:00",
          "DISCHTIME": "2164-02-08 14:00:00",
          "HADM_ID": 111944,
          "admittime": "2164-02-03T22:07:00",
          "dischtime": "2164-02-08T14:00:00",
          "los": 4
         },
         {
          "ADMITTIME": "2163-09-22 23:52:00",
          "DISCHTIME": "2163-09-29 11:40:00",
          "HADM_ID": 156857,
          "admittime": "2163-09-22T23:52:00",
          "dischtime": "2163-09-29T11:40:00",
          "los": 6
         },
         {
          "ADMITTIME": "2170-12-22 00:12:00",
          "DISCHTIME": "2170-12-26 12:00:00",
          "HADM_ID": 194730,
          "admittime": "2170-12-22T00:12:00",
          "dischtime": "2170-12-26T12:00:00",
          "los": 4
         },
         {
          "ADMITTIME": "2180-06-07 19:39:00",
          "DISCHTIME": "2180-06-10 11:44:00",
          "HADM_ID": 182637,
          "admittime": "2180-06-07T19:39:00",
          "dischtime": "2180-06-10T11:44:00",
          "los": 2
         },
         {
          "ADMITTIME": "2147-04-05 08:00:00",
          "DISCHTIME": "2147-04-11 14:45:00",
          "HADM_ID": 112086,
          "admittime": "2147-04-05T08:00:00",
          "dischtime": "2147-04-11T14:45:00",
          "los": 6
         },
         {
          "ADMITTIME": "2164-11-18 07:00:00",
          "DISCHTIME": "2164-11-20 14:30:00",
          "HADM_ID": 142768,
          "admittime": "2164-11-18T07:00:00",
          "dischtime": "2164-11-20T14:30:00",
          "los": 2
         },
         {
          "ADMITTIME": "2177-02-14 00:16:00",
          "DISCHTIME": "2177-02-17 22:12:00",
          "HADM_ID": 100536,
          "admittime": "2177-02-14T00:16:00",
          "dischtime": "2177-02-17T22:12:00",
          "los": 3
         },
         {
          "ADMITTIME": "2175-09-25 23:05:00",
          "DISCHTIME": "2175-09-29 14:10:00",
          "HADM_ID": 181542,
          "admittime": "2175-09-25T23:05:00",
          "dischtime": "2175-09-29T14:10:00",
          "los": 3
         },
         {
          "ADMITTIME": "2148-11-11 12:12:00",
          "DISCHTIME": "2148-11-16 11:53:00",
          "HADM_ID": 115385,
          "admittime": "2148-11-11T12:12:00",
          "dischtime": "2148-11-16T11:53:00",
          "los": 4
         },
         {
          "ADMITTIME": "2192-01-09 18:50:00",
          "DISCHTIME": "2192-01-11 13:00:00",
          "HADM_ID": 175016,
          "admittime": "2192-01-09T18:50:00",
          "dischtime": "2192-01-11T13:00:00",
          "los": 1
         },
         {
          "ADMITTIME": "2150-06-24 23:31:00",
          "DISCHTIME": "2150-06-29 15:00:00",
          "HADM_ID": 110641,
          "admittime": "2150-06-24T23:31:00",
          "dischtime": "2150-06-29T15:00:00",
          "los": 4
         },
         {
          "ADMITTIME": "2142-04-01 12:34:00",
          "DISCHTIME": "2142-04-08 14:46:00",
          "HADM_ID": 158569,
          "admittime": "2142-04-01T12:34:00",
          "dischtime": "2142-04-08T14:46:00",
          "los": 7
         },
         {
          "ADMITTIME": "2196-02-02 07:15:00",
          "DISCHTIME": "2196-02-04 17:48:00",
          "HADM_ID": 120969,
          "admittime": "2196-02-02T07:15:00",
          "dischtime": "2196-02-04T17:48:00",
          "los": 2
         },
         {
          "ADMITTIME": "2196-04-14 04:02:00",
          "DISCHTIME": "2196-04-17 13:42:00",
          "HADM_ID": 166401,
          "admittime": "2196-04-14T04:02:00",
          "dischtime": "2196-04-17T13:42:00",
          "los": 3
         },
         {
          "ADMITTIME": "2162-03-02 14:04:00",
          "DISCHTIME": "2162-03-10 13:15:00",
          "HADM_ID": 116630,
          "admittime": "2162-03-02T14:04:00",
          "dischtime": "2162-03-10T13:15:00",
          "los": 7
         },
         {
          "ADMITTIME": "2167-07-25 18:49:00",
          "DISCHTIME": "2167-07-30 15:24:00",
          "HADM_ID": 112077,
          "admittime": "2167-07-25T18:49:00",
          "dischtime": "2167-07-30T15:24:00",
          "los": 4
         },
         {
          "ADMITTIME": "2146-04-06 08:00:00",
          "DISCHTIME": "2146-04-10 14:28:00",
          "HADM_ID": 190243,
          "admittime": "2146-04-06T08:00:00",
          "dischtime": "2146-04-10T14:28:00",
          "los": 4
         },
         {
          "ADMITTIME": "2191-02-25 20:30:00",
          "DISCHTIME": "2191-04-25 15:18:00",
          "HADM_ID": 190659,
          "admittime": "2191-02-25T20:30:00",
          "dischtime": "2191-04-25T15:18:00",
          "los": 58
         },
         {
          "ADMITTIME": "2111-08-29 03:03:00",
          "DISCHTIME": "2111-09-03 14:24:00",
          "HADM_ID": 123010,
          "admittime": "2111-08-29T03:03:00",
          "dischtime": "2111-09-03T14:24:00",
          "los": 5
         },
         {
          "ADMITTIME": "2185-06-17 05:22:00",
          "DISCHTIME": "2185-06-21 11:15:00",
          "HADM_ID": 188646,
          "admittime": "2185-06-17T05:22:00",
          "dischtime": "2185-06-21T11:15:00",
          "los": 4
         },
         {
          "ADMITTIME": "2177-04-23 00:08:00",
          "DISCHTIME": "2177-05-10 15:16:00",
          "HADM_ID": 121205,
          "admittime": "2177-04-23T00:08:00",
          "dischtime": "2177-05-10T15:16:00",
          "los": 17
         },
         {
          "ADMITTIME": "2122-12-13 19:30:00",
          "DISCHTIME": "2123-03-04 13:47:00",
          "HADM_ID": 142807,
          "admittime": "2122-12-13T19:30:00",
          "dischtime": "2123-03-04T13:47:00",
          "los": 80
         },
         {
          "ADMITTIME": "2128-03-17 17:11:00",
          "DISCHTIME": "2128-06-17 15:00:00",
          "HADM_ID": 160481,
          "admittime": "2128-03-17T17:11:00",
          "dischtime": "2128-06-17T15:00:00",
          "los": 91
         },
         {
          "ADMITTIME": "2176-02-25 16:49:00",
          "DISCHTIME": "2176-02-29 17:45:00",
          "HADM_ID": 183686,
          "admittime": "2176-02-25T16:49:00",
          "dischtime": "2176-02-29T17:45:00",
          "los": 4
         },
         {
          "ADMITTIME": "2176-09-02 14:22:00",
          "DISCHTIME": "2176-09-25 13:15:00",
          "HADM_ID": 140037,
          "admittime": "2176-09-02T14:22:00",
          "dischtime": "2176-09-25T13:15:00",
          "los": 22
         },
         {
          "ADMITTIME": "2157-12-25 16:28:00",
          "DISCHTIME": "2157-12-27 15:25:00",
          "HADM_ID": 160891,
          "admittime": "2157-12-25T16:28:00",
          "dischtime": "2157-12-27T15:25:00",
          "los": 1
         },
         {
          "ADMITTIME": "2156-03-31 16:11:00",
          "DISCHTIME": "2156-04-29 15:05:00",
          "HADM_ID": 170324,
          "admittime": "2156-03-31T16:11:00",
          "dischtime": "2156-04-29T15:05:00",
          "los": 28
         },
         {
          "ADMITTIME": "2105-04-28 15:01:00",
          "DISCHTIME": "2105-05-06 13:45:00",
          "HADM_ID": 127870,
          "admittime": "2105-04-28T15:01:00",
          "dischtime": "2105-05-06T13:45:00",
          "los": 7
         },
         {
          "ADMITTIME": "2137-04-02 08:00:00",
          "DISCHTIME": "2137-04-09 10:38:00",
          "HADM_ID": 188606,
          "admittime": "2137-04-02T08:00:00",
          "dischtime": "2137-04-09T10:38:00",
          "los": 7
         },
         {
          "ADMITTIME": "2184-07-29 18:46:00",
          "DISCHTIME": "2184-08-04 15:21:00",
          "HADM_ID": 187373,
          "admittime": "2184-07-29T18:46:00",
          "dischtime": "2184-08-04T15:21:00",
          "los": 5
         },
         {
          "ADMITTIME": "2157-08-10 07:15:00",
          "DISCHTIME": "2157-08-18 19:54:00",
          "HADM_ID": 153952,
          "admittime": "2157-08-10T07:15:00",
          "dischtime": "2157-08-18T19:54:00",
          "los": 8
         },
         {
          "ADMITTIME": "2196-09-26 18:36:00",
          "DISCHTIME": "2196-10-12 13:17:00",
          "HADM_ID": 175533,
          "admittime": "2196-09-26T18:36:00",
          "dischtime": "2196-10-12T13:17:00",
          "los": 15
         },
         {
          "ADMITTIME": "2196-02-27 11:15:00",
          "DISCHTIME": "2196-03-31 20:27:00",
          "HADM_ID": 195700,
          "admittime": "2196-02-27T11:15:00",
          "dischtime": "2196-03-31T20:27:00",
          "los": 33
         },
         {
          "ADMITTIME": "2144-08-12 17:37:00",
          "DISCHTIME": "2144-08-20 11:15:00",
          "HADM_ID": 130744,
          "admittime": "2144-08-12T17:37:00",
          "dischtime": "2144-08-20T11:15:00",
          "los": 7
         },
         {
          "ADMITTIME": "2144-08-30 23:09:00",
          "DISCHTIME": "2144-09-01 14:28:00",
          "HADM_ID": 133550,
          "admittime": "2144-08-30T23:09:00",
          "dischtime": "2144-09-01T14:28:00",
          "los": 1
         },
         {
          "ADMITTIME": "2184-10-17 01:35:00",
          "DISCHTIME": "2184-10-26 14:40:00",
          "HADM_ID": 164025,
          "admittime": "2184-10-17T01:35:00",
          "dischtime": "2184-10-26T14:40:00",
          "los": 9
         },
         {
          "ADMITTIME": "2189-01-28 16:57:00",
          "DISCHTIME": "2189-02-02 16:40:00",
          "HADM_ID": 161160,
          "admittime": "2189-01-28T16:57:00",
          "dischtime": "2189-02-02T16:40:00",
          "los": 4
         },
         {
          "ADMITTIME": "2189-02-21 01:45:00",
          "DISCHTIME": "2189-02-25 10:05:00",
          "HADM_ID": 128744,
          "admittime": "2189-02-21T01:45:00",
          "dischtime": "2189-02-25T10:05:00",
          "los": 4
         },
         {
          "ADMITTIME": "2192-08-09 18:34:00",
          "DISCHTIME": "2192-08-15 21:15:00",
          "HADM_ID": 145167,
          "admittime": "2192-08-09T18:34:00",
          "dischtime": "2192-08-15T21:15:00",
          "los": 6
         },
         {
          "ADMITTIME": "2115-02-20 17:41:00",
          "DISCHTIME": "2115-02-21 16:30:00",
          "HADM_ID": 191941,
          "admittime": "2115-02-20T17:41:00",
          "dischtime": "2115-02-21T16:30:00",
          "los": 0
         },
         {
          "ADMITTIME": "2121-11-30 19:24:00",
          "DISCHTIME": "2121-12-05 14:18:00",
          "HADM_ID": 182383,
          "admittime": "2121-11-30T19:24:00",
          "dischtime": "2121-12-05T14:18:00",
          "los": 4
         },
         {
          "ADMITTIME": "2122-05-14 19:37:00",
          "DISCHTIME": "2122-05-18 15:11:00",
          "HADM_ID": 174162,
          "admittime": "2122-05-14T19:37:00",
          "dischtime": "2122-05-18T15:11:00",
          "los": 3
         },
         {
          "ADMITTIME": "2109-10-25 14:41:00",
          "DISCHTIME": "2109-11-02 09:51:00",
          "HADM_ID": 123552,
          "admittime": "2109-10-25T14:41:00",
          "dischtime": "2109-11-02T09:51:00",
          "los": 7
         },
         {
          "ADMITTIME": "2137-11-04 19:36:00",
          "DISCHTIME": "2137-11-21 18:13:00",
          "HADM_ID": 183350,
          "admittime": "2137-11-04T19:36:00",
          "dischtime": "2137-11-21T18:13:00",
          "los": 16
         },
         {
          "ADMITTIME": "2138-04-16 17:44:00",
          "DISCHTIME": "2138-04-19 16:00:00",
          "HADM_ID": 128755,
          "admittime": "2138-04-16T17:44:00",
          "dischtime": "2138-04-19T16:00:00",
          "los": 2
         },
         {
          "ADMITTIME": "2140-01-19 13:25:00",
          "DISCHTIME": "2140-01-21 13:25:00",
          "HADM_ID": 164029,
          "admittime": "2140-01-19T13:25:00",
          "dischtime": "2140-01-21T13:25:00",
          "los": 2
         },
         {
          "ADMITTIME": "2140-02-02 02:13:00",
          "DISCHTIME": "2140-02-02 16:25:00",
          "HADM_ID": 108375,
          "admittime": "2140-02-02T02:13:00",
          "dischtime": "2140-02-02T16:25:00",
          "los": 0
         },
         {
          "ADMITTIME": "2140-04-07 19:51:00",
          "DISCHTIME": "2140-05-02 16:30:00",
          "HADM_ID": 193281,
          "admittime": "2140-04-07T19:51:00",
          "dischtime": "2140-05-02T16:30:00",
          "los": 24
         },
         {
          "ADMITTIME": "2140-05-17 14:27:00",
          "DISCHTIME": "2140-05-20 19:50:00",
          "HADM_ID": 175347,
          "admittime": "2140-05-17T14:27:00",
          "dischtime": "2140-05-20T19:50:00",
          "los": 3
         },
         {
          "ADMITTIME": "2140-08-25 14:39:00",
          "DISCHTIME": "2140-09-02 18:30:00",
          "HADM_ID": 110668,
          "admittime": "2140-08-25T14:39:00",
          "dischtime": "2140-09-02T18:30:00",
          "los": 8
         },
         {
          "ADMITTIME": "2141-03-27 21:08:00",
          "DISCHTIME": "2141-03-28 17:45:00",
          "HADM_ID": 166018,
          "admittime": "2141-03-27T21:08:00",
          "dischtime": "2141-03-28T17:45:00",
          "los": 0
         },
         {
          "ADMITTIME": "2141-05-24 14:47:00",
          "DISCHTIME": "2141-06-06 19:55:00",
          "HADM_ID": 170149,
          "admittime": "2141-05-24T14:47:00",
          "dischtime": "2141-06-06T19:55:00",
          "los": 13
         },
         {
          "ADMITTIME": "2141-06-11 10:17:00",
          "DISCHTIME": "2141-06-17 16:29:00",
          "HADM_ID": 147469,
          "admittime": "2141-06-11T10:17:00",
          "dischtime": "2141-06-17T16:29:00",
          "los": 6
         },
         {
          "ADMITTIME": "2161-12-17 03:39:00",
          "DISCHTIME": "2161-12-24 15:35:00",
          "HADM_ID": 112906,
          "admittime": "2161-12-17T03:39:00",
          "dischtime": "2161-12-24T15:35:00",
          "los": 7
         },
         {
          "ADMITTIME": "2165-05-21 21:02:00",
          "DISCHTIME": "2165-06-06 16:00:00",
          "HADM_ID": 134369,
          "admittime": "2165-05-21T21:02:00",
          "dischtime": "2165-06-06T16:00:00",
          "los": 15
         },
         {
          "ADMITTIME": "2165-12-31 18:55:00",
          "DISCHTIME": "2166-02-01 06:55:00",
          "HADM_ID": 138376,
          "admittime": "2165-12-31T18:55:00",
          "dischtime": "2166-02-01T06:55:00",
          "los": 31
         },
         {
          "ADMITTIME": "2179-02-14 21:23:00",
          "DISCHTIME": "2179-02-21 18:03:00",
          "HADM_ID": 157348,
          "admittime": "2179-02-14T21:23:00",
          "dischtime": "2179-02-21T18:03:00",
          "los": 6
         },
         {
          "ADMITTIME": "2129-08-10 10:23:00",
          "DISCHTIME": "2129-10-24 19:00:00",
          "HADM_ID": 176860,
          "admittime": "2129-08-10T10:23:00",
          "dischtime": "2129-10-24T19:00:00",
          "los": 75
         },
         {
          "ADMITTIME": "2183-08-20 17:25:00",
          "DISCHTIME": "2183-08-24 15:28:00",
          "HADM_ID": 141647,
          "admittime": "2183-08-20T17:25:00",
          "dischtime": "2183-08-24T15:28:00",
          "los": 3
         },
         {
          "ADMITTIME": "2122-03-16 19:46:00",
          "DISCHTIME": "2122-03-21 12:00:00",
          "HADM_ID": 180872,
          "admittime": "2122-03-16T19:46:00",
          "dischtime": "2122-03-21T12:00:00",
          "los": 4
         },
         {
          "ADMITTIME": "2157-03-27 08:46:00",
          "DISCHTIME": "2157-04-05 14:00:00",
          "HADM_ID": 164174,
          "admittime": "2157-03-27T08:46:00",
          "dischtime": "2157-04-05T14:00:00",
          "los": 9
         },
         {
          "ADMITTIME": "2119-10-29 14:49:00",
          "DISCHTIME": "2119-11-05 17:00:00",
          "HADM_ID": 198214,
          "admittime": "2119-10-29T14:49:00",
          "dischtime": "2119-11-05T17:00:00",
          "los": 7
         },
         {
          "ADMITTIME": "2119-11-14 12:00:00",
          "DISCHTIME": "2119-12-02 11:40:00",
          "HADM_ID": 113323,
          "admittime": "2119-11-14T12:00:00",
          "dischtime": "2119-12-02T11:40:00",
          "los": 17
         },
         {
          "ADMITTIME": "2143-12-07 12:19:00",
          "DISCHTIME": "2143-12-12 09:00:00",
          "HADM_ID": 171781,
          "admittime": "2143-12-07T12:19:00",
          "dischtime": "2143-12-12T09:00:00",
          "los": 4
         },
         {
          "ADMITTIME": "2115-05-06 21:53:00",
          "DISCHTIME": "2115-05-25 12:10:00",
          "HADM_ID": 160192,
          "admittime": "2115-05-06T21:53:00",
          "dischtime": "2115-05-25T12:10:00",
          "los": 18
         },
         {
          "ADMITTIME": "2165-05-06 18:38:00",
          "DISCHTIME": "2165-05-16 15:25:00",
          "HADM_ID": 191817,
          "admittime": "2165-05-06T18:38:00",
          "dischtime": "2165-05-16T15:25:00",
          "los": 9
         },
         {
          "ADMITTIME": "2127-01-14 07:15:00",
          "DISCHTIME": "2127-01-24 14:55:00",
          "HADM_ID": 167887,
          "admittime": "2127-01-14T07:15:00",
          "dischtime": "2127-01-24T14:55:00",
          "los": 10
         },
         {
          "ADMITTIME": "2173-05-18 11:06:00",
          "DISCHTIME": "2173-05-26 14:30:00",
          "HADM_ID": 192180,
          "admittime": "2173-05-18T11:06:00",
          "dischtime": "2173-05-26T14:30:00",
          "los": 8
         },
         {
          "ADMITTIME": "2174-05-17 09:00:00",
          "DISCHTIME": "2174-05-21 14:00:00",
          "HADM_ID": 199634,
          "admittime": "2174-05-17T09:00:00",
          "dischtime": "2174-05-21T14:00:00",
          "los": 4
         },
         {
          "ADMITTIME": "2103-05-09 07:15:00",
          "DISCHTIME": "2103-05-14 11:33:00",
          "HADM_ID": 184644,
          "admittime": "2103-05-09T07:15:00",
          "dischtime": "2103-05-14T11:33:00",
          "los": 5
         },
         {
          "ADMITTIME": "2191-11-10 13:57:00",
          "DISCHTIME": "2191-11-24 12:23:00",
          "HADM_ID": 151583,
          "admittime": "2191-11-10T13:57:00",
          "dischtime": "2191-11-24T12:23:00",
          "los": 13
         },
         {
          "ADMITTIME": "2131-10-31 08:00:00",
          "DISCHTIME": "2131-11-06 12:54:00",
          "HADM_ID": 108120,
          "admittime": "2131-10-31T08:00:00",
          "dischtime": "2131-11-06T12:54:00",
          "los": 6
         },
         {
          "ADMITTIME": "2133-12-21 23:52:00",
          "DISCHTIME": "2134-01-11 13:00:00",
          "HADM_ID": 188284,
          "admittime": "2133-12-21T23:52:00",
          "dischtime": "2134-01-11T13:00:00",
          "los": 20
         },
         {
          "ADMITTIME": "2134-03-01 07:15:00",
          "DISCHTIME": "2134-03-07 11:44:00",
          "HADM_ID": 105764,
          "admittime": "2134-03-01T07:15:00",
          "dischtime": "2134-03-07T11:44:00",
          "los": 6
         },
         {
          "ADMITTIME": "2177-09-30 20:32:00",
          "DISCHTIME": "2177-12-10 10:10:00",
          "HADM_ID": 195786,
          "admittime": "2177-09-30T20:32:00",
          "dischtime": "2177-12-10T10:10:00",
          "los": 70
         },
         {
          "ADMITTIME": "2160-09-21 08:31:00",
          "DISCHTIME": "2160-09-23 12:00:00",
          "HADM_ID": 165618,
          "admittime": "2160-09-21T08:31:00",
          "dischtime": "2160-09-23T12:00:00",
          "los": 2
         },
         {
          "ADMITTIME": "2140-11-06 11:07:00",
          "DISCHTIME": "2140-11-09 20:36:00",
          "HADM_ID": 168006,
          "admittime": "2140-11-06T11:07:00",
          "dischtime": "2140-11-09T20:36:00",
          "los": 3
         },
         {
          "ADMITTIME": "2143-04-01 07:15:00",
          "DISCHTIME": "2143-04-05 18:40:00",
          "HADM_ID": 131357,
          "admittime": "2143-04-01T07:15:00",
          "dischtime": "2143-04-05T18:40:00",
          "los": 4
         },
         {
          "ADMITTIME": "2155-01-17 21:40:00",
          "DISCHTIME": "2155-02-02 15:00:00",
          "HADM_ID": 143808,
          "admittime": "2155-01-17T21:40:00",
          "dischtime": "2155-02-02T15:00:00",
          "los": 15
         },
         {
          "ADMITTIME": "2197-07-14 20:18:00",
          "DISCHTIME": "2197-08-01 13:15:00",
          "HADM_ID": 137432,
          "admittime": "2197-07-14T20:18:00",
          "dischtime": "2197-08-01T13:15:00",
          "los": 17
         },
         {
          "ADMITTIME": "2144-03-29 01:44:00",
          "DISCHTIME": "2144-07-14 16:15:00",
          "HADM_ID": 198161,
          "admittime": "2144-03-29T01:44:00",
          "dischtime": "2144-07-14T16:15:00",
          "los": 107
         },
         {
          "ADMITTIME": "2145-02-15 17:19:00",
          "DISCHTIME": "2145-02-22 13:30:00",
          "HADM_ID": 138459,
          "admittime": "2145-02-15T17:19:00",
          "dischtime": "2145-02-22T13:30:00",
          "los": 6
         },
         {
          "ADMITTIME": "2119-12-19 12:15:00",
          "DISCHTIME": "2120-01-10 13:08:00",
          "HADM_ID": 190707,
          "admittime": "2119-12-19T12:15:00",
          "dischtime": "2120-01-10T13:08:00",
          "los": 22
         },
         {
          "ADMITTIME": "2158-06-24 18:50:00",
          "DISCHTIME": "2158-07-21 14:10:00",
          "HADM_ID": 103631,
          "admittime": "2158-06-24T18:50:00",
          "dischtime": "2158-07-21T14:10:00",
          "los": 26
         },
         {
          "ADMITTIME": "2107-09-05 14:58:00",
          "DISCHTIME": "2107-10-08 13:35:00",
          "HADM_ID": 199488,
          "admittime": "2107-09-05T14:58:00",
          "dischtime": "2107-10-08T13:35:00",
          "los": 32
         },
         {
          "ADMITTIME": "2135-02-18 19:16:00",
          "DISCHTIME": "2135-02-26 17:00:00",
          "HADM_ID": 154869,
          "admittime": "2135-02-18T19:16:00",
          "dischtime": "2135-02-26T17:00:00",
          "los": 7
         },
         {
          "ADMITTIME": "2161-07-09 17:54:00",
          "DISCHTIME": "2161-07-14 14:00:00",
          "HADM_ID": 108732,
          "admittime": "2161-07-09T17:54:00",
          "dischtime": "2161-07-14T14:00:00",
          "los": 4
         },
         {
          "ADMITTIME": "2145-05-06 20:00:00",
          "DISCHTIME": "2145-05-15 17:30:00",
          "HADM_ID": 151029,
          "admittime": "2145-05-06T20:00:00",
          "dischtime": "2145-05-15T17:30:00",
          "los": 8
         },
         {
          "ADMITTIME": "2145-07-22 11:00:00",
          "DISCHTIME": "2145-08-03 11:20:00",
          "HADM_ID": 117181,
          "admittime": "2145-07-22T11:00:00",
          "dischtime": "2145-08-03T11:20:00",
          "los": 12
         },
         {
          "ADMITTIME": "2132-09-13 03:34:00",
          "DISCHTIME": "2132-09-15 12:25:00",
          "HADM_ID": 191611,
          "admittime": "2132-09-13T03:34:00",
          "dischtime": "2132-09-15T12:25:00",
          "los": 2
         },
         {
          "ADMITTIME": "2117-12-29 21:36:00",
          "DISCHTIME": "2118-01-01 14:27:00",
          "HADM_ID": 111735,
          "admittime": "2117-12-29T21:36:00",
          "dischtime": "2118-01-01T14:27:00",
          "los": 2
         },
         {
          "ADMITTIME": "2118-04-05 18:11:00",
          "DISCHTIME": "2118-04-11 14:21:00",
          "HADM_ID": 162891,
          "admittime": "2118-04-05T18:11:00",
          "dischtime": "2118-04-11T14:21:00",
          "los": 5
         },
         {
          "ADMITTIME": "2127-12-23 18:46:00",
          "DISCHTIME": "2127-12-26 13:50:00",
          "HADM_ID": 102354,
          "admittime": "2127-12-23T18:46:00",
          "dischtime": "2127-12-26T13:50:00",
          "los": 2
         },
         {
          "ADMITTIME": "2125-09-08 12:40:00",
          "DISCHTIME": "2125-09-11 14:30:00",
          "HADM_ID": 147148,
          "admittime": "2125-09-08T12:40:00",
          "dischtime": "2125-09-11T14:30:00",
          "los": 3
         },
         {
          "ADMITTIME": "2120-05-20 23:04:00",
          "DISCHTIME": "2120-06-10 15:30:00",
          "HADM_ID": 168847,
          "admittime": "2120-05-20T23:04:00",
          "dischtime": "2120-06-10T15:30:00",
          "los": 20
         },
         {
          "ADMITTIME": "2141-09-05 20:04:00",
          "DISCHTIME": "2141-09-08 18:30:00",
          "HADM_ID": 131345,
          "admittime": "2141-09-05T20:04:00",
          "dischtime": "2141-09-08T18:30:00",
          "los": 2
         },
         {
          "ADMITTIME": "2141-09-11 10:12:00",
          "DISCHTIME": "2141-09-14 20:00:00",
          "HADM_ID": 139061,
          "admittime": "2141-09-11T10:12:00",
          "dischtime": "2141-09-14T20:00:00",
          "los": 3
         },
         {
          "ADMITTIME": "2141-09-18 10:32:00",
          "DISCHTIME": "2141-09-24 13:53:00",
          "HADM_ID": 172335,
          "admittime": "2141-09-18T10:32:00",
          "dischtime": "2141-09-24T13:53:00",
          "los": 6
         },
         {
          "ADMITTIME": "2141-10-13 23:10:00",
          "DISCHTIME": "2141-11-03 18:45:00",
          "HADM_ID": 126055,
          "admittime": "2141-10-13T23:10:00",
          "dischtime": "2141-11-03T18:45:00",
          "los": 20
         },
         {
          "ADMITTIME": "2141-11-18 14:00:00",
          "DISCHTIME": "2141-11-23 16:42:00",
          "HADM_ID": 125288,
          "admittime": "2141-11-18T14:00:00",
          "dischtime": "2141-11-23T16:42:00",
          "los": 5
         },
         {
          "ADMITTIME": "2141-11-24 16:11:00",
          "DISCHTIME": "2141-12-01 19:00:00",
          "HADM_ID": 161950,
          "admittime": "2141-11-24T16:11:00",
          "dischtime": "2141-12-01T19:00:00",
          "los": 7
         },
         {
          "ADMITTIME": "2141-12-08 01:40:00",
          "DISCHTIME": "2141-12-14 17:16:00",
          "HADM_ID": 173633,
          "admittime": "2141-12-08T01:40:00",
          "dischtime": "2141-12-14T17:16:00",
          "los": 6
         },
         {
          "ADMITTIME": "2141-12-18 03:50:00",
          "DISCHTIME": "2141-12-23 19:51:00",
          "HADM_ID": 140167,
          "admittime": "2141-12-18T03:50:00",
          "dischtime": "2141-12-23T19:51:00",
          "los": 5
         },
         {
          "ADMITTIME": "2142-01-08 06:36:00",
          "DISCHTIME": "2142-01-13 21:00:00",
          "HADM_ID": 135923,
          "admittime": "2142-01-08T06:36:00",
          "dischtime": "2142-01-13T21:00:00",
          "los": 5
         },
         {
          "ADMITTIME": "2142-01-14 17:34:00",
          "DISCHTIME": "2142-01-20 13:30:00",
          "HADM_ID": 124657,
          "admittime": "2142-01-14T17:34:00",
          "dischtime": "2142-01-20T13:30:00",
          "los": 5
         },
         {
          "ADMITTIME": "2142-01-21 11:23:00",
          "DISCHTIME": "2142-01-23 16:40:00",
          "HADM_ID": 176760,
          "admittime": "2142-01-21T11:23:00",
          "dischtime": "2142-01-23T16:40:00",
          "los": 2
         },
         {
          "ADMITTIME": "2142-02-14 10:42:00",
          "DISCHTIME": "2142-02-17 18:15:00",
          "HADM_ID": 113189,
          "admittime": "2142-02-14T10:42:00",
          "dischtime": "2142-02-17T18:15:00",
          "los": 3
         },
         {
          "ADMITTIME": "2142-02-25 15:49:00",
          "DISCHTIME": "2142-02-26 16:11:00",
          "HADM_ID": 158995,
          "admittime": "2142-02-25T15:49:00",
          "dischtime": "2142-02-26T16:11:00",
          "los": 1
         },
         {
          "ADMITTIME": "2142-03-21 09:25:00",
          "DISCHTIME": "2142-03-23 18:11:00",
          "HADM_ID": 158943,
          "admittime": "2142-03-21T09:25:00",
          "dischtime": "2142-03-23T18:11:00",
          "los": 2
         },
         {
          "ADMITTIME": "2142-03-24 16:34:00",
          "DISCHTIME": "2142-03-31 15:15:00",
          "HADM_ID": 124398,
          "admittime": "2142-03-24T16:34:00",
          "dischtime": "2142-03-31T15:15:00",
          "los": 6
         },
         {
          "ADMITTIME": "2142-04-20 13:39:00",
          "DISCHTIME": "2142-04-22 15:30:00",
          "HADM_ID": 137510,
          "admittime": "2142-04-20T13:39:00",
          "dischtime": "2142-04-22T15:30:00",
          "los": 2
         },
         {
          "ADMITTIME": "2142-05-15 10:45:00",
          "DISCHTIME": "2142-05-18 15:58:00",
          "HADM_ID": 151240,
          "admittime": "2142-05-15T10:45:00",
          "dischtime": "2142-05-18T15:58:00",
          "los": 3
         },
         {
          "ADMITTIME": "2142-05-20 12:59:00",
          "DISCHTIME": "2142-06-05 16:18:00",
          "HADM_ID": 102024,
          "admittime": "2142-05-20T12:59:00",
          "dischtime": "2142-06-05T16:18:00",
          "los": 16
         },
         {
          "ADMITTIME": "2142-06-18 03:11:00",
          "DISCHTIME": "2142-06-20 16:34:00",
          "HADM_ID": 136572,
          "admittime": "2142-06-18T03:11:00",
          "dischtime": "2142-06-20T16:34:00",
          "los": 2
         },
         {
          "ADMITTIME": "2142-07-03 14:48:00",
          "DISCHTIME": "2142-07-04 17:23:00",
          "HADM_ID": 174489,
          "admittime": "2142-07-03T14:48:00",
          "dischtime": "2142-07-04T17:23:00",
          "los": 1
         },
         {
          "ADMITTIME": "2142-07-07 10:01:00",
          "DISCHTIME": "2142-07-08 18:05:00",
          "HADM_ID": 131376,
          "admittime": "2142-07-07T10:01:00",
          "dischtime": "2142-07-08T18:05:00",
          "los": 1
         },
         {
          "ADMITTIME": "2142-07-12 15:27:00",
          "DISCHTIME": "2142-07-23 18:41:00",
          "HADM_ID": 196721,
          "admittime": "2142-07-12T15:27:00",
          "dischtime": "2142-07-23T18:41:00",
          "los": 11
         },
         {
          "ADMITTIME": "2142-08-13 04:03:00",
          "DISCHTIME": "2142-08-16 18:17:00",
          "HADM_ID": 155726,
          "admittime": "2142-08-13T04:03:00",
          "dischtime": "2142-08-16T18:17:00",
          "los": 3
         },
         {
          "ADMITTIME": "2142-08-28 19:48:00",
          "DISCHTIME": "2142-08-30 15:20:00",
          "HADM_ID": 189332,
          "admittime": "2142-08-28T19:48:00",
          "dischtime": "2142-08-30T15:20:00",
          "los": 1
         },
         {
          "ADMITTIME": "2110-05-29 23:27:00",
          "DISCHTIME": "2110-06-05 19:12:00",
          "HADM_ID": 154943,
          "admittime": "2110-05-29T23:27:00",
          "dischtime": "2110-06-05T19:12:00",
          "los": 6
         },
         {
          "ADMITTIME": "2142-04-24 06:55:00",
          "DISCHTIME": "2142-05-05 11:45:00",
          "HADM_ID": 192123,
          "admittime": "2142-04-24T06:55:00",
          "dischtime": "2142-05-05T11:45:00",
          "los": 11
         },
         {
          "ADMITTIME": "2144-07-01 04:12:00",
          "DISCHTIME": "2144-07-01 14:55:00",
          "HADM_ID": 155897,
          "admittime": "2144-07-01T04:12:00",
          "dischtime": "2144-07-01T14:55:00",
          "los": 0
         },
         {
          "ADMITTIME": "2194-06-13 18:39:00",
          "DISCHTIME": "2194-06-18 16:50:00",
          "HADM_ID": 174105,
          "admittime": "2194-06-13T18:39:00",
          "dischtime": "2194-06-18T16:50:00",
          "los": 4
         },
         {
          "ADMITTIME": "2196-09-27 18:21:00",
          "DISCHTIME": "2196-09-29 00:15:00",
          "HADM_ID": 173177,
          "admittime": "2196-09-27T18:21:00",
          "dischtime": "2196-09-29T00:15:00",
          "los": 1
         },
         {
          "ADMITTIME": "2140-12-12 22:46:00",
          "DISCHTIME": "2140-12-27 19:30:00",
          "HADM_ID": 109976,
          "admittime": "2140-12-12T22:46:00",
          "dischtime": "2140-12-27T19:30:00",
          "los": 14
         },
         {
          "ADMITTIME": "2146-08-29 01:18:00",
          "DISCHTIME": "2146-09-03 16:06:00",
          "HADM_ID": 178393,
          "admittime": "2146-08-29T01:18:00",
          "dischtime": "2146-09-03T16:06:00",
          "los": 5
         },
         {
          "ADMITTIME": "2194-10-16 12:48:00",
          "DISCHTIME": "2194-11-13 16:50:00",
          "HADM_ID": 114585,
          "admittime": "2194-10-16T12:48:00",
          "dischtime": "2194-11-13T16:50:00",
          "los": 28
         },
         {
          "ADMITTIME": "2116-10-22 21:26:00",
          "DISCHTIME": "2116-10-26 19:45:00",
          "HADM_ID": 127203,
          "admittime": "2116-10-22T21:26:00",
          "dischtime": "2116-10-26T19:45:00",
          "los": 3
         },
         {
          "ADMITTIME": "2133-04-07 16:29:00",
          "DISCHTIME": "2133-04-12 16:39:00",
          "HADM_ID": 140784,
          "admittime": "2133-04-07T16:29:00",
          "dischtime": "2133-04-12T16:39:00",
          "los": 5
         },
         {
          "ADMITTIME": "2133-11-13 21:34:00",
          "DISCHTIME": "2133-12-01 17:00:00",
          "HADM_ID": 164853,
          "admittime": "2133-11-13T21:34:00",
          "dischtime": "2133-12-01T17:00:00",
          "los": 17
         },
         {
          "ADMITTIME": "2103-08-11 14:11:00",
          "DISCHTIME": "2103-08-13 13:30:00",
          "HADM_ID": 147035,
          "admittime": "2103-08-11T14:11:00",
          "dischtime": "2103-08-13T13:30:00",
          "los": 1
         },
         {
          "ADMITTIME": "2159-09-12 15:26:00",
          "DISCHTIME": "2159-09-14 11:24:00",
          "HADM_ID": 135738,
          "admittime": "2159-09-12T15:26:00",
          "dischtime": "2159-09-14T11:24:00",
          "los": 1
         },
         {
          "ADMITTIME": "2172-02-15 15:21:00",
          "DISCHTIME": "2172-02-17 15:24:00",
          "HADM_ID": 188923,
          "admittime": "2172-02-15T15:21:00",
          "dischtime": "2172-02-17T15:24:00",
          "los": 2
         },
         {
          "ADMITTIME": "2154-06-17 22:58:00",
          "DISCHTIME": "2154-06-20 13:47:00",
          "HADM_ID": 135750,
          "admittime": "2154-06-17T22:58:00",
          "dischtime": "2154-06-20T13:47:00",
          "los": 2
         },
         {
          "ADMITTIME": "2161-10-29 02:27:00",
          "DISCHTIME": "2161-11-01 11:37:00",
          "HADM_ID": 195632,
          "admittime": "2161-10-29T02:27:00",
          "dischtime": "2161-11-01T11:37:00",
          "los": 3
         },
         {
          "ADMITTIME": "2160-06-24 21:25:00",
          "DISCHTIME": "2160-07-15 15:10:00",
          "HADM_ID": 172461,
          "admittime": "2160-06-24T21:25:00",
          "dischtime": "2160-07-15T15:10:00",
          "los": 20
         },
         {
          "ADMITTIME": "2138-07-17 19:04:00",
          "DISCHTIME": "2138-07-21 15:48:00",
          "HADM_ID": 163353,
          "admittime": "2138-07-17T19:04:00",
          "dischtime": "2138-07-21T15:48:00",
          "los": 3
         },
         {
          "ADMITTIME": "2101-10-20 19:08:00",
          "DISCHTIME": "2101-10-31 13:58:00",
          "HADM_ID": 145834,
          "admittime": "2101-10-20T19:08:00",
          "dischtime": "2101-10-31T13:58:00",
          "los": 10
         },
         {
          "ADMITTIME": "2191-03-16 00:28:00",
          "DISCHTIME": "2191-03-23 18:41:00",
          "HADM_ID": 185777,
          "admittime": "2191-03-16T00:28:00",
          "dischtime": "2191-03-23T18:41:00",
          "los": 7
         },
         {
          "ADMITTIME": "2103-02-02 04:31:00",
          "DISCHTIME": "2103-02-04 12:15:00",
          "HADM_ID": 178980,
          "admittime": "2103-02-02T04:31:00",
          "dischtime": "2103-02-04T12:15:00",
          "los": 2
         },
         {
          "ADMITTIME": "2175-05-30 07:15:00",
          "DISCHTIME": "2175-06-15 16:00:00",
          "HADM_ID": 107064,
          "admittime": "2175-05-30T07:15:00",
          "dischtime": "2175-06-15T16:00:00",
          "los": 16
         },
         {
          "ADMITTIME": "2121-05-23 15:05:00",
          "DISCHTIME": "2121-05-27 11:57:00",
          "HADM_ID": 118037,
          "admittime": "2121-05-23T15:05:00",
          "dischtime": "2121-05-27T11:57:00",
          "los": 3
         },
         {
          "ADMITTIME": "2117-11-20 10:22:00",
          "DISCHTIME": "2117-11-24 14:20:00",
          "HADM_ID": 159514,
          "admittime": "2117-11-20T10:22:00",
          "dischtime": "2117-11-24T14:20:00",
          "los": 4
         },
         {
          "ADMITTIME": "2149-11-09 13:06:00",
          "DISCHTIME": "2149-11-14 10:15:00",
          "HADM_ID": 150750,
          "admittime": "2149-11-09T13:06:00",
          "dischtime": "2149-11-14T10:15:00",
          "los": 4
         },
         {
          "ADMITTIME": "2103-06-28 11:36:00",
          "DISCHTIME": "2103-07-06 12:10:00",
          "HADM_ID": 184167,
          "admittime": "2103-06-28T11:36:00",
          "dischtime": "2103-07-06T12:10:00",
          "los": 8
         },
         {
          "ADMITTIME": "2178-04-16 06:18:00",
          "DISCHTIME": "2178-05-11 19:00:00",
          "HADM_ID": 194540,
          "admittime": "2178-04-16T06:18:00",
          "dischtime": "2178-05-11T19:00:00",
          "los": 25
         },
         {
          "ADMITTIME": "2104-08-07 10:15:00",
          "DISCHTIME": "2104-08-20 02:57:00",
          "HADM_ID": 112213,
          "admittime": "2104-08-07T10:15:00",
          "dischtime": "2104-08-20T02:57:00",
          "los": 12
         },
         {
          "ADMITTIME": "2167-01-08 18:43:00",
          "DISCHTIME": "2167-01-15 15:15:00",
          "HADM_ID": 143045,
          "admittime": "2167-01-08T18:43:00",
          "dischtime": "2167-01-15T15:15:00",
          "los": 6
         },
         {
          "ADMITTIME": "2178-02-03 06:35:00",
          "DISCHTIME": "2178-02-05 10:51:00",
          "HADM_ID": 103251,
          "admittime": "2178-02-03T06:35:00",
          "dischtime": "2178-02-05T10:51:00",
          "los": 2
         },
         {
          "ADMITTIME": "2134-12-27 07:15:00",
          "DISCHTIME": "2134-12-31 16:05:00",
          "HADM_ID": 194023,
          "admittime": "2134-12-27T07:15:00",
          "dischtime": "2134-12-31T16:05:00",
          "los": 4
         },
         {
          "ADMITTIME": "2135-05-09 14:11:00",
          "DISCHTIME": "2135-05-13 14:40:00",
          "HADM_ID": 161087,
          "admittime": "2135-05-09T14:11:00",
          "dischtime": "2135-05-13T14:40:00",
          "los": 4
         },
         {
          "ADMITTIME": "2167-10-02 11:18:00",
          "DISCHTIME": "2167-10-04 16:15:00",
          "HADM_ID": 188822,
          "admittime": "2167-10-02T11:18:00",
          "dischtime": "2167-10-04T16:15:00",
          "los": 2
         },
         {
          "ADMITTIME": "2108-08-05 16:25:00",
          "DISCHTIME": "2108-08-11 11:29:00",
          "HADM_ID": 109235,
          "admittime": "2108-08-05T16:25:00",
          "dischtime": "2108-08-11T11:29:00",
          "los": 5
         },
         {
          "ADMITTIME": "2183-04-28 09:45:00",
          "DISCHTIME": "2183-05-03 14:45:00",
          "HADM_ID": 157681,
          "admittime": "2183-04-28T09:45:00",
          "dischtime": "2183-05-03T14:45:00",
          "los": 5
         },
         {
          "ADMITTIME": "2134-09-11 12:17:00",
          "DISCHTIME": "2134-09-24 16:15:00",
          "HADM_ID": 109451,
          "admittime": "2134-09-11T12:17:00",
          "dischtime": "2134-09-24T16:15:00",
          "los": 13
         },
         {
          "ADMITTIME": "2135-01-30 20:50:00",
          "DISCHTIME": "2135-02-08 02:08:00",
          "HADM_ID": 111970,
          "admittime": "2135-01-30T20:50:00",
          "dischtime": "2135-02-08T02:08:00",
          "los": 8
         },
         {
          "ADMITTIME": "2176-06-26 10:45:00",
          "DISCHTIME": "2176-06-29 17:30:00",
          "HADM_ID": 175259,
          "admittime": "2176-06-26T10:45:00",
          "dischtime": "2176-06-29T17:30:00",
          "los": 3
         },
         {
          "ADMITTIME": "2176-07-01 19:07:00",
          "DISCHTIME": "2176-07-03 16:00:00",
          "HADM_ID": 195143,
          "admittime": "2176-07-01T19:07:00",
          "dischtime": "2176-07-03T16:00:00",
          "los": 1
         },
         {
          "ADMITTIME": "2131-10-16 21:33:00",
          "DISCHTIME": "2131-10-20 14:30:00",
          "HADM_ID": 142952,
          "admittime": "2131-10-16T21:33:00",
          "dischtime": "2131-10-20T14:30:00",
          "los": 3
         },
         {
          "ADMITTIME": "2189-11-10 16:39:00",
          "DISCHTIME": "2189-11-18 14:43:00",
          "HADM_ID": 160332,
          "admittime": "2189-11-10T16:39:00",
          "dischtime": "2189-11-18T14:43:00",
          "los": 7
         },
         {
          "ADMITTIME": "2133-03-29 02:33:00",
          "DISCHTIME": "2133-04-01 12:15:00",
          "HADM_ID": 191028,
          "admittime": "2133-03-29T02:33:00",
          "dischtime": "2133-04-01T12:15:00",
          "los": 3
         },
         {
          "ADMITTIME": "2160-03-17 18:37:00",
          "DISCHTIME": "2160-03-20 11:01:00",
          "HADM_ID": 175574,
          "admittime": "2160-03-17T18:37:00",
          "dischtime": "2160-03-20T11:01:00",
          "los": 2
         },
         {
          "ADMITTIME": "2163-03-29 23:04:00",
          "DISCHTIME": "2163-04-04 20:45:00",
          "HADM_ID": 103013,
          "admittime": "2163-03-29T23:04:00",
          "dischtime": "2163-04-04T20:45:00",
          "los": 5
         },
         {
          "ADMITTIME": "2141-05-18 17:21:00",
          "DISCHTIME": "2141-05-19 01:45:00",
          "HADM_ID": 177469,
          "admittime": "2141-05-18T17:21:00",
          "dischtime": "2141-05-19T01:45:00",
          "los": 0
         },
         {
          "ADMITTIME": "2125-04-26 11:45:00",
          "DISCHTIME": "2125-05-03 18:12:00",
          "HADM_ID": 133059,
          "admittime": "2125-04-26T11:45:00",
          "dischtime": "2125-05-03T18:12:00",
          "los": 7
         },
         {
          "ADMITTIME": "2125-12-31 18:40:00",
          "DISCHTIME": "2126-01-10 11:30:00",
          "HADM_ID": 108015,
          "admittime": "2125-12-31T18:40:00",
          "dischtime": "2126-01-10T11:30:00",
          "los": 9
         },
         {
          "ADMITTIME": "2127-06-19 23:49:00",
          "DISCHTIME": "2127-07-16 13:58:00",
          "HADM_ID": 122211,
          "admittime": "2127-06-19T23:49:00",
          "dischtime": "2127-07-16T13:58:00",
          "los": 26
         },
         {
          "ADMITTIME": "2129-08-20 18:03:00",
          "DISCHTIME": "2129-09-07 17:55:00",
          "HADM_ID": 194340,
          "admittime": "2129-08-20T18:03:00",
          "dischtime": "2129-09-07T17:55:00",
          "los": 17
         },
         {
          "ADMITTIME": "2199-09-15 19:59:00",
          "DISCHTIME": "2199-09-21 14:00:00",
          "HADM_ID": 167129,
          "admittime": "2199-09-15T19:59:00",
          "dischtime": "2199-09-21T14:00:00",
          "los": 5
         },
         {
          "ADMITTIME": "2162-11-24 20:49:00",
          "DISCHTIME": "2162-12-13 12:00:00",
          "HADM_ID": 132807,
          "admittime": "2162-11-24T20:49:00",
          "dischtime": "2162-12-13T12:00:00",
          "los": 18
         },
         {
          "ADMITTIME": "2163-12-27 04:29:00",
          "DISCHTIME": "2164-01-04 16:35:00",
          "HADM_ID": 161712,
          "admittime": "2163-12-27T04:29:00",
          "dischtime": "2164-01-04T16:35:00",
          "los": 8
         },
         {
          "ADMITTIME": "2135-09-02 23:07:00",
          "DISCHTIME": "2135-10-20 11:53:00",
          "HADM_ID": 166606,
          "admittime": "2135-09-02T23:07:00",
          "dischtime": "2135-10-20T11:53:00",
          "los": 47
         },
         {
          "ADMITTIME": "2160-06-04 09:45:00",
          "DISCHTIME": "2160-06-06 14:50:00",
          "HADM_ID": 162308,
          "admittime": "2160-06-04T09:45:00",
          "dischtime": "2160-06-06T14:50:00",
          "los": 2
         },
         {
          "ADMITTIME": "2139-05-06 13:15:00",
          "DISCHTIME": "2139-05-10 12:00:00",
          "HADM_ID": 142159,
          "admittime": "2139-05-06T13:15:00",
          "dischtime": "2139-05-10T12:00:00",
          "los": 3
         },
         {
          "ADMITTIME": "2130-06-14 09:43:00",
          "DISCHTIME": "2130-06-18 01:30:00",
          "HADM_ID": 166526,
          "admittime": "2130-06-14T09:43:00",
          "dischtime": "2130-06-18T01:30:00",
          "los": 3
         },
         {
          "ADMITTIME": "2139-07-26 16:43:00",
          "DISCHTIME": "2139-08-09 15:30:00",
          "HADM_ID": 199765,
          "admittime": "2139-07-26T16:43:00",
          "dischtime": "2139-08-09T15:30:00",
          "los": 13
         },
         {
          "ADMITTIME": "2181-09-18 01:11:00",
          "DISCHTIME": "2181-09-24 14:30:00",
          "HADM_ID": 155540,
          "admittime": "2181-09-18T01:11:00",
          "dischtime": "2181-09-24T14:30:00",
          "los": 6
         },
         {
          "ADMITTIME": "2177-04-24 18:01:00",
          "DISCHTIME": "2177-05-08 13:40:00",
          "HADM_ID": 152144,
          "admittime": "2177-04-24T18:01:00",
          "dischtime": "2177-05-08T13:40:00",
          "los": 13
         },
         {
          "ADMITTIME": "2134-11-03 15:40:00",
          "DISCHTIME": "2134-11-07 14:33:00",
          "HADM_ID": 110748,
          "admittime": "2134-11-03T15:40:00",
          "dischtime": "2134-11-07T14:33:00",
          "los": 3
         },
         {
          "ADMITTIME": "2113-10-24 12:16:00",
          "DISCHTIME": "2113-10-27 14:45:00",
          "HADM_ID": 173307,
          "admittime": "2113-10-24T12:16:00",
          "dischtime": "2113-10-27T14:45:00",
          "los": 3
         },
         {
          "ADMITTIME": "2129-06-07 08:49:00",
          "DISCHTIME": "2129-06-15 12:53:00",
          "HADM_ID": 193264,
          "admittime": "2129-06-07T08:49:00",
          "dischtime": "2129-06-15T12:53:00",
          "los": 8
         },
         {
          "ADMITTIME": "2156-08-12 14:01:00",
          "DISCHTIME": "2156-08-16 17:52:00",
          "HADM_ID": 124954,
          "admittime": "2156-08-12T14:01:00",
          "dischtime": "2156-08-16T17:52:00",
          "los": 4
         },
         {
          "ADMITTIME": "2145-10-09 09:49:00",
          "DISCHTIME": "2145-10-09 14:28:00",
          "HADM_ID": 172849,
          "admittime": "2145-10-09T09:49:00",
          "dischtime": "2145-10-09T14:28:00",
          "los": 0
         },
         {
          "ADMITTIME": "2189-06-11 11:36:00",
          "DISCHTIME": "2189-06-19 20:23:00",
          "HADM_ID": 199004,
          "admittime": "2189-06-11T11:36:00",
          "dischtime": "2189-06-19T20:23:00",
          "los": 8
         },
         {
          "ADMITTIME": "2190-03-01 07:15:00",
          "DISCHTIME": "2190-03-05 16:05:00",
          "HADM_ID": 192097,
          "admittime": "2190-03-01T07:15:00",
          "dischtime": "2190-03-05T16:05:00",
          "los": 4
         },
         {
          "ADMITTIME": "2135-05-02 07:15:00",
          "DISCHTIME": "2135-05-10 14:40:00",
          "HADM_ID": 177634,
          "admittime": "2135-05-02T07:15:00",
          "dischtime": "2135-05-10T14:40:00",
          "los": 8
         },
         {
          "ADMITTIME": "2115-05-17 21:06:00",
          "DISCHTIME": "2115-05-27 13:30:00",
          "HADM_ID": 192631,
          "admittime": "2115-05-17T21:06:00",
          "dischtime": "2115-05-27T13:30:00",
          "los": 9
         },
         {
          "ADMITTIME": "2116-05-03 23:07:00",
          "DISCHTIME": "2116-05-11 13:37:00",
          "HADM_ID": 106158,
          "admittime": "2116-05-03T23:07:00",
          "dischtime": "2116-05-11T13:37:00",
          "los": 7
         },
         {
          "ADMITTIME": "2119-09-21 20:34:00",
          "DISCHTIME": "2119-10-06 18:50:00",
          "HADM_ID": 128132,
          "admittime": "2119-09-21T20:34:00",
          "dischtime": "2119-10-06T18:50:00",
          "los": 14
         },
         {
          "ADMITTIME": "2120-01-11 15:46:00",
          "DISCHTIME": "2120-01-17 15:50:00",
          "HADM_ID": 143334,
          "admittime": "2120-01-11T15:46:00",
          "dischtime": "2120-01-17T15:50:00",
          "los": 6
         },
         {
          "ADMITTIME": "2199-10-16 01:11:00",
          "DISCHTIME": "2199-10-16 17:19:00",
          "HADM_ID": 146127,
          "admittime": "2199-10-16T01:11:00",
          "dischtime": "2199-10-16T17:19:00",
          "los": 0
         },
         {
          "ADMITTIME": "2190-01-05 07:15:00",
          "DISCHTIME": "2190-01-16 13:36:00",
          "HADM_ID": 155989,
          "admittime": "2190-01-05T07:15:00",
          "dischtime": "2190-01-16T13:36:00",
          "los": 11
         },
         {
          "ADMITTIME": "2118-11-01 21:46:00",
          "DISCHTIME": "2118-11-05 14:19:00",
          "HADM_ID": 188926,
          "admittime": "2118-11-01T21:46:00",
          "dischtime": "2118-11-05T14:19:00",
          "los": 3
         },
         {
          "ADMITTIME": "2194-04-28 09:15:00",
          "DISCHTIME": "2194-04-29 15:00:00",
          "HADM_ID": 146750,
          "admittime": "2194-04-28T09:15:00",
          "dischtime": "2194-04-29T15:00:00",
          "los": 1
         },
         {
          "ADMITTIME": "2149-10-31 14:44:00",
          "DISCHTIME": "2149-11-06 15:24:00",
          "HADM_ID": 146586,
          "admittime": "2149-10-31T14:44:00",
          "dischtime": "2149-11-06T15:24:00",
          "los": 6
         },
         {
          "ADMITTIME": "2149-12-19 02:34:00",
          "DISCHTIME": "2149-12-22 16:52:00",
          "HADM_ID": 121438,
          "admittime": "2149-12-19T02:34:00",
          "dischtime": "2149-12-22T16:52:00",
          "los": 3
         },
         {
          "ADMITTIME": "2154-04-05 16:35:00",
          "DISCHTIME": "2154-04-09 16:20:00",
          "HADM_ID": 172132,
          "admittime": "2154-04-05T16:35:00",
          "dischtime": "2154-04-09T16:20:00",
          "los": 3
         },
         {
          "ADMITTIME": "2132-01-15 07:15:00",
          "DISCHTIME": "2132-01-17 10:30:00",
          "HADM_ID": 184134,
          "admittime": "2132-01-15T07:15:00",
          "dischtime": "2132-01-17T10:30:00",
          "los": 2
         },
         {
          "ADMITTIME": "2133-02-27 12:30:00",
          "DISCHTIME": "2133-03-24 17:00:00",
          "HADM_ID": 197569,
          "admittime": "2133-02-27T12:30:00",
          "dischtime": "2133-03-24T17:00:00",
          "los": 25
         },
         {
          "ADMITTIME": "2166-04-16 03:23:00",
          "DISCHTIME": "2166-04-18 12:25:00",
          "HADM_ID": 159710,
          "admittime": "2166-04-16T03:23:00",
          "dischtime": "2166-04-18T12:25:00",
          "los": 2
         },
         {
          "ADMITTIME": "2178-02-16 01:12:00",
          "DISCHTIME": "2178-02-20 13:30:00",
          "HADM_ID": 128404,
          "admittime": "2178-02-16T01:12:00",
          "dischtime": "2178-02-20T13:30:00",
          "los": 4
         },
         {
          "ADMITTIME": "2137-09-29 04:45:00",
          "DISCHTIME": "2137-10-02 16:25:00",
          "HADM_ID": 160548,
          "admittime": "2137-09-29T04:45:00",
          "dischtime": "2137-10-02T16:25:00",
          "los": 3
         },
         {
          "ADMITTIME": "2136-01-16 10:46:00",
          "DISCHTIME": "2136-01-30 17:45:00",
          "HADM_ID": 104852,
          "admittime": "2136-01-16T10:46:00",
          "dischtime": "2136-01-30T17:45:00",
          "los": 14
         },
         {
          "ADMITTIME": "2195-03-18 11:15:00",
          "DISCHTIME": "2195-03-31 12:00:00",
          "HADM_ID": 110777,
          "admittime": "2195-03-18T11:15:00",
          "dischtime": "2195-03-31T12:00:00",
          "los": 13
         },
         {
          "ADMITTIME": "2111-09-10 00:54:00",
          "DISCHTIME": "2111-09-12 11:30:00",
          "HADM_ID": 166434,
          "admittime": "2111-09-10T00:54:00",
          "dischtime": "2111-09-12T11:30:00",
          "los": 2
         },
         {
          "ADMITTIME": "2126-10-20 05:58:00",
          "DISCHTIME": "2126-10-22 11:35:00",
          "HADM_ID": 181797,
          "admittime": "2126-10-20T05:58:00",
          "dischtime": "2126-10-22T11:35:00",
          "los": 2
         },
         {
          "ADMITTIME": "2135-10-26 23:21:00",
          "DISCHTIME": "2135-11-03 16:00:00",
          "HADM_ID": 194592,
          "admittime": "2135-10-26T23:21:00",
          "dischtime": "2135-11-03T16:00:00",
          "los": 7
         },
         {
          "ADMITTIME": "2187-04-20 23:10:00",
          "DISCHTIME": "2187-06-19 13:20:00",
          "HADM_ID": 112625,
          "admittime": "2187-04-20T23:10:00",
          "dischtime": "2187-06-19T13:20:00",
          "los": 59
         },
         {
          "ADMITTIME": "2187-08-07 07:15:00",
          "DISCHTIME": "2187-08-14 15:55:00",
          "HADM_ID": 183291,
          "admittime": "2187-08-07T07:15:00",
          "dischtime": "2187-08-14T15:55:00",
          "los": 7
         },
         {
          "ADMITTIME": "2188-04-01 07:11:00",
          "DISCHTIME": "2188-04-18 15:25:00",
          "HADM_ID": 107660,
          "admittime": "2188-04-01T07:11:00",
          "dischtime": "2188-04-18T15:25:00",
          "los": 17
         },
         {
          "ADMITTIME": "2182-01-19 18:13:00",
          "DISCHTIME": "2182-02-11 13:25:00",
          "HADM_ID": 139131,
          "admittime": "2182-01-19T18:13:00",
          "dischtime": "2182-02-11T13:25:00",
          "los": 22
         },
         {
          "ADMITTIME": "2178-10-03 18:17:00",
          "DISCHTIME": "2178-10-07 18:45:00",
          "HADM_ID": 149955,
          "admittime": "2178-10-03T18:17:00",
          "dischtime": "2178-10-07T18:45:00",
          "los": 4
         },
         {
          "ADMITTIME": "2171-08-20 11:26:00",
          "DISCHTIME": "2171-08-30 16:35:00",
          "HADM_ID": 193432,
          "admittime": "2171-08-20T11:26:00",
          "dischtime": "2171-08-30T16:35:00",
          "los": 10
         },
         {
          "ADMITTIME": "2154-11-12 20:53:00",
          "DISCHTIME": "2154-11-16 05:45:00",
          "HADM_ID": 176203,
          "admittime": "2154-11-12T20:53:00",
          "dischtime": "2154-11-16T05:45:00",
          "los": 3
         },
         {
          "ADMITTIME": "2169-05-21 22:03:00",
          "DISCHTIME": "2169-05-31 14:30:00",
          "HADM_ID": 169339,
          "admittime": "2169-05-21T22:03:00",
          "dischtime": "2169-05-31T14:30:00",
          "los": 9
         },
         {
          "ADMITTIME": "2148-11-30 13:37:00",
          "DISCHTIME": "2148-12-10 15:00:00",
          "HADM_ID": 186516,
          "admittime": "2148-11-30T13:37:00",
          "dischtime": "2148-12-10T15:00:00",
          "los": 10
         },
         {
          "ADMITTIME": "2149-11-29 15:26:00",
          "DISCHTIME": "2149-12-05 09:25:00",
          "HADM_ID": 195392,
          "admittime": "2149-11-29T15:26:00",
          "dischtime": "2149-12-05T09:25:00",
          "los": 5
         },
         {
          "ADMITTIME": "2118-05-23 13:30:00",
          "DISCHTIME": "2118-06-01 17:45:00",
          "HADM_ID": 119310,
          "admittime": "2118-05-23T13:30:00",
          "dischtime": "2118-06-01T17:45:00",
          "los": 9
         },
         {
          "ADMITTIME": "2154-12-13 12:30:00",
          "DISCHTIME": "2154-12-16 11:31:00",
          "HADM_ID": 130789,
          "admittime": "2154-12-13T12:30:00",
          "dischtime": "2154-12-16T11:31:00",
          "los": 2
         },
         {
          "ADMITTIME": "2198-11-19 17:03:00",
          "DISCHTIME": "2198-11-19 18:58:00",
          "HADM_ID": 120112,
          "admittime": "2198-11-19T17:03:00",
          "dischtime": "2198-11-19T18:58:00",
          "los": 0
         },
         {
          "ADMITTIME": "2101-02-25 07:15:00",
          "DISCHTIME": "2101-03-05 13:30:00",
          "HADM_ID": 110323,
          "admittime": "2101-02-25T07:15:00",
          "dischtime": "2101-03-05T13:30:00",
          "los": 8
         },
         {
          "ADMITTIME": "2171-07-16 23:13:00",
          "DISCHTIME": "2171-07-25 19:36:00",
          "HADM_ID": 174800,
          "admittime": "2171-07-16T23:13:00",
          "dischtime": "2171-07-25T19:36:00",
          "los": 8
         },
         {
          "ADMITTIME": "2144-05-17 15:47:00",
          "DISCHTIME": "2144-05-21 11:15:00",
          "HADM_ID": 121050,
          "admittime": "2144-05-17T15:47:00",
          "dischtime": "2144-05-21T11:15:00",
          "los": 3
         },
         {
          "ADMITTIME": "2145-04-07 03:32:00",
          "DISCHTIME": "2145-04-14 13:19:00",
          "HADM_ID": 152913,
          "admittime": "2145-04-07T03:32:00",
          "dischtime": "2145-04-14T13:19:00",
          "los": 7
         },
         {
          "ADMITTIME": "2148-06-15 11:04:00",
          "DISCHTIME": "2148-07-04 17:48:00",
          "HADM_ID": 159730,
          "admittime": "2148-06-15T11:04:00",
          "dischtime": "2148-07-04T17:48:00",
          "los": 19
         },
         {
          "ADMITTIME": "2151-03-28 16:01:00",
          "DISCHTIME": "2151-04-13 16:10:00",
          "HADM_ID": 108923,
          "admittime": "2151-03-28T16:01:00",
          "dischtime": "2151-04-13T16:10:00",
          "los": 16
         },
         {
          "ADMITTIME": "2151-06-23 22:18:00",
          "DISCHTIME": "2151-07-04 13:22:00",
          "HADM_ID": 112976,
          "admittime": "2151-06-23T22:18:00",
          "dischtime": "2151-07-04T13:22:00",
          "los": 10
         },
         {
          "ADMITTIME": "2151-10-01 20:42:00",
          "DISCHTIME": "2151-10-20 15:20:00",
          "HADM_ID": 131488,
          "admittime": "2151-10-01T20:42:00",
          "dischtime": "2151-10-20T15:20:00",
          "los": 18
         },
         {
          "ADMITTIME": "2153-06-27 20:15:00",
          "DISCHTIME": "2153-07-07 10:30:00",
          "HADM_ID": 159476,
          "admittime": "2153-06-27T20:15:00",
          "dischtime": "2153-07-07T10:30:00",
          "los": 9
         },
         {
          "ADMITTIME": "2189-02-12 18:29:00",
          "DISCHTIME": "2189-03-02 14:09:00",
          "HADM_ID": 131861,
          "admittime": "2189-02-12T18:29:00",
          "dischtime": "2189-03-02T14:09:00",
          "los": 17
         },
         {
          "ADMITTIME": "2131-05-11 02:38:00",
          "DISCHTIME": "2131-05-26 13:40:00",
          "HADM_ID": 156697,
          "admittime": "2131-05-11T02:38:00",
          "dischtime": "2131-05-26T13:40:00",
          "los": 15
         },
         {
          "ADMITTIME": "2132-08-05 00:09:00",
          "DISCHTIME": "2132-08-13 17:41:00",
          "HADM_ID": 135591,
          "admittime": "2132-08-05T00:09:00",
          "dischtime": "2132-08-13T17:41:00",
          "los": 8
         },
         {
          "ADMITTIME": "2132-08-31 17:05:00",
          "DISCHTIME": "2132-09-08 23:57:00",
          "HADM_ID": 192219,
          "admittime": "2132-08-31T17:05:00",
          "dischtime": "2132-09-08T23:57:00",
          "los": 8
         },
         {
          "ADMITTIME": "2156-04-22 08:44:00",
          "DISCHTIME": "2156-05-05 02:04:00",
          "HADM_ID": 187961,
          "admittime": "2156-04-22T08:44:00",
          "dischtime": "2156-05-05T02:04:00",
          "los": 12
         },
         {
          "ADMITTIME": "2127-06-26 19:17:00",
          "DISCHTIME": "2127-07-03 12:30:00",
          "HADM_ID": 182153,
          "admittime": "2127-06-26T19:17:00",
          "dischtime": "2127-07-03T12:30:00",
          "los": 6
         },
         {
          "ADMITTIME": "2110-11-16 15:32:00",
          "DISCHTIME": "2110-11-18 13:30:00",
          "HADM_ID": 111582,
          "admittime": "2110-11-16T15:32:00",
          "dischtime": "2110-11-18T13:30:00",
          "los": 1
         },
         {
          "ADMITTIME": "2197-11-16 12:22:00",
          "DISCHTIME": "2197-11-22 14:22:00",
          "HADM_ID": 113035,
          "admittime": "2197-11-16T12:22:00",
          "dischtime": "2197-11-22T14:22:00",
          "los": 6
         },
         {
          "ADMITTIME": "2146-01-30 17:54:00",
          "DISCHTIME": "2146-03-01 16:30:00",
          "HADM_ID": 166305,
          "admittime": "2146-01-30T17:54:00",
          "dischtime": "2146-03-01T16:30:00",
          "los": 29
         },
         {
          "ADMITTIME": "2152-01-22 18:24:00",
          "DISCHTIME": "2152-01-26 13:24:00",
          "HADM_ID": 183288,
          "admittime": "2152-01-22T18:24:00",
          "dischtime": "2152-01-26T13:24:00",
          "los": 3
         },
         {
          "ADMITTIME": "2199-03-04 13:28:00",
          "DISCHTIME": "2199-03-06 14:10:00",
          "HADM_ID": 117775,
          "admittime": "2199-03-04T13:28:00",
          "dischtime": "2199-03-06T14:10:00",
          "los": 2
         },
         {
          "ADMITTIME": "2117-05-25 08:41:00",
          "DISCHTIME": "2117-05-30 12:00:00",
          "HADM_ID": 145034,
          "admittime": "2117-05-25T08:41:00",
          "dischtime": "2117-05-30T12:00:00",
          "los": 5
         },
         {
          "ADMITTIME": "2122-01-09 13:23:00",
          "DISCHTIME": "2122-01-15 15:00:00",
          "HADM_ID": 185084,
          "admittime": "2122-01-09T13:23:00",
          "dischtime": "2122-01-15T15:00:00",
          "los": 6
         },
         {
          "ADMITTIME": "2131-05-25 12:09:00",
          "DISCHTIME": "2131-05-30 12:29:00",
          "HADM_ID": 115006,
          "admittime": "2131-05-25T12:09:00",
          "dischtime": "2131-05-30T12:29:00",
          "los": 5
         },
         {
          "ADMITTIME": "2198-10-05 16:43:00",
          "DISCHTIME": "2198-10-09 16:41:00",
          "HADM_ID": 197296,
          "admittime": "2198-10-05T16:43:00",
          "dischtime": "2198-10-09T16:41:00",
          "los": 3
         },
         {
          "ADMITTIME": "2171-04-18 12:43:00",
          "DISCHTIME": "2171-04-20 11:20:00",
          "HADM_ID": 194697,
          "admittime": "2171-04-18T12:43:00",
          "dischtime": "2171-04-20T11:20:00",
          "los": 1
         },
         {
          "ADMITTIME": "2127-08-13 17:42:00",
          "DISCHTIME": "2127-08-26 09:45:00",
          "HADM_ID": 128658,
          "admittime": "2127-08-13T17:42:00",
          "dischtime": "2127-08-26T09:45:00",
          "los": 12
         },
         {
          "ADMITTIME": "2173-01-31 08:54:00",
          "DISCHTIME": "2173-02-09 00:15:00",
          "HADM_ID": 150423,
          "admittime": "2173-01-31T08:54:00",
          "dischtime": "2173-02-09T00:15:00",
          "los": 8
         },
         {
          "ADMITTIME": "2199-07-25 08:37:00",
          "DISCHTIME": "2199-07-27 13:30:00",
          "HADM_ID": 152851,
          "admittime": "2199-07-25T08:37:00",
          "dischtime": "2199-07-27T13:30:00",
          "los": 2
         },
         {
          "ADMITTIME": "2136-02-24 13:28:00",
          "DISCHTIME": "2136-03-12 18:29:00",
          "HADM_ID": 109718,
          "admittime": "2136-02-24T13:28:00",
          "dischtime": "2136-03-12T18:29:00",
          "los": 17
         },
         {
          "ADMITTIME": "2175-04-01 19:08:00",
          "DISCHTIME": "2175-04-07 12:15:00",
          "HADM_ID": 177871,
          "admittime": "2175-04-01T19:08:00",
          "dischtime": "2175-04-07T12:15:00",
          "los": 5
         },
         {
          "ADMITTIME": "2132-04-01 12:30:00",
          "DISCHTIME": "2132-04-06 16:00:00",
          "HADM_ID": 188804,
          "admittime": "2132-04-01T12:30:00",
          "dischtime": "2132-04-06T16:00:00",
          "los": 5
         },
         {
          "ADMITTIME": "2122-07-22 14:04:00",
          "DISCHTIME": "2122-07-30 17:50:00",
          "HADM_ID": 135879,
          "admittime": "2122-07-22T14:04:00",
          "dischtime": "2122-07-30T17:50:00",
          "los": 8
         },
         {
          "ADMITTIME": "2172-09-28 19:21:00",
          "DISCHTIME": "2172-10-06 18:15:00",
          "HADM_ID": 173064,
          "admittime": "2172-09-28T19:21:00",
          "dischtime": "2172-10-06T18:15:00",
          "los": 7
         },
         {
          "ADMITTIME": "2201-01-09 20:03:00",
          "DISCHTIME": "2201-02-25 13:00:00",
          "HADM_ID": 129194,
          "admittime": "2201-01-09T20:03:00",
          "dischtime": "2201-02-25T13:00:00",
          "los": 46
         },
         {
          "ADMITTIME": "2181-03-23 08:11:00",
          "DISCHTIME": "2181-03-23 10:35:00",
          "HADM_ID": 194246,
          "admittime": "2181-03-23T08:11:00",
          "dischtime": "2181-03-23T10:35:00",
          "los": 0
         },
         {
          "ADMITTIME": "2181-04-04 17:37:00",
          "DISCHTIME": "2181-04-25 13:30:00",
          "HADM_ID": 146746,
          "admittime": "2181-04-04T17:37:00",
          "dischtime": "2181-04-25T13:30:00",
          "los": 20
         },
         {
          "ADMITTIME": "2131-09-16 18:41:00",
          "DISCHTIME": "2131-09-18 13:54:00",
          "HADM_ID": 139351,
          "admittime": "2131-09-16T18:41:00",
          "dischtime": "2131-09-18T13:54:00",
          "los": 1
         },
         {
          "ADMITTIME": "2100-07-05 10:19:00",
          "DISCHTIME": "2100-07-07 11:10:00",
          "HADM_ID": 161042,
          "admittime": "2100-07-05T10:19:00",
          "dischtime": "2100-07-07T11:10:00",
          "los": 2
         },
         {
          "ADMITTIME": "2156-07-20 11:51:00",
          "DISCHTIME": "2156-07-28 11:30:00",
          "HADM_ID": 191025,
          "admittime": "2156-07-20T11:51:00",
          "dischtime": "2156-07-28T11:30:00",
          "los": 7
         },
         {
          "ADMITTIME": "2194-07-15 13:46:00",
          "DISCHTIME": "2194-09-24 14:45:00",
          "HADM_ID": 137370,
          "admittime": "2194-07-15T13:46:00",
          "dischtime": "2194-09-24T14:45:00",
          "los": 71
         },
         {
          "ADMITTIME": "2179-09-20 06:53:00",
          "DISCHTIME": "2179-10-01 18:57:00",
          "HADM_ID": 148420,
          "admittime": "2179-09-20T06:53:00",
          "dischtime": "2179-10-01T18:57:00",
          "los": 11
         },
         {
          "ADMITTIME": "2166-08-07 14:28:00",
          "DISCHTIME": "2166-08-18 18:39:00",
          "HADM_ID": 182365,
          "admittime": "2166-08-07T14:28:00",
          "dischtime": "2166-08-18T18:39:00",
          "los": 11
         },
         {
          "ADMITTIME": "2167-11-29 18:37:00",
          "DISCHTIME": "2167-12-02 19:51:00",
          "HADM_ID": 117834,
          "admittime": "2167-11-29T18:37:00",
          "dischtime": "2167-12-02T19:51:00",
          "los": 3
         },
         {
          "ADMITTIME": "2184-12-31 02:29:00",
          "DISCHTIME": "2185-01-10 11:53:00",
          "HADM_ID": 145066,
          "admittime": "2184-12-31T02:29:00",
          "dischtime": "2185-01-10T11:53:00",
          "los": 10
         },
         {
          "ADMITTIME": "2116-05-30 14:36:00",
          "DISCHTIME": "2116-06-14 17:15:00",
          "HADM_ID": 173729,
          "admittime": "2116-05-30T14:36:00",
          "dischtime": "2116-06-14T17:15:00",
          "los": 15
         },
         {
          "ADMITTIME": "2148-11-14 00:03:00",
          "DISCHTIME": "2148-11-21 21:10:00",
          "HADM_ID": 124150,
          "admittime": "2148-11-14T00:03:00",
          "dischtime": "2148-11-21T21:10:00",
          "los": 7
         },
         {
          "ADMITTIME": "2195-02-18 18:25:00",
          "DISCHTIME": "2195-02-25 16:20:00",
          "HADM_ID": 116665,
          "admittime": "2195-02-18T18:25:00",
          "dischtime": "2195-02-25T16:20:00",
          "los": 6
         },
         {
          "ADMITTIME": "2130-10-31 12:15:00",
          "DISCHTIME": "2130-11-04 19:46:00",
          "HADM_ID": 160958,
          "admittime": "2130-10-31T12:15:00",
          "dischtime": "2130-11-04T19:46:00",
          "los": 4
         },
         {
          "ADMITTIME": "2172-03-30 20:56:00",
          "DISCHTIME": "2172-04-02 16:17:00",
          "HADM_ID": 178969,
          "admittime": "2172-03-30T20:56:00",
          "dischtime": "2172-04-02T16:17:00",
          "los": 2
         },
         {
          "ADMITTIME": "2194-09-29 19:01:00",
          "DISCHTIME": "2194-10-07 18:05:00",
          "HADM_ID": 145439,
          "admittime": "2194-09-29T19:01:00",
          "dischtime": "2194-10-07T18:05:00",
          "los": 7
         },
         {
          "ADMITTIME": "2199-12-12 19:04:00",
          "DISCHTIME": "2199-12-13 20:33:00",
          "HADM_ID": 166850,
          "admittime": "2199-12-12T19:04:00",
          "dischtime": "2199-12-13T20:33:00",
          "los": 1
         },
         {
          "ADMITTIME": "2170-04-02 21:41:00",
          "DISCHTIME": "2170-04-05 06:24:00",
          "HADM_ID": 157083,
          "admittime": "2170-04-02T21:41:00",
          "dischtime": "2170-04-05T06:24:00",
          "los": 2
         },
         {
          "ADMITTIME": "2174-04-13 01:25:00",
          "DISCHTIME": "2174-04-16 15:39:00",
          "HADM_ID": 114598,
          "admittime": "2174-04-13T01:25:00",
          "dischtime": "2174-04-16T15:39:00",
          "los": 3
         },
         {
          "ADMITTIME": "2175-08-16 18:25:00",
          "DISCHTIME": "2175-08-18 17:00:00",
          "HADM_ID": 165956,
          "admittime": "2175-08-16T18:25:00",
          "dischtime": "2175-08-18T17:00:00",
          "los": 1
         },
         {
          "ADMITTIME": "2168-02-20 23:36:00",
          "DISCHTIME": "2168-03-02 16:15:00",
          "HADM_ID": 125330,
          "admittime": "2168-02-20T23:36:00",
          "dischtime": "2168-03-02T16:15:00",
          "los": 10
         },
         {
          "ADMITTIME": "2171-12-19 16:22:00",
          "DISCHTIME": "2171-12-25 15:22:00",
          "HADM_ID": 146035,
          "admittime": "2171-12-19T16:22:00",
          "dischtime": "2171-12-25T15:22:00",
          "los": 5
         },
         {
          "ADMITTIME": "2183-05-13 15:08:00",
          "DISCHTIME": "2183-05-22 09:32:00",
          "HADM_ID": 186199,
          "admittime": "2183-05-13T15:08:00",
          "dischtime": "2183-05-22T09:32:00",
          "los": 8
         },
         {
          "ADMITTIME": "2192-07-22 00:28:00",
          "DISCHTIME": "2192-08-29 18:24:00",
          "HADM_ID": 152166,
          "admittime": "2192-07-22T00:28:00",
          "dischtime": "2192-08-29T18:24:00",
          "los": 38
         },
         {
          "ADMITTIME": "2151-04-23 18:36:00",
          "DISCHTIME": "2151-05-01 11:30:00",
          "HADM_ID": 127076,
          "admittime": "2151-04-23T18:36:00",
          "dischtime": "2151-05-01T11:30:00",
          "los": 7
         },
         {
          "ADMITTIME": "2147-01-18 19:09:00",
          "DISCHTIME": "2147-02-13 05:12:00",
          "HADM_ID": 138066,
          "admittime": "2147-01-18T19:09:00",
          "dischtime": "2147-02-13T05:12:00",
          "los": 25
         },
         {
          "ADMITTIME": "2200-03-14 13:45:00",
          "DISCHTIME": "2200-04-04 15:35:00",
          "HADM_ID": 141591,
          "admittime": "2200-03-14T13:45:00",
          "dischtime": "2200-04-04T15:35:00",
          "los": 21
         },
         {
          "ADMITTIME": "2190-01-28 02:04:00",
          "DISCHTIME": "2190-02-04 14:30:00",
          "HADM_ID": 190462,
          "admittime": "2190-01-28T02:04:00",
          "dischtime": "2190-02-04T14:30:00",
          "los": 7
         },
         {
          "ADMITTIME": "2135-06-21 17:25:00",
          "DISCHTIME": "2135-07-03 11:34:00",
          "HADM_ID": 164271,
          "admittime": "2135-06-21T17:25:00",
          "dischtime": "2135-07-03T11:34:00",
          "los": 11
         },
         {
          "ADMITTIME": "2143-10-23 21:05:00",
          "DISCHTIME": "2143-11-04 17:28:00",
          "HADM_ID": 116367,
          "admittime": "2143-10-23T21:05:00",
          "dischtime": "2143-11-04T17:28:00",
          "los": 11
         },
         {
          "ADMITTIME": "2126-11-16 21:43:00",
          "DISCHTIME": "2126-11-28 13:15:00",
          "HADM_ID": 117386,
          "admittime": "2126-11-16T21:43:00",
          "dischtime": "2126-11-28T13:15:00",
          "los": 11
         },
         {
          "ADMITTIME": "2154-03-30 14:59:00",
          "DISCHTIME": "2154-04-01 16:00:00",
          "HADM_ID": 116719,
          "admittime": "2154-03-30T14:59:00",
          "dischtime": "2154-04-01T16:00:00",
          "los": 2
         },
         {
          "ADMITTIME": "2154-08-23 14:01:00",
          "DISCHTIME": "2154-08-29 11:10:00",
          "HADM_ID": 103194,
          "admittime": "2154-08-23T14:01:00",
          "dischtime": "2154-08-29T11:10:00",
          "los": 5
         },
         {
          "ADMITTIME": "2141-01-22 14:00:00",
          "DISCHTIME": "2141-01-27 10:50:00",
          "HADM_ID": 170449,
          "admittime": "2141-01-22T14:00:00",
          "dischtime": "2141-01-27T10:50:00",
          "los": 4
         },
         {
          "ADMITTIME": "2146-06-22 00:58:00",
          "DISCHTIME": "2146-07-05 11:58:00",
          "HADM_ID": 148905,
          "admittime": "2146-06-22T00:58:00",
          "dischtime": "2146-07-05T11:58:00",
          "los": 13
         },
         {
          "ADMITTIME": "2148-09-15 12:00:00",
          "DISCHTIME": "2148-10-24 11:30:00",
          "HADM_ID": 136251,
          "admittime": "2148-09-15T12:00:00",
          "dischtime": "2148-10-24T11:30:00",
          "los": 38
         },
         {
          "ADMITTIME": "2195-08-18 14:58:00",
          "DISCHTIME": "2195-09-16 13:57:00",
          "HADM_ID": 128683,
          "admittime": "2195-08-18T14:58:00",
          "dischtime": "2195-09-16T13:57:00",
          "los": 28
         },
         {
          "ADMITTIME": "2104-05-06 03:37:00",
          "DISCHTIME": "2104-05-19 16:30:00",
          "HADM_ID": 161218,
          "admittime": "2104-05-06T03:37:00",
          "dischtime": "2104-05-19T16:30:00",
          "los": 13
         },
         {
          "ADMITTIME": "2150-04-30 22:47:00",
          "DISCHTIME": "2150-05-06 12:19:00",
          "HADM_ID": 129136,
          "admittime": "2150-04-30T22:47:00",
          "dischtime": "2150-05-06T12:19:00",
          "los": 5
         },
         {
          "ADMITTIME": "2150-11-11 19:36:00",
          "DISCHTIME": "2150-11-13 17:00:00",
          "HADM_ID": 166097,
          "admittime": "2150-11-11T19:36:00",
          "dischtime": "2150-11-13T17:00:00",
          "los": 1
         },
         {
          "ADMITTIME": "2166-11-17 19:57:00",
          "DISCHTIME": "2166-11-24 13:10:00",
          "HADM_ID": 136962,
          "admittime": "2166-11-17T19:57:00",
          "dischtime": "2166-11-24T13:10:00",
          "los": 6
         },
         {
          "ADMITTIME": "2198-08-27 12:15:00",
          "DISCHTIME": "2198-09-01 15:00:00",
          "HADM_ID": 104540,
          "admittime": "2198-08-27T12:15:00",
          "dischtime": "2198-09-01T15:00:00",
          "los": 5
         },
         {
          "ADMITTIME": "2162-08-28 03:26:00",
          "DISCHTIME": "2162-09-11 12:30:00",
          "HADM_ID": 115414,
          "admittime": "2162-08-28T03:26:00",
          "dischtime": "2162-09-11T12:30:00",
          "los": 14
         },
         {
          "ADMITTIME": "2140-05-16 15:28:00",
          "DISCHTIME": "2140-05-25 12:00:00",
          "HADM_ID": 197503,
          "admittime": "2140-05-16T15:28:00",
          "dischtime": "2140-05-25T12:00:00",
          "los": 8
         },
         {
          "ADMITTIME": "2140-06-07 21:37:00",
          "DISCHTIME": "2140-06-12 16:00:00",
          "HADM_ID": 160376,
          "admittime": "2140-06-07T21:37:00",
          "dischtime": "2140-06-12T16:00:00",
          "los": 4
         },
         {
          "ADMITTIME": "2168-03-04 13:56:00",
          "DISCHTIME": "2168-04-04 10:47:00",
          "HADM_ID": 139824,
          "admittime": "2168-03-04T13:56:00",
          "dischtime": "2168-04-04T10:47:00",
          "los": 30
         },
         {
          "ADMITTIME": "2109-10-31 14:15:00",
          "DISCHTIME": "2109-11-13 16:35:00",
          "HADM_ID": 105908,
          "admittime": "2109-10-31T14:15:00",
          "dischtime": "2109-11-13T16:35:00",
          "los": 13
         },
         {
          "ADMITTIME": "2123-06-18 10:22:00",
          "DISCHTIME": "2123-06-20 12:01:00",
          "HADM_ID": 161164,
          "admittime": "2123-06-18T10:22:00",
          "dischtime": "2123-06-20T12:01:00",
          "los": 2
         },
         {
          "ADMITTIME": "2155-08-05 16:55:00",
          "DISCHTIME": "2155-08-10 14:20:00",
          "HADM_ID": 149219,
          "admittime": "2155-08-05T16:55:00",
          "dischtime": "2155-08-10T14:20:00",
          "los": 4
         },
         {
          "ADMITTIME": "2117-11-29 11:24:00",
          "DISCHTIME": "2117-12-08 14:20:00",
          "HADM_ID": 165617,
          "admittime": "2117-11-29T11:24:00",
          "dischtime": "2117-12-08T14:20:00",
          "los": 9
         },
         {
          "ADMITTIME": "2143-08-20 18:22:00",
          "DISCHTIME": "2143-09-13 14:30:00",
          "HADM_ID": 173723,
          "admittime": "2143-08-20T18:22:00",
          "dischtime": "2143-09-13T14:30:00",
          "los": 23
         },
         {
          "ADMITTIME": "2161-04-07 11:59:00",
          "DISCHTIME": "2161-06-06 14:21:00",
          "HADM_ID": 130196,
          "admittime": "2161-04-07T11:59:00",
          "dischtime": "2161-06-06T14:21:00",
          "los": 60
         },
         {
          "ADMITTIME": "2161-06-29 22:30:00",
          "DISCHTIME": "2161-07-07 18:23:00",
          "HADM_ID": 168049,
          "admittime": "2161-06-29T22:30:00",
          "dischtime": "2161-07-07T18:23:00",
          "los": 7
         },
         {
          "ADMITTIME": "2163-03-09 19:02:00",
          "DISCHTIME": "2163-03-16 17:30:00",
          "HADM_ID": 122988,
          "admittime": "2163-03-09T19:02:00",
          "dischtime": "2163-03-16T17:30:00",
          "los": 6
         },
         {
          "ADMITTIME": "2108-04-21 00:07:00",
          "DISCHTIME": "2108-04-25 15:44:00",
          "HADM_ID": 193146,
          "admittime": "2108-04-21T00:07:00",
          "dischtime": "2108-04-25T15:44:00",
          "los": 4
         },
         {
          "ADMITTIME": "2159-07-09 07:15:00",
          "DISCHTIME": "2159-07-16 14:30:00",
          "HADM_ID": 111584,
          "admittime": "2159-07-09T07:15:00",
          "dischtime": "2159-07-16T14:30:00",
          "los": 7
         },
         {
          "ADMITTIME": "2198-12-08 00:51:00",
          "DISCHTIME": "2198-12-31 16:59:00",
          "HADM_ID": 106292,
          "admittime": "2198-12-08T00:51:00",
          "dischtime": "2198-12-31T16:59:00",
          "los": 23
         },
         {
          "ADMITTIME": "2104-04-14 17:55:00",
          "DISCHTIME": "2104-04-19 14:30:00",
          "HADM_ID": 167504,
          "admittime": "2104-04-14T17:55:00",
          "dischtime": "2104-04-19T14:30:00",
          "los": 4
         },
         {
          "ADMITTIME": "2104-04-18 01:34:00",
          "DISCHTIME": "2104-04-28 15:06:00",
          "HADM_ID": 134048,
          "admittime": "2104-04-18T01:34:00",
          "dischtime": "2104-04-28T15:06:00",
          "los": 10
         },
         {
          "ADMITTIME": "2108-09-26 15:00:00",
          "DISCHTIME": "2108-10-05 06:50:00",
          "HADM_ID": 100095,
          "admittime": "2108-09-26T15:00:00",
          "dischtime": "2108-10-05T06:50:00",
          "los": 8
         },
         {
          "ADMITTIME": "2102-06-28 04:13:00",
          "DISCHTIME": "2102-06-30 12:31:00",
          "HADM_ID": 188209,
          "admittime": "2102-06-28T04:13:00",
          "dischtime": "2102-06-30T12:31:00",
          "los": 2
         },
         {
          "ADMITTIME": "2147-01-27 23:53:00",
          "DISCHTIME": "2147-02-01 10:15:00",
          "HADM_ID": 167210,
          "admittime": "2147-01-27T23:53:00",
          "dischtime": "2147-02-01T10:15:00",
          "los": 4
         },
         {
          "ADMITTIME": "2179-05-21 11:32:00",
          "DISCHTIME": "2179-06-07 17:13:00",
          "HADM_ID": 159229,
          "admittime": "2179-05-21T11:32:00",
          "dischtime": "2179-06-07T17:13:00",
          "los": 17
         },
         {
          "ADMITTIME": "2180-09-21 20:28:00",
          "DISCHTIME": "2180-09-25 16:51:00",
          "HADM_ID": 139612,
          "admittime": "2180-09-21T20:28:00",
          "dischtime": "2180-09-25T16:51:00",
          "los": 3
         },
         {
          "ADMITTIME": "2181-07-15 18:23:00",
          "DISCHTIME": "2181-07-20 14:44:00",
          "HADM_ID": 140561,
          "admittime": "2181-07-15T18:23:00",
          "dischtime": "2181-07-20T14:44:00",
          "los": 4
         },
         {
          "ADMITTIME": "2127-06-16 01:33:00",
          "DISCHTIME": "2127-06-28 20:25:00",
          "HADM_ID": 137967,
          "admittime": "2127-06-16T01:33:00",
          "dischtime": "2127-06-28T20:25:00",
          "los": 12
         },
         {
          "ADMITTIME": "2128-01-03 15:15:00",
          "DISCHTIME": "2128-01-09 14:59:00",
          "HADM_ID": 187218,
          "admittime": "2128-01-03T15:15:00",
          "dischtime": "2128-01-09T14:59:00",
          "los": 5
         },
         {
          "ADMITTIME": "2142-01-25 07:15:00",
          "DISCHTIME": "2142-01-30 10:34:00",
          "HADM_ID": 151886,
          "admittime": "2142-01-25T07:15:00",
          "dischtime": "2142-01-30T10:34:00",
          "los": 5
         },
         {
          "ADMITTIME": "2152-07-31 17:19:00",
          "DISCHTIME": "2152-08-07 20:52:00",
          "HADM_ID": 114149,
          "admittime": "2152-07-31T17:19:00",
          "dischtime": "2152-08-07T20:52:00",
          "los": 7
         },
         {
          "ADMITTIME": "2102-04-24 14:58:00",
          "DISCHTIME": "2102-04-27 17:30:00",
          "HADM_ID": 136168,
          "admittime": "2102-04-24T14:58:00",
          "dischtime": "2102-04-27T17:30:00",
          "los": 3
         },
         {
          "ADMITTIME": "2125-05-09 12:21:00",
          "DISCHTIME": "2125-05-15 11:14:00",
          "HADM_ID": 172048,
          "admittime": "2125-05-09T12:21:00",
          "dischtime": "2125-05-15T11:14:00",
          "los": 5
         },
         {
          "ADMITTIME": "2117-08-02 21:00:00",
          "DISCHTIME": "2117-08-11 13:35:00",
          "HADM_ID": 179204,
          "admittime": "2117-08-02T21:00:00",
          "dischtime": "2117-08-11T13:35:00",
          "los": 8
         },
         {
          "ADMITTIME": "2193-01-11 07:46:00",
          "DISCHTIME": "2193-01-13 14:31:00",
          "HADM_ID": 179947,
          "admittime": "2193-01-11T07:46:00",
          "dischtime": "2193-01-13T14:31:00",
          "los": 2
         },
         {
          "ADMITTIME": "2154-12-31 15:47:00",
          "DISCHTIME": "2155-01-10 13:45:00",
          "HADM_ID": 169538,
          "admittime": "2154-12-31T15:47:00",
          "dischtime": "2155-01-10T13:45:00",
          "los": 9
         },
         {
          "ADMITTIME": "2155-04-25 13:12:00",
          "DISCHTIME": "2155-04-30 13:25:00",
          "HADM_ID": 138709,
          "admittime": "2155-04-25T13:12:00",
          "dischtime": "2155-04-30T13:25:00",
          "los": 5
         },
         {
          "ADMITTIME": "2155-05-23 01:28:00",
          "DISCHTIME": "2155-05-29 15:55:00",
          "HADM_ID": 177951,
          "admittime": "2155-05-23T01:28:00",
          "dischtime": "2155-05-29T15:55:00",
          "los": 6
         },
         {
          "ADMITTIME": "2156-11-11 19:57:00",
          "DISCHTIME": "2156-11-18 17:30:00",
          "HADM_ID": 167615,
          "admittime": "2156-11-11T19:57:00",
          "dischtime": "2156-11-18T17:30:00",
          "los": 6
         },
         {
          "ADMITTIME": "2101-12-05 20:27:00",
          "DISCHTIME": "2101-12-28 13:50:00",
          "HADM_ID": 111164,
          "admittime": "2101-12-05T20:27:00",
          "dischtime": "2101-12-28T13:50:00",
          "los": 22
         },
         {
          "ADMITTIME": "2136-03-22 20:58:00",
          "DISCHTIME": "2136-03-23 00:40:00",
          "HADM_ID": 166989,
          "admittime": "2136-03-22T20:58:00",
          "dischtime": "2136-03-23T00:40:00",
          "los": 0
         },
         {
          "ADMITTIME": "2116-01-08 00:56:00",
          "DISCHTIME": "2116-02-26 19:27:00",
          "HADM_ID": 134001,
          "admittime": "2116-01-08T00:56:00",
          "dischtime": "2116-02-26T19:27:00",
          "los": 49
         },
         {
          "ADMITTIME": "2119-08-25 22:37:00",
          "DISCHTIME": "2119-09-01 18:00:00",
          "HADM_ID": 113900,
          "admittime": "2119-08-25T22:37:00",
          "dischtime": "2119-09-01T18:00:00",
          "los": 6
         },
         {
          "ADMITTIME": "2120-09-17 05:03:00",
          "DISCHTIME": "2120-09-28 12:15:00",
          "HADM_ID": 171178,
          "admittime": "2120-09-17T05:03:00",
          "dischtime": "2120-09-28T12:15:00",
          "los": 11
         },
         {
          "ADMITTIME": "2125-03-01 23:19:00",
          "DISCHTIME": "2125-03-07 20:25:00",
          "HADM_ID": 123423,
          "admittime": "2125-03-01T23:19:00",
          "dischtime": "2125-03-07T20:25:00",
          "los": 5
         },
         {
          "ADMITTIME": "2126-03-11 23:06:00",
          "DISCHTIME": "2126-03-26 16:17:00",
          "HADM_ID": 100765,
          "admittime": "2126-03-11T23:06:00",
          "dischtime": "2126-03-26T16:17:00",
          "los": 14
         },
         {
          "ADMITTIME": "2126-10-24 18:42:00",
          "DISCHTIME": "2126-10-29 17:03:00",
          "HADM_ID": 174925,
          "admittime": "2126-10-24T18:42:00",
          "dischtime": "2126-10-29T17:03:00",
          "los": 4
         },
         {
          "ADMITTIME": "2135-09-11 12:08:00",
          "DISCHTIME": "2135-09-16 11:18:00",
          "HADM_ID": 191436,
          "admittime": "2135-09-11T12:08:00",
          "dischtime": "2135-09-16T11:18:00",
          "los": 4
         },
         {
          "ADMITTIME": "2188-10-27 21:25:00",
          "DISCHTIME": "2189-01-11 20:19:00",
          "HADM_ID": 173910,
          "admittime": "2188-10-27T21:25:00",
          "dischtime": "2189-01-11T20:19:00",
          "los": 75
         },
         {
          "ADMITTIME": "2159-09-17 12:00:00",
          "DISCHTIME": "2159-09-25 13:38:00",
          "HADM_ID": 105471,
          "admittime": "2159-09-17T12:00:00",
          "dischtime": "2159-09-25T13:38:00",
          "los": 8
         },
         {
          "ADMITTIME": "2169-07-19 16:48:00",
          "DISCHTIME": "2169-07-20 16:40:00",
          "HADM_ID": 122592,
          "admittime": "2169-07-19T16:48:00",
          "dischtime": "2169-07-20T16:40:00",
          "los": 0
         },
         {
          "ADMITTIME": "2152-09-23 22:27:00",
          "DISCHTIME": "2152-09-26 13:30:00",
          "HADM_ID": 113527,
          "admittime": "2152-09-23T22:27:00",
          "dischtime": "2152-09-26T13:30:00",
          "los": 2
         },
         {
          "ADMITTIME": "2138-03-18 08:00:00",
          "DISCHTIME": "2138-03-25 17:20:00",
          "HADM_ID": 109897,
          "admittime": "2138-03-18T08:00:00",
          "dischtime": "2138-03-25T17:20:00",
          "los": 7
         },
         {
          "ADMITTIME": "2105-08-12 11:04:00",
          "DISCHTIME": "2105-08-25 06:35:00",
          "HADM_ID": 156909,
          "admittime": "2105-08-12T11:04:00",
          "dischtime": "2105-08-25T06:35:00",
          "los": 12
         },
         {
          "ADMITTIME": "2124-04-22 14:01:00",
          "DISCHTIME": "2124-05-02 04:45:00",
          "HADM_ID": 153627,
          "admittime": "2124-04-22T14:01:00",
          "dischtime": "2124-05-02T04:45:00",
          "los": 9
         },
         {
          "ADMITTIME": "2124-01-16 13:46:00",
          "DISCHTIME": "2124-01-19 18:45:00",
          "HADM_ID": 190642,
          "admittime": "2124-01-16T13:46:00",
          "dischtime": "2124-01-19T18:45:00",
          "los": 3
         },
         {
          "ADMITTIME": "2132-07-23 14:46:00",
          "DISCHTIME": "2132-08-11 17:19:00",
          "HADM_ID": 148709,
          "admittime": "2132-07-23T14:46:00",
          "dischtime": "2132-08-11T17:19:00",
          "los": 19
         },
         {
          "ADMITTIME": "2177-03-22 22:24:00",
          "DISCHTIME": "2177-03-23 07:20:00",
          "HADM_ID": 178013,
          "admittime": "2177-03-22T22:24:00",
          "dischtime": "2177-03-23T07:20:00",
          "los": 0
         },
         {
          "ADMITTIME": "2177-03-23 16:17:00",
          "DISCHTIME": "2177-03-23 07:20:00",
          "HADM_ID": 102633,
          "admittime": "2177-03-23T16:17:00",
          "dischtime": "2177-03-23T07:20:00",
          "los": 0
         },
         {
          "ADMITTIME": "2163-03-01 07:15:00",
          "DISCHTIME": "2163-03-09 11:00:00",
          "HADM_ID": 140563,
          "admittime": "2163-03-01T07:15:00",
          "dischtime": "2163-03-09T11:00:00",
          "los": 8
         },
         {
          "ADMITTIME": "2113-02-17 20:10:00",
          "DISCHTIME": "2113-02-26 13:00:00",
          "HADM_ID": 111426,
          "admittime": "2113-02-17T20:10:00",
          "dischtime": "2113-02-26T13:00:00",
          "los": 8
         },
         {
          "ADMITTIME": "2120-12-31 07:15:00",
          "DISCHTIME": "2121-01-27 12:40:00",
          "HADM_ID": 199280,
          "admittime": "2120-12-31T07:15:00",
          "dischtime": "2121-01-27T12:40:00",
          "los": 27
         },
         {
          "ADMITTIME": "2106-05-17 10:59:00",
          "DISCHTIME": "2106-05-26 16:15:00",
          "HADM_ID": 110545,
          "admittime": "2106-05-17T10:59:00",
          "dischtime": "2106-05-26T16:15:00",
          "los": 9
         },
         {
          "ADMITTIME": "2106-06-17 19:51:00",
          "DISCHTIME": "2106-06-24 17:50:00",
          "HADM_ID": 107880,
          "admittime": "2106-06-17T19:51:00",
          "dischtime": "2106-06-24T17:50:00",
          "los": 6
         },
         {
          "ADMITTIME": "2170-02-03 11:38:00",
          "DISCHTIME": "2170-02-06 16:49:00",
          "HADM_ID": 169433,
          "admittime": "2170-02-03T11:38:00",
          "dischtime": "2170-02-06T16:49:00",
          "los": 3
         },
         {
          "ADMITTIME": "2152-06-09 20:38:00",
          "DISCHTIME": "2152-09-07 15:48:00",
          "HADM_ID": 156461,
          "admittime": "2152-06-09T20:38:00",
          "dischtime": "2152-09-07T15:48:00",
          "los": 89
         },
         {
          "ADMITTIME": "2174-11-06 08:38:00",
          "DISCHTIME": "2174-11-08 16:35:00",
          "HADM_ID": 161672,
          "admittime": "2174-11-06T08:38:00",
          "dischtime": "2174-11-08T16:35:00",
          "los": 2
         },
         {
          "ADMITTIME": "2173-05-26 16:03:00",
          "DISCHTIME": "2173-07-01 10:41:00",
          "HADM_ID": 121804,
          "admittime": "2173-05-26T16:03:00",
          "dischtime": "2173-07-01T10:41:00",
          "los": 35
         },
         {
          "ADMITTIME": "2142-03-25 14:39:00",
          "DISCHTIME": "2142-03-28 13:48:00",
          "HADM_ID": 195893,
          "admittime": "2142-03-25T14:39:00",
          "dischtime": "2142-03-28T13:48:00",
          "los": 2
         },
         {
          "ADMITTIME": "2146-06-20 04:52:00",
          "DISCHTIME": "2146-06-22 15:30:00",
          "HADM_ID": 138528,
          "admittime": "2146-06-20T04:52:00",
          "dischtime": "2146-06-22T15:30:00",
          "los": 2
         },
         {
          "ADMITTIME": "2116-12-28 15:32:00",
          "DISCHTIME": "2117-01-16 03:20:00",
          "HADM_ID": 182743,
          "admittime": "2116-12-28T15:32:00",
          "dischtime": "2117-01-16T03:20:00",
          "los": 18
         },
         {
          "ADMITTIME": "2170-10-03 16:22:00",
          "DISCHTIME": "2170-10-05 16:40:00",
          "HADM_ID": 170252,
          "admittime": "2170-10-03T16:22:00",
          "dischtime": "2170-10-05T16:40:00",
          "los": 2
         },
         {
          "ADMITTIME": "2105-01-23 22:57:00",
          "DISCHTIME": "2105-01-24 03:48:00",
          "HADM_ID": 128219,
          "admittime": "2105-01-23T22:57:00",
          "dischtime": "2105-01-24T03:48:00",
          "los": 0
         },
         {
          "ADMITTIME": "2163-04-09 23:38:00",
          "DISCHTIME": "2163-04-13 07:45:00",
          "HADM_ID": 110541,
          "admittime": "2163-04-09T23:38:00",
          "dischtime": "2163-04-13T07:45:00",
          "los": 3
         },
         {
          "ADMITTIME": "2139-06-11 12:55:00",
          "DISCHTIME": "2139-06-13 11:14:00",
          "HADM_ID": 141436,
          "admittime": "2139-06-11T12:55:00",
          "dischtime": "2139-06-13T11:14:00",
          "los": 1
         },
         {
          "ADMITTIME": "2131-01-12 14:00:00",
          "DISCHTIME": "2131-01-21 15:00:00",
          "HADM_ID": 192839,
          "admittime": "2131-01-12T14:00:00",
          "dischtime": "2131-01-21T15:00:00",
          "los": 9
         },
         {
          "ADMITTIME": "2189-09-04 12:30:00",
          "DISCHTIME": "2189-09-08 12:30:00",
          "HADM_ID": 175350,
          "admittime": "2189-09-04T12:30:00",
          "dischtime": "2189-09-08T12:30:00",
          "los": 4
         },
         {
          "ADMITTIME": "2197-07-15 14:52:00",
          "DISCHTIME": "2197-08-07 14:30:00",
          "HADM_ID": 153112,
          "admittime": "2197-07-15T14:52:00",
          "dischtime": "2197-08-07T14:30:00",
          "los": 22
         },
         {
          "ADMITTIME": "2168-07-23 01:26:00",
          "DISCHTIME": "2168-07-26 13:00:00",
          "HADM_ID": 148505,
          "admittime": "2168-07-23T01:26:00",
          "dischtime": "2168-07-26T13:00:00",
          "los": 3
         },
         {
          "ADMITTIME": "2113-08-17 08:00:00",
          "DISCHTIME": "2113-08-25 18:17:00",
          "HADM_ID": 153697,
          "admittime": "2113-08-17T08:00:00",
          "dischtime": "2113-08-25T18:17:00",
          "los": 8
         },
         {
          "ADMITTIME": "2143-08-30 06:51:00",
          "DISCHTIME": "2143-09-06 09:30:00",
          "HADM_ID": 110104,
          "admittime": "2143-08-30T06:51:00",
          "dischtime": "2143-09-06T09:30:00",
          "los": 7
         },
         {
          "ADMITTIME": "2183-10-30 23:06:00",
          "DISCHTIME": "2183-11-11 13:25:00",
          "HADM_ID": 159223,
          "admittime": "2183-10-30T23:06:00",
          "dischtime": "2183-11-11T13:25:00",
          "los": 11
         },
         {
          "ADMITTIME": "2184-01-21 21:20:00",
          "DISCHTIME": "2184-01-31 10:35:00",
          "HADM_ID": 176764,
          "admittime": "2184-01-21T21:20:00",
          "dischtime": "2184-01-31T10:35:00",
          "los": 9
         },
         {
          "ADMITTIME": "2142-07-16 16:50:00",
          "DISCHTIME": "2142-07-18 19:15:00",
          "HADM_ID": 135828,
          "admittime": "2142-07-16T16:50:00",
          "dischtime": "2142-07-18T19:15:00",
          "los": 2
         },
         {
          "ADMITTIME": "2124-11-18 21:26:00",
          "DISCHTIME": "2124-11-30 13:45:00",
          "HADM_ID": 196896,
          "admittime": "2124-11-18T21:26:00",
          "dischtime": "2124-11-30T13:45:00",
          "los": 11
         },
         {
          "ADMITTIME": "2125-11-09 21:12:00",
          "DISCHTIME": "2125-12-12 14:45:00",
          "HADM_ID": 143120,
          "admittime": "2125-11-09T21:12:00",
          "dischtime": "2125-12-12T14:45:00",
          "los": 32
         },
         {
          "ADMITTIME": "2163-01-07 07:15:00",
          "DISCHTIME": "2163-01-15 10:30:00",
          "HADM_ID": 196159,
          "admittime": "2163-01-07T07:15:00",
          "dischtime": "2163-01-15T10:30:00",
          "los": 8
         },
         {
          "ADMITTIME": "2173-05-26 02:01:00",
          "DISCHTIME": "2173-06-05 12:45:00",
          "HADM_ID": 161310,
          "admittime": "2173-05-26T02:01:00",
          "dischtime": "2173-06-05T12:45:00",
          "los": 10
         },
         {
          "ADMITTIME": "2193-12-11 21:34:00",
          "DISCHTIME": "2193-12-18 18:31:00",
          "HADM_ID": 155820,
          "admittime": "2193-12-11T21:34:00",
          "dischtime": "2193-12-18T18:31:00",
          "los": 6
         },
         {
          "ADMITTIME": "2153-10-12 09:49:00",
          "DISCHTIME": "2153-10-12 06:29:00",
          "HADM_ID": 102631,
          "admittime": "2153-10-12T09:49:00",
          "dischtime": "2153-10-12T06:29:00",
          "los": 0
         },
         {
          "ADMITTIME": "2182-02-15 12:00:00",
          "DISCHTIME": "2182-02-20 11:25:00",
          "HADM_ID": 146080,
          "admittime": "2182-02-15T12:00:00",
          "dischtime": "2182-02-20T11:25:00",
          "los": 4
         },
         {
          "ADMITTIME": "2188-07-03 16:41:00",
          "DISCHTIME": "2188-07-05 17:30:00",
          "HADM_ID": 113341,
          "admittime": "2188-07-03T16:41:00",
          "dischtime": "2188-07-05T17:30:00",
          "los": 2
         },
         {
          "ADMITTIME": "2168-03-13 19:00:00",
          "DISCHTIME": "2168-03-16 15:45:00",
          "HADM_ID": 137477,
          "admittime": "2168-03-13T19:00:00",
          "dischtime": "2168-03-16T15:45:00",
          "los": 2
         },
         {
          "ADMITTIME": "2168-04-24 20:29:00",
          "DISCHTIME": "2168-05-13 11:50:00",
          "HADM_ID": 137526,
          "admittime": "2168-04-24T20:29:00",
          "dischtime": "2168-05-13T11:50:00",
          "los": 18
         },
         {
          "ADMITTIME": "2122-02-27 01:56:00",
          "DISCHTIME": "2122-03-01 11:30:00",
          "HADM_ID": 152056,
          "admittime": "2122-02-27T01:56:00",
          "dischtime": "2122-03-01T11:30:00",
          "los": 2
         },
         {
          "ADMITTIME": "2176-09-25 23:13:00",
          "DISCHTIME": "2176-10-01 19:20:00",
          "HADM_ID": 164405,
          "admittime": "2176-09-25T23:13:00",
          "dischtime": "2176-10-01T19:20:00",
          "los": 5
         },
         {
          "ADMITTIME": "2125-08-30 18:03:00",
          "DISCHTIME": "2125-09-06 12:15:00",
          "HADM_ID": 199724,
          "admittime": "2125-08-30T18:03:00",
          "dischtime": "2125-09-06T12:15:00",
          "los": 6
         },
         {
          "ADMITTIME": "2157-01-11 16:56:00",
          "DISCHTIME": "2157-01-19 14:58:00",
          "HADM_ID": 160697,
          "admittime": "2157-01-11T16:56:00",
          "dischtime": "2157-01-19T14:58:00",
          "los": 7
         },
         {
          "ADMITTIME": "2157-03-07 11:08:00",
          "DISCHTIME": "2157-03-10 13:50:00",
          "HADM_ID": 191517,
          "admittime": "2157-03-07T11:08:00",
          "dischtime": "2157-03-10T13:50:00",
          "los": 3
         },
         {
          "ADMITTIME": "2157-11-17 12:11:00",
          "DISCHTIME": "2157-11-20 13:05:00",
          "HADM_ID": 150463,
          "admittime": "2157-11-17T12:11:00",
          "dischtime": "2157-11-20T13:05:00",
          "los": 3
         },
         {
          "ADMITTIME": "2160-11-25 21:55:00",
          "DISCHTIME": "2160-11-28 12:42:00",
          "HADM_ID": 192557,
          "admittime": "2160-11-25T21:55:00",
          "dischtime": "2160-11-28T12:42:00",
          "los": 2
         },
         {
          "ADMITTIME": "2160-12-31 12:34:00",
          "DISCHTIME": "2161-01-08 19:50:00",
          "HADM_ID": 123860,
          "admittime": "2160-12-31T12:34:00",
          "dischtime": "2161-01-08T19:50:00",
          "los": 8
         },
         {
          "ADMITTIME": "2161-07-01 19:44:00",
          "DISCHTIME": "2161-07-10 20:00:00",
          "HADM_ID": 164735,
          "admittime": "2161-07-01T19:44:00",
          "dischtime": "2161-07-10T20:00:00",
          "los": 9
         },
         {
          "ADMITTIME": "2161-11-01 17:48:00",
          "DISCHTIME": "2162-01-17 05:50:00",
          "HADM_ID": 132401,
          "admittime": "2161-11-01T17:48:00",
          "dischtime": "2162-01-17T05:50:00",
          "los": 76
         },
         {
          "ADMITTIME": "2132-09-08 07:15:00",
          "DISCHTIME": "2132-09-12 12:35:00",
          "HADM_ID": 119333,
          "admittime": "2132-09-08T07:15:00",
          "dischtime": "2132-09-12T12:35:00",
          "los": 4
         },
         {
          "ADMITTIME": "2138-08-01 13:17:00",
          "DISCHTIME": "2138-08-05 15:33:00",
          "HADM_ID": 177065,
          "admittime": "2138-08-01T13:17:00",
          "dischtime": "2138-08-05T15:33:00",
          "los": 4
         },
         {
          "ADMITTIME": "2191-12-30 16:34:00",
          "DISCHTIME": "2192-01-10 18:00:00",
          "HADM_ID": 142081,
          "admittime": "2191-12-30T16:34:00",
          "dischtime": "2192-01-10T18:00:00",
          "los": 11
         },
         {
          "ADMITTIME": "2196-04-09 17:42:00",
          "DISCHTIME": "2196-04-21 15:31:00",
          "HADM_ID": 136614,
          "admittime": "2196-04-09T17:42:00",
          "dischtime": "2196-04-21T15:31:00",
          "los": 11
         },
         {
          "ADMITTIME": "2131-01-03 08:00:00",
          "DISCHTIME": "2131-01-07 14:46:00",
          "HADM_ID": 194518,
          "admittime": "2131-01-03T08:00:00",
          "dischtime": "2131-01-07T14:46:00",
          "los": 4
         },
         {
          "ADMITTIME": "2196-09-08 17:55:00",
          "DISCHTIME": "2196-09-12 12:15:00",
          "HADM_ID": 187988,
          "admittime": "2196-09-08T17:55:00",
          "dischtime": "2196-09-12T12:15:00",
          "los": 3
         },
         {
          "ADMITTIME": "2112-05-23 10:27:00",
          "DISCHTIME": "2112-05-26 18:43:00",
          "HADM_ID": 124794,
          "admittime": "2112-05-23T10:27:00",
          "dischtime": "2112-05-26T18:43:00",
          "los": 3
         },
         {
          "ADMITTIME": "2167-11-29 16:25:00",
          "DISCHTIME": "2167-12-23 12:20:00",
          "HADM_ID": 118936,
          "admittime": "2167-11-29T16:25:00",
          "dischtime": "2167-12-23T12:20:00",
          "los": 23
         },
         {
          "ADMITTIME": "2174-03-22 19:47:00",
          "DISCHTIME": "2174-03-30 18:20:00",
          "HADM_ID": 129890,
          "admittime": "2174-03-22T19:47:00",
          "dischtime": "2174-03-30T18:20:00",
          "los": 7
         },
         {
          "ADMITTIME": "2181-10-05 22:04:00",
          "DISCHTIME": "2181-10-24 16:40:00",
          "HADM_ID": 131286,
          "admittime": "2181-10-05T22:04:00",
          "dischtime": "2181-10-24T16:40:00",
          "los": 18
         },
         {
          "ADMITTIME": "2182-07-31 12:30:00",
          "DISCHTIME": "2182-08-02 13:00:00",
          "HADM_ID": 139848,
          "admittime": "2182-07-31T12:30:00",
          "dischtime": "2182-08-02T13:00:00",
          "los": 2
         },
         {
          "ADMITTIME": "2167-07-14 19:25:00",
          "DISCHTIME": "2167-07-22 07:37:00",
          "HADM_ID": 185360,
          "admittime": "2167-07-14T19:25:00",
          "dischtime": "2167-07-22T07:37:00",
          "los": 7
         },
         {
          "ADMITTIME": "2174-04-06 19:50:00",
          "DISCHTIME": "2174-04-19 14:45:00",
          "HADM_ID": 125590,
          "admittime": "2174-04-06T19:50:00",
          "dischtime": "2174-04-19T14:45:00",
          "los": 12
         },
         {
          "ADMITTIME": "2172-10-24 11:50:00",
          "DISCHTIME": "2172-11-03 12:13:00",
          "HADM_ID": 186970,
          "admittime": "2172-10-24T11:50:00",
          "dischtime": "2172-11-03T12:13:00",
          "los": 10
         },
         {
          "ADMITTIME": "2185-01-05 08:00:00",
          "DISCHTIME": "2185-01-27 10:42:00",
          "HADM_ID": 161473,
          "admittime": "2185-01-05T08:00:00",
          "dischtime": "2185-01-27T10:42:00",
          "los": 22
         },
         {
          "ADMITTIME": "2145-10-22 01:31:00",
          "DISCHTIME": "2145-10-24 14:45:00",
          "HADM_ID": 108295,
          "admittime": "2145-10-22T01:31:00",
          "dischtime": "2145-10-24T14:45:00",
          "los": 2
         },
         {
          "ADMITTIME": "2159-03-13 07:15:00",
          "DISCHTIME": "2159-03-20 13:20:00",
          "HADM_ID": 119453,
          "admittime": "2159-03-13T07:15:00",
          "dischtime": "2159-03-20T13:20:00",
          "los": 7
         },
         {
          "ADMITTIME": "2160-04-15 03:22:00",
          "DISCHTIME": "2160-05-07 13:50:00",
          "HADM_ID": 120358,
          "admittime": "2160-04-15T03:22:00",
          "dischtime": "2160-05-07T13:50:00",
          "los": 22
         },
         {
          "ADMITTIME": "2122-06-14 02:11:00",
          "DISCHTIME": "2122-06-16 12:40:00",
          "HADM_ID": 181170,
          "admittime": "2122-06-14T02:11:00",
          "dischtime": "2122-06-16T12:40:00",
          "los": 2
         },
         {
          "ADMITTIME": "2191-11-06 17:03:00",
          "DISCHTIME": "2191-11-16 16:33:00",
          "HADM_ID": 135671,
          "admittime": "2191-11-06T17:03:00",
          "dischtime": "2191-11-16T16:33:00",
          "los": 9
         },
         {
          "ADMITTIME": "2188-05-13 01:53:00",
          "DISCHTIME": "2188-05-19 17:44:00",
          "HADM_ID": 160195,
          "admittime": "2188-05-13T01:53:00",
          "dischtime": "2188-05-19T17:44:00",
          "los": 6
         },
         {
          "ADMITTIME": "2119-09-21 19:57:00",
          "DISCHTIME": "2119-10-03 14:05:00",
          "HADM_ID": 135807,
          "admittime": "2119-09-21T19:57:00",
          "dischtime": "2119-10-03T14:05:00",
          "los": 11
         },
         {
          "ADMITTIME": "2127-08-11 20:42:00",
          "DISCHTIME": "2127-08-19 18:04:00",
          "HADM_ID": 190711,
          "admittime": "2127-08-11T20:42:00",
          "dischtime": "2127-08-19T18:04:00",
          "los": 7
         },
         {
          "ADMITTIME": "2119-08-10 11:21:00",
          "DISCHTIME": "2119-08-19 17:17:00",
          "HADM_ID": 111253,
          "admittime": "2119-08-10T11:21:00",
          "dischtime": "2119-08-19T17:17:00",
          "los": 9
         },
         {
          "ADMITTIME": "2196-03-11 15:46:00",
          "DISCHTIME": "2196-03-22 11:05:00",
          "HADM_ID": 193975,
          "admittime": "2196-03-11T15:46:00",
          "dischtime": "2196-03-22T11:05:00",
          "los": 10
         },
         {
          "ADMITTIME": "2197-12-17 02:52:00",
          "DISCHTIME": "2197-12-29 14:02:00",
          "HADM_ID": 101148,
          "admittime": "2197-12-17T02:52:00",
          "dischtime": "2197-12-29T14:02:00",
          "los": 12
         },
         {
          "ADMITTIME": "2189-11-07 21:35:00",
          "DISCHTIME": "2189-11-10 17:00:00",
          "HADM_ID": 189635,
          "admittime": "2189-11-07T21:35:00",
          "dischtime": "2189-11-10T17:00:00",
          "los": 2
         },
         {
          "ADMITTIME": "2122-02-13 04:38:00",
          "DISCHTIME": "2122-03-03 13:40:00",
          "HADM_ID": 179315,
          "admittime": "2122-02-13T04:38:00",
          "dischtime": "2122-03-03T13:40:00",
          "los": 18
         },
         {
          "ADMITTIME": "2188-10-06 23:56:00",
          "DISCHTIME": "2188-11-04 11:40:00",
          "HADM_ID": 197273,
          "admittime": "2188-10-06T23:56:00",
          "dischtime": "2188-11-04T11:40:00",
          "los": 28
         },
         {
          "ADMITTIME": "2119-01-06 12:07:00",
          "DISCHTIME": "2119-01-08 13:07:00",
          "HADM_ID": 146393,
          "admittime": "2119-01-06T12:07:00",
          "dischtime": "2119-01-08T13:07:00",
          "los": 2
         },
         {
          "ADMITTIME": "2126-09-30 07:15:00",
          "DISCHTIME": "2126-10-05 11:24:00",
          "HADM_ID": 155173,
          "admittime": "2126-09-30T07:15:00",
          "dischtime": "2126-10-05T11:24:00",
          "los": 5
         },
         {
          "ADMITTIME": "2134-04-16 10:40:00",
          "DISCHTIME": "2134-04-17 17:07:00",
          "HADM_ID": 111255,
          "admittime": "2134-04-16T10:40:00",
          "dischtime": "2134-04-17T17:07:00",
          "los": 1
         },
         {
          "ADMITTIME": "2176-12-20 14:58:00",
          "DISCHTIME": "2177-01-02 18:22:00",
          "HADM_ID": 131783,
          "admittime": "2176-12-20T14:58:00",
          "dischtime": "2177-01-02T18:22:00",
          "los": 13
         },
         {
          "ADMITTIME": "2120-03-22 23:34:00",
          "DISCHTIME": "2120-03-25 13:31:00",
          "HADM_ID": 101828,
          "admittime": "2120-03-22T23:34:00",
          "dischtime": "2120-03-25T13:31:00",
          "los": 2
         },
         {
          "ADMITTIME": "2103-12-09 04:38:00",
          "DISCHTIME": "2103-12-28 10:25:00",
          "HADM_ID": 189243,
          "admittime": "2103-12-09T04:38:00",
          "dischtime": "2103-12-28T10:25:00",
          "los": 19
         },
         {
          "ADMITTIME": "2137-07-15 15:31:00",
          "DISCHTIME": "2137-07-17 12:00:00",
          "HADM_ID": 145243,
          "admittime": "2137-07-15T15:31:00",
          "dischtime": "2137-07-17T12:00:00",
          "los": 1
         },
         {
          "ADMITTIME": "2141-02-18 23:10:00",
          "DISCHTIME": "2141-02-21 15:50:00",
          "HADM_ID": 105083,
          "admittime": "2141-02-18T23:10:00",
          "dischtime": "2141-02-21T15:50:00",
          "los": 2
         },
         {
          "ADMITTIME": "2142-06-11 07:15:00",
          "DISCHTIME": "2142-06-19 12:30:00",
          "HADM_ID": 137006,
          "admittime": "2142-06-11T07:15:00",
          "dischtime": "2142-06-19T12:30:00",
          "los": 8
         },
         {
          "ADMITTIME": "2142-06-23 05:02:00",
          "DISCHTIME": "2142-07-01 17:30:00",
          "HADM_ID": 188038,
          "admittime": "2142-06-23T05:02:00",
          "dischtime": "2142-07-01T17:30:00",
          "los": 8
         },
         {
          "ADMITTIME": "2143-02-16 11:20:00",
          "DISCHTIME": "2143-02-25 09:54:00",
          "HADM_ID": 103002,
          "admittime": "2143-02-16T11:20:00",
          "dischtime": "2143-02-25T09:54:00",
          "los": 8
         },
         {
          "ADMITTIME": "2157-05-01 05:19:00",
          "DISCHTIME": "2157-07-01 10:20:00",
          "HADM_ID": 105694,
          "admittime": "2157-05-01T05:19:00",
          "dischtime": "2157-07-01T10:20:00",
          "los": 61
         },
         {
          "ADMITTIME": "2151-04-01 08:06:00",
          "DISCHTIME": "2151-04-02 10:35:00",
          "HADM_ID": 169158,
          "admittime": "2151-04-01T08:06:00",
          "dischtime": "2151-04-02T10:35:00",
          "los": 1
         },
         {
          "ADMITTIME": "2168-01-04 00:57:00",
          "DISCHTIME": "2168-01-13 11:00:00",
          "HADM_ID": 130684,
          "admittime": "2168-01-04T00:57:00",
          "dischtime": "2168-01-13T11:00:00",
          "los": 9
         },
         {
          "ADMITTIME": "2196-12-15 12:37:00",
          "DISCHTIME": "2196-12-20 12:00:00",
          "HADM_ID": 108072,
          "admittime": "2196-12-15T12:37:00",
          "dischtime": "2196-12-20T12:00:00",
          "los": 4
         },
         {
          "ADMITTIME": "2155-01-01 21:05:00",
          "DISCHTIME": "2155-01-04 12:30:00",
          "HADM_ID": 186539,
          "admittime": "2155-01-01T21:05:00",
          "dischtime": "2155-01-04T12:30:00",
          "los": 2
         },
         {
          "ADMITTIME": "2132-10-30 02:16:00",
          "DISCHTIME": "2132-11-10 17:30:00",
          "HADM_ID": 167764,
          "admittime": "2132-10-30T02:16:00",
          "dischtime": "2132-11-10T17:30:00",
          "los": 11
         },
         {
          "ADMITTIME": "2162-07-14 12:33:00",
          "DISCHTIME": "2162-07-16 18:00:00",
          "HADM_ID": 186036,
          "admittime": "2162-07-14T12:33:00",
          "dischtime": "2162-07-16T18:00:00",
          "los": 2
         },
         {
          "ADMITTIME": "2138-02-16 18:55:00",
          "DISCHTIME": "2138-02-20 13:40:00",
          "HADM_ID": 199680,
          "admittime": "2138-02-16T18:55:00",
          "dischtime": "2138-02-20T13:40:00",
          "los": 3
         },
         {
          "ADMITTIME": "2176-05-14 21:12:00",
          "DISCHTIME": "2176-06-05 15:00:00",
          "HADM_ID": 198608,
          "admittime": "2176-05-14T21:12:00",
          "dischtime": "2176-06-05T15:00:00",
          "los": 21
         },
         {
          "ADMITTIME": "2178-08-06 14:31:00",
          "DISCHTIME": "2178-08-09 11:50:00",
          "HADM_ID": 177192,
          "admittime": "2178-08-06T14:31:00",
          "dischtime": "2178-08-09T11:50:00",
          "los": 2
         },
         {
          "ADMITTIME": "2137-08-23 07:14:00",
          "DISCHTIME": "2137-08-29 13:50:00",
          "HADM_ID": 128207,
          "admittime": "2137-08-23T07:14:00",
          "dischtime": "2137-08-29T13:50:00",
          "los": 6
         },
         {
          "ADMITTIME": "2162-04-10 05:01:00",
          "DISCHTIME": "2162-04-12 13:26:00",
          "HADM_ID": 100769,
          "admittime": "2162-04-10T05:01:00",
          "dischtime": "2162-04-12T13:26:00",
          "los": 2
         },
         {
          "ADMITTIME": "2105-03-02 13:50:00",
          "DISCHTIME": "2105-03-17 14:20:00",
          "HADM_ID": 188399,
          "admittime": "2105-03-02T13:50:00",
          "dischtime": "2105-03-17T14:20:00",
          "los": 15
         },
         {
          "ADMITTIME": "2106-04-04 10:30:00",
          "DISCHTIME": "2106-04-23 15:10:00",
          "HADM_ID": 134944,
          "admittime": "2106-04-04T10:30:00",
          "dischtime": "2106-04-23T15:10:00",
          "los": 19
         },
         {
          "ADMITTIME": "2137-07-08 23:19:00",
          "DISCHTIME": "2137-07-12 13:15:00",
          "HADM_ID": 117941,
          "admittime": "2137-07-08T23:19:00",
          "dischtime": "2137-07-12T13:15:00",
          "los": 3
         },
         {
          "ADMITTIME": "2134-10-04 01:19:00",
          "DISCHTIME": "2134-10-15 16:00:00",
          "HADM_ID": 151459,
          "admittime": "2134-10-04T01:19:00",
          "dischtime": "2134-10-15T16:00:00",
          "los": 11
         },
         {
          "ADMITTIME": "2135-05-26 11:28:00",
          "DISCHTIME": "2135-05-28 16:46:00",
          "HADM_ID": 182562,
          "admittime": "2135-05-26T11:28:00",
          "dischtime": "2135-05-28T16:46:00",
          "los": 2
         },
         {
          "ADMITTIME": "2139-02-18 14:26:00",
          "DISCHTIME": "2139-04-08 15:30:00",
          "HADM_ID": 191151,
          "admittime": "2139-02-18T14:26:00",
          "dischtime": "2139-04-08T15:30:00",
          "los": 49
         },
         {
          "ADMITTIME": "2198-06-28 07:15:00",
          "DISCHTIME": "2198-07-02 12:20:00",
          "HADM_ID": 174168,
          "admittime": "2198-06-28T07:15:00",
          "dischtime": "2198-07-02T12:20:00",
          "los": 4
         },
         {
          "ADMITTIME": "2175-01-12 07:15:00",
          "DISCHTIME": "2175-01-28 15:00:00",
          "HADM_ID": 127976,
          "admittime": "2175-01-12T07:15:00",
          "dischtime": "2175-01-28T15:00:00",
          "los": 16
         },
         {
          "ADMITTIME": "2144-08-05 08:00:00",
          "DISCHTIME": "2144-08-13 19:40:00",
          "HADM_ID": 159468,
          "admittime": "2144-08-05T08:00:00",
          "dischtime": "2144-08-13T19:40:00",
          "los": 8
         },
         {
          "ADMITTIME": "2132-04-08 07:15:00",
          "DISCHTIME": "2132-04-14 14:40:00",
          "HADM_ID": 177846,
          "admittime": "2132-04-08T07:15:00",
          "dischtime": "2132-04-14T14:40:00",
          "los": 6
         },
         {
          "ADMITTIME": "2122-01-15 22:29:00",
          "DISCHTIME": "2122-01-20 16:02:00",
          "HADM_ID": 192980,
          "admittime": "2122-01-15T22:29:00",
          "dischtime": "2122-01-20T16:02:00",
          "los": 4
         },
         {
          "ADMITTIME": "2140-02-16 14:40:00",
          "DISCHTIME": "2140-02-25 19:30:00",
          "HADM_ID": 129066,
          "admittime": "2140-02-16T14:40:00",
          "dischtime": "2140-02-25T19:30:00",
          "los": 9
         },
         {
          "ADMITTIME": "2107-08-12 18:14:00",
          "DISCHTIME": "2107-08-14 15:35:00",
          "HADM_ID": 101268,
          "admittime": "2107-08-12T18:14:00",
          "dischtime": "2107-08-14T15:35:00",
          "los": 1
         },
         {
          "ADMITTIME": "2172-07-06 17:29:00",
          "DISCHTIME": "2172-07-10 19:25:00",
          "HADM_ID": 105501,
          "admittime": "2172-07-06T17:29:00",
          "dischtime": "2172-07-10T19:25:00",
          "los": 4
         },
         {
          "ADMITTIME": "2130-06-01 07:15:00",
          "DISCHTIME": "2130-06-07 15:00:00",
          "HADM_ID": 197430,
          "admittime": "2130-06-01T07:15:00",
          "dischtime": "2130-06-07T15:00:00",
          "los": 6
         },
         {
          "ADMITTIME": "2156-08-03 20:35:00",
          "DISCHTIME": "2156-08-09 14:46:00",
          "HADM_ID": 189521,
          "admittime": "2156-08-03T20:35:00",
          "dischtime": "2156-08-09T14:46:00",
          "los": 5
         },
         {
          "ADMITTIME": "2142-10-19 16:30:00",
          "DISCHTIME": "2142-11-06 12:00:00",
          "HADM_ID": 175353,
          "admittime": "2142-10-19T16:30:00",
          "dischtime": "2142-11-06T12:00:00",
          "los": 17
         },
         {
          "ADMITTIME": "2149-12-17 20:41:00",
          "DISCHTIME": "2149-12-31 14:55:00",
          "HADM_ID": 116935,
          "admittime": "2149-12-17T20:41:00",
          "dischtime": "2149-12-31T14:55:00",
          "los": 13
         },
         {
          "ADMITTIME": "2155-02-03 20:16:00",
          "DISCHTIME": "2155-02-14 11:15:00",
          "HADM_ID": 149546,
          "admittime": "2155-02-03T20:16:00",
          "dischtime": "2155-02-14T11:15:00",
          "los": 10
         },
         {
          "ADMITTIME": "2156-04-27 15:33:00",
          "DISCHTIME": "2156-05-14 15:30:00",
          "HADM_ID": 158975,
          "admittime": "2156-04-27T15:33:00",
          "dischtime": "2156-05-14T15:30:00",
          "los": 16
         },
         {
          "ADMITTIME": "2188-11-12 09:22:00",
          "DISCHTIME": "2188-11-22 12:00:00",
          "HADM_ID": 124271,
          "admittime": "2188-11-12T09:22:00",
          "dischtime": "2188-11-22T12:00:00",
          "los": 10
         },
         {
          "ADMITTIME": "2110-07-27 06:46:00",
          "DISCHTIME": "2110-07-29 15:23:00",
          "HADM_ID": 117937,
          "admittime": "2110-07-27T06:46:00",
          "dischtime": "2110-07-29T15:23:00",
          "los": 2
         },
         {
          "ADMITTIME": "2133-03-31 04:24:00",
          "DISCHTIME": "2133-04-23 15:00:00",
          "HADM_ID": 190159,
          "admittime": "2133-03-31T04:24:00",
          "dischtime": "2133-04-23T15:00:00",
          "los": 23
         },
         {
          "ADMITTIME": "2133-08-15 04:23:00",
          "DISCHTIME": "2133-08-19 17:30:00",
          "HADM_ID": 193470,
          "admittime": "2133-08-15T04:23:00",
          "dischtime": "2133-08-19T17:30:00",
          "los": 4
         },
         {
          "ADMITTIME": "2174-01-21 20:58:00",
          "DISCHTIME": "2174-01-26 16:15:00",
          "HADM_ID": 176189,
          "admittime": "2174-01-21T20:58:00",
          "dischtime": "2174-01-26T16:15:00",
          "los": 4
         },
         {
          "ADMITTIME": "2187-02-12 10:30:00",
          "DISCHTIME": "2187-02-15 10:30:00",
          "HADM_ID": 112013,
          "admittime": "2187-02-12T10:30:00",
          "dischtime": "2187-02-15T10:30:00",
          "los": 3
         },
         {
          "ADMITTIME": "2163-07-26 10:30:00",
          "DISCHTIME": "2163-08-02 14:14:00",
          "HADM_ID": 155415,
          "admittime": "2163-07-26T10:30:00",
          "dischtime": "2163-08-02T14:14:00",
          "los": 7
         },
         {
          "ADMITTIME": "2166-07-21 23:38:00",
          "DISCHTIME": "2166-07-28 12:45:00",
          "HADM_ID": 153771,
          "admittime": "2166-07-21T23:38:00",
          "dischtime": "2166-07-28T12:45:00",
          "los": 6
         },
         {
          "ADMITTIME": "2170-06-15 03:06:00",
          "DISCHTIME": "2170-06-27 16:17:00",
          "HADM_ID": 188869,
          "admittime": "2170-06-15T03:06:00",
          "dischtime": "2170-06-27T16:17:00",
          "los": 12
         },
         {
          "ADMITTIME": "2170-08-16 13:55:00",
          "DISCHTIME": "2170-08-22 18:00:00",
          "HADM_ID": 108811,
          "admittime": "2170-08-16T13:55:00",
          "dischtime": "2170-08-22T18:00:00",
          "los": 6
         },
         {
          "ADMITTIME": "2112-12-20 20:45:00",
          "DISCHTIME": "2112-12-23 17:00:00",
          "HADM_ID": 179006,
          "admittime": "2112-12-20T20:45:00",
          "dischtime": "2112-12-23T17:00:00",
          "los": 2
         },
         {
          "ADMITTIME": "2124-09-19 03:59:00",
          "DISCHTIME": "2124-09-22 15:52:00",
          "HADM_ID": 189406,
          "admittime": "2124-09-19T03:59:00",
          "dischtime": "2124-09-22T15:52:00",
          "los": 3
         },
         {
          "ADMITTIME": "2105-03-23 10:23:00",
          "DISCHTIME": "2105-03-30 11:00:00",
          "HADM_ID": 190363,
          "admittime": "2105-03-23T10:23:00",
          "dischtime": "2105-03-30T11:00:00",
          "los": 7
         },
         {
          "ADMITTIME": "2101-12-27 01:50:00",
          "DISCHTIME": "2102-01-12 13:39:00",
          "HADM_ID": 118523,
          "admittime": "2101-12-27T01:50:00",
          "dischtime": "2102-01-12T13:39:00",
          "los": 16
         },
         {
          "ADMITTIME": "2153-09-25 18:01:00",
          "DISCHTIME": "2153-09-28 18:48:00",
          "HADM_ID": 106019,
          "admittime": "2153-09-25T18:01:00",
          "dischtime": "2153-09-28T18:48:00",
          "los": 3
         },
         {
          "ADMITTIME": "2160-01-09 19:30:00",
          "DISCHTIME": "2160-01-21 16:15:00",
          "HADM_ID": 120845,
          "admittime": "2160-01-09T19:30:00",
          "dischtime": "2160-01-21T16:15:00",
          "los": 11
         },
         {
          "ADMITTIME": "2162-11-30 02:19:00",
          "DISCHTIME": "2162-12-02 13:47:00",
          "HADM_ID": 136714,
          "admittime": "2162-11-30T02:19:00",
          "dischtime": "2162-12-02T13:47:00",
          "los": 2
         },
         {
          "ADMITTIME": "2149-02-20 07:15:00",
          "DISCHTIME": "2149-02-25 15:50:00",
          "HADM_ID": 101608,
          "admittime": "2149-02-20T07:15:00",
          "dischtime": "2149-02-25T15:50:00",
          "los": 5
         },
         {
          "ADMITTIME": "2168-07-10 08:01:00",
          "DISCHTIME": "2168-07-14 13:03:00",
          "HADM_ID": 186251,
          "admittime": "2168-07-10T08:01:00",
          "dischtime": "2168-07-14T13:03:00",
          "los": 4
         },
         {
          "ADMITTIME": "2156-06-04 05:08:00",
          "DISCHTIME": "2156-06-15 13:54:00",
          "HADM_ID": 163714,
          "admittime": "2156-06-04T05:08:00",
          "dischtime": "2156-06-15T13:54:00",
          "los": 11
         },
         {
          "ADMITTIME": "2198-02-11 13:40:00",
          "DISCHTIME": "2198-02-18 03:55:00",
          "HADM_ID": 110404,
          "admittime": "2198-02-11T13:40:00",
          "dischtime": "2198-02-18T03:55:00",
          "los": 6
         },
         {
          "ADMITTIME": "2170-11-05 11:04:00",
          "DISCHTIME": "2170-11-27 18:00:00",
          "HADM_ID": 106296,
          "admittime": "2170-11-05T11:04:00",
          "dischtime": "2170-11-27T18:00:00",
          "los": 22
         },
         {
          "ADMITTIME": "2128-06-23 18:26:00",
          "DISCHTIME": "2128-06-27 12:31:00",
          "HADM_ID": 188028,
          "admittime": "2128-06-23T18:26:00",
          "dischtime": "2128-06-27T12:31:00",
          "los": 3
         },
         {
          "ADMITTIME": "2120-08-07 18:56:00",
          "DISCHTIME": "2120-08-20 16:00:00",
          "HADM_ID": 173727,
          "admittime": "2120-08-07T18:56:00",
          "dischtime": "2120-08-20T16:00:00",
          "los": 12
         },
         {
          "ADMITTIME": "2186-12-25 21:06:00",
          "DISCHTIME": "2187-01-02 14:57:00",
          "HADM_ID": 164716,
          "admittime": "2186-12-25T21:06:00",
          "dischtime": "2187-01-02T14:57:00",
          "los": 7
         },
         {
          "ADMITTIME": "2141-04-19 06:11:00",
          "DISCHTIME": "2141-04-20 17:00:00",
          "HADM_ID": 158689,
          "admittime": "2141-04-19T06:11:00",
          "dischtime": "2141-04-20T17:00:00",
          "los": 1
         },
         {
          "ADMITTIME": "2114-06-28 22:16:00",
          "DISCHTIME": "2114-07-12 15:30:00",
          "HADM_ID": 130546,
          "admittime": "2114-06-28T22:16:00",
          "dischtime": "2114-07-12T15:30:00",
          "los": 13
         },
         {
          "ADMITTIME": "2170-10-06 03:09:00",
          "DISCHTIME": "2170-10-19 15:35:00",
          "HADM_ID": 129886,
          "admittime": "2170-10-06T03:09:00",
          "dischtime": "2170-10-19T15:35:00",
          "los": 13
         },
         {
          "ADMITTIME": "2147-11-19 16:53:00",
          "DISCHTIME": "2147-11-22 13:15:00",
          "HADM_ID": 135156,
          "admittime": "2147-11-19T16:53:00",
          "dischtime": "2147-11-22T13:15:00",
          "los": 2
         },
         {
          "ADMITTIME": "2132-10-21 21:09:00",
          "DISCHTIME": "2132-10-26 19:41:00",
          "HADM_ID": 171601,
          "admittime": "2132-10-21T21:09:00",
          "dischtime": "2132-10-26T19:41:00",
          "los": 4
         },
         {
          "ADMITTIME": "2164-06-13 19:19:00",
          "DISCHTIME": "2164-06-19 17:15:00",
          "HADM_ID": 192224,
          "admittime": "2164-06-13T19:19:00",
          "dischtime": "2164-06-19T17:15:00",
          "los": 5
         },
         {
          "ADMITTIME": "2155-12-08 18:11:00",
          "DISCHTIME": "2155-12-22 16:00:00",
          "HADM_ID": 123506,
          "admittime": "2155-12-08T18:11:00",
          "dischtime": "2155-12-22T16:00:00",
          "los": 13
         },
         {
          "ADMITTIME": "2101-10-18 04:42:00",
          "DISCHTIME": "2101-10-25 19:10:00",
          "HADM_ID": 111199,
          "admittime": "2101-10-18T04:42:00",
          "dischtime": "2101-10-25T19:10:00",
          "los": 7
         },
         {
          "ADMITTIME": "2175-02-01 17:47:00",
          "DISCHTIME": "2175-02-08 18:30:00",
          "HADM_ID": 119013,
          "admittime": "2175-02-01T17:47:00",
          "dischtime": "2175-02-08T18:30:00",
          "los": 7
         },
         {
          "ADMITTIME": "2166-08-12 22:02:00",
          "DISCHTIME": "2166-09-12 14:41:00",
          "HADM_ID": 109185,
          "admittime": "2166-08-12T22:02:00",
          "dischtime": "2166-09-12T14:41:00",
          "los": 30
         },
         {
          "ADMITTIME": "2166-10-02 15:36:00",
          "DISCHTIME": "2166-10-07 13:21:00",
          "HADM_ID": 144156,
          "admittime": "2166-10-02T15:36:00",
          "dischtime": "2166-10-07T13:21:00",
          "los": 4
         },
         {
          "ADMITTIME": "2149-11-29 15:37:00",
          "DISCHTIME": "2149-12-03 15:11:00",
          "HADM_ID": 112354,
          "admittime": "2149-11-29T15:37:00",
          "dischtime": "2149-12-03T15:11:00",
          "los": 3
         },
         {
          "ADMITTIME": "2152-09-21 22:47:00",
          "DISCHTIME": "2152-10-20 15:19:00",
          "HADM_ID": 165312,
          "admittime": "2152-09-21T22:47:00",
          "dischtime": "2152-10-20T15:19:00",
          "los": 28
         },
         {
          "ADMITTIME": "2175-12-31 22:56:00",
          "DISCHTIME": "2176-02-24 16:23:00",
          "HADM_ID": 106909,
          "admittime": "2175-12-31T22:56:00",
          "dischtime": "2176-02-24T16:23:00",
          "los": 54
         },
         {
          "ADMITTIME": "2176-04-10 20:45:00",
          "DISCHTIME": "2176-04-12 16:41:00",
          "HADM_ID": 135917,
          "admittime": "2176-04-10T20:45:00",
          "dischtime": "2176-04-12T16:41:00",
          "los": 1
         },
         {
          "ADMITTIME": "2167-05-22 07:15:00",
          "DISCHTIME": "2167-05-27 16:16:00",
          "HADM_ID": 174293,
          "admittime": "2167-05-22T07:15:00",
          "dischtime": "2167-05-27T16:16:00",
          "los": 5
         },
         {
          "ADMITTIME": "2167-05-31 13:22:00",
          "DISCHTIME": "2167-06-06 14:10:00",
          "HADM_ID": 175954,
          "admittime": "2167-05-31T13:22:00",
          "dischtime": "2167-06-06T14:10:00",
          "los": 6
         },
         {
          "ADMITTIME": "2191-05-19 12:41:00",
          "DISCHTIME": "2191-05-27 14:30:00",
          "HADM_ID": 110921,
          "admittime": "2191-05-19T12:41:00",
          "dischtime": "2191-05-27T14:30:00",
          "los": 8
         },
         {
          "ADMITTIME": "2179-01-26 07:15:00",
          "DISCHTIME": "2179-02-08 17:30:00",
          "HADM_ID": 138303,
          "admittime": "2179-01-26T07:15:00",
          "dischtime": "2179-02-08T17:30:00",
          "los": 13
         },
         {
          "ADMITTIME": "2102-04-08 22:26:00",
          "DISCHTIME": "2102-04-12 13:00:00",
          "HADM_ID": 113649,
          "admittime": "2102-04-08T22:26:00",
          "dischtime": "2102-04-12T13:00:00",
          "los": 3
         },
         {
          "ADMITTIME": "2106-04-17 12:24:00",
          "DISCHTIME": "2106-04-19 15:10:00",
          "HADM_ID": 125726,
          "admittime": "2106-04-17T12:24:00",
          "dischtime": "2106-04-19T15:10:00",
          "los": 2
         },
         {
          "ADMITTIME": "2107-09-13 22:41:00",
          "DISCHTIME": "2107-09-16 18:50:00",
          "HADM_ID": 126219,
          "admittime": "2107-09-13T22:41:00",
          "dischtime": "2107-09-16T18:50:00",
          "los": 2
         },
         {
          "ADMITTIME": "2103-09-27 18:28:00",
          "DISCHTIME": "2103-09-28 15:44:00",
          "HADM_ID": 179726,
          "admittime": "2103-09-27T18:28:00",
          "dischtime": "2103-09-28T15:44:00",
          "los": 0
         },
         {
          "ADMITTIME": "2125-02-09 07:15:00",
          "DISCHTIME": "2125-02-13 13:45:00",
          "HADM_ID": 125963,
          "admittime": "2125-02-09T07:15:00",
          "dischtime": "2125-02-13T13:45:00",
          "los": 4
         },
         {
          "ADMITTIME": "2118-01-17 21:44:00",
          "DISCHTIME": "2118-02-02 16:07:00",
          "HADM_ID": 152578,
          "admittime": "2118-01-17T21:44:00",
          "dischtime": "2118-02-02T16:07:00",
          "los": 15
         },
         {
          "ADMITTIME": "2176-03-06 12:30:00",
          "DISCHTIME": "2176-03-08 15:36:00",
          "HADM_ID": 192988,
          "admittime": "2176-03-06T12:30:00",
          "dischtime": "2176-03-08T15:36:00",
          "los": 2
         },
         {
          "ADMITTIME": "2191-03-01 21:31:00",
          "DISCHTIME": "2191-03-09 11:52:00",
          "HADM_ID": 159503,
          "admittime": "2191-03-01T21:31:00",
          "dischtime": "2191-03-09T11:52:00",
          "los": 7
         },
         {
          "ADMITTIME": "2135-10-05 13:05:00",
          "DISCHTIME": "2135-10-09 12:52:00",
          "HADM_ID": 107224,
          "admittime": "2135-10-05T13:05:00",
          "dischtime": "2135-10-09T12:52:00",
          "los": 3
         },
         {
          "ADMITTIME": "2140-08-07 00:33:00",
          "DISCHTIME": "2140-08-19 17:00:00",
          "HADM_ID": 119446,
          "admittime": "2140-08-07T00:33:00",
          "dischtime": "2140-08-19T17:00:00",
          "los": 12
         },
         {
          "ADMITTIME": "2140-09-29 12:55:00",
          "DISCHTIME": "2140-10-07 13:37:00",
          "HADM_ID": 119686,
          "admittime": "2140-09-29T12:55:00",
          "dischtime": "2140-10-07T13:37:00",
          "los": 8
         },
         {
          "ADMITTIME": "2156-08-25 11:42:00",
          "DISCHTIME": "2156-08-27 12:00:00",
          "HADM_ID": 175965,
          "admittime": "2156-08-25T11:42:00",
          "dischtime": "2156-08-27T12:00:00",
          "los": 2
         },
         {
          "ADMITTIME": "2183-07-31 19:28:00",
          "DISCHTIME": "2183-08-03 15:15:00",
          "HADM_ID": 158204,
          "admittime": "2183-07-31T19:28:00",
          "dischtime": "2183-08-03T15:15:00",
          "los": 2
         },
         {
          "ADMITTIME": "2143-07-01 07:15:00",
          "DISCHTIME": "2143-07-06 13:30:00",
          "HADM_ID": 166453,
          "admittime": "2143-07-01T07:15:00",
          "dischtime": "2143-07-06T13:30:00",
          "los": 5
         },
         {
          "ADMITTIME": "2131-05-16 18:32:00",
          "DISCHTIME": "2131-05-30 14:30:00",
          "HADM_ID": 105643,
          "admittime": "2131-05-16T18:32:00",
          "dischtime": "2131-05-30T14:30:00",
          "los": 13
         },
         {
          "ADMITTIME": "2136-06-06 00:45:00",
          "DISCHTIME": "2136-06-11 16:33:00",
          "HADM_ID": 155816,
          "admittime": "2136-06-06T00:45:00",
          "dischtime": "2136-06-11T16:33:00",
          "los": 5
         },
         {
          "ADMITTIME": "2137-10-07 17:09:00",
          "DISCHTIME": "2137-10-31 14:30:00",
          "HADM_ID": 102365,
          "admittime": "2137-10-07T17:09:00",
          "dischtime": "2137-10-31T14:30:00",
          "los": 23
         },
         {
          "ADMITTIME": "2137-11-24 22:38:00",
          "DISCHTIME": "2137-12-03 16:14:00",
          "HADM_ID": 192358,
          "admittime": "2137-11-24T22:38:00",
          "dischtime": "2137-12-03T16:14:00",
          "los": 8
         },
         {
          "ADMITTIME": "2171-09-27 13:55:00",
          "DISCHTIME": "2171-10-01 17:00:00",
          "HADM_ID": 135921,
          "admittime": "2171-09-27T13:55:00",
          "dischtime": "2171-10-01T17:00:00",
          "los": 4
         },
         {
          "ADMITTIME": "2114-11-27 18:53:00",
          "DISCHTIME": "2114-11-28 09:57:00",
          "HADM_ID": 102095,
          "admittime": "2114-11-27T18:53:00",
          "dischtime": "2114-11-28T09:57:00",
          "los": 0
         },
         {
          "ADMITTIME": "2133-05-27 19:08:00",
          "DISCHTIME": "2133-06-03 18:39:00",
          "HADM_ID": 163612,
          "admittime": "2133-05-27T19:08:00",
          "dischtime": "2133-06-03T18:39:00",
          "los": 6
         },
         {
          "ADMITTIME": "2130-09-14 17:16:00",
          "DISCHTIME": "2130-09-19 15:00:00",
          "HADM_ID": 128471,
          "admittime": "2130-09-14T17:16:00",
          "dischtime": "2130-09-19T15:00:00",
          "los": 4
         },
         {
          "ADMITTIME": "2167-06-09 05:57:00",
          "DISCHTIME": "2167-06-17 16:27:00",
          "HADM_ID": 165931,
          "admittime": "2167-06-09T05:57:00",
          "dischtime": "2167-06-17T16:27:00",
          "los": 8
         },
         {
          "ADMITTIME": "2160-07-24 07:15:00",
          "DISCHTIME": "2160-07-30 15:00:00",
          "HADM_ID": 149699,
          "admittime": "2160-07-24T07:15:00",
          "dischtime": "2160-07-30T15:00:00",
          "los": 6
         },
         {
          "ADMITTIME": "2161-10-10 20:40:00",
          "DISCHTIME": "2161-10-12 16:20:00",
          "HADM_ID": 146961,
          "admittime": "2161-10-10T20:40:00",
          "dischtime": "2161-10-12T16:20:00",
          "los": 1
         },
         {
          "ADMITTIME": "2162-12-05 18:29:00",
          "DISCHTIME": "2162-12-08 17:30:00",
          "HADM_ID": 197189,
          "admittime": "2162-12-05T18:29:00",
          "dischtime": "2162-12-08T17:30:00",
          "los": 2
         },
         {
          "ADMITTIME": "2139-03-08 10:47:00",
          "DISCHTIME": "2139-03-09 17:05:00",
          "HADM_ID": 130937,
          "admittime": "2139-03-08T10:47:00",
          "dischtime": "2139-03-09T17:05:00",
          "los": 1
         },
         {
          "ADMITTIME": "2176-06-08 17:22:00",
          "DISCHTIME": "2176-06-12 15:00:00",
          "HADM_ID": 166988,
          "admittime": "2176-06-08T17:22:00",
          "dischtime": "2176-06-12T15:00:00",
          "los": 3
         },
         {
          "ADMITTIME": "2144-08-12 08:00:00",
          "DISCHTIME": "2144-08-21 17:42:00",
          "HADM_ID": 182214,
          "admittime": "2144-08-12T08:00:00",
          "dischtime": "2144-08-21T17:42:00",
          "los": 9
         },
         {
          "ADMITTIME": "2124-05-11 18:57:00",
          "DISCHTIME": "2124-05-22 12:45:00",
          "HADM_ID": 112992,
          "admittime": "2124-05-11T18:57:00",
          "dischtime": "2124-05-22T12:45:00",
          "los": 10
         },
         {
          "ADMITTIME": "2177-12-18 15:27:00",
          "DISCHTIME": "2178-01-05 19:40:00",
          "HADM_ID": 171089,
          "admittime": "2177-12-18T15:27:00",
          "dischtime": "2178-01-05T19:40:00",
          "los": 18
         },
         {
          "ADMITTIME": "2180-12-06 23:04:00",
          "DISCHTIME": "2180-12-22 17:35:00",
          "HADM_ID": 195962,
          "admittime": "2180-12-06T23:04:00",
          "dischtime": "2180-12-22T17:35:00",
          "los": 15
         },
         {
          "ADMITTIME": "2111-11-07 02:40:00",
          "DISCHTIME": "2111-11-10 12:48:00",
          "HADM_ID": 191029,
          "admittime": "2111-11-07T02:40:00",
          "dischtime": "2111-11-10T12:48:00",
          "los": 3
         },
         {
          "ADMITTIME": "2158-11-09 21:36:00",
          "DISCHTIME": "2158-11-16 16:03:00",
          "HADM_ID": 147152,
          "admittime": "2158-11-09T21:36:00",
          "dischtime": "2158-11-16T16:03:00",
          "los": 6
         },
         {
          "ADMITTIME": "2197-10-16 07:15:00",
          "DISCHTIME": "2197-10-19 12:02:00",
          "HADM_ID": 119911,
          "admittime": "2197-10-16T07:15:00",
          "dischtime": "2197-10-19T12:02:00",
          "los": 3
         },
         {
          "ADMITTIME": "2108-10-26 16:20:00",
          "DISCHTIME": "2108-10-29 16:35:00",
          "HADM_ID": 112487,
          "admittime": "2108-10-26T16:20:00",
          "dischtime": "2108-10-29T16:35:00",
          "los": 3
         },
         {
          "ADMITTIME": "2108-11-05 21:21:00",
          "DISCHTIME": "2108-11-30 14:16:00",
          "HADM_ID": 157870,
          "admittime": "2108-11-05T21:21:00",
          "dischtime": "2108-11-30T14:16:00",
          "los": 24
         },
         {
          "ADMITTIME": "2198-03-14 13:39:00",
          "DISCHTIME": "2198-03-27 17:30:00",
          "HADM_ID": 151854,
          "admittime": "2198-03-14T13:39:00",
          "dischtime": "2198-03-27T17:30:00",
          "los": 13
         },
         {
          "ADMITTIME": "2151-07-09 12:35:00",
          "DISCHTIME": "2151-08-02 14:20:00",
          "HADM_ID": 130347,
          "admittime": "2151-07-09T12:35:00",
          "dischtime": "2151-08-02T14:20:00",
          "los": 24
         },
         {
          "ADMITTIME": "2199-12-03 03:16:00",
          "DISCHTIME": "2199-12-12 14:00:00",
          "HADM_ID": 141600,
          "admittime": "2199-12-03T03:16:00",
          "dischtime": "2199-12-12T14:00:00",
          "los": 9
         },
         {
          "ADMITTIME": "2102-02-04 00:36:00",
          "DISCHTIME": "2102-02-06 12:45:00",
          "HADM_ID": 169725,
          "admittime": "2102-02-04T00:36:00",
          "dischtime": "2102-02-06T12:45:00",
          "los": 2
         },
         {
          "ADMITTIME": "2148-03-16 01:09:00",
          "DISCHTIME": "2148-03-22 20:30:00",
          "HADM_ID": 106767,
          "admittime": "2148-03-16T01:09:00",
          "dischtime": "2148-03-22T20:30:00",
          "los": 6
         },
         {
          "ADMITTIME": "2148-11-16 19:40:00",
          "DISCHTIME": "2149-01-03 14:00:00",
          "HADM_ID": 188576,
          "admittime": "2148-11-16T19:40:00",
          "dischtime": "2149-01-03T14:00:00",
          "los": 47
         },
         {
          "ADMITTIME": "2129-10-18 08:45:00",
          "DISCHTIME": "2129-10-22 11:23:00",
          "HADM_ID": 108257,
          "admittime": "2129-10-18T08:45:00",
          "dischtime": "2129-10-22T11:23:00",
          "los": 4
         },
         {
          "ADMITTIME": "2195-02-10 01:59:00",
          "DISCHTIME": "2195-02-13 14:20:00",
          "HADM_ID": 107952,
          "admittime": "2195-02-10T01:59:00",
          "dischtime": "2195-02-13T14:20:00",
          "los": 3
         },
         {
          "ADMITTIME": "2165-04-18 17:16:00",
          "DISCHTIME": "2165-04-23 19:30:00",
          "HADM_ID": 137798,
          "admittime": "2165-04-18T17:16:00",
          "dischtime": "2165-04-23T19:30:00",
          "los": 5
         },
         {
          "ADMITTIME": "2171-12-21 18:38:00",
          "DISCHTIME": "2172-01-10 13:50:00",
          "HADM_ID": 143497,
          "admittime": "2171-12-21T18:38:00",
          "dischtime": "2172-01-10T13:50:00",
          "los": 19
         },
         {
          "ADMITTIME": "2131-11-16 13:54:00",
          "DISCHTIME": "2131-11-26 16:30:00",
          "HADM_ID": 191096,
          "admittime": "2131-11-16T13:54:00",
          "dischtime": "2131-11-26T16:30:00",
          "los": 10
         },
         {
          "ADMITTIME": "2109-08-11 23:47:00",
          "DISCHTIME": "2109-08-13 08:00:00",
          "HADM_ID": 115746,
          "admittime": "2109-08-11T23:47:00",
          "dischtime": "2109-08-13T08:00:00",
          "los": 1
         },
         {
          "ADMITTIME": "2109-09-25 21:18:00",
          "DISCHTIME": "2109-10-09 11:30:00",
          "HADM_ID": 109919,
          "admittime": "2109-09-25T21:18:00",
          "dischtime": "2109-10-09T11:30:00",
          "los": 13
         },
         {
          "ADMITTIME": "2110-05-06 14:41:00",
          "DISCHTIME": "2110-05-09 16:30:00",
          "HADM_ID": 109069,
          "admittime": "2110-05-06T14:41:00",
          "dischtime": "2110-05-09T16:30:00",
          "los": 3
         },
         {
          "ADMITTIME": "2114-04-10 05:26:00",
          "DISCHTIME": "2114-04-17 14:00:00",
          "HADM_ID": 158591,
          "admittime": "2114-04-10T05:26:00",
          "dischtime": "2114-04-17T14:00:00",
          "los": 7
         },
         {
          "ADMITTIME": "2153-08-24 16:56:00",
          "DISCHTIME": "2153-09-06 15:40:00",
          "HADM_ID": 150569,
          "admittime": "2153-08-24T16:56:00",
          "dischtime": "2153-09-06T15:40:00",
          "los": 12
         },
         {
          "ADMITTIME": "2171-04-02 22:49:00",
          "DISCHTIME": "2171-04-16 07:49:00",
          "HADM_ID": 113399,
          "admittime": "2171-04-02T22:49:00",
          "dischtime": "2171-04-16T07:49:00",
          "los": 13
         },
         {
          "ADMITTIME": "2155-08-12 15:38:00",
          "DISCHTIME": "2155-10-18 12:14:00",
          "HADM_ID": 149649,
          "admittime": "2155-08-12T15:38:00",
          "dischtime": "2155-10-18T12:14:00",
          "los": 66
         },
         {
          "ADMITTIME": "2163-10-01 22:51:00",
          "DISCHTIME": "2163-10-02 15:53:00",
          "HADM_ID": 133125,
          "admittime": "2163-10-01T22:51:00",
          "dischtime": "2163-10-02T15:53:00",
          "los": 0
         },
         {
          "ADMITTIME": "2125-11-06 21:00:00",
          "DISCHTIME": "2125-11-08 12:00:00",
          "HADM_ID": 134650,
          "admittime": "2125-11-06T21:00:00",
          "dischtime": "2125-11-08T12:00:00",
          "los": 1
         },
         {
          "ADMITTIME": "2194-10-23 20:28:00",
          "DISCHTIME": "2194-10-31 14:25:00",
          "HADM_ID": 112514,
          "admittime": "2194-10-23T20:28:00",
          "dischtime": "2194-10-31T14:25:00",
          "los": 7
         },
         {
          "ADMITTIME": "2109-08-26 00:45:00",
          "DISCHTIME": "2109-08-26 16:45:00",
          "HADM_ID": 142421,
          "admittime": "2109-08-26T00:45:00",
          "dischtime": "2109-08-26T16:45:00",
          "los": 0
         },
         {
          "ADMITTIME": "2184-07-15 22:19:00",
          "DISCHTIME": "2184-07-18 13:45:00",
          "HADM_ID": 141956,
          "admittime": "2184-07-15T22:19:00",
          "dischtime": "2184-07-18T13:45:00",
          "los": 2
         },
         {
          "ADMITTIME": "2152-12-13 04:20:00",
          "DISCHTIME": "2152-12-13 14:00:00",
          "HADM_ID": 181690,
          "admittime": "2152-12-13T04:20:00",
          "dischtime": "2152-12-13T14:00:00",
          "los": 0
         },
         {
          "ADMITTIME": "2109-08-31 01:16:00",
          "DISCHTIME": "2109-09-03 13:33:00",
          "HADM_ID": 138570,
          "admittime": "2109-08-31T01:16:00",
          "dischtime": "2109-09-03T13:33:00",
          "los": 3
         },
         {
          "ADMITTIME": "2177-12-16 22:45:00",
          "DISCHTIME": "2178-01-14 14:20:00",
          "HADM_ID": 182443,
          "admittime": "2177-12-16T22:45:00",
          "dischtime": "2178-01-14T14:20:00",
          "los": 28
         },
         {
          "ADMITTIME": "2178-02-26 12:14:00",
          "DISCHTIME": "2178-03-13 15:30:00",
          "HADM_ID": 124723,
          "admittime": "2178-02-26T12:14:00",
          "dischtime": "2178-03-13T15:30:00",
          "los": 15
         },
         {
          "ADMITTIME": "2178-04-01 15:56:00",
          "DISCHTIME": "2178-06-04 21:17:00",
          "HADM_ID": 168503,
          "admittime": "2178-04-01T15:56:00",
          "dischtime": "2178-06-04T21:17:00",
          "los": 64
         },
         {
          "ADMITTIME": "2132-08-14 22:13:00",
          "DISCHTIME": "2132-08-28 18:21:00",
          "HADM_ID": 160079,
          "admittime": "2132-08-14T22:13:00",
          "dischtime": "2132-08-28T18:21:00",
          "los": 13
         },
         {
          "ADMITTIME": "2104-09-12 22:58:00",
          "DISCHTIME": "2104-10-28 13:20:00",
          "HADM_ID": 193174,
          "admittime": "2104-09-12T22:58:00",
          "dischtime": "2104-10-28T13:20:00",
          "los": 45
         },
         {
          "ADMITTIME": "2166-02-11 11:53:00",
          "DISCHTIME": "2166-02-15 11:23:00",
          "HADM_ID": 119336,
          "admittime": "2166-02-11T11:53:00",
          "dischtime": "2166-02-15T11:23:00",
          "los": 3
         },
         {
          "ADMITTIME": "2118-02-07 07:15:00",
          "DISCHTIME": "2118-02-12 10:00:00",
          "HADM_ID": 175649,
          "admittime": "2118-02-07T07:15:00",
          "dischtime": "2118-02-12T10:00:00",
          "los": 5
         },
         {
          "ADMITTIME": "2172-09-24 18:42:00",
          "DISCHTIME": "2172-09-30 13:57:00",
          "HADM_ID": 129169,
          "admittime": "2172-09-24T18:42:00",
          "dischtime": "2172-09-30T13:57:00",
          "los": 5
         },
         {
          "ADMITTIME": "2102-09-10 01:18:00",
          "DISCHTIME": "2102-09-12 14:07:00",
          "HADM_ID": 161620,
          "admittime": "2102-09-10T01:18:00",
          "dischtime": "2102-09-12T14:07:00",
          "los": 2
         },
         {
          "ADMITTIME": "2161-12-28 03:04:00",
          "DISCHTIME": "2162-01-04 11:23:00",
          "HADM_ID": 122566,
          "admittime": "2161-12-28T03:04:00",
          "dischtime": "2162-01-04T11:23:00",
          "los": 7
         },
         {
          "ADMITTIME": "2140-01-28 23:51:00",
          "DISCHTIME": "2140-02-14 12:47:00",
          "HADM_ID": 121120,
          "admittime": "2140-01-28T23:51:00",
          "dischtime": "2140-02-14T12:47:00",
          "los": 16
         },
         {
          "ADMITTIME": "2137-01-29 18:17:00",
          "DISCHTIME": "2137-02-07 13:10:00",
          "HADM_ID": 151107,
          "admittime": "2137-01-29T18:17:00",
          "dischtime": "2137-02-07T13:10:00",
          "los": 8
         },
         {
          "ADMITTIME": "2137-07-19 07:15:00",
          "DISCHTIME": "2137-07-25 18:05:00",
          "HADM_ID": 190712,
          "admittime": "2137-07-19T07:15:00",
          "dischtime": "2137-07-25T18:05:00",
          "los": 6
         },
         {
          "ADMITTIME": "2126-12-07 19:14:00",
          "DISCHTIME": "2127-01-18 10:53:00",
          "HADM_ID": 111034,
          "admittime": "2126-12-07T19:14:00",
          "dischtime": "2127-01-18T10:53:00",
          "los": 41
         },
         {
          "ADMITTIME": "2127-01-23 19:02:00",
          "DISCHTIME": "2127-02-19 13:11:00",
          "HADM_ID": 150035,
          "admittime": "2127-01-23T19:02:00",
          "dischtime": "2127-02-19T13:11:00",
          "los": 26
         },
         {
          "ADMITTIME": "2139-02-16 07:15:00",
          "DISCHTIME": "2139-02-24 11:25:00",
          "HADM_ID": 154191,
          "admittime": "2139-02-16T07:15:00",
          "dischtime": "2139-02-24T11:25:00",
          "los": 8
         },
         {
          "ADMITTIME": "2185-05-06 21:24:00",
          "DISCHTIME": "2185-05-09 12:52:00",
          "HADM_ID": 136352,
          "admittime": "2185-05-06T21:24:00",
          "dischtime": "2185-05-09T12:52:00",
          "los": 2
         },
         {
          "ADMITTIME": "2107-01-25 07:15:00",
          "DISCHTIME": "2107-01-29 15:45:00",
          "HADM_ID": 116557,
          "admittime": "2107-01-25T07:15:00",
          "dischtime": "2107-01-29T15:45:00",
          "los": 4
         },
         {
          "ADMITTIME": "2122-04-25 00:07:00",
          "DISCHTIME": "2122-04-28 15:41:00",
          "HADM_ID": 110621,
          "admittime": "2122-04-25T00:07:00",
          "dischtime": "2122-04-28T15:41:00",
          "los": 3
         },
         {
          "ADMITTIME": "2112-04-05 07:15:00",
          "DISCHTIME": "2112-04-12 11:32:00",
          "HADM_ID": 180435,
          "admittime": "2112-04-05T07:15:00",
          "dischtime": "2112-04-12T11:32:00",
          "los": 7
         },
         {
          "ADMITTIME": "2104-07-18 04:34:00",
          "DISCHTIME": "2104-08-06 11:18:00",
          "HADM_ID": 134945,
          "admittime": "2104-07-18T04:34:00",
          "dischtime": "2104-08-06T11:18:00",
          "los": 19
         },
         {
          "ADMITTIME": "2174-11-01 18:45:00",
          "DISCHTIME": "2174-11-05 00:40:00",
          "HADM_ID": 141560,
          "admittime": "2174-11-01T18:45:00",
          "dischtime": "2174-11-05T00:40:00",
          "los": 3
         },
         {
          "ADMITTIME": "2123-02-16 16:24:00",
          "DISCHTIME": "2123-02-22 15:12:00",
          "HADM_ID": 114330,
          "admittime": "2123-02-16T16:24:00",
          "dischtime": "2123-02-22T15:12:00",
          "los": 5
         },
         {
          "ADMITTIME": "2161-08-01 03:20:00",
          "DISCHTIME": "2161-08-03 12:37:00",
          "HADM_ID": 112004,
          "admittime": "2161-08-01T03:20:00",
          "dischtime": "2161-08-03T12:37:00",
          "los": 2
         },
         {
          "ADMITTIME": "2185-10-28 13:02:00",
          "DISCHTIME": "2185-11-16 15:09:00",
          "HADM_ID": 132801,
          "admittime": "2185-10-28T13:02:00",
          "dischtime": "2185-11-16T15:09:00",
          "los": 19
         },
         {
          "ADMITTIME": "2197-09-11 17:28:00",
          "DISCHTIME": "2197-09-15 09:30:00",
          "HADM_ID": 188022,
          "admittime": "2197-09-11T17:28:00",
          "dischtime": "2197-09-15T09:30:00",
          "los": 3
         },
         {
          "ADMITTIME": "2163-01-20 18:39:00",
          "DISCHTIME": "2163-01-24 08:00:00",
          "HADM_ID": 148592,
          "admittime": "2163-01-20T18:39:00",
          "dischtime": "2163-01-24T08:00:00",
          "los": 3
         },
         {
          "ADMITTIME": "2163-01-24 09:29:00",
          "DISCHTIME": "2163-01-26 03:45:00",
          "HADM_ID": 177274,
          "admittime": "2163-01-24T09:29:00",
          "dischtime": "2163-01-26T03:45:00",
          "los": 1
         },
         {
          "ADMITTIME": "2193-06-19 19:40:00",
          "DISCHTIME": "2193-06-27 13:52:00",
          "HADM_ID": 130960,
          "admittime": "2193-06-19T19:40:00",
          "dischtime": "2193-06-27T13:52:00",
          "los": 7
         },
         {
          "ADMITTIME": "2158-04-05 08:54:00",
          "DISCHTIME": "2158-04-09 13:34:00",
          "HADM_ID": 107521,
          "admittime": "2158-04-05T08:54:00",
          "dischtime": "2158-04-09T13:34:00",
          "los": 4
         },
         {
          "ADMITTIME": "2124-10-19 00:46:00",
          "DISCHTIME": "2124-10-20 21:45:00",
          "HADM_ID": 154607,
          "admittime": "2124-10-19T00:46:00",
          "dischtime": "2124-10-20T21:45:00",
          "los": 1
         },
         {
          "ADMITTIME": "2195-08-12 15:36:00",
          "DISCHTIME": "2195-09-14 10:50:00",
          "HADM_ID": 100044,
          "admittime": "2195-08-12T15:36:00",
          "dischtime": "2195-09-14T10:50:00",
          "los": 32
         },
         {
          "ADMITTIME": "2154-09-15 12:00:00",
          "DISCHTIME": "2154-10-01 17:30:00",
          "HADM_ID": 197703,
          "admittime": "2154-09-15T12:00:00",
          "dischtime": "2154-10-01T17:30:00",
          "los": 16
         },
         {
          "ADMITTIME": "2141-10-19 14:58:00",
          "DISCHTIME": "2141-10-24 11:30:00",
          "HADM_ID": 156345,
          "admittime": "2141-10-19T14:58:00",
          "dischtime": "2141-10-24T11:30:00",
          "los": 4
         },
         {
          "ADMITTIME": "2145-03-12 01:54:00",
          "DISCHTIME": "2145-03-19 07:00:00",
          "HADM_ID": 110573,
          "admittime": "2145-03-12T01:54:00",
          "dischtime": "2145-03-19T07:00:00",
          "los": 7
         },
         {
          "ADMITTIME": "2136-07-14 05:45:00",
          "DISCHTIME": "2136-07-17 14:45:00",
          "HADM_ID": 100143,
          "admittime": "2136-07-14T05:45:00",
          "dischtime": "2136-07-17T14:45:00",
          "los": 3
         },
         {
          "ADMITTIME": "2145-02-09 20:27:00",
          "DISCHTIME": "2145-02-11 09:46:00",
          "HADM_ID": 192229,
          "admittime": "2145-02-09T20:27:00",
          "dischtime": "2145-02-11T09:46:00",
          "los": 1
         },
         {
          "ADMITTIME": "2118-08-19 11:19:00",
          "DISCHTIME": "2118-09-03 14:40:00",
          "HADM_ID": 188382,
          "admittime": "2118-08-19T11:19:00",
          "dischtime": "2118-09-03T14:40:00",
          "los": 15
         },
         {
          "ADMITTIME": "2126-08-03 04:48:00",
          "DISCHTIME": "2126-08-29 18:40:00",
          "HADM_ID": 103870,
          "admittime": "2126-08-03T04:48:00",
          "dischtime": "2126-08-29T18:40:00",
          "los": 26
         },
         {
          "ADMITTIME": "2163-05-31 02:59:00",
          "DISCHTIME": "2163-06-05 12:30:00",
          "HADM_ID": 102509,
          "admittime": "2163-05-31T02:59:00",
          "dischtime": "2163-06-05T12:30:00",
          "los": 5
         },
         {
          "ADMITTIME": "2186-12-15 20:40:00",
          "DISCHTIME": "2186-12-25 13:00:00",
          "HADM_ID": 103472,
          "admittime": "2186-12-15T20:40:00",
          "dischtime": "2186-12-25T13:00:00",
          "los": 9
         },
         {
          "ADMITTIME": "2135-02-27 11:22:00",
          "DISCHTIME": "2135-03-02 19:15:00",
          "HADM_ID": 113635,
          "admittime": "2135-02-27T11:22:00",
          "dischtime": "2135-03-02T19:15:00",
          "los": 3
         },
         {
          "ADMITTIME": "2162-06-12 16:28:00",
          "DISCHTIME": "2162-07-05 14:20:00",
          "HADM_ID": 184373,
          "admittime": "2162-06-12T16:28:00",
          "dischtime": "2162-07-05T14:20:00",
          "los": 22
         },
         {
          "ADMITTIME": "2197-07-31 20:18:00",
          "DISCHTIME": "2197-07-31 01:10:00",
          "HADM_ID": 187482,
          "admittime": "2197-07-31T20:18:00",
          "dischtime": "2197-07-31T01:10:00",
          "los": 0
         },
         {
          "ADMITTIME": "2158-09-09 15:48:00",
          "DISCHTIME": "2159-01-04 20:09:00",
          "HADM_ID": 155972,
          "admittime": "2158-09-09T15:48:00",
          "dischtime": "2159-01-04T20:09:00",
          "los": 117
         },
         {
          "ADMITTIME": "2109-03-26 16:14:00",
          "DISCHTIME": "2109-03-29 18:30:00",
          "HADM_ID": 120954,
          "admittime": "2109-03-26T16:14:00",
          "dischtime": "2109-03-29T18:30:00",
          "los": 3
         },
         {
          "ADMITTIME": "2109-04-12 07:02:00",
          "DISCHTIME": "2109-04-15 17:30:00",
          "HADM_ID": 106955,
          "admittime": "2109-04-12T07:02:00",
          "dischtime": "2109-04-15T17:30:00",
          "los": 3
         },
         {
          "ADMITTIME": "2109-06-11 15:22:00",
          "DISCHTIME": "2109-06-16 11:30:00",
          "HADM_ID": 141787,
          "admittime": "2109-06-11T15:22:00",
          "dischtime": "2109-06-16T11:30:00",
          "los": 4
         },
         {
          "ADMITTIME": "2109-06-27 04:45:00",
          "DISCHTIME": "2109-06-29 17:00:00",
          "HADM_ID": 143946,
          "admittime": "2109-06-27T04:45:00",
          "dischtime": "2109-06-29T17:00:00",
          "los": 2
         },
         {
          "ADMITTIME": "2109-07-07 07:49:00",
          "DISCHTIME": "2109-07-09 12:16:00",
          "HADM_ID": 153168,
          "admittime": "2109-07-07T07:49:00",
          "dischtime": "2109-07-09T12:16:00",
          "los": 2
         },
         {
          "ADMITTIME": "2109-07-17 04:21:00",
          "DISCHTIME": "2109-07-22 20:17:00",
          "HADM_ID": 107636,
          "admittime": "2109-07-17T04:21:00",
          "dischtime": "2109-07-22T20:17:00",
          "los": 5
         },
         {
          "ADMITTIME": "2109-12-29 14:06:00",
          "DISCHTIME": "2110-01-01 17:45:00",
          "HADM_ID": 115629,
          "admittime": "2109-12-29T14:06:00",
          "dischtime": "2110-01-01T17:45:00",
          "los": 3
         },
         {
          "ADMITTIME": "2111-07-06 14:36:00",
          "DISCHTIME": "2111-07-14 19:30:00",
          "HADM_ID": 185375,
          "admittime": "2111-07-06T14:36:00",
          "dischtime": "2111-07-14T19:30:00",
          "los": 8
         },
         {
          "ADMITTIME": "2111-09-21 16:00:00",
          "DISCHTIME": "2111-09-28 16:30:00",
          "HADM_ID": 161635,
          "admittime": "2111-09-21T16:00:00",
          "dischtime": "2111-09-28T16:30:00",
          "los": 7
         },
         {
          "ADMITTIME": "2114-04-10 19:41:00",
          "DISCHTIME": "2114-04-12 17:29:00",
          "HADM_ID": 100956,
          "admittime": "2114-04-10T19:41:00",
          "dischtime": "2114-04-12T17:29:00",
          "los": 1
         },
         {
          "ADMITTIME": "2121-05-20 23:19:00",
          "DISCHTIME": "2121-05-23 14:40:00",
          "HADM_ID": 113820,
          "admittime": "2121-05-20T23:19:00",
          "dischtime": "2121-05-23T14:40:00",
          "los": 2
         },
         {
          "ADMITTIME": "2130-08-26 22:43:00",
          "DISCHTIME": "2130-09-01 15:21:00",
          "HADM_ID": 114051,
          "admittime": "2130-08-26T22:43:00",
          "dischtime": "2130-09-01T15:21:00",
          "los": 5
         },
         {
          "ADMITTIME": "2167-04-08 17:12:00",
          "DISCHTIME": "2167-06-23 18:49:00",
          "HADM_ID": 176515,
          "admittime": "2167-04-08T17:12:00",
          "dischtime": "2167-06-23T18:49:00",
          "los": 76
         },
         {
          "ADMITTIME": "2137-06-20 03:28:00",
          "DISCHTIME": "2137-06-25 14:24:00",
          "HADM_ID": 176664,
          "admittime": "2137-06-20T03:28:00",
          "dischtime": "2137-06-25T14:24:00",
          "los": 5
         },
         {
          "ADMITTIME": "2141-12-19 19:59:00",
          "DISCHTIME": "2141-12-26 16:39:00",
          "HADM_ID": 196271,
          "admittime": "2141-12-19T19:59:00",
          "dischtime": "2141-12-26T16:39:00",
          "los": 6
         },
         {
          "ADMITTIME": "2126-09-24 22:10:00",
          "DISCHTIME": "2126-09-27 13:00:00",
          "HADM_ID": 191580,
          "admittime": "2126-09-24T22:10:00",
          "dischtime": "2126-09-27T13:00:00",
          "los": 2
         },
         {
          "ADMITTIME": "2125-10-10 20:36:00",
          "DISCHTIME": "2125-10-31 12:48:00",
          "HADM_ID": 103074,
          "admittime": "2125-10-10T20:36:00",
          "dischtime": "2125-10-31T12:48:00",
          "los": 20
         },
         {
          "ADMITTIME": "2103-09-12 09:50:00",
          "DISCHTIME": "2103-09-16 13:27:00",
          "HADM_ID": 137353,
          "admittime": "2103-09-12T09:50:00",
          "dischtime": "2103-09-16T13:27:00",
          "los": 4
         },
         {
          "ADMITTIME": "2117-01-19 21:43:00",
          "DISCHTIME": "2117-01-27 15:15:00",
          "HADM_ID": 168007,
          "admittime": "2117-01-19T21:43:00",
          "dischtime": "2117-01-27T15:15:00",
          "los": 7
         },
         {
          "ADMITTIME": "2199-10-21 16:27:00",
          "DISCHTIME": "2199-10-29 15:12:00",
          "HADM_ID": 136944,
          "admittime": "2199-10-21T16:27:00",
          "dischtime": "2199-10-29T15:12:00",
          "los": 7
         },
         {
          "ADMITTIME": "2105-02-21 12:00:00",
          "DISCHTIME": "2105-02-24 17:17:00",
          "HADM_ID": 116412,
          "admittime": "2105-02-21T12:00:00",
          "dischtime": "2105-02-24T17:17:00",
          "los": 3
         },
         {
          "ADMITTIME": "2181-01-15 10:57:00",
          "DISCHTIME": "2181-01-18 16:22:00",
          "HADM_ID": 100913,
          "admittime": "2181-01-15T10:57:00",
          "dischtime": "2181-01-18T16:22:00",
          "los": 3
         },
         {
          "ADMITTIME": "2106-10-12 19:00:00",
          "DISCHTIME": "2106-10-20 17:00:00",
          "HADM_ID": 193189,
          "admittime": "2106-10-12T19:00:00",
          "dischtime": "2106-10-20T17:00:00",
          "los": 7
         },
         {
          "ADMITTIME": "2107-08-30 21:54:00",
          "DISCHTIME": "2107-09-06 18:00:00",
          "HADM_ID": 193283,
          "admittime": "2107-08-30T21:54:00",
          "dischtime": "2107-09-06T18:00:00",
          "los": 6
         },
         {
          "ADMITTIME": "2197-11-22 23:13:00",
          "DISCHTIME": "2197-11-25 16:53:00",
          "HADM_ID": 133964,
          "admittime": "2197-11-22T23:13:00",
          "dischtime": "2197-11-25T16:53:00",
          "los": 2
         },
         {
          "ADMITTIME": "2197-11-26 16:32:00",
          "DISCHTIME": "2197-11-28 11:15:00",
          "HADM_ID": 169615,
          "admittime": "2197-11-26T16:32:00",
          "dischtime": "2197-11-28T11:15:00",
          "los": 1
         },
         {
          "ADMITTIME": "2158-11-29 14:45:00",
          "DISCHTIME": "2159-02-11 16:14:00",
          "HADM_ID": 142552,
          "admittime": "2158-11-29T14:45:00",
          "dischtime": "2159-02-11T16:14:00",
          "los": 74
         },
         {
          "ADMITTIME": "2126-03-18 22:12:00",
          "DISCHTIME": "2126-03-26 17:30:00",
          "HADM_ID": 126705,
          "admittime": "2126-03-18T22:12:00",
          "dischtime": "2126-03-26T17:30:00",
          "los": 7
         },
         {
          "ADMITTIME": "2126-08-21 00:49:00",
          "DISCHTIME": "2126-08-30 11:36:00",
          "HADM_ID": 108911,
          "admittime": "2126-08-21T00:49:00",
          "dischtime": "2126-08-30T11:36:00",
          "los": 9
         },
         {
          "ADMITTIME": "2110-05-09 02:15:00",
          "DISCHTIME": "2110-05-19 15:15:00",
          "HADM_ID": 138214,
          "admittime": "2110-05-09T02:15:00",
          "dischtime": "2110-05-19T15:15:00",
          "los": 10
         },
         {
          "ADMITTIME": "2134-04-04 07:02:00",
          "DISCHTIME": "2134-05-04 23:59:00",
          "HADM_ID": 138819,
          "admittime": "2134-04-04T07:02:00",
          "dischtime": "2134-05-04T23:59:00",
          "los": 30
         },
         {
          "ADMITTIME": "2137-02-21 02:53:00",
          "DISCHTIME": "2137-02-22 17:40:00",
          "HADM_ID": 165653,
          "admittime": "2137-02-21T02:53:00",
          "dischtime": "2137-02-22T17:40:00",
          "los": 1
         },
         {
          "ADMITTIME": "2137-03-13 03:46:00",
          "DISCHTIME": "2137-03-20 16:20:00",
          "HADM_ID": 194220,
          "admittime": "2137-03-13T03:46:00",
          "dischtime": "2137-03-20T16:20:00",
          "los": 7
         },
         {
          "ADMITTIME": "2138-02-13 23:43:00",
          "DISCHTIME": "2138-02-17 02:30:00",
          "HADM_ID": 195290,
          "admittime": "2138-02-13T23:43:00",
          "dischtime": "2138-02-17T02:30:00",
          "los": 3
         },
         {
          "ADMITTIME": "2138-08-25 22:43:00",
          "DISCHTIME": "2138-08-29 14:38:00",
          "HADM_ID": 117324,
          "admittime": "2138-08-25T22:43:00",
          "dischtime": "2138-08-29T14:38:00",
          "los": 3
         },
         {
          "ADMITTIME": "2143-05-18 20:58:00",
          "DISCHTIME": "2143-05-23 11:28:00",
          "HADM_ID": 152907,
          "admittime": "2143-05-18T20:58:00",
          "dischtime": "2143-05-23T11:28:00",
          "los": 4
         },
         {
          "ADMITTIME": "2129-05-30 18:59:00",
          "DISCHTIME": "2129-06-07 14:30:00",
          "HADM_ID": 193132,
          "admittime": "2129-05-30T18:59:00",
          "dischtime": "2129-06-07T14:30:00",
          "los": 7
         },
         {
          "ADMITTIME": "2114-10-21 14:38:00",
          "DISCHTIME": "2114-10-25 18:16:00",
          "HADM_ID": 167135,
          "admittime": "2114-10-21T14:38:00",
          "dischtime": "2114-10-25T18:16:00",
          "los": 4
         },
         {
          "ADMITTIME": "2142-11-10 17:17:00",
          "DISCHTIME": "2142-12-05 14:02:00",
          "HADM_ID": 123154,
          "admittime": "2142-11-10T17:17:00",
          "dischtime": "2142-12-05T14:02:00",
          "los": 24
         },
         {
          "ADMITTIME": "2142-11-22 04:38:00",
          "DISCHTIME": "2142-11-28 11:17:00",
          "HADM_ID": 186075,
          "admittime": "2142-11-22T04:38:00",
          "dischtime": "2142-11-28T11:17:00",
          "los": 6
         },
         {
          "ADMITTIME": "2100-10-26 18:18:00",
          "DISCHTIME": "2100-12-01 19:00:00",
          "HADM_ID": 150352,
          "admittime": "2100-10-26T18:18:00",
          "dischtime": "2100-12-01T19:00:00",
          "los": 36
         },
         {
          "ADMITTIME": "2200-01-07 23:09:00",
          "DISCHTIME": "2200-01-28 18:05:00",
          "HADM_ID": 170452,
          "admittime": "2200-01-07T23:09:00",
          "dischtime": "2200-01-28T18:05:00",
          "los": 20
         },
         {
          "ADMITTIME": "2164-07-05 20:17:00",
          "DISCHTIME": "2164-07-11 15:45:00",
          "HADM_ID": 175721,
          "admittime": "2164-07-05T20:17:00",
          "dischtime": "2164-07-11T15:45:00",
          "los": 5
         },
         {
          "ADMITTIME": "2124-11-02 08:56:00",
          "DISCHTIME": "2124-11-15 18:29:00",
          "HADM_ID": 172260,
          "admittime": "2124-11-02T08:56:00",
          "dischtime": "2124-11-15T18:29:00",
          "los": 13
         },
         {
          "ADMITTIME": "2161-12-01 14:25:00",
          "DISCHTIME": "2161-12-21 15:00:00",
          "HADM_ID": 154785,
          "admittime": "2161-12-01T14:25:00",
          "dischtime": "2161-12-21T15:00:00",
          "los": 20
         },
         {
          "ADMITTIME": "2121-08-07 12:26:00",
          "DISCHTIME": "2121-08-14 18:45:00",
          "HADM_ID": 180029,
          "admittime": "2121-08-07T12:26:00",
          "dischtime": "2121-08-14T18:45:00",
          "los": 7
         },
         {
          "ADMITTIME": "2102-06-23 21:01:00",
          "DISCHTIME": "2102-06-25 07:19:00",
          "HADM_ID": 132048,
          "admittime": "2102-06-23T21:01:00",
          "dischtime": "2102-06-25T07:19:00",
          "los": 1
         },
         {
          "ADMITTIME": "2178-04-13 18:14:00",
          "DISCHTIME": "2178-05-02 11:00:00",
          "HADM_ID": 114388,
          "admittime": "2178-04-13T18:14:00",
          "dischtime": "2178-05-02T11:00:00",
          "los": 18
         },
         {
          "ADMITTIME": "2165-12-08 08:28:00",
          "DISCHTIME": "2165-12-18 13:45:00",
          "HADM_ID": 127386,
          "admittime": "2165-12-08T08:28:00",
          "dischtime": "2165-12-18T13:45:00",
          "los": 10
         },
         {
          "ADMITTIME": "2158-04-27 20:43:00",
          "DISCHTIME": "2158-05-05 10:49:00",
          "HADM_ID": 123769,
          "admittime": "2158-04-27T20:43:00",
          "dischtime": "2158-05-05T10:49:00",
          "los": 7
         },
         {
          "ADMITTIME": "2119-11-28 18:47:00",
          "DISCHTIME": "2119-12-03 13:45:00",
          "HADM_ID": 195823,
          "admittime": "2119-11-28T18:47:00",
          "dischtime": "2119-12-03T13:45:00",
          "los": 4
         },
         {
          "ADMITTIME": "2121-02-27 19:22:00",
          "DISCHTIME": "2121-03-03 14:20:00",
          "HADM_ID": 135194,
          "admittime": "2121-02-27T19:22:00",
          "dischtime": "2121-03-03T14:20:00",
          "los": 3
         },
         {
          "ADMITTIME": "2114-11-15 20:14:00",
          "DISCHTIME": "2114-11-21 14:50:00",
          "HADM_ID": 137826,
          "admittime": "2114-11-15T20:14:00",
          "dischtime": "2114-11-21T14:50:00",
          "los": 5
         },
         {
          "ADMITTIME": "2165-11-03 16:21:00",
          "DISCHTIME": "2165-11-05 15:50:00",
          "HADM_ID": 107020,
          "admittime": "2165-11-03T16:21:00",
          "dischtime": "2165-11-05T15:50:00",
          "los": 1
         },
         {
          "ADMITTIME": "2166-01-17 16:40:00",
          "DISCHTIME": "2166-01-30 13:00:00",
          "HADM_ID": 138676,
          "admittime": "2166-01-17T16:40:00",
          "dischtime": "2166-01-30T13:00:00",
          "los": 12
         },
         {
          "ADMITTIME": "2140-08-12 07:15:00",
          "DISCHTIME": "2140-08-14 12:48:00",
          "HADM_ID": 108101,
          "admittime": "2140-08-12T07:15:00",
          "dischtime": "2140-08-14T12:48:00",
          "los": 2
         },
         {
          "ADMITTIME": "2112-09-02 08:00:00",
          "DISCHTIME": "2112-09-06 13:40:00",
          "HADM_ID": 104325,
          "admittime": "2112-09-02T08:00:00",
          "dischtime": "2112-09-06T13:40:00",
          "los": 4
         },
         {
          "ADMITTIME": "2159-02-19 10:11:00",
          "DISCHTIME": "2159-02-22 13:45:00",
          "HADM_ID": 181204,
          "admittime": "2159-02-19T10:11:00",
          "dischtime": "2159-02-22T13:45:00",
          "los": 3
         },
         {
          "ADMITTIME": "2195-04-05 13:50:00",
          "DISCHTIME": "2195-04-08 18:35:00",
          "HADM_ID": 145576,
          "admittime": "2195-04-05T13:50:00",
          "dischtime": "2195-04-08T18:35:00",
          "los": 3
         },
         {
          "ADMITTIME": "2197-11-09 12:59:00",
          "DISCHTIME": "2197-11-26 09:36:00",
          "HADM_ID": 115545,
          "admittime": "2197-11-09T12:59:00",
          "dischtime": "2197-11-26T09:36:00",
          "los": 16
         },
         {
          "ADMITTIME": "2197-12-04 02:01:00",
          "DISCHTIME": "2197-12-14 18:29:00",
          "HADM_ID": 149601,
          "admittime": "2197-12-04T02:01:00",
          "dischtime": "2197-12-14T18:29:00",
          "los": 10
         },
         {
          "ADMITTIME": "2159-04-03 11:32:00",
          "DISCHTIME": "2159-04-10 12:10:00",
          "HADM_ID": 120467,
          "admittime": "2159-04-03T11:32:00",
          "dischtime": "2159-04-10T12:10:00",
          "los": 7
         },
         {
          "ADMITTIME": "2158-12-16 23:08:00",
          "DISCHTIME": "2158-12-17 08:50:00",
          "HADM_ID": 155563,
          "admittime": "2158-12-16T23:08:00",
          "dischtime": "2158-12-17T08:50:00",
          "los": 0
         },
         {
          "ADMITTIME": "2167-02-22 20:17:00",
          "DISCHTIME": "2167-03-24 15:30:00",
          "HADM_ID": 171266,
          "admittime": "2167-02-22T20:17:00",
          "dischtime": "2167-03-24T15:30:00",
          "los": 29
         },
         {
          "ADMITTIME": "2110-03-03 10:11:00",
          "DISCHTIME": "2110-03-07 15:34:00",
          "HADM_ID": 126909,
          "admittime": "2110-03-03T10:11:00",
          "dischtime": "2110-03-07T15:34:00",
          "los": 4
         },
         {
          "ADMITTIME": "2132-12-02 16:57:00",
          "DISCHTIME": "2133-02-02 11:45:00",
          "HADM_ID": 130411,
          "admittime": "2132-12-02T16:57:00",
          "dischtime": "2133-02-02T11:45:00",
          "los": 61
         },
         {
          "ADMITTIME": "2102-08-16 20:11:00",
          "DISCHTIME": "2102-08-30 22:37:00",
          "HADM_ID": 180644,
          "admittime": "2102-08-16T20:11:00",
          "dischtime": "2102-08-30T22:37:00",
          "los": 14
         },
         {
          "ADMITTIME": "2101-05-27 17:00:00",
          "DISCHTIME": "2101-06-08 16:50:00",
          "HADM_ID": 149838,
          "admittime": "2101-05-27T17:00:00",
          "dischtime": "2101-06-08T16:50:00",
          "los": 11
         },
         {
          "ADMITTIME": "2192-12-03 07:15:00",
          "DISCHTIME": "2192-12-11 15:00:00",
          "HADM_ID": 110548,
          "admittime": "2192-12-03T07:15:00",
          "dischtime": "2192-12-11T15:00:00",
          "los": 8
         },
         {
          "ADMITTIME": "2122-07-18 07:32:00",
          "DISCHTIME": "2122-07-24 14:18:00",
          "HADM_ID": 112897,
          "admittime": "2122-07-18T07:32:00",
          "dischtime": "2122-07-24T14:18:00",
          "los": 6
         },
         {
          "ADMITTIME": "2120-10-19 03:51:00",
          "DISCHTIME": "2120-10-21 12:02:00",
          "HADM_ID": 150021,
          "admittime": "2120-10-19T03:51:00",
          "dischtime": "2120-10-21T12:02:00",
          "los": 2
         },
         {
          "ADMITTIME": "2101-04-11 04:58:00",
          "DISCHTIME": "2101-04-17 13:13:00",
          "HADM_ID": 101515,
          "admittime": "2101-04-11T04:58:00",
          "dischtime": "2101-04-17T13:13:00",
          "los": 6
         },
         {
          "ADMITTIME": "2187-09-09 08:14:00",
          "DISCHTIME": "2187-09-14 17:48:00",
          "HADM_ID": 113450,
          "admittime": "2187-09-09T08:14:00",
          "dischtime": "2187-09-14T17:48:00",
          "los": 5
         },
         {
          "ADMITTIME": "2117-03-13 22:10:00",
          "DISCHTIME": "2117-03-26 14:55:00",
          "HADM_ID": 181546,
          "admittime": "2117-03-13T22:10:00",
          "dischtime": "2117-03-26T14:55:00",
          "los": 12
         },
         {
          "ADMITTIME": "2117-12-10 14:46:00",
          "DISCHTIME": "2117-12-15 16:12:00",
          "HADM_ID": 155036,
          "admittime": "2117-12-10T14:46:00",
          "dischtime": "2117-12-15T16:12:00",
          "los": 5
         },
         {
          "ADMITTIME": "2118-04-17 13:15:00",
          "DISCHTIME": "2118-04-29 04:35:00",
          "HADM_ID": 185691,
          "admittime": "2118-04-17T13:15:00",
          "dischtime": "2118-04-29T04:35:00",
          "los": 11
         },
         {
          "ADMITTIME": "2105-12-22 22:16:00",
          "DISCHTIME": "2105-12-29 16:05:00",
          "HADM_ID": 167213,
          "admittime": "2105-12-22T22:16:00",
          "dischtime": "2105-12-29T16:05:00",
          "los": 6
         },
         {
          "ADMITTIME": "2155-01-28 22:20:00",
          "DISCHTIME": "2155-02-05 15:50:00",
          "HADM_ID": 190776,
          "admittime": "2155-01-28T22:20:00",
          "dischtime": "2155-02-05T15:50:00",
          "los": 7
         },
         {
          "ADMITTIME": "2179-06-25 22:29:00",
          "DISCHTIME": "2179-09-06 13:00:00",
          "HADM_ID": 151681,
          "admittime": "2179-06-25T22:29:00",
          "dischtime": "2179-09-06T13:00:00",
          "los": 72
         },
         {
          "ADMITTIME": "2153-09-04 14:00:00",
          "DISCHTIME": "2153-09-14 15:50:00",
          "HADM_ID": 110768,
          "admittime": "2153-09-04T14:00:00",
          "dischtime": "2153-09-14T15:50:00",
          "los": 10
         },
         {
          "ADMITTIME": "2112-10-31 22:42:00",
          "DISCHTIME": "2112-11-13 13:00:00",
          "HADM_ID": 177331,
          "admittime": "2112-10-31T22:42:00",
          "dischtime": "2112-11-13T13:00:00",
          "los": 12
         },
         {
          "ADMITTIME": "2180-11-12 03:57:00",
          "DISCHTIME": "2180-11-17 14:55:00",
          "HADM_ID": 120063,
          "admittime": "2180-11-12T03:57:00",
          "dischtime": "2180-11-17T14:55:00",
          "los": 5
         },
         {
          "ADMITTIME": "2178-04-24 21:29:00",
          "DISCHTIME": "2178-05-06 17:30:00",
          "HADM_ID": 145523,
          "admittime": "2178-04-24T21:29:00",
          "dischtime": "2178-05-06T17:30:00",
          "los": 11
         },
         {
          "ADMITTIME": "2121-01-25 15:45:00",
          "DISCHTIME": "2121-02-06 18:45:00",
          "HADM_ID": 172013,
          "admittime": "2121-01-25T15:45:00",
          "dischtime": "2121-02-06T18:45:00",
          "los": 12
         },
         {
          "ADMITTIME": "2190-04-03 20:33:00",
          "DISCHTIME": "2190-04-08 14:20:00",
          "HADM_ID": 177056,
          "admittime": "2190-04-03T20:33:00",
          "dischtime": "2190-04-08T14:20:00",
          "los": 4
         },
         {
          "ADMITTIME": "2184-11-23 07:15:00",
          "DISCHTIME": "2184-11-28 15:04:00",
          "HADM_ID": 151847,
          "admittime": "2184-11-23T07:15:00",
          "dischtime": "2184-11-28T15:04:00",
          "los": 5
         },
         {
          "ADMITTIME": "2185-01-08 14:02:00",
          "DISCHTIME": "2185-01-12 14:58:00",
          "HADM_ID": 165308,
          "admittime": "2185-01-08T14:02:00",
          "dischtime": "2185-01-12T14:58:00",
          "los": 4
         },
         {
          "ADMITTIME": "2111-10-29 07:15:00",
          "DISCHTIME": "2111-10-31 16:55:00",
          "HADM_ID": 129849,
          "admittime": "2111-10-29T07:15:00",
          "dischtime": "2111-10-31T16:55:00",
          "los": 2
         },
         {
          "ADMITTIME": "2112-06-06 23:15:00",
          "DISCHTIME": "2112-06-14 14:08:00",
          "HADM_ID": 146324,
          "admittime": "2112-06-06T23:15:00",
          "dischtime": "2112-06-14T14:08:00",
          "los": 7
         },
         {
          "ADMITTIME": "2124-01-10 21:59:00",
          "DISCHTIME": "2124-01-18 18:25:00",
          "HADM_ID": 168097,
          "admittime": "2124-01-10T21:59:00",
          "dischtime": "2124-01-18T18:25:00",
          "los": 7
         },
         {
          "ADMITTIME": "2124-01-23 12:31:00",
          "DISCHTIME": "2124-01-28 15:55:00",
          "HADM_ID": 100660,
          "admittime": "2124-01-23T12:31:00",
          "dischtime": "2124-01-28T15:55:00",
          "los": 5
         },
         {
          "ADMITTIME": "2159-09-30 20:06:00",
          "DISCHTIME": "2159-12-02 14:55:00",
          "HADM_ID": 104207,
          "admittime": "2159-09-30T20:06:00",
          "dischtime": "2159-12-02T14:55:00",
          "los": 62
         },
         {
          "ADMITTIME": "2152-02-02 09:00:00",
          "DISCHTIME": "2152-03-26 14:30:00",
          "HADM_ID": 113546,
          "admittime": "2152-02-02T09:00:00",
          "dischtime": "2152-03-26T14:30:00",
          "los": 53
         },
         {
          "ADMITTIME": "2116-07-17 07:15:00",
          "DISCHTIME": "2116-07-26 15:45:00",
          "HADM_ID": 168186,
          "admittime": "2116-07-17T07:15:00",
          "dischtime": "2116-07-26T15:45:00",
          "los": 9
         },
         {
          "ADMITTIME": "2116-08-03 10:47:00",
          "DISCHTIME": "2116-08-06 13:55:00",
          "HADM_ID": 193607,
          "admittime": "2116-08-03T10:47:00",
          "dischtime": "2116-08-06T13:55:00",
          "los": 3
         },
         {
          "ADMITTIME": "2116-08-23 19:30:00",
          "DISCHTIME": "2116-10-12 16:00:00",
          "HADM_ID": 165899,
          "admittime": "2116-08-23T19:30:00",
          "dischtime": "2116-10-12T16:00:00",
          "los": 49
         },
         {
          "ADMITTIME": "2116-10-30 21:05:00",
          "DISCHTIME": "2116-12-31 13:00:00",
          "HADM_ID": 145911,
          "admittime": "2116-10-30T21:05:00",
          "dischtime": "2116-12-31T13:00:00",
          "los": 61
         },
         {
          "ADMITTIME": "2118-05-09 21:32:00",
          "DISCHTIME": "2118-05-25 12:00:00",
          "HADM_ID": 181075,
          "admittime": "2118-05-09T21:32:00",
          "dischtime": "2118-05-25T12:00:00",
          "los": 15
         },
         {
          "ADMITTIME": "2144-02-24 17:12:00",
          "DISCHTIME": "2144-02-26 15:50:00",
          "HADM_ID": 171351,
          "admittime": "2144-02-24T17:12:00",
          "dischtime": "2144-02-26T15:50:00",
          "los": 1
         },
         {
          "ADMITTIME": "2133-09-03 20:41:00",
          "DISCHTIME": "2133-09-13 14:00:00",
          "HADM_ID": 142160,
          "admittime": "2133-09-03T20:41:00",
          "dischtime": "2133-09-13T14:00:00",
          "los": 9
         },
         {
          "ADMITTIME": "2136-04-06 09:23:00",
          "DISCHTIME": "2136-04-15 14:30:00",
          "HADM_ID": 158642,
          "admittime": "2136-04-06T09:23:00",
          "dischtime": "2136-04-15T14:30:00",
          "los": 9
         },
         {
          "ADMITTIME": "2153-12-06 17:12:00",
          "DISCHTIME": "2153-12-17 17:20:00",
          "HADM_ID": 176623,
          "admittime": "2153-12-06T17:12:00",
          "dischtime": "2153-12-17T17:20:00",
          "los": 11
         },
         {
          "ADMITTIME": "2154-01-14 20:17:00",
          "DISCHTIME": "2154-02-01 18:00:00",
          "HADM_ID": 149359,
          "admittime": "2154-01-14T20:17:00",
          "dischtime": "2154-02-01T18:00:00",
          "los": 17
         },
         {
          "ADMITTIME": "2115-08-26 21:52:00",
          "DISCHTIME": "2115-08-30 14:30:00",
          "HADM_ID": 142607,
          "admittime": "2115-08-26T21:52:00",
          "dischtime": "2115-08-30T14:30:00",
          "los": 3
         },
         {
          "ADMITTIME": "2116-09-14 22:42:00",
          "DISCHTIME": "2116-09-19 15:28:00",
          "HADM_ID": 166626,
          "admittime": "2116-09-14T22:42:00",
          "dischtime": "2116-09-19T15:28:00",
          "los": 4
         },
         {
          "ADMITTIME": "2193-08-15 04:50:00",
          "DISCHTIME": "2193-08-26 13:00:00",
          "HADM_ID": 166611,
          "admittime": "2193-08-15T04:50:00",
          "dischtime": "2193-08-26T13:00:00",
          "los": 11
         },
         {
          "ADMITTIME": "2190-08-24 07:15:00",
          "DISCHTIME": "2190-09-08 15:35:00",
          "HADM_ID": 110557,
          "admittime": "2190-08-24T07:15:00",
          "dischtime": "2190-09-08T15:35:00",
          "los": 15
         },
         {
          "ADMITTIME": "2116-04-07 00:23:00",
          "DISCHTIME": "2116-04-15 18:30:00",
          "HADM_ID": 130310,
          "admittime": "2116-04-07T00:23:00",
          "dischtime": "2116-04-15T18:30:00",
          "los": 8
         },
         {
          "ADMITTIME": "2132-09-03 19:55:00",
          "DISCHTIME": "2132-09-05 19:23:00",
          "HADM_ID": 115676,
          "admittime": "2132-09-03T19:55:00",
          "dischtime": "2132-09-05T19:23:00",
          "los": 1
         },
         {
          "ADMITTIME": "2130-05-18 07:24:00",
          "DISCHTIME": "2130-05-26 14:30:00",
          "HADM_ID": 124257,
          "admittime": "2130-05-18T07:24:00",
          "dischtime": "2130-05-26T14:30:00",
          "los": 8
         },
         {
          "ADMITTIME": "2187-05-26 11:37:00",
          "DISCHTIME": "2187-06-07 21:14:00",
          "HADM_ID": 182350,
          "admittime": "2187-05-26T11:37:00",
          "dischtime": "2187-06-07T21:14:00",
          "los": 12
         },
         {
          "ADMITTIME": "2128-01-05 14:45:00",
          "DISCHTIME": "2128-01-11 22:01:00",
          "HADM_ID": 123602,
          "admittime": "2128-01-05T14:45:00",
          "dischtime": "2128-01-11T22:01:00",
          "los": 6
         },
         {
          "ADMITTIME": "2106-03-24 15:33:00",
          "DISCHTIME": "2106-03-27 15:30:00",
          "HADM_ID": 117543,
          "admittime": "2106-03-24T15:33:00",
          "dischtime": "2106-03-27T15:30:00",
          "los": 2
         },
         {
          "ADMITTIME": "2139-07-13 18:36:00",
          "DISCHTIME": "2139-07-20 12:05:00",
          "HADM_ID": 175013,
          "admittime": "2139-07-13T18:36:00",
          "dischtime": "2139-07-20T12:05:00",
          "los": 6
         },
         {
          "ADMITTIME": "2177-06-23 11:47:00",
          "DISCHTIME": "2177-06-27 13:20:00",
          "HADM_ID": 107176,
          "admittime": "2177-06-23T11:47:00",
          "dischtime": "2177-06-27T13:20:00",
          "los": 4
         },
         {
          "ADMITTIME": "2109-10-15 16:03:00",
          "DISCHTIME": "2109-10-21 20:00:00",
          "HADM_ID": 154910,
          "admittime": "2109-10-15T16:03:00",
          "dischtime": "2109-10-21T20:00:00",
          "los": 6
         },
         {
          "ADMITTIME": "2186-07-25 03:13:00",
          "DISCHTIME": "2186-07-27 19:06:00",
          "HADM_ID": 110245,
          "admittime": "2186-07-25T03:13:00",
          "dischtime": "2186-07-27T19:06:00",
          "los": 2
         },
         {
          "ADMITTIME": "2142-04-28 04:40:00",
          "DISCHTIME": "2142-06-11 15:40:00",
          "HADM_ID": 100262,
          "admittime": "2142-04-28T04:40:00",
          "dischtime": "2142-06-11T15:40:00",
          "los": 44
         },
         {
          "ADMITTIME": "2117-03-03 08:44:00",
          "DISCHTIME": "2117-03-18 15:45:00",
          "HADM_ID": 155866,
          "admittime": "2117-03-03T08:44:00",
          "dischtime": "2117-03-18T15:45:00",
          "los": 15
         },
         {
          "ADMITTIME": "2117-07-05 17:33:00",
          "DISCHTIME": "2117-07-15 17:20:00",
          "HADM_ID": 110516,
          "admittime": "2117-07-05T17:33:00",
          "dischtime": "2117-07-15T17:20:00",
          "los": 9
         },
         {
          "ADMITTIME": "2138-08-03 00:48:00",
          "DISCHTIME": "2138-08-13 21:54:00",
          "HADM_ID": 136326,
          "admittime": "2138-08-03T00:48:00",
          "dischtime": "2138-08-13T21:54:00",
          "los": 10
         },
         {
          "ADMITTIME": "2133-05-02 08:37:00",
          "DISCHTIME": "2133-05-04 18:00:00",
          "HADM_ID": 179487,
          "admittime": "2133-05-02T08:37:00",
          "dischtime": "2133-05-04T18:00:00",
          "los": 2
         },
         {
          "ADMITTIME": "2146-03-24 17:48:00",
          "DISCHTIME": "2146-05-26 18:00:00",
          "HADM_ID": 187777,
          "admittime": "2146-03-24T17:48:00",
          "dischtime": "2146-05-26T18:00:00",
          "los": 63
         },
         {
          "ADMITTIME": "2124-09-06 08:00:00",
          "DISCHTIME": "2124-09-09 03:21:00",
          "HADM_ID": 165342,
          "admittime": "2124-09-06T08:00:00",
          "dischtime": "2124-09-09T03:21:00",
          "los": 2
         },
         {
          "ADMITTIME": "2105-12-14 21:54:00",
          "DISCHTIME": "2105-12-19 14:23:00",
          "HADM_ID": 106721,
          "admittime": "2105-12-14T21:54:00",
          "dischtime": "2105-12-19T14:23:00",
          "los": 4
         },
         {
          "ADMITTIME": "2142-11-29 19:07:00",
          "DISCHTIME": "2142-12-01 20:05:00",
          "HADM_ID": 144571,
          "admittime": "2142-11-29T19:07:00",
          "dischtime": "2142-12-01T20:05:00",
          "los": 2
         },
         {
          "ADMITTIME": "2143-12-27 07:15:00",
          "DISCHTIME": "2144-01-08 12:01:00",
          "HADM_ID": 177445,
          "admittime": "2143-12-27T07:15:00",
          "dischtime": "2144-01-08T12:01:00",
          "los": 12
         },
         {
          "ADMITTIME": "2179-02-10 11:31:00",
          "DISCHTIME": "2179-03-01 12:32:00",
          "HADM_ID": 181314,
          "admittime": "2179-02-10T11:31:00",
          "dischtime": "2179-03-01T12:32:00",
          "los": 19
         },
         {
          "ADMITTIME": "2114-07-05 15:52:00",
          "DISCHTIME": "2114-07-08 03:00:00",
          "HADM_ID": 126226,
          "admittime": "2114-07-05T15:52:00",
          "dischtime": "2114-07-08T03:00:00",
          "los": 2
         },
         {
          "ADMITTIME": "2119-02-25 20:13:00",
          "DISCHTIME": "2119-02-27 20:53:00",
          "HADM_ID": 152089,
          "admittime": "2119-02-25T20:13:00",
          "dischtime": "2119-02-27T20:53:00",
          "los": 2
         },
         {
          "ADMITTIME": "2119-04-11 18:50:00",
          "DISCHTIME": "2119-06-03 15:57:00",
          "HADM_ID": 170157,
          "admittime": "2119-04-11T18:50:00",
          "dischtime": "2119-06-03T15:57:00",
          "los": 52
         },
         {
          "ADMITTIME": "2129-03-26 19:21:00",
          "DISCHTIME": "2129-03-28 11:36:00",
          "HADM_ID": 182220,
          "admittime": "2129-03-26T19:21:00",
          "dischtime": "2129-03-28T11:36:00",
          "los": 1
         },
         {
          "ADMITTIME": "2123-08-25 16:29:00",
          "DISCHTIME": "2123-09-08 21:51:00",
          "HADM_ID": 119154,
          "admittime": "2123-08-25T16:29:00",
          "dischtime": "2123-09-08T21:51:00",
          "los": 14
         },
         {
          "ADMITTIME": "2183-07-01 08:04:00",
          "DISCHTIME": "2183-07-07 16:30:00",
          "HADM_ID": 166245,
          "admittime": "2183-07-01T08:04:00",
          "dischtime": "2183-07-07T16:30:00",
          "los": 6
         },
         {
          "ADMITTIME": "2182-07-31 04:27:00",
          "DISCHTIME": "2182-07-31 06:45:00",
          "HADM_ID": 109338,
          "admittime": "2182-07-31T04:27:00",
          "dischtime": "2182-07-31T06:45:00",
          "los": 0
         },
         {
          "ADMITTIME": "2161-02-06 19:05:00",
          "DISCHTIME": "2161-02-13 15:45:00",
          "HADM_ID": 176690,
          "admittime": "2161-02-06T19:05:00",
          "dischtime": "2161-02-13T15:45:00",
          "los": 6
         },
         {
          "ADMITTIME": "2195-12-31 04:44:00",
          "DISCHTIME": "2196-01-11 17:45:00",
          "HADM_ID": 126769,
          "admittime": "2195-12-31T04:44:00",
          "dischtime": "2196-01-11T17:45:00",
          "los": 11
         },
         {
          "ADMITTIME": "2199-04-23 10:43:00",
          "DISCHTIME": "2199-04-25 15:00:00",
          "HADM_ID": 119707,
          "admittime": "2199-04-23T10:43:00",
          "dischtime": "2199-04-25T15:00:00",
          "los": 2
         },
         {
          "ADMITTIME": "2178-10-04 21:09:00",
          "DISCHTIME": "2178-10-07 15:50:00",
          "HADM_ID": 188273,
          "admittime": "2178-10-04T21:09:00",
          "dischtime": "2178-10-07T15:50:00",
          "los": 2
         },
         {
          "ADMITTIME": "2192-05-16 19:05:00",
          "DISCHTIME": "2192-05-23 13:19:00",
          "HADM_ID": 116577,
          "admittime": "2192-05-16T19:05:00",
          "dischtime": "2192-05-23T13:19:00",
          "los": 6
         },
         {
          "ADMITTIME": "2128-12-14 13:58:00",
          "DISCHTIME": "2128-12-17 14:48:00",
          "HADM_ID": 128280,
          "admittime": "2128-12-14T13:58:00",
          "dischtime": "2128-12-17T14:48:00",
          "los": 3
         },
         {
          "ADMITTIME": "2144-04-01 22:13:00",
          "DISCHTIME": "2144-04-03 18:30:00",
          "HADM_ID": 183693,
          "admittime": "2144-04-01T22:13:00",
          "dischtime": "2144-04-03T18:30:00",
          "los": 1
         },
         {
          "ADMITTIME": "2175-08-10 16:04:00",
          "DISCHTIME": "2175-08-21 15:45:00",
          "HADM_ID": 165891,
          "admittime": "2175-08-10T16:04:00",
          "dischtime": "2175-08-21T15:45:00",
          "los": 10
         },
         {
          "ADMITTIME": "2181-04-24 07:15:00",
          "DISCHTIME": "2181-05-24 18:00:00",
          "HADM_ID": 115758,
          "admittime": "2181-04-24T07:15:00",
          "dischtime": "2181-05-24T18:00:00",
          "los": 30
         },
         {
          "ADMITTIME": "2146-05-29 17:18:00",
          "DISCHTIME": "2146-06-02 14:32:00",
          "HADM_ID": 112024,
          "admittime": "2146-05-29T17:18:00",
          "dischtime": "2146-06-02T14:32:00",
          "los": 3
         },
         {
          "ADMITTIME": "2119-03-13 16:33:00",
          "DISCHTIME": "2119-04-04 12:00:00",
          "HADM_ID": 151499,
          "admittime": "2119-03-13T16:33:00",
          "dischtime": "2119-04-04T12:00:00",
          "los": 21
         },
         {
          "ADMITTIME": "2119-04-07 16:14:00",
          "DISCHTIME": "2119-04-27 15:45:00",
          "HADM_ID": 149648,
          "admittime": "2119-04-07T16:14:00",
          "dischtime": "2119-04-27T15:45:00",
          "los": 19
         },
         {
          "ADMITTIME": "2133-05-02 23:49:00",
          "DISCHTIME": "2133-05-05 12:15:00",
          "HADM_ID": 163703,
          "admittime": "2133-05-02T23:49:00",
          "dischtime": "2133-05-05T12:15:00",
          "los": 2
         },
         {
          "ADMITTIME": "2138-11-27 16:43:00",
          "DISCHTIME": "2138-11-27 20:57:00",
          "HADM_ID": 193338,
          "admittime": "2138-11-27T16:43:00",
          "dischtime": "2138-11-27T20:57:00",
          "los": 0
         },
         {
          "ADMITTIME": "2162-05-16 15:56:00",
          "DISCHTIME": "2162-05-21 13:37:00",
          "HADM_ID": 100009,
          "admittime": "2162-05-16T15:56:00",
          "dischtime": "2162-05-21T13:37:00",
          "los": 4
         },
         {
          "ADMITTIME": "2124-01-31 16:30:00",
          "DISCHTIME": "2124-02-09 13:20:00",
          "HADM_ID": 193417,
          "admittime": "2124-01-31T16:30:00",
          "dischtime": "2124-02-09T13:20:00",
          "los": 8
         },
         {
          "ADMITTIME": "2179-06-23 09:56:00",
          "DISCHTIME": "2179-06-27 10:58:00",
          "HADM_ID": 120138,
          "admittime": "2179-06-23T09:56:00",
          "dischtime": "2179-06-27T10:58:00",
          "los": 4
         },
         {
          "ADMITTIME": "2179-06-28 18:25:00",
          "DISCHTIME": "2179-06-30 16:00:00",
          "HADM_ID": 198270,
          "admittime": "2179-06-28T18:25:00",
          "dischtime": "2179-06-30T16:00:00",
          "los": 1
         },
         {
          "ADMITTIME": "2185-11-26 22:01:00",
          "DISCHTIME": "2185-11-28 11:30:00",
          "HADM_ID": 156078,
          "admittime": "2185-11-26T22:01:00",
          "dischtime": "2185-11-28T11:30:00",
          "los": 1
         },
         {
          "ADMITTIME": "2164-01-27 19:05:00",
          "DISCHTIME": "2164-01-30 11:15:00",
          "HADM_ID": 123969,
          "admittime": "2164-01-27T19:05:00",
          "dischtime": "2164-01-30T11:15:00",
          "los": 2
         },
         {
          "ADMITTIME": "2161-10-28 15:00:00",
          "DISCHTIME": "2161-11-16 18:45:00",
          "HADM_ID": 191596,
          "admittime": "2161-10-28T15:00:00",
          "dischtime": "2161-11-16T18:45:00",
          "los": 19
         },
         {
          "ADMITTIME": "2197-03-30 07:33:00",
          "DISCHTIME": "2197-04-03 14:25:00",
          "HADM_ID": 124411,
          "admittime": "2197-03-30T07:33:00",
          "dischtime": "2197-04-03T14:25:00",
          "los": 4
         },
         {
          "ADMITTIME": "2151-02-01 08:45:00",
          "DISCHTIME": "2151-02-26 12:24:00",
          "HADM_ID": 160169,
          "admittime": "2151-02-01T08:45:00",
          "dischtime": "2151-02-26T12:24:00",
          "los": 25
         },
         {
          "ADMITTIME": "2150-02-09 23:48:00",
          "DISCHTIME": "2150-02-25 19:57:00",
          "HADM_ID": 150721,
          "admittime": "2150-02-09T23:48:00",
          "dischtime": "2150-02-25T19:57:00",
          "los": 15
         },
         {
          "ADMITTIME": "2114-07-02 21:16:00",
          "DISCHTIME": "2114-07-05 14:05:00",
          "HADM_ID": 113442,
          "admittime": "2114-07-02T21:16:00",
          "dischtime": "2114-07-05T14:05:00",
          "los": 2
         },
         {
          "ADMITTIME": "2148-12-13 19:40:00",
          "DISCHTIME": "2148-12-18 19:50:00",
          "HADM_ID": 115307,
          "admittime": "2148-12-13T19:40:00",
          "dischtime": "2148-12-18T19:50:00",
          "los": 5
         },
         {
          "ADMITTIME": "2112-06-11 21:29:00",
          "DISCHTIME": "2112-07-06 12:30:00",
          "HADM_ID": 186746,
          "admittime": "2112-06-11T21:29:00",
          "dischtime": "2112-07-06T12:30:00",
          "los": 24
         },
         {
          "ADMITTIME": "2181-08-13 00:55:00",
          "DISCHTIME": "2181-08-20 15:00:00",
          "HADM_ID": 155327,
          "admittime": "2181-08-13T00:55:00",
          "dischtime": "2181-08-20T15:00:00",
          "los": 7
         },
         {
          "ADMITTIME": "2124-08-28 07:29:00",
          "DISCHTIME": "2124-09-12 17:40:00",
          "HADM_ID": 127873,
          "admittime": "2124-08-28T07:29:00",
          "dischtime": "2124-09-12T17:40:00",
          "los": 15
         },
         {
          "ADMITTIME": "2127-04-01 16:33:00",
          "DISCHTIME": "2127-04-07 17:37:00",
          "HADM_ID": 107882,
          "admittime": "2127-04-01T16:33:00",
          "dischtime": "2127-04-07T17:37:00",
          "los": 6
         },
         {
          "ADMITTIME": "2149-08-02 00:24:00",
          "DISCHTIME": "2149-08-06 12:24:00",
          "HADM_ID": 120988,
          "admittime": "2149-08-02T00:24:00",
          "dischtime": "2149-08-06T12:24:00",
          "los": 4
         },
         {
          "ADMITTIME": "2134-07-06 00:54:00",
          "DISCHTIME": "2134-07-13 10:32:00",
          "HADM_ID": 139933,
          "admittime": "2134-07-06T00:54:00",
          "dischtime": "2134-07-13T10:32:00",
          "los": 7
         },
         {
          "ADMITTIME": "2161-08-08 21:02:00",
          "DISCHTIME": "2161-08-27 11:38:00",
          "HADM_ID": 154997,
          "admittime": "2161-08-08T21:02:00",
          "dischtime": "2161-08-27T11:38:00",
          "los": 18
         },
         {
          "ADMITTIME": "2179-05-12 19:21:00",
          "DISCHTIME": "2179-05-20 12:02:00",
          "HADM_ID": 185300,
          "admittime": "2179-05-12T19:21:00",
          "dischtime": "2179-05-20T12:02:00",
          "los": 7
         },
         {
          "ADMITTIME": "2184-01-18 18:57:00",
          "DISCHTIME": "2184-01-22 19:00:00",
          "HADM_ID": 119367,
          "admittime": "2184-01-18T18:57:00",
          "dischtime": "2184-01-22T19:00:00",
          "los": 4
         },
         {
          "ADMITTIME": "2177-05-19 12:58:00",
          "DISCHTIME": "2177-06-02 19:30:00",
          "HADM_ID": 110611,
          "admittime": "2177-05-19T12:58:00",
          "dischtime": "2177-06-02T19:30:00",
          "los": 14
         },
         {
          "ADMITTIME": "2120-03-21 19:42:00",
          "DISCHTIME": "2120-03-29 17:23:00",
          "HADM_ID": 124424,
          "admittime": "2120-03-21T19:42:00",
          "dischtime": "2120-03-29T17:23:00",
          "los": 7
         },
         {
          "ADMITTIME": "2156-08-16 17:36:00",
          "DISCHTIME": "2156-08-18 17:23:00",
          "HADM_ID": 199094,
          "admittime": "2156-08-16T17:36:00",
          "dischtime": "2156-08-18T17:23:00",
          "los": 1
         },
         {
          "ADMITTIME": "2117-08-28 13:07:00",
          "DISCHTIME": "2117-09-01 16:03:00",
          "HADM_ID": 196063,
          "admittime": "2117-08-28T13:07:00",
          "dischtime": "2117-09-01T16:03:00",
          "los": 4
         },
         {
          "ADMITTIME": "2117-10-24 22:54:00",
          "DISCHTIME": "2117-10-31 15:13:00",
          "HADM_ID": 174947,
          "admittime": "2117-10-24T22:54:00",
          "dischtime": "2117-10-31T15:13:00",
          "los": 6
         },
         {
          "ADMITTIME": "2197-07-20 10:12:00",
          "DISCHTIME": "2197-07-24 11:45:00",
          "HADM_ID": 162724,
          "admittime": "2197-07-20T10:12:00",
          "dischtime": "2197-07-24T11:45:00",
          "los": 4
         },
         {
          "ADMITTIME": "2198-08-25 13:10:00",
          "DISCHTIME": "2198-09-01 13:30:00",
          "HADM_ID": 196363,
          "admittime": "2198-08-25T13:10:00",
          "dischtime": "2198-09-01T13:30:00",
          "los": 7
         },
         {
          "ADMITTIME": "2200-03-11 00:33:00",
          "DISCHTIME": "2200-03-14 15:39:00",
          "HADM_ID": 104958,
          "admittime": "2200-03-11T00:33:00",
          "dischtime": "2200-03-14T15:39:00",
          "los": 3
         },
         {
          "ADMITTIME": "2131-12-22 08:47:00",
          "DISCHTIME": "2131-12-25 10:49:00",
          "HADM_ID": 179436,
          "admittime": "2131-12-22T08:47:00",
          "dischtime": "2131-12-25T10:49:00",
          "los": 3
         },
         {
          "ADMITTIME": "2101-05-20 15:49:00",
          "DISCHTIME": "2101-05-22 12:11:00",
          "HADM_ID": 140984,
          "admittime": "2101-05-20T15:49:00",
          "dischtime": "2101-05-22T12:11:00",
          "los": 1
         },
         {
          "ADMITTIME": "2113-07-25 21:11:00",
          "DISCHTIME": "2113-07-28 22:05:00",
          "HADM_ID": 105399,
          "admittime": "2113-07-25T21:11:00",
          "dischtime": "2113-07-28T22:05:00",
          "los": 3
         },
         {
          "ADMITTIME": "2175-02-28 20:09:00",
          "DISCHTIME": "2175-03-06 17:20:00",
          "HADM_ID": 115068,
          "admittime": "2175-02-28T20:09:00",
          "dischtime": "2175-03-06T17:20:00",
          "los": 5
         },
         {
          "ADMITTIME": "2103-10-26 12:00:00",
          "DISCHTIME": "2103-11-02 16:54:00",
          "HADM_ID": 120209,
          "admittime": "2103-10-26T12:00:00",
          "dischtime": "2103-11-02T16:54:00",
          "los": 7
         },
         {
          "ADMITTIME": "2174-08-06 04:17:00",
          "DISCHTIME": "2174-08-12 12:11:00",
          "HADM_ID": 188343,
          "admittime": "2174-08-06T04:17:00",
          "dischtime": "2174-08-12T12:11:00",
          "los": 6
         },
         {
          "ADMITTIME": "2113-06-11 11:24:00",
          "DISCHTIME": "2113-08-11 14:42:00",
          "HADM_ID": 148312,
          "admittime": "2113-06-11T11:24:00",
          "dischtime": "2113-08-11T14:42:00",
          "los": 61
         },
         {
          "ADMITTIME": "2140-07-27 13:59:00",
          "DISCHTIME": "2140-08-07 10:30:00",
          "HADM_ID": 184181,
          "admittime": "2140-07-27T13:59:00",
          "dischtime": "2140-08-07T10:30:00",
          "los": 10
         },
         {
          "ADMITTIME": "2157-04-13 02:08:00",
          "DISCHTIME": "2157-04-22 18:50:00",
          "HADM_ID": 174459,
          "admittime": "2157-04-13T02:08:00",
          "dischtime": "2157-04-22T18:50:00",
          "los": 9
         },
         {
          "ADMITTIME": "2173-03-24 22:13:00",
          "DISCHTIME": "2173-04-08 14:45:00",
          "HADM_ID": 117029,
          "admittime": "2173-03-24T22:13:00",
          "dischtime": "2173-04-08T14:45:00",
          "los": 14
         },
         {
          "ADMITTIME": "2169-03-30 21:43:00",
          "DISCHTIME": "2169-04-25 13:20:00",
          "HADM_ID": 170890,
          "admittime": "2169-03-30T21:43:00",
          "dischtime": "2169-04-25T13:20:00",
          "los": 25
         },
         {
          "ADMITTIME": "2169-06-28 09:40:00",
          "DISCHTIME": "2169-07-15 16:00:00",
          "HADM_ID": 194013,
          "admittime": "2169-06-28T09:40:00",
          "dischtime": "2169-07-15T16:00:00",
          "los": 17
         },
         {
          "ADMITTIME": "2171-03-29 07:15:00",
          "DISCHTIME": "2171-04-03 14:54:00",
          "HADM_ID": 128697,
          "admittime": "2171-03-29T07:15:00",
          "dischtime": "2171-04-03T14:54:00",
          "los": 5
         },
         {
          "ADMITTIME": "2154-08-04 01:05:00",
          "DISCHTIME": "2154-08-14 11:25:00",
          "HADM_ID": 158454,
          "admittime": "2154-08-04T01:05:00",
          "dischtime": "2154-08-14T11:25:00",
          "los": 10
         },
         {
          "ADMITTIME": "2149-05-13 12:23:00",
          "DISCHTIME": "2149-05-26 20:00:00",
          "HADM_ID": 118058,
          "admittime": "2149-05-13T12:23:00",
          "dischtime": "2149-05-26T20:00:00",
          "los": 13
         },
         {
          "ADMITTIME": "2198-12-24 03:01:00",
          "DISCHTIME": "2199-01-04 11:50:00",
          "HADM_ID": 163706,
          "admittime": "2198-12-24T03:01:00",
          "dischtime": "2199-01-04T11:50:00",
          "los": 11
         },
         {
          "ADMITTIME": "2201-04-08 07:50:00",
          "DISCHTIME": "2201-04-12 16:28:00",
          "HADM_ID": 191682,
          "admittime": "2201-04-08T07:50:00",
          "dischtime": "2201-04-12T16:28:00",
          "los": 4
         },
         {
          "ADMITTIME": "2170-03-26 12:19:00",
          "DISCHTIME": "2170-04-01 15:59:00",
          "HADM_ID": 101274,
          "admittime": "2170-03-26T12:19:00",
          "dischtime": "2170-04-01T15:59:00",
          "los": 6
         },
         {
          "ADMITTIME": "2123-10-25 11:10:00",
          "DISCHTIME": "2123-12-20 13:45:00",
          "HADM_ID": 132541,
          "admittime": "2123-10-25T11:10:00",
          "dischtime": "2123-12-20T13:45:00",
          "los": 56
         },
         {
          "ADMITTIME": "2163-08-24 14:22:00",
          "DISCHTIME": "2163-09-01 16:20:00",
          "HADM_ID": 194060,
          "admittime": "2163-08-24T14:22:00",
          "dischtime": "2163-09-01T16:20:00",
          "los": 8
         },
         {
          "ADMITTIME": "2155-09-16 00:14:00",
          "DISCHTIME": "2155-09-16 10:30:00",
          "HADM_ID": 110233,
          "admittime": "2155-09-16T00:14:00",
          "dischtime": "2155-09-16T10:30:00",
          "los": 0
         },
         {
          "ADMITTIME": "2110-05-08 01:39:00",
          "DISCHTIME": "2110-05-13 10:57:00",
          "HADM_ID": 151418,
          "admittime": "2110-05-08T01:39:00",
          "dischtime": "2110-05-13T10:57:00",
          "los": 5
         },
         {
          "ADMITTIME": "2162-01-18 11:32:00",
          "DISCHTIME": "2162-02-08 18:55:00",
          "HADM_ID": 120589,
          "admittime": "2162-01-18T11:32:00",
          "dischtime": "2162-02-08T18:55:00",
          "los": 21
         },
         {
          "ADMITTIME": "2163-10-08 15:51:00",
          "DISCHTIME": "2163-10-28 19:52:00",
          "HADM_ID": 141626,
          "admittime": "2163-10-08T15:51:00",
          "dischtime": "2163-10-28T19:52:00",
          "los": 20
         },
         {
          "ADMITTIME": "2164-03-06 20:55:00",
          "DISCHTIME": "2164-04-11 11:50:00",
          "HADM_ID": 172593,
          "admittime": "2164-03-06T20:55:00",
          "dischtime": "2164-04-11T11:50:00",
          "los": 35
         },
         {
          "ADMITTIME": "2164-08-13 17:22:00",
          "DISCHTIME": "2164-08-17 12:00:00",
          "HADM_ID": 163523,
          "admittime": "2164-08-13T17:22:00",
          "dischtime": "2164-08-17T12:00:00",
          "los": 3
         },
         {
          "ADMITTIME": "2101-06-14 02:25:00",
          "DISCHTIME": "2101-06-30 11:57:00",
          "HADM_ID": 141168,
          "admittime": "2101-06-14T02:25:00",
          "dischtime": "2101-06-30T11:57:00",
          "los": 16
         },
         {
          "ADMITTIME": "2101-08-31 17:16:00",
          "DISCHTIME": "2101-09-16 11:50:00",
          "HADM_ID": 175451,
          "admittime": "2101-08-31T17:16:00",
          "dischtime": "2101-09-16T11:50:00",
          "los": 15
         },
         {
          "ADMITTIME": "2187-06-09 15:40:00",
          "DISCHTIME": "2187-06-13 13:14:00",
          "HADM_ID": 170958,
          "admittime": "2187-06-09T15:40:00",
          "dischtime": "2187-06-13T13:14:00",
          "los": 3
         },
         {
          "ADMITTIME": "2147-06-19 00:01:00",
          "DISCHTIME": "2147-06-26 17:56:00",
          "HADM_ID": 114621,
          "admittime": "2147-06-19T00:01:00",
          "dischtime": "2147-06-26T17:56:00",
          "los": 7
         },
         {
          "ADMITTIME": "2130-11-23 02:02:00",
          "DISCHTIME": "2130-12-01 17:27:00",
          "HADM_ID": 179893,
          "admittime": "2130-11-23T02:02:00",
          "dischtime": "2130-12-01T17:27:00",
          "los": 8
         },
         {
          "ADMITTIME": "2129-07-28 00:25:00",
          "DISCHTIME": "2129-08-11 14:14:00",
          "HADM_ID": 165537,
          "admittime": "2129-07-28T00:25:00",
          "dischtime": "2129-08-11T14:14:00",
          "los": 14
         },
         {
          "ADMITTIME": "2104-10-23 21:27:00",
          "DISCHTIME": "2104-11-07 17:17:00",
          "HADM_ID": 137678,
          "admittime": "2104-10-23T21:27:00",
          "dischtime": "2104-11-07T17:17:00",
          "los": 14
         },
         {
          "ADMITTIME": "2112-08-03 00:16:00",
          "DISCHTIME": "2112-08-12 16:00:00",
          "HADM_ID": 156155,
          "admittime": "2112-08-03T00:16:00",
          "dischtime": "2112-08-12T16:00:00",
          "los": 9
         },
         {
          "ADMITTIME": "2123-05-16 13:52:00",
          "DISCHTIME": "2123-08-05 14:00:00",
          "HADM_ID": 188256,
          "admittime": "2123-05-16T13:52:00",
          "dischtime": "2123-08-05T14:00:00",
          "los": 81
         },
         {
          "ADMITTIME": "2180-01-04 10:41:00",
          "DISCHTIME": "2180-01-06 12:53:00",
          "HADM_ID": 168519,
          "admittime": "2180-01-04T10:41:00",
          "dischtime": "2180-01-06T12:53:00",
          "los": 2
         },
         {
          "ADMITTIME": "2159-09-24 11:30:00",
          "DISCHTIME": "2159-10-05 14:45:00",
          "HADM_ID": 145041,
          "admittime": "2159-09-24T11:30:00",
          "dischtime": "2159-10-05T14:45:00",
          "los": 11
         },
         {
          "ADMITTIME": "2170-08-12 06:21:00",
          "DISCHTIME": "2170-08-14 13:29:00",
          "HADM_ID": 177197,
          "admittime": "2170-08-12T06:21:00",
          "dischtime": "2170-08-14T13:29:00",
          "los": 2
         },
         {
          "ADMITTIME": "2194-11-11 17:03:00",
          "DISCHTIME": "2194-11-14 14:49:00",
          "HADM_ID": 137069,
          "admittime": "2194-11-11T17:03:00",
          "dischtime": "2194-11-14T14:49:00",
          "los": 2
         },
         {
          "ADMITTIME": "2136-04-10 04:25:00",
          "DISCHTIME": "2136-04-20 10:45:00",
          "HADM_ID": 157692,
          "admittime": "2136-04-10T04:25:00",
          "dischtime": "2136-04-20T10:45:00",
          "los": 10
         },
         {
          "ADMITTIME": "2136-04-25 19:49:00",
          "DISCHTIME": "2136-05-06 12:40:00",
          "HADM_ID": 125279,
          "admittime": "2136-04-25T19:49:00",
          "dischtime": "2136-05-06T12:40:00",
          "los": 10
         },
         {
          "ADMITTIME": "2103-09-22 22:26:00",
          "DISCHTIME": "2103-09-25 11:02:00",
          "HADM_ID": 133556,
          "admittime": "2103-09-22T22:26:00",
          "dischtime": "2103-09-25T11:02:00",
          "los": 2
         },
         {
          "ADMITTIME": "2155-05-10 18:12:00",
          "DISCHTIME": "2155-05-28 16:00:00",
          "HADM_ID": 105452,
          "admittime": "2155-05-10T18:12:00",
          "dischtime": "2155-05-28T16:00:00",
          "los": 17
         },
         {
          "ADMITTIME": "2155-07-24 13:28:00",
          "DISCHTIME": "2155-08-04 07:25:00",
          "HADM_ID": 182829,
          "admittime": "2155-07-24T13:28:00",
          "dischtime": "2155-08-04T07:25:00",
          "los": 10
         },
         {
          "ADMITTIME": "2178-08-08 02:54:00",
          "DISCHTIME": "2178-08-10 13:05:00",
          "HADM_ID": 132072,
          "admittime": "2178-08-08T02:54:00",
          "dischtime": "2178-08-10T13:05:00",
          "los": 2
         },
         {
          "ADMITTIME": "2110-05-13 00:45:00",
          "DISCHTIME": "2110-05-30 16:40:00",
          "HADM_ID": 131499,
          "admittime": "2110-05-13T00:45:00",
          "dischtime": "2110-05-30T16:40:00",
          "los": 17
         },
         {
          "ADMITTIME": "2110-07-22 22:36:00",
          "DISCHTIME": "2110-08-13 17:30:00",
          "HADM_ID": 177171,
          "admittime": "2110-07-22T22:36:00",
          "dischtime": "2110-08-13T17:30:00",
          "los": 21
         },
         {
          "ADMITTIME": "2156-07-07 21:16:00",
          "DISCHTIME": "2156-07-13 11:50:00",
          "HADM_ID": 160790,
          "admittime": "2156-07-07T21:16:00",
          "dischtime": "2156-07-13T11:50:00",
          "los": 5
         },
         {
          "ADMITTIME": "2156-07-21 17:13:00",
          "DISCHTIME": "2156-07-23 21:00:00",
          "HADM_ID": 193682,
          "admittime": "2156-07-21T17:13:00",
          "dischtime": "2156-07-23T21:00:00",
          "los": 2
         },
         {
          "ADMITTIME": "2121-02-20 06:07:00",
          "DISCHTIME": "2121-03-13 15:15:00",
          "HADM_ID": 177990,
          "admittime": "2121-02-20T06:07:00",
          "dischtime": "2121-03-13T15:15:00",
          "los": 21
         },
         {
          "ADMITTIME": "2106-07-20 09:14:00",
          "DISCHTIME": "2106-07-24 11:44:00",
          "HADM_ID": 131351,
          "admittime": "2106-07-20T09:14:00",
          "dischtime": "2106-07-24T11:44:00",
          "los": 4
         },
         {
          "ADMITTIME": "2174-01-04 20:59:00",
          "DISCHTIME": "2174-02-02 13:15:00",
          "HADM_ID": 135487,
          "admittime": "2174-01-04T20:59:00",
          "dischtime": "2174-02-02T13:15:00",
          "los": 28
         },
         {
          "ADMITTIME": "2200-10-28 01:07:00",
          "DISCHTIME": "2200-10-28 13:29:00",
          "HADM_ID": 180903,
          "admittime": "2200-10-28T01:07:00",
          "dischtime": "2200-10-28T13:29:00",
          "los": 0
         },
         {
          "ADMITTIME": "2114-10-09 01:29:00",
          "DISCHTIME": "2114-10-11 12:13:00",
          "HADM_ID": 123940,
          "admittime": "2114-10-09T01:29:00",
          "dischtime": "2114-10-11T12:13:00",
          "los": 2
         },
         {
          "ADMITTIME": "2184-05-28 00:45:00",
          "DISCHTIME": "2184-06-07 16:19:00",
          "HADM_ID": 165570,
          "admittime": "2184-05-28T00:45:00",
          "dischtime": "2184-06-07T16:19:00",
          "los": 10
         },
         {
          "ADMITTIME": "2151-06-30 09:44:00",
          "DISCHTIME": "2151-07-15 13:50:00",
          "HADM_ID": 185983,
          "admittime": "2151-06-30T09:44:00",
          "dischtime": "2151-07-15T13:50:00",
          "los": 15
         },
         {
          "ADMITTIME": "2164-10-25 10:00:00",
          "DISCHTIME": "2164-10-27 17:08:00",
          "HADM_ID": 140352,
          "admittime": "2164-10-25T10:00:00",
          "dischtime": "2164-10-27T17:08:00",
          "los": 2
         },
         {
          "ADMITTIME": "2166-10-29 15:40:00",
          "DISCHTIME": "2166-11-01 17:55:00",
          "HADM_ID": 181423,
          "admittime": "2166-10-29T15:40:00",
          "dischtime": "2166-11-01T17:55:00",
          "los": 3
         },
         {
          "ADMITTIME": "2137-05-23 04:46:00",
          "DISCHTIME": "2137-05-27 14:19:00",
          "HADM_ID": 179120,
          "admittime": "2137-05-23T04:46:00",
          "dischtime": "2137-05-27T14:19:00",
          "los": 4
         },
         {
          "ADMITTIME": "2166-06-17 03:00:00",
          "DISCHTIME": "2166-09-12 11:30:00",
          "HADM_ID": 153730,
          "admittime": "2166-06-17T03:00:00",
          "dischtime": "2166-09-12T11:30:00",
          "los": 87
         },
         {
          "ADMITTIME": "2146-06-03 13:41:00",
          "DISCHTIME": "2146-06-07 17:50:00",
          "HADM_ID": 177400,
          "admittime": "2146-06-03T13:41:00",
          "dischtime": "2146-06-07T17:50:00",
          "los": 4
         },
         {
          "ADMITTIME": "2151-11-24 01:39:00",
          "DISCHTIME": "2151-11-27 17:30:00",
          "HADM_ID": 193827,
          "admittime": "2151-11-24T01:39:00",
          "dischtime": "2151-11-27T17:30:00",
          "los": 3
         },
         {
          "ADMITTIME": "2108-08-04 20:32:00",
          "DISCHTIME": "2108-08-09 11:09:00",
          "HADM_ID": 129267,
          "admittime": "2108-08-04T20:32:00",
          "dischtime": "2108-08-09T11:09:00",
          "los": 4
         },
         {
          "ADMITTIME": "2194-04-14 13:08:00",
          "DISCHTIME": "2194-04-16 18:36:00",
          "HADM_ID": 190951,
          "admittime": "2194-04-14T13:08:00",
          "dischtime": "2194-04-16T18:36:00",
          "los": 2
         },
         {
          "ADMITTIME": "2143-12-09 19:54:00",
          "DISCHTIME": "2143-12-12 10:41:00",
          "HADM_ID": 192656,
          "admittime": "2143-12-09T19:54:00",
          "dischtime": "2143-12-12T10:41:00",
          "los": 2
         },
         {
          "ADMITTIME": "2131-01-08 15:36:00",
          "DISCHTIME": "2131-01-22 13:11:00",
          "HADM_ID": 121164,
          "admittime": "2131-01-08T15:36:00",
          "dischtime": "2131-01-22T13:11:00",
          "los": 13
         },
         {
          "ADMITTIME": "2153-12-02 15:24:00",
          "DISCHTIME": "2153-12-07 17:05:00",
          "HADM_ID": 140374,
          "admittime": "2153-12-02T15:24:00",
          "dischtime": "2153-12-07T17:05:00",
          "los": 5
         },
         {
          "ADMITTIME": "2129-10-18 21:33:00",
          "DISCHTIME": "2129-11-07 15:00:00",
          "HADM_ID": 131102,
          "admittime": "2129-10-18T21:33:00",
          "dischtime": "2129-11-07T15:00:00",
          "los": 19
         },
         {
          "ADMITTIME": "2150-06-30 20:13:00",
          "DISCHTIME": "2150-07-21 15:03:00",
          "HADM_ID": 141809,
          "admittime": "2150-06-30T20:13:00",
          "dischtime": "2150-07-21T15:03:00",
          "los": 20
         },
         {
          "ADMITTIME": "2150-08-16 19:29:00",
          "DISCHTIME": "2150-08-25 16:50:00",
          "HADM_ID": 197617,
          "admittime": "2150-08-16T19:29:00",
          "dischtime": "2150-08-25T16:50:00",
          "los": 8
         },
         {
          "ADMITTIME": "2172-05-11 06:37:00",
          "DISCHTIME": "2172-05-13 11:25:00",
          "HADM_ID": 156924,
          "admittime": "2172-05-11T06:37:00",
          "dischtime": "2172-05-13T11:25:00",
          "los": 2
         },
         {
          "ADMITTIME": "2127-11-17 23:02:00",
          "DISCHTIME": "2127-11-20 12:18:00",
          "HADM_ID": 150294,
          "admittime": "2127-11-17T23:02:00",
          "dischtime": "2127-11-20T12:18:00",
          "los": 2
         },
         {
          "ADMITTIME": "2101-01-28 16:47:00",
          "DISCHTIME": "2101-02-03 12:30:00",
          "HADM_ID": 195564,
          "admittime": "2101-01-28T16:47:00",
          "dischtime": "2101-02-03T12:30:00",
          "los": 5
         },
         {
          "ADMITTIME": "2109-04-08 19:02:00",
          "DISCHTIME": "2109-04-22 15:50:00",
          "HADM_ID": 192917,
          "admittime": "2109-04-08T19:02:00",
          "dischtime": "2109-04-22T15:50:00",
          "los": 13
         },
         {
          "ADMITTIME": "2167-09-19 18:40:00",
          "DISCHTIME": "2167-10-27 13:42:00",
          "HADM_ID": 137713,
          "admittime": "2167-09-19T18:40:00",
          "dischtime": "2167-10-27T13:42:00",
          "los": 37
         },
         {
          "ADMITTIME": "2167-11-03 06:37:00",
          "DISCHTIME": "2167-11-09 14:32:00",
          "HADM_ID": 107240,
          "admittime": "2167-11-03T06:37:00",
          "dischtime": "2167-11-09T14:32:00",
          "los": 6
         },
         {
          "ADMITTIME": "2167-11-20 07:08:00",
          "DISCHTIME": "2167-11-25 15:19:00",
          "HADM_ID": 138670,
          "admittime": "2167-11-20T07:08:00",
          "dischtime": "2167-11-25T15:19:00",
          "los": 5
         },
         {
          "ADMITTIME": "2114-04-05 08:59:00",
          "DISCHTIME": "2114-04-12 11:30:00",
          "HADM_ID": 164210,
          "admittime": "2114-04-05T08:59:00",
          "dischtime": "2114-04-12T11:30:00",
          "los": 7
         },
         {
          "ADMITTIME": "2155-01-27 10:27:00",
          "DISCHTIME": "2155-01-31 16:20:00",
          "HADM_ID": 104035,
          "admittime": "2155-01-27T10:27:00",
          "dischtime": "2155-01-31T16:20:00",
          "los": 4
         },
         {
          "ADMITTIME": "2156-03-23 11:30:00",
          "DISCHTIME": "2156-03-28 14:15:00",
          "HADM_ID": 133054,
          "admittime": "2156-03-23T11:30:00",
          "dischtime": "2156-03-28T14:15:00",
          "los": 5
         },
         {
          "ADMITTIME": "2156-04-02 18:27:00",
          "DISCHTIME": "2156-04-10 23:59:00",
          "HADM_ID": 133664,
          "admittime": "2156-04-02T18:27:00",
          "dischtime": "2156-04-10T23:59:00",
          "los": 8
         },
         {
          "ADMITTIME": "2160-11-02 22:03:00",
          "DISCHTIME": "2160-11-07 17:14:00",
          "HADM_ID": 162589,
          "admittime": "2160-11-02T22:03:00",
          "dischtime": "2160-11-07T17:14:00",
          "los": 4
         },
         {
          "ADMITTIME": "2160-12-30 16:08:00",
          "DISCHTIME": "2161-01-01 14:30:00",
          "HADM_ID": 113216,
          "admittime": "2160-12-30T16:08:00",
          "dischtime": "2161-01-01T14:30:00",
          "los": 1
         },
         {
          "ADMITTIME": "2146-05-04 19:57:00",
          "DISCHTIME": "2146-05-16 13:30:00",
          "HADM_ID": 160617,
          "admittime": "2146-05-04T19:57:00",
          "dischtime": "2146-05-16T13:30:00",
          "los": 11
         },
         {
          "ADMITTIME": "2140-10-27 04:45:00",
          "DISCHTIME": "2140-10-31 18:45:00",
          "HADM_ID": 176032,
          "admittime": "2140-10-27T04:45:00",
          "dischtime": "2140-10-31T18:45:00",
          "los": 4
         },
         {
          "ADMITTIME": "2146-10-03 07:18:00",
          "DISCHTIME": "2146-10-07 19:09:00",
          "HADM_ID": 175684,
          "admittime": "2146-10-03T07:18:00",
          "dischtime": "2146-10-07T19:09:00",
          "los": 4
         },
         {
          "ADMITTIME": "2138-06-26 17:23:00",
          "DISCHTIME": "2138-06-30 15:30:00",
          "HADM_ID": 173950,
          "admittime": "2138-06-26T17:23:00",
          "dischtime": "2138-06-30T15:30:00",
          "los": 3
         },
         {
          "ADMITTIME": "2151-10-10 02:52:00",
          "DISCHTIME": "2151-10-15 14:00:00",
          "HADM_ID": 101226,
          "admittime": "2151-10-10T02:52:00",
          "dischtime": "2151-10-15T14:00:00",
          "los": 5
         },
         {
          "ADMITTIME": "2195-04-27 20:51:00",
          "DISCHTIME": "2195-05-04 15:37:00",
          "HADM_ID": 163836,
          "admittime": "2195-04-27T20:51:00",
          "dischtime": "2195-05-04T15:37:00",
          "los": 6
         },
         {
          "ADMITTIME": "2118-10-29 06:57:00",
          "DISCHTIME": "2118-12-23 11:10:00",
          "HADM_ID": 100591,
          "admittime": "2118-10-29T06:57:00",
          "dischtime": "2118-12-23T11:10:00",
          "los": 55
         },
         {
          "ADMITTIME": "2119-01-20 19:07:00",
          "DISCHTIME": "2119-02-03 11:40:00",
          "HADM_ID": 134571,
          "admittime": "2119-01-20T19:07:00",
          "dischtime": "2119-02-03T11:40:00",
          "los": 13
         },
         {
          "ADMITTIME": "2140-12-14 19:23:00",
          "DISCHTIME": "2140-12-20 17:17:00",
          "HADM_ID": 155792,
          "admittime": "2140-12-14T19:23:00",
          "dischtime": "2140-12-20T17:17:00",
          "los": 5
         },
         {
          "ADMITTIME": "2161-02-09 14:28:00",
          "DISCHTIME": "2161-02-25 16:00:00",
          "HADM_ID": 176225,
          "admittime": "2161-02-09T14:28:00",
          "dischtime": "2161-02-25T16:00:00",
          "los": 16
         },
         {
          "ADMITTIME": "2126-11-06 03:49:00",
          "DISCHTIME": "2127-03-31 16:00:00",
          "HADM_ID": 186550,
          "admittime": "2126-11-06T03:49:00",
          "dischtime": "2127-03-31T16:00:00",
          "los": 145
         },
         {
          "ADMITTIME": "2117-06-21 07:15:00",
          "DISCHTIME": "2117-07-02 12:15:00",
          "HADM_ID": 137310,
          "admittime": "2117-06-21T07:15:00",
          "dischtime": "2117-07-02T12:15:00",
          "los": 11
         },
         {
          "ADMITTIME": "2117-10-10 22:40:00",
          "DISCHTIME": "2117-11-04 16:24:00",
          "HADM_ID": 194975,
          "admittime": "2117-10-10T22:40:00",
          "dischtime": "2117-11-04T16:24:00",
          "los": 24
         },
         {
          "ADMITTIME": "2114-11-25 11:02:00",
          "DISCHTIME": "2114-12-02 18:00:00",
          "HADM_ID": 138624,
          "admittime": "2114-11-25T11:02:00",
          "dischtime": "2114-12-02T18:00:00",
          "los": 7
         },
         {
          "ADMITTIME": "2199-05-23 08:00:00",
          "DISCHTIME": "2199-06-14 16:50:00",
          "HADM_ID": 147052,
          "admittime": "2199-05-23T08:00:00",
          "dischtime": "2199-06-14T16:50:00",
          "los": 22
         },
         {
          "ADMITTIME": "2167-10-29 10:38:00",
          "DISCHTIME": "2167-11-02 19:22:00",
          "HADM_ID": 110638,
          "admittime": "2167-10-29T10:38:00",
          "dischtime": "2167-11-02T19:22:00",
          "los": 4
         },
         {
          "ADMITTIME": "2136-12-27 10:51:00",
          "DISCHTIME": "2137-01-08 20:50:00",
          "HADM_ID": 184298,
          "admittime": "2136-12-27T10:51:00",
          "dischtime": "2137-01-08T20:50:00",
          "los": 12
         },
         {
          "ADMITTIME": "2201-04-11 05:34:00",
          "DISCHTIME": "2201-04-15 11:49:00",
          "HADM_ID": 151779,
          "admittime": "2201-04-11T05:34:00",
          "dischtime": "2201-04-15T11:49:00",
          "los": 4
         },
         {
          "ADMITTIME": "2164-06-05 04:36:00",
          "DISCHTIME": "2164-06-10 19:30:00",
          "HADM_ID": 191851,
          "admittime": "2164-06-05T04:36:00",
          "dischtime": "2164-06-10T19:30:00",
          "los": 5
         },
         {
          "ADMITTIME": "2127-03-07 04:06:00",
          "DISCHTIME": "2127-03-14 17:35:00",
          "HADM_ID": 109361,
          "admittime": "2127-03-07T04:06:00",
          "dischtime": "2127-03-14T17:35:00",
          "los": 7
         },
         {
          "ADMITTIME": "2125-04-07 19:25:00",
          "DISCHTIME": "2125-05-11 14:44:00",
          "HADM_ID": 141369,
          "admittime": "2125-04-07T19:25:00",
          "dischtime": "2125-05-11T14:44:00",
          "los": 33
         },
         {
          "ADMITTIME": "2102-01-03 08:35:00",
          "DISCHTIME": "2102-01-08 13:15:00",
          "HADM_ID": 135877,
          "admittime": "2102-01-03T08:35:00",
          "dischtime": "2102-01-08T13:15:00",
          "los": 5
         },
         {
          "ADMITTIME": "2134-02-24 16:47:00",
          "DISCHTIME": "2134-03-26 21:00:00",
          "HADM_ID": 162837,
          "admittime": "2134-02-24T16:47:00",
          "dischtime": "2134-03-26T21:00:00",
          "los": 30
         },
         {
          "ADMITTIME": "2109-01-11 18:12:00",
          "DISCHTIME": "2109-03-07 11:57:00",
          "HADM_ID": 191658,
          "admittime": "2109-01-11T18:12:00",
          "dischtime": "2109-03-07T11:57:00",
          "los": 54
         },
         {
          "ADMITTIME": "2167-10-04 20:54:00",
          "DISCHTIME": "2167-10-15 10:30:00",
          "HADM_ID": 196375,
          "admittime": "2167-10-04T20:54:00",
          "dischtime": "2167-10-15T10:30:00",
          "los": 10
         },
         {
          "ADMITTIME": "2105-11-20 12:55:00",
          "DISCHTIME": "2105-11-27 17:00:00",
          "HADM_ID": 176106,
          "admittime": "2105-11-20T12:55:00",
          "dischtime": "2105-11-27T17:00:00",
          "los": 7
         },
         {
          "ADMITTIME": "2124-03-01 12:20:00",
          "DISCHTIME": "2124-03-10 14:23:00",
          "HADM_ID": 109392,
          "admittime": "2124-03-01T12:20:00",
          "dischtime": "2124-03-10T14:23:00",
          "los": 9
         },
         {
          "ADMITTIME": "2138-02-06 01:37:00",
          "DISCHTIME": "2138-02-09 15:00:00",
          "HADM_ID": 167888,
          "admittime": "2138-02-06T01:37:00",
          "dischtime": "2138-02-09T15:00:00",
          "los": 3
         },
         {
          "ADMITTIME": "2200-05-05 12:57:00",
          "DISCHTIME": "2200-05-08 14:06:00",
          "HADM_ID": 132333,
          "admittime": "2200-05-05T12:57:00",
          "dischtime": "2200-05-08T14:06:00",
          "los": 3
         },
         {
          "ADMITTIME": "2139-01-12 22:46:00",
          "DISCHTIME": "2139-01-24 12:23:00",
          "HADM_ID": 165225,
          "admittime": "2139-01-12T22:46:00",
          "dischtime": "2139-01-24T12:23:00",
          "los": 11
         },
         {
          "ADMITTIME": "2139-02-01 01:02:00",
          "DISCHTIME": "2139-02-26 18:55:00",
          "HADM_ID": 114439,
          "admittime": "2139-02-01T01:02:00",
          "dischtime": "2139-02-26T18:55:00",
          "los": 25
         },
         {
          "ADMITTIME": "2142-05-15 16:16:00",
          "DISCHTIME": "2142-06-21 14:38:00",
          "HADM_ID": 175734,
          "admittime": "2142-05-15T16:16:00",
          "dischtime": "2142-06-21T14:38:00",
          "los": 36
         },
         {
          "ADMITTIME": "2179-09-29 18:45:00",
          "DISCHTIME": "2179-10-22 15:00:00",
          "HADM_ID": 101829,
          "admittime": "2179-09-29T18:45:00",
          "dischtime": "2179-10-22T15:00:00",
          "los": 22
         },
         {
          "ADMITTIME": "2176-01-18 16:24:00",
          "DISCHTIME": "2176-01-25 21:50:00",
          "HADM_ID": 128363,
          "admittime": "2176-01-18T16:24:00",
          "dischtime": "2176-01-25T21:50:00",
          "los": 7
         },
         {
          "ADMITTIME": "2168-12-23 13:53:00",
          "DISCHTIME": "2169-01-04 13:15:00",
          "HADM_ID": 182676,
          "admittime": "2168-12-23T13:53:00",
          "dischtime": "2169-01-04T13:15:00",
          "los": 11
         },
         {
          "ADMITTIME": "2163-02-25 22:06:00",
          "DISCHTIME": "2163-03-02 15:27:00",
          "HADM_ID": 163886,
          "admittime": "2163-02-25T22:06:00",
          "dischtime": "2163-03-02T15:27:00",
          "los": 4
         },
         {
          "ADMITTIME": "2115-07-09 01:24:00",
          "DISCHTIME": "2115-07-15 16:50:00",
          "HADM_ID": 145579,
          "admittime": "2115-07-09T01:24:00",
          "dischtime": "2115-07-15T16:50:00",
          "los": 6
         },
         {
          "ADMITTIME": "2108-09-12 23:30:00",
          "DISCHTIME": "2108-09-17 17:20:00",
          "HADM_ID": 161387,
          "admittime": "2108-09-12T23:30:00",
          "dischtime": "2108-09-17T17:20:00",
          "los": 4
         },
         {
          "ADMITTIME": "2119-02-05 14:06:00",
          "DISCHTIME": "2119-02-10 13:00:00",
          "HADM_ID": 104257,
          "admittime": "2119-02-05T14:06:00",
          "dischtime": "2119-02-10T13:00:00",
          "los": 4
         },
         {
          "ADMITTIME": "2143-01-07 23:54:00",
          "DISCHTIME": "2143-01-22 16:30:00",
          "HADM_ID": 104271,
          "admittime": "2143-01-07T23:54:00",
          "dischtime": "2143-01-22T16:30:00",
          "los": 14
         },
         {
          "ADMITTIME": "2143-01-29 20:40:00",
          "DISCHTIME": "2143-02-19 17:00:00",
          "HADM_ID": 152912,
          "admittime": "2143-01-29T20:40:00",
          "dischtime": "2143-02-19T17:00:00",
          "los": 20
         },
         {
          "ADMITTIME": "2119-04-30 16:17:00",
          "DISCHTIME": "2119-05-06 12:50:00",
          "HADM_ID": 126525,
          "admittime": "2119-04-30T16:17:00",
          "dischtime": "2119-05-06T12:50:00",
          "los": 5
         },
         {
          "ADMITTIME": "2196-04-30 13:45:00",
          "DISCHTIME": "2196-05-02 12:35:00",
          "HADM_ID": 181032,
          "admittime": "2196-04-30T13:45:00",
          "dischtime": "2196-05-02T12:35:00",
          "los": 1
         },
         {
          "ADMITTIME": "2196-05-03 19:57:00",
          "DISCHTIME": "2196-05-06 12:00:00",
          "HADM_ID": 119065,
          "admittime": "2196-05-03T19:57:00",
          "dischtime": "2196-05-06T12:00:00",
          "los": 2
         },
         {
          "ADMITTIME": "2170-12-28 00:56:00",
          "DISCHTIME": "2170-12-30 10:16:00",
          "HADM_ID": 175952,
          "admittime": "2170-12-28T00:56:00",
          "dischtime": "2170-12-30T10:16:00",
          "los": 2
         }
        ]
       },
       "encoding": {
        "x": {
         "bin": {
          "maxbins": 50
         },
         "field": "los",
         "type": "quantitative"
        },
        "y": {
         "aggregate": "count",
         "type": "quantitative"
        }
       },
       "mark": "bar"
      },
      "image/png": "[encoded data removed]",
      "text/plain": [
       "<VegaLite 3 object>\n",
       "\n",
       "If you see this message, it means the renderer has not been properly enabled\n",
       "for the frontend that you are using. For more information, see\n",
       "https://altair-viz.github.io/user_guide/troubleshooting.html\n"
      ]
     },
     "execution_count": 11,
     "metadata": {},
     "output_type": "execute_result"
    }
   ],
   "source": [
    "import altair as alt\n",
    "\n",
    "alt.Chart(a_df.head(1000)).mark_bar().encode(\n",
    "    alt.X('los',\n",
    "         bin=alt.BinParams(maxbins=50)),\n",
    "    y='count()',\n",
    ")"
   ]
  },
  {
   "cell_type": "code",
   "execution_count": 24,
   "metadata": {},
   "outputs": [
    {
     "data": {
      "text/plain": [
       "(185134, 11)"
      ]
     },
     "execution_count": 24,
     "metadata": {},
     "output_type": "execute_result"
    }
   ],
   "source": [
    "notes_df = orig_df[orig_df.HADM_ID.notnull()].sample(frac=pct_data_sample, random_state=seed)\n",
    "notes_df.HADM_ID = notes_df.HADM_ID.astype(int)\n",
    "notes_df.shape"
   ]
  },
  {
   "cell_type": "code",
   "execution_count": 37,
   "metadata": {},
   "outputs": [],
   "source": [
    "# make sure we only keep rows with notes\n",
    "combined_df = pd.merge(a_df, notes_df, on='HADM_ID', how='right')"
   ]
  },
  {
   "cell_type": "code",
   "execution_count": 38,
   "metadata": {},
   "outputs": [
    {
     "data": {
      "text/plain": [
       "(185134, 16)"
      ]
     },
     "execution_count": 38,
     "metadata": {},
     "output_type": "execute_result"
    }
   ],
   "source": [
    "combined_df.shape"
   ]
  },
  {
   "cell_type": "code",
   "execution_count": 45,
   "metadata": {},
   "outputs": [
    {
     "name": "stdout",
     "output_type": "stream",
     "text": [
      "(0, 16)\n",
      "(0, 16)\n",
      "(0, 16)\n"
     ]
    }
   ],
   "source": [
    "# these should all be zero\n",
    "print(combined_df[combined_df.los.isnull()].shape)\n",
    "print(combined_df[combined_df.HADM_ID.isnull()].shape)\n",
    "print(combined_df[combined_df.TEXT.isnull()].shape)"
   ]
  },
  {
   "cell_type": "code",
   "execution_count": 46,
   "metadata": {},
   "outputs": [
    {
     "data": {
      "text/html": [
       "<div>\n",
       "<style scoped>\n",
       "    .dataframe tbody tr th:only-of-type {\n",
       "        vertical-align: middle;\n",
       "    }\n",
       "\n",
       "    .dataframe tbody tr th {\n",
       "        vertical-align: top;\n",
       "    }\n",
       "\n",
       "    .dataframe thead th {\n",
       "        text-align: right;\n",
       "    }\n",
       "</style>\n",
       "<table border=\"1\" class=\"dataframe\">\n",
       "  <thead>\n",
       "    <tr style=\"text-align: right;\">\n",
       "      <th></th>\n",
       "      <th>HADM_ID</th>\n",
       "      <th>ADMITTIME</th>\n",
       "      <th>DISCHTIME</th>\n",
       "      <th>admittime</th>\n",
       "      <th>dischtime</th>\n",
       "      <th>los</th>\n",
       "      <th>ROW_ID</th>\n",
       "      <th>SUBJECT_ID</th>\n",
       "      <th>CHARTDATE</th>\n",
       "      <th>CHARTTIME</th>\n",
       "      <th>STORETIME</th>\n",
       "      <th>CATEGORY</th>\n",
       "      <th>DESCRIPTION</th>\n",
       "      <th>CGID</th>\n",
       "      <th>ISERROR</th>\n",
       "      <th>TEXT</th>\n",
       "    </tr>\n",
       "  </thead>\n",
       "  <tbody>\n",
       "    <tr>\n",
       "      <th>0</th>\n",
       "      <td>165315</td>\n",
       "      <td>2196-04-09 12:26:00</td>\n",
       "      <td>2196-04-10 15:54:00</td>\n",
       "      <td>2196-04-09 12:26:00</td>\n",
       "      <td>2196-04-10 15:54:00</td>\n",
       "      <td>1.0</td>\n",
       "      <td>754333</td>\n",
       "      <td>22</td>\n",
       "      <td>2196-04-09</td>\n",
       "      <td>2196-04-09 10:40:00</td>\n",
       "      <td>NaN</td>\n",
       "      <td>Radiology</td>\n",
       "      <td>CHEST (PORTABLE AP)</td>\n",
       "      <td>NaN</td>\n",
       "      <td>NaN</td>\n",
       "      <td>[**2196-4-9**] 10:40 AM\\n CHEST (PORTABLE AP) ...</td>\n",
       "    </tr>\n",
       "    <tr>\n",
       "      <th>1</th>\n",
       "      <td>152223</td>\n",
       "      <td>2153-09-03 07:15:00</td>\n",
       "      <td>2153-09-08 19:10:00</td>\n",
       "      <td>2153-09-03 07:15:00</td>\n",
       "      <td>2153-09-08 19:10:00</td>\n",
       "      <td>5.0</td>\n",
       "      <td>1260822</td>\n",
       "      <td>23</td>\n",
       "      <td>2153-09-04</td>\n",
       "      <td>2153-09-04 14:02:00</td>\n",
       "      <td>2153-09-04 14:08:00</td>\n",
       "      <td>Nursing/other</td>\n",
       "      <td>Report</td>\n",
       "      <td>14606.0</td>\n",
       "      <td>NaN</td>\n",
       "      <td>UPDATE\\nD: PT RECIEVED LOPRESSOR 25MG PO THIS ...</td>\n",
       "    </tr>\n",
       "    <tr>\n",
       "      <th>2</th>\n",
       "      <td>152223</td>\n",
       "      <td>2153-09-03 07:15:00</td>\n",
       "      <td>2153-09-08 19:10:00</td>\n",
       "      <td>2153-09-03 07:15:00</td>\n",
       "      <td>2153-09-08 19:10:00</td>\n",
       "      <td>5.0</td>\n",
       "      <td>1260821</td>\n",
       "      <td>23</td>\n",
       "      <td>2153-09-04</td>\n",
       "      <td>2153-09-04 05:51:00</td>\n",
       "      <td>2153-09-04 06:12:00</td>\n",
       "      <td>Nursing/other</td>\n",
       "      <td>Report</td>\n",
       "      <td>14967.0</td>\n",
       "      <td>NaN</td>\n",
       "      <td>CSRU NSG:\\n\\nNEURO:  A&amp;OX3, appropriate, speec...</td>\n",
       "    </tr>\n",
       "    <tr>\n",
       "      <th>3</th>\n",
       "      <td>124321</td>\n",
       "      <td>2157-10-18 19:34:00</td>\n",
       "      <td>2157-10-25 14:00:00</td>\n",
       "      <td>2157-10-18 19:34:00</td>\n",
       "      <td>2157-10-25 14:00:00</td>\n",
       "      <td>6.0</td>\n",
       "      <td>1099816</td>\n",
       "      <td>23</td>\n",
       "      <td>2157-10-21</td>\n",
       "      <td>2157-10-21 15:31:00</td>\n",
       "      <td>NaN</td>\n",
       "      <td>Radiology</td>\n",
       "      <td>CT HEAD W/O CONTRAST</td>\n",
       "      <td>NaN</td>\n",
       "      <td>NaN</td>\n",
       "      <td>[**2157-10-21**] 3:31 PM\\n CT HEAD W/O CONTRAS...</td>\n",
       "    </tr>\n",
       "    <tr>\n",
       "      <th>4</th>\n",
       "      <td>124321</td>\n",
       "      <td>2157-10-18 19:34:00</td>\n",
       "      <td>2157-10-25 14:00:00</td>\n",
       "      <td>2157-10-18 19:34:00</td>\n",
       "      <td>2157-10-25 14:00:00</td>\n",
       "      <td>6.0</td>\n",
       "      <td>1099545</td>\n",
       "      <td>23</td>\n",
       "      <td>2157-10-20</td>\n",
       "      <td>2157-10-20 07:28:00</td>\n",
       "      <td>NaN</td>\n",
       "      <td>Radiology</td>\n",
       "      <td>MR HEAD W/ CONTRAST</td>\n",
       "      <td>NaN</td>\n",
       "      <td>NaN</td>\n",
       "      <td>[**2157-10-20**] 7:28 AM\\n MR HEAD W/ CONTRAST...</td>\n",
       "    </tr>\n",
       "  </tbody>\n",
       "</table>\n",
       "</div>"
      ],
      "text/plain": [
       "   HADM_ID            ADMITTIME            DISCHTIME           admittime  \\\n",
       "0   165315  2196-04-09 12:26:00  2196-04-10 15:54:00 2196-04-09 12:26:00   \n",
       "1   152223  2153-09-03 07:15:00  2153-09-08 19:10:00 2153-09-03 07:15:00   \n",
       "2   152223  2153-09-03 07:15:00  2153-09-08 19:10:00 2153-09-03 07:15:00   \n",
       "3   124321  2157-10-18 19:34:00  2157-10-25 14:00:00 2157-10-18 19:34:00   \n",
       "4   124321  2157-10-18 19:34:00  2157-10-25 14:00:00 2157-10-18 19:34:00   \n",
       "\n",
       "            dischtime  los   ROW_ID  SUBJECT_ID   CHARTDATE  \\\n",
       "0 2196-04-10 15:54:00  1.0   754333          22  2196-04-09   \n",
       "1 2153-09-08 19:10:00  5.0  1260822          23  2153-09-04   \n",
       "2 2153-09-08 19:10:00  5.0  1260821          23  2153-09-04   \n",
       "3 2157-10-25 14:00:00  6.0  1099816          23  2157-10-21   \n",
       "4 2157-10-25 14:00:00  6.0  1099545          23  2157-10-20   \n",
       "\n",
       "             CHARTTIME            STORETIME       CATEGORY  \\\n",
       "0  2196-04-09 10:40:00                  NaN      Radiology   \n",
       "1  2153-09-04 14:02:00  2153-09-04 14:08:00  Nursing/other   \n",
       "2  2153-09-04 05:51:00  2153-09-04 06:12:00  Nursing/other   \n",
       "3  2157-10-21 15:31:00                  NaN      Radiology   \n",
       "4  2157-10-20 07:28:00                  NaN      Radiology   \n",
       "\n",
       "            DESCRIPTION     CGID  ISERROR  \\\n",
       "0   CHEST (PORTABLE AP)      NaN      NaN   \n",
       "1                Report  14606.0      NaN   \n",
       "2                Report  14967.0      NaN   \n",
       "3  CT HEAD W/O CONTRAST      NaN      NaN   \n",
       "4   MR HEAD W/ CONTRAST      NaN      NaN   \n",
       "\n",
       "                                                TEXT  \n",
       "0  [**2196-4-9**] 10:40 AM\\n CHEST (PORTABLE AP) ...  \n",
       "1  UPDATE\\nD: PT RECIEVED LOPRESSOR 25MG PO THIS ...  \n",
       "2  CSRU NSG:\\n\\nNEURO:  A&OX3, appropriate, speec...  \n",
       "3  [**2157-10-21**] 3:31 PM\\n CT HEAD W/O CONTRAS...  \n",
       "4  [**2157-10-20**] 7:28 AM\\n MR HEAD W/ CONTRAST...  "
      ]
     },
     "execution_count": 46,
     "metadata": {},
     "output_type": "execute_result"
    }
   ],
   "source": [
    "combined_df.head()"
   ]
  },
  {
   "cell_type": "code",
   "execution_count": null,
   "metadata": {},
   "outputs": [],
   "source": []
  }
 ],
 "metadata": {
  "kernelspec": {
   "display_name": "Python 3",
   "language": "python",
   "name": "python3"
  },
  "language_info": {
   "codemirror_mode": {
    "name": "ipython",
    "version": 3
   },
   "file_extension": ".py",
   "mimetype": "text/x-python",
   "name": "python",
   "nbconvert_exporter": "python",
   "pygments_lexer": "ipython3",
   "version": "3.7.3"
  }
 },
 "nbformat": 4,
 "nbformat_minor": 4
}
