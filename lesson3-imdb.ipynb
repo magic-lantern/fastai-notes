{
 "cells": [
  {
   "cell_type": "markdown",
   "metadata": {},
   "source": [
    "# IMDB"
   ]
  },
  {
   "cell_type": "code",
   "execution_count": 1,
   "metadata": {},
   "outputs": [],
   "source": [
    "%reload_ext autoreload\n",
    "%autoreload 2\n",
    "%matplotlib inline"
   ]
  },
  {
   "cell_type": "code",
   "execution_count": 2,
   "metadata": {},
   "outputs": [],
   "source": [
    "from fastai.text import *"
   ]
  },
  {
   "cell_type": "markdown",
   "metadata": {},
   "source": [
    "## Preparing the data"
   ]
  },
  {
   "cell_type": "markdown",
   "metadata": {},
   "source": [
    "First let's download the dataset we are going to study. The [dataset](http://ai.stanford.edu/~amaas/data/sentiment/) has been curated by Andrew Maas et al. and contains a total of 100,000 reviews on IMDB. 25,000 of them are labelled as positive and negative for training, another 25,000 are labelled for testing (in both cases they are highly polarized). The remaning 50,000 is an additional unlabelled data (but we will find a use for it nonetheless).\n",
    "\n",
    "We'll begin with a sample we've prepared for you, so that things run quickly before going over the full dataset."
   ]
  },
  {
   "cell_type": "code",
   "execution_count": 3,
   "metadata": {},
   "outputs": [
    {
     "data": {
      "text/plain": [
       "[PosixPath('/home/jupyter/.fastai/data/imdb_sample/texts.csv'),\n",
       " PosixPath('/home/jupyter/.fastai/data/imdb_sample/data_save.pkl')]"
      ]
     },
     "execution_count": 3,
     "metadata": {},
     "output_type": "execute_result"
    }
   ],
   "source": [
    "path = untar_data(URLs.IMDB_SAMPLE)\n",
    "path.ls()"
   ]
  },
  {
   "cell_type": "markdown",
   "metadata": {},
   "source": [
    "It only contains one csv file, let's have a look at it."
   ]
  },
  {
   "cell_type": "code",
   "execution_count": 4,
   "metadata": {},
   "outputs": [
    {
     "data": {
      "text/html": [
       "<div>\n",
       "<style scoped>\n",
       "    .dataframe tbody tr th:only-of-type {\n",
       "        vertical-align: middle;\n",
       "    }\n",
       "\n",
       "    .dataframe tbody tr th {\n",
       "        vertical-align: top;\n",
       "    }\n",
       "\n",
       "    .dataframe thead th {\n",
       "        text-align: right;\n",
       "    }\n",
       "</style>\n",
       "<table border=\"1\" class=\"dataframe\">\n",
       "  <thead>\n",
       "    <tr style=\"text-align: right;\">\n",
       "      <th></th>\n",
       "      <th>label</th>\n",
       "      <th>text</th>\n",
       "      <th>is_valid</th>\n",
       "    </tr>\n",
       "  </thead>\n",
       "  <tbody>\n",
       "    <tr>\n",
       "      <th>0</th>\n",
       "      <td>negative</td>\n",
       "      <td>Un-bleeping-believable! Meg Ryan doesn't even ...</td>\n",
       "      <td>False</td>\n",
       "    </tr>\n",
       "    <tr>\n",
       "      <th>1</th>\n",
       "      <td>positive</td>\n",
       "      <td>This is a extremely well-made film. The acting...</td>\n",
       "      <td>False</td>\n",
       "    </tr>\n",
       "    <tr>\n",
       "      <th>2</th>\n",
       "      <td>negative</td>\n",
       "      <td>Every once in a long while a movie will come a...</td>\n",
       "      <td>False</td>\n",
       "    </tr>\n",
       "    <tr>\n",
       "      <th>3</th>\n",
       "      <td>positive</td>\n",
       "      <td>Name just says it all. I watched this movie wi...</td>\n",
       "      <td>False</td>\n",
       "    </tr>\n",
       "    <tr>\n",
       "      <th>4</th>\n",
       "      <td>negative</td>\n",
       "      <td>This movie succeeds at being one of the most u...</td>\n",
       "      <td>False</td>\n",
       "    </tr>\n",
       "  </tbody>\n",
       "</table>\n",
       "</div>"
      ],
      "text/plain": [
       "      label                                               text  is_valid\n",
       "0  negative  Un-bleeping-believable! Meg Ryan doesn't even ...     False\n",
       "1  positive  This is a extremely well-made film. The acting...     False\n",
       "2  negative  Every once in a long while a movie will come a...     False\n",
       "3  positive  Name just says it all. I watched this movie wi...     False\n",
       "4  negative  This movie succeeds at being one of the most u...     False"
      ]
     },
     "execution_count": 4,
     "metadata": {},
     "output_type": "execute_result"
    }
   ],
   "source": [
    "df = pd.read_csv(path/'texts.csv')\n",
    "df.head()"
   ]
  },
  {
   "cell_type": "code",
   "execution_count": 5,
   "metadata": {},
   "outputs": [
    {
     "data": {
      "text/plain": [
       "'This is a extremely well-made film. The acting, script and camera-work are all first-rate. The music is good, too, though it is mostly early in the film, when things are still relatively cheery. There are no really superstars in the cast, though several faces will be familiar. The entire cast does an excellent job with the script.<br /><br />But it is hard to watch, because there is no good end to a situation like the one presented. It is now fashionable to blame the British for setting Hindus and Muslims against each other, and then cruelly separating them into two countries. There is some merit in this view, but it\\'s also true that no one forced Hindus and Muslims in the region to mistreat each other as they did around the time of partition. It seems more likely that the British simply saw the tensions between the religions and were clever enough to exploit them to their own ends.<br /><br />The result is that there is much cruelty and inhumanity in the situation and this is very unpleasant to remember and to see on the screen. But it is never painted as a black-and-white case. There is baseness and nobility on both sides, and also the hope for change in the younger generation.<br /><br />There is redemption of a sort, in the end, when Puro has to make a hard choice between a man who has ruined her life, but also truly loved her, and her family which has disowned her, then later come looking for her. But by that point, she has no option that is without great pain for her.<br /><br />This film carries the message that both Muslims and Hindus have their grave faults, and also that both can be dignified and caring people. The reality of partition makes that realisation all the more wrenching, since there can never be real reconciliation across the India/Pakistan border. In that sense, it is similar to \"Mr & Mrs Iyer\".<br /><br />In the end, we were glad to have seen the film, even though the resolution was heartbreaking. If the UK and US could deal with their own histories of racism with this kind of frankness, they would certainly be better off.'"
      ]
     },
     "execution_count": 5,
     "metadata": {},
     "output_type": "execute_result"
    }
   ],
   "source": [
    "df['text'][1]"
   ]
  },
  {
   "cell_type": "markdown",
   "metadata": {},
   "source": [
    "It contains one line per review, with the label ('negative' or 'positive'), the text and a flag to determine if it should be part of the validation set or the training set. If we ignore this flag, we can create a DataBunch containing this data in one line of code:"
   ]
  },
  {
   "cell_type": "code",
   "execution_count": 6,
   "metadata": {},
   "outputs": [],
   "source": [
    "data_lm = TextDataBunch.from_csv(path, 'texts.csv')"
   ]
  },
  {
   "cell_type": "markdown",
   "metadata": {},
   "source": [
    "By executing this line a process was launched that took a bit of time. Let's dig a bit into it. Images could be fed (almost) directly into a model because they're just a big array of pixel values that are floats between 0 and 1. A text is composed of words, and we can't apply mathematical functions to them directly. We first have to convert them to numbers. This is done in two differents steps: tokenization and numericalization. A `TextDataBunch` does all of that behind the scenes for you.\n",
    "\n",
    "Before we delve into the explanations, let's take the time to save the things that were calculated."
   ]
  },
  {
   "cell_type": "code",
   "execution_count": 7,
   "metadata": {},
   "outputs": [],
   "source": [
    "data_lm.save()"
   ]
  },
  {
   "cell_type": "markdown",
   "metadata": {},
   "source": [
    "Next time we launch this notebook, we can skip the cell above that took a bit of time (and that will take a lot more when you get to the full dataset) and load those results like this:"
   ]
  },
  {
   "cell_type": "code",
   "execution_count": 8,
   "metadata": {},
   "outputs": [],
   "source": [
    "data = load_data(path)"
   ]
  },
  {
   "cell_type": "markdown",
   "metadata": {},
   "source": [
    "### Tokenization"
   ]
  },
  {
   "cell_type": "markdown",
   "metadata": {},
   "source": [
    "The first step of processing we make the texts go through is to split the raw sentences into words, or more exactly tokens. The easiest way to do this would be to split the string on spaces, but we can be smarter:\n",
    "\n",
    "- we need to take care of punctuation\n",
    "- some words are contractions of two different words, like isn't or don't\n",
    "- we may need to clean some parts of our texts, if there's HTML code for instance\n",
    "\n",
    "To see what the tokenizer had done behind the scenes, let's have a look at a few texts in a batch."
   ]
  },
  {
   "cell_type": "code",
   "execution_count": 9,
   "metadata": {},
   "outputs": [
    {
     "data": {
      "text/html": [
       "<table border=\"1\" class=\"dataframe\">\n",
       "  <thead>\n",
       "    <tr style=\"text-align: right;\">\n",
       "      <th>text</th>\n",
       "      <th>target</th>\n",
       "    </tr>\n",
       "  </thead>\n",
       "  <tbody>\n",
       "    <tr>\n",
       "      <td>xxbos xxup the xxup shop xxup around xxup the xxup corner is one of the sweetest and most feel - good romantic comedies ever made . xxmaj there 's just no getting around that , and it 's hard to actually put one 's feeling for this film into words . xxmaj it 's not one of those films that tries too hard , nor does it come up with</td>\n",
       "      <td>positive</td>\n",
       "    </tr>\n",
       "    <tr>\n",
       "      <td>xxbos xxmaj now that xxmaj che(2008 ) has finished its relatively short xxmaj australian cinema run ( extremely limited xxunk screen in xxmaj sydney , after xxunk ) , i can xxunk join both xxunk of \" xxmaj at xxmaj the xxmaj movies \" in taking xxmaj steven xxmaj soderbergh to task . \\n \\n  xxmaj it 's usually satisfying to watch a film director change his style /</td>\n",
       "      <td>negative</td>\n",
       "    </tr>\n",
       "    <tr>\n",
       "      <td>xxbos xxmaj this film sat on my xxmaj tivo for weeks before i watched it . i dreaded a self - indulgent xxunk flick about relationships gone bad . i was wrong ; this was an xxunk xxunk into the screwed - up xxunk of xxmaj new xxmaj yorkers . \\n \\n  xxmaj the format is the same as xxmaj max xxmaj xxunk ' \" xxmaj la xxmaj ronde</td>\n",
       "      <td>positive</td>\n",
       "    </tr>\n",
       "    <tr>\n",
       "      <td>xxbos i really wanted to love this show . i truly , honestly did . \\n \\n  xxmaj for the first time , gay viewers get their own version of the \" xxmaj the xxmaj bachelor \" . xxmaj with the help of his obligatory \" hag \" xxmaj xxunk , xxmaj james , a good looking , well - to - do thirty - something has the chance</td>\n",
       "      <td>negative</td>\n",
       "    </tr>\n",
       "    <tr>\n",
       "      <td>xxbos \\n \\n  i 'm sure things did n't exactly go the same way in the real life of xxmaj homer xxmaj hickam as they did in the film adaptation of his book , xxmaj rocket xxmaj boys , but the movie \" xxmaj october xxmaj sky \" ( an xxunk of the book 's title ) is good enough to stand alone . i have not read xxmaj</td>\n",
       "      <td>positive</td>\n",
       "    </tr>\n",
       "  </tbody>\n",
       "</table>"
      ],
      "text/plain": [
       "<IPython.core.display.HTML object>"
      ]
     },
     "metadata": {},
     "output_type": "display_data"
    }
   ],
   "source": [
    "data = TextClasDataBunch.from_csv(path, 'texts.csv')\n",
    "data.show_batch()"
   ]
  },
  {
   "cell_type": "markdown",
   "metadata": {},
   "source": [
    "The texts are truncated at 100 tokens for more readability. We can see that it did more than just split on space and punctuation symbols: \n",
    "- the \"'s\" are grouped together in one token\n",
    "- the contractions are separated like this: \"did\", \"n't\"\n",
    "- content has been cleaned for any HTML symbol and lower cased\n",
    "- there are several special tokens (all those that begin by xx), to replace unknown tokens (see below) or to introduce different text fields (here we only have one)."
   ]
  },
  {
   "cell_type": "markdown",
   "metadata": {},
   "source": [
    "### Numericalization"
   ]
  },
  {
   "cell_type": "markdown",
   "metadata": {},
   "source": [
    "Once we have extracted tokens from our texts, we convert to integers by creating a list of all the words used. We only keep the ones that appear at least twice with a maximum vocabulary size of 60,000 (by default) and replace the ones that don't make the cut by the unknown token `UNK`.\n",
    "\n",
    "The correspondance from ids to tokens is stored in the `vocab` attribute of our datasets, in a dictionary called `itos` (for int to string)."
   ]
  },
  {
   "cell_type": "code",
   "execution_count": 10,
   "metadata": {},
   "outputs": [
    {
     "data": {
      "text/plain": [
       "['xxunk',\n",
       " 'xxpad',\n",
       " 'xxbos',\n",
       " 'xxeos',\n",
       " 'xxfld',\n",
       " 'xxmaj',\n",
       " 'xxup',\n",
       " 'xxrep',\n",
       " 'xxwrep',\n",
       " 'the']"
      ]
     },
     "execution_count": 10,
     "metadata": {},
     "output_type": "execute_result"
    }
   ],
   "source": [
    "data.vocab.itos[:10]"
   ]
  },
  {
   "cell_type": "markdown",
   "metadata": {},
   "source": [
    "And if we look at what a what's in our datasets, we'll see the tokenized text as a representation:"
   ]
  },
  {
   "cell_type": "code",
   "execution_count": 11,
   "metadata": {},
   "outputs": [
    {
     "data": {
      "text/plain": [
       "Text xxbos ' xxmaj stanley and xxmaj iris ' show the triumph of the human spirit . xxmaj for xxmaj stanley , it 's the struggle to become xxunk and realize his potential . xxmaj for xxmaj iris , it 's to find the courage to love again after becoming a widow . xxmaj the beauty of the movie is the dance that xxmaj robert deniro and xxmaj jane xxmaj fonda do together , starting and stopping , before each has the skills and courage to completely trust each other and move on . xxmaj in that sense it very nicely gives us a good view of how life often is , thus being credible . xxmaj unlike some other reviewers i found the characters each rendered to be consistent for the whole picture . xxmaj the supporting cast is also carefully chosen and they add a depth of character that the main characters get added meaning from the supporting performances . xxmaj all in all an excellent movie . xxmaj the best thing i take from it is xxmaj hope ."
      ]
     },
     "execution_count": 11,
     "metadata": {},
     "output_type": "execute_result"
    }
   ],
   "source": [
    "data.train_ds[0][0]"
   ]
  },
  {
   "cell_type": "markdown",
   "metadata": {},
   "source": [
    "But the underlying data is all numbers"
   ]
  },
  {
   "cell_type": "code",
   "execution_count": 12,
   "metadata": {},
   "outputs": [
    {
     "data": {
      "text/plain": [
       "array([   2,   62,    5, 2221,   12,    5, 6200,   62,  151,    9])"
      ]
     },
     "execution_count": 12,
     "metadata": {},
     "output_type": "execute_result"
    }
   ],
   "source": [
    "data.train_ds[0][0].data[:10]"
   ]
  },
  {
   "cell_type": "markdown",
   "metadata": {},
   "source": [
    "### With the data block API"
   ]
  },
  {
   "cell_type": "markdown",
   "metadata": {},
   "source": [
    "We can use the data block API with NLP and have a lot more flexibility than what the default factory methods offer. In the previous example for instance, the data was randomly split between train and validation instead of reading the third column of the csv.\n",
    "\n",
    "With the data block API though, we have to manually call the tokenize and numericalize steps. This allows more flexibility, and if you're not using the defaults from fastai, the various arguments to pass will appear in the step they're revelant, so it'll be more readable."
   ]
  },
  {
   "cell_type": "code",
   "execution_count": 13,
   "metadata": {},
   "outputs": [],
   "source": [
    "data = (TextList.from_csv(path, 'texts.csv', cols='text')\n",
    "                .split_from_df(col=2)\n",
    "                .label_from_df(cols=0)\n",
    "                .databunch())"
   ]
  },
  {
   "cell_type": "markdown",
   "metadata": {},
   "source": [
    "## Language model"
   ]
  },
  {
   "cell_type": "markdown",
   "metadata": {},
   "source": [
    "Note that language models can use a lot of GPU, so you may need to decrease batchsize here."
   ]
  },
  {
   "cell_type": "code",
   "execution_count": 14,
   "metadata": {},
   "outputs": [],
   "source": [
    "bs=48"
   ]
  },
  {
   "cell_type": "markdown",
   "metadata": {},
   "source": [
    "Now let's grab the full dataset for what follows."
   ]
  },
  {
   "cell_type": "code",
   "execution_count": 15,
   "metadata": {},
   "outputs": [
    {
     "data": {
      "text/plain": [
       "[PosixPath('/home/jupyter/.fastai/data/imdb/unsup'),\n",
       " PosixPath('/home/jupyter/.fastai/data/imdb/tmp_clas'),\n",
       " PosixPath('/home/jupyter/.fastai/data/imdb/test'),\n",
       " PosixPath('/home/jupyter/.fastai/data/imdb/train'),\n",
       " PosixPath('/home/jupyter/.fastai/data/imdb/README'),\n",
       " PosixPath('/home/jupyter/.fastai/data/imdb/data_lm.pkl'),\n",
       " PosixPath('/home/jupyter/.fastai/data/imdb/models'),\n",
       " PosixPath('/home/jupyter/.fastai/data/imdb/tmp_lm'),\n",
       " PosixPath('/home/jupyter/.fastai/data/imdb/imdb.vocab')]"
      ]
     },
     "execution_count": 15,
     "metadata": {},
     "output_type": "execute_result"
    }
   ],
   "source": [
    "path = untar_data(URLs.IMDB)\n",
    "path.ls()"
   ]
  },
  {
   "cell_type": "code",
   "execution_count": 16,
   "metadata": {},
   "outputs": [
    {
     "data": {
      "text/plain": [
       "[PosixPath('/home/jupyter/.fastai/data/imdb/train/pos'),\n",
       " PosixPath('/home/jupyter/.fastai/data/imdb/train/neg'),\n",
       " PosixPath('/home/jupyter/.fastai/data/imdb/train/labeledBow.feat'),\n",
       " PosixPath('/home/jupyter/.fastai/data/imdb/train/unsupBow.feat')]"
      ]
     },
     "execution_count": 16,
     "metadata": {},
     "output_type": "execute_result"
    }
   ],
   "source": [
    "(path/'train').ls()"
   ]
  },
  {
   "cell_type": "markdown",
   "metadata": {},
   "source": [
    "The reviews are in a training and test set following an imagenet structure. The only difference is that there is an `unsup` folder on top of `train` and `test` that contains the unlabelled data.\n",
    "\n",
    "We're not going to train a model that classifies the reviews from scratch. Like in computer vision, we'll use a model pretrained on a bigger dataset (a cleaned subset of wikipedia called [wikitext-103](https://einstein.ai/research/blog/the-wikitext-long-term-dependency-language-modeling-dataset)). That model has been trained to guess what the next word is, its input being all the previous words. It has a recurrent structure and a hidden state that is updated each time it sees a new word. This hidden state thus contains information about the sentence up to that point.\n",
    "\n",
    "We are going to use that 'knowledge' of the English language to build our classifier, but first, like for computer vision, we need to fine-tune the pretrained model to our particular dataset. Because the English of the reviews left by people on IMDB isn't the same as the English of wikipedia, we'll need to adjust the parameters of our model by a little bit. Plus there might be some words that would be extremely common in the reviews dataset but would be barely present in wikipedia, and therefore might not be part of the vocabulary the model was trained on."
   ]
  },
  {
   "cell_type": "markdown",
   "metadata": {},
   "source": [
    "This is where the unlabelled data is going to be useful to us, as we can use it to fine-tune our model. Let's create our data object with the data block API (next line takes a few minutes)."
   ]
  },
  {
   "cell_type": "code",
   "execution_count": 17,
   "metadata": {},
   "outputs": [],
   "source": [
    "data_lm = (TextList.from_folder(path)\n",
    "           #Inputs: all the text files in path\n",
    "            .filter_by_folder(include=['train', 'test', 'unsup']) \n",
    "           #We may have other temp folders that contain text files so we only keep what's in train and test\n",
    "            .split_by_rand_pct(0.1)\n",
    "           #We randomly split and keep 10% (10,000 reviews) for validation\n",
    "            .label_for_lm()           \n",
    "           #We want to do a language model so we label accordingly\n",
    "            .databunch(bs=bs))\n",
    "data_lm.save('data_lm.pkl')"
   ]
  },
  {
   "cell_type": "markdown",
   "metadata": {},
   "source": [
    "We have to use a special kind of `TextDataBunch` for the language model, that ignores the labels (that's why we put 0 everywhere), will shuffle the texts at each epoch before concatenating them all together (only for training, we don't shuffle for the validation set) and will send batches that read that text in order with targets that are the next word in the sentence.\n",
    "\n",
    "The line before being a bit long, we want to load quickly the final ids by using the following cell."
   ]
  },
  {
   "cell_type": "code",
   "execution_count": 18,
   "metadata": {},
   "outputs": [],
   "source": [
    "data_lm = load_data(path, 'data_lm.pkl', bs=bs)"
   ]
  },
  {
   "cell_type": "code",
   "execution_count": 19,
   "metadata": {},
   "outputs": [
    {
     "data": {
      "text/html": [
       "<table border=\"1\" class=\"dataframe\">\n",
       "  <thead>\n",
       "    <tr style=\"text-align: right;\">\n",
       "      <th>idx</th>\n",
       "      <th>text</th>\n",
       "    </tr>\n",
       "  </thead>\n",
       "  <tbody>\n",
       "    <tr>\n",
       "      <td>0</td>\n",
       "      <td>* out of xxrep 4 * ) constitutes his plea for tolerance toward xxmaj israeli and xxmaj palestinian immigrants in xxmaj america . xxmaj these unfortunate people are often punished in xxmaj america for the crimes of their counterparts in the war - ravaged xxmaj middle xxmaj east . xxmaj although \" xxmaj zohan \" advocates a lofty cause , xxmaj sandler does n't let his political agenda overshadow his</td>\n",
       "    </tr>\n",
       "    <tr>\n",
       "      <td>1</td>\n",
       "      <td>least a few hits of the rewind button , i promise . \\n \\n  xxmaj andrew xxmaj robinson ( xxmaj hellraiser ) could be noted as the film 's only saving grace in the acting department ; he could 've been sleepwalking and gave a better performance than the rest of the cast . xxmaj but even he 's not in top form . xxmaj his greatest moment would</td>\n",
       "    </tr>\n",
       "    <tr>\n",
       "      <td>2</td>\n",
       "      <td>michael xxmaj madsen is a b movie actor and is appearing here in a d minus movie . xxmaj another b actor is xxmaj robert xxmaj carradine who along with xxmaj madsen appear less than five minute in this so called movie . xxmaj they are both quickly killed off and leave the film to be carried by a group of true amateurs . xxmaj speaking of amateurs the entire</td>\n",
       "    </tr>\n",
       "    <tr>\n",
       "      <td>3</td>\n",
       "      <td>without xxmaj rigaud ! xxmaj it is through this colorful and evil character , \" with his nose coming down over his mustache , and his mustache going up under his nose , \" who is blackmailing xxmaj mrs xxmaj clennam , with the help of xxmaj xxunk , that xxmaj mrs. xxmaj clennam 's secret is revealed , and his involvement is essential to the building suspense surrounding this</td>\n",
       "    </tr>\n",
       "    <tr>\n",
       "      <td>4</td>\n",
       "      <td>wound you never see take place . \\n \\n  xxmaj susan xxmaj cabot plays the good girl with first a yen for mcnally and then for xxmaj murphy . xxmaj faith xxmaj domergue is the bad girl , bad as they come in westerns . xxmaj she 's in cahoots with the bad guys and shamelessly flirts with mcnally and young gun xxmaj eugene xxmaj iglesias while all the</td>\n",
       "    </tr>\n",
       "  </tbody>\n",
       "</table>"
      ],
      "text/plain": [
       "<IPython.core.display.HTML object>"
      ]
     },
     "metadata": {},
     "output_type": "display_data"
    }
   ],
   "source": [
    "data_lm.show_batch()"
   ]
  },
  {
   "cell_type": "markdown",
   "metadata": {},
   "source": [
    "We can then put this in a learner object very easily with a model loaded with the pretrained weights. They'll be downloaded the first time you'll execute the following line and stored in `~/.fastai/models/` (or elsewhere if you specified different paths in your config file)."
   ]
  },
  {
   "cell_type": "code",
   "execution_count": 20,
   "metadata": {},
   "outputs": [],
   "source": [
    "learn = language_model_learner(data_lm, AWD_LSTM, drop_mult=0.3)"
   ]
  },
  {
   "cell_type": "code",
   "execution_count": 21,
   "metadata": {},
   "outputs": [
    {
     "data": {
      "text/html": [],
      "text/plain": [
       "<IPython.core.display.HTML object>"
      ]
     },
     "metadata": {},
     "output_type": "display_data"
    },
    {
     "name": "stdout",
     "output_type": "stream",
     "text": [
      "LR Finder is complete, type {learner_name}.recorder.plot() to see the graph.\n"
     ]
    }
   ],
   "source": [
    "learn.lr_find()"
   ]
  },
  {
   "cell_type": "code",
   "execution_count": 22,
   "metadata": {},
   "outputs": [
    {
     "data": {
      "image/png": "[encoded data removed]",
      "text/plain": [
       "<Figure size 432x288 with 1 Axes>"
      ]
     },
     "metadata": {
      "needs_background": "light"
     },
     "output_type": "display_data"
    }
   ],
   "source": [
    "learn.recorder.plot(skip_end=15)"
   ]
  },
  {
   "cell_type": "markdown",
   "metadata": {},
   "source": [
    "learn.fit_one_cycle(1, 1e-2, moms=(0.8,0.7))"
   ]
  },
  {
   "cell_type": "code",
   "execution_count": 23,
   "metadata": {},
   "outputs": [],
   "source": [
    "learn.save('fit_head')"
   ]
  },
  {
   "cell_type": "code",
   "execution_count": null,
   "metadata": {},
   "outputs": [],
   "source": [
    "learn.load('fit_head');"
   ]
  },
  {
   "cell_type": "markdown",
   "metadata": {},
   "source": [
    "To complete the fine-tuning, we can then unfeeze and launch a new training."
   ]
  },
  {
   "cell_type": "code",
   "execution_count": 24,
   "metadata": {},
   "outputs": [],
   "source": [
    "learn.unfreeze()"
   ]
  },
  {
   "cell_type": "markdown",
   "metadata": {},
   "source": [
    "learn.fit_one_cycle(10, 1e-3, moms=(0.8,0.7))"
   ]
  },
  {
   "cell_type": "code",
   "execution_count": 25,
   "metadata": {},
   "outputs": [],
   "source": [
    "learn.save('fine_tuned')"
   ]
  },
  {
   "cell_type": "markdown",
   "metadata": {},
   "source": [
    "How good is our model? Well let's try to see what it predicts after a few given words."
   ]
  },
  {
   "cell_type": "code",
   "execution_count": 26,
   "metadata": {},
   "outputs": [],
   "source": [
    "learn.load('fine_tuned');"
   ]
  },
  {
   "cell_type": "code",
   "execution_count": 27,
   "metadata": {},
   "outputs": [],
   "source": [
    "TEXT = \"I liked this movie because\"\n",
    "N_WORDS = 40\n",
    "N_SENTENCES = 2"
   ]
  },
  {
   "cell_type": "code",
   "execution_count": 28,
   "metadata": {},
   "outputs": [
    {
     "name": "stdout",
     "output_type": "stream",
     "text": [
      "I liked this movie because it was very much like a movie . The film that was initially intended to be a sequel to Thunderbirds was Harry Potter and the Half - Blood Prince , but the development\n",
      "I liked this movie because i wanted to write a film of the same name and \" Don ' t Worry , You 'll See \" had to leave the film in a place of plot . It is a\n"
     ]
    }
   ],
   "source": [
    "print(\"\\n\".join(learn.predict(TEXT, N_WORDS, temperature=0.75) for _ in range(N_SENTENCES)))"
   ]
  },
  {
   "cell_type": "markdown",
   "metadata": {},
   "source": [
    "We have to save not only the model, but also its encoder, the part that's responsible for creating and updating the hidden state. For the next part, we don't care about the part that tries to guess the next word."
   ]
  },
  {
   "cell_type": "code",
   "execution_count": 29,
   "metadata": {},
   "outputs": [],
   "source": [
    "learn.save_encoder('fine_tuned_enc')"
   ]
  },
  {
   "cell_type": "markdown",
   "metadata": {},
   "source": [
    "## Classifier"
   ]
  },
  {
   "cell_type": "markdown",
   "metadata": {},
   "source": [
    "Now, we'll create a new data object that only grabs the labelled data and keeps those labels. Again, this line takes a bit of time."
   ]
  },
  {
   "cell_type": "code",
   "execution_count": 30,
   "metadata": {},
   "outputs": [],
   "source": [
    "path = untar_data(URLs.IMDB)"
   ]
  },
  {
   "cell_type": "code",
   "execution_count": 31,
   "metadata": {},
   "outputs": [],
   "source": [
    "data_clas = (TextList.from_folder(path, vocab=data_lm.vocab)\n",
    "             #grab all the text files in path\n",
    "             .split_by_folder(valid='test')\n",
    "             #split by train and valid folder (that only keeps 'train' and 'test' so no need to filter)\n",
    "             .label_from_folder(classes=['neg', 'pos'])\n",
    "             #label them all with their folders\n",
    "             .databunch(bs=bs))\n",
    "\n",
    "data_clas.save('data_clas.pkl')"
   ]
  },
  {
   "cell_type": "code",
   "execution_count": 32,
   "metadata": {},
   "outputs": [],
   "source": [
    "data_clas = load_data(path, 'data_clas.pkl', bs=bs)"
   ]
  },
  {
   "cell_type": "code",
   "execution_count": 33,
   "metadata": {},
   "outputs": [
    {
     "data": {
      "text/html": [
       "<table border=\"1\" class=\"dataframe\">\n",
       "  <thead>\n",
       "    <tr style=\"text-align: right;\">\n",
       "      <th>text</th>\n",
       "      <th>target</th>\n",
       "    </tr>\n",
       "  </thead>\n",
       "  <tbody>\n",
       "    <tr>\n",
       "      <td>xxbos xxmaj match 1 : xxmaj tag xxmaj team xxmaj table xxmaj match xxmaj bubba xxmaj ray and xxmaj spike xxmaj dudley vs xxmaj eddie xxmaj guerrero and xxmaj chris xxmaj benoit xxmaj bubba xxmaj ray and xxmaj spike xxmaj dudley started things off with a xxmaj tag xxmaj team xxmaj table xxmaj match against xxmaj eddie xxmaj guerrero and xxmaj chris xxmaj benoit . xxmaj according to the rules</td>\n",
       "      <td>pos</td>\n",
       "    </tr>\n",
       "    <tr>\n",
       "      <td>xxbos * * xxmaj attention xxmaj spoilers * * \\n \\n  xxmaj first of all , let me say that xxmaj rob xxmaj roy is one of the best films of the 90 's . xxmaj it was an amazing achievement for all those involved , especially the acting of xxmaj liam xxmaj neeson , xxmaj jessica xxmaj lange , xxmaj john xxmaj hurt , xxmaj brian xxmaj cox</td>\n",
       "      <td>pos</td>\n",
       "    </tr>\n",
       "    <tr>\n",
       "      <td>xxbos xxmaj titanic directed by xxmaj james xxmaj cameron presents a fictional love story on the historical setting of the xxmaj titanic . xxmaj the plot is simple , xxunk , or not for those who love plots that twist and turn and keep you in suspense . xxmaj the end of the movie can be figured out within minutes of the start of the film , but the love</td>\n",
       "      <td>pos</td>\n",
       "    </tr>\n",
       "    <tr>\n",
       "      <td>xxbos xxup the xxup shop xxup around xxup the xxup corner is one of the sweetest and most feel - good romantic comedies ever made . xxmaj there 's just no getting around that , and it 's hard to actually put one 's feeling for this film into words . xxmaj it 's not one of those films that tries too hard , nor does it come up with</td>\n",
       "      <td>pos</td>\n",
       "    </tr>\n",
       "    <tr>\n",
       "      <td>xxbos xxmaj the premise of this movie has been tickling my imagination for quite some time now . xxmaj we 've all heard or read about it in some kind of con - text . xxmaj what would you do if you were all alone in the world ? xxmaj what would you do if the entire world suddenly disappeared in front of your eyes ? xxmaj in fact ,</td>\n",
       "      <td>pos</td>\n",
       "    </tr>\n",
       "  </tbody>\n",
       "</table>"
      ],
      "text/plain": [
       "<IPython.core.display.HTML object>"
      ]
     },
     "metadata": {},
     "output_type": "display_data"
    }
   ],
   "source": [
    "data_clas.show_batch()"
   ]
  },
  {
   "cell_type": "markdown",
   "metadata": {},
   "source": [
    "We can then create a model to classify those reviews and load the encoder we saved before."
   ]
  },
  {
   "cell_type": "code",
   "execution_count": 34,
   "metadata": {},
   "outputs": [],
   "source": [
    "learn = text_classifier_learner(data_clas, AWD_LSTM, drop_mult=0.5)\n",
    "learn.load_encoder('fine_tuned_enc')"
   ]
  },
  {
   "cell_type": "code",
   "execution_count": 35,
   "metadata": {},
   "outputs": [
    {
     "data": {
      "text/html": [],
      "text/plain": [
       "<IPython.core.display.HTML object>"
      ]
     },
     "metadata": {},
     "output_type": "display_data"
    },
    {
     "name": "stdout",
     "output_type": "stream",
     "text": [
      "LR Finder is complete, type {learner_name}.recorder.plot() to see the graph.\n"
     ]
    }
   ],
   "source": [
    "learn.lr_find()"
   ]
  },
  {
   "cell_type": "code",
   "execution_count": 36,
   "metadata": {},
   "outputs": [
    {
     "data": {
      "image/png": "[encoded data removed]",
      "text/plain": [
       "<Figure size 432x288 with 1 Axes>"
      ]
     },
     "metadata": {
      "needs_background": "light"
     },
     "output_type": "display_data"
    }
   ],
   "source": [
    "learn.recorder.plot()"
   ]
  },
  {
   "cell_type": "markdown",
   "metadata": {},
   "source": [
    "With fine tuned language model get this result:\n",
    "\n",
    "    Total time: 03:40\n",
    "\n",
    "    epoch \ttrain_loss \tvalid_loss \taccuracy\n",
    "        1 \t0.310078 \t0.197204 \t0.926960"
   ]
  },
  {
   "cell_type": "code",
   "execution_count": 37,
   "metadata": {},
   "outputs": [
    {
     "data": {
      "text/html": [
       "Total time: 02:56 <p><table style='width:375px; margin-bottom:10px'>\n",
       "  <tr>\n",
       "    <th>epoch</th>\n",
       "    <th>train_loss</th>\n",
       "    <th>valid_loss</th>\n",
       "    <th>accuracy</th>\n",
       "    <th>time</th>\n",
       "  </tr>\n",
       "  <tr>\n",
       "    <th>0</th>\n",
       "    <th>0.461191</th>\n",
       "    <th>0.388849</th>\n",
       "    <th>0.829200</th>\n",
       "    <th>02:56</th>\n",
       "  </tr>\n",
       "</table>\n"
      ],
      "text/plain": [
       "<IPython.core.display.HTML object>"
      ]
     },
     "metadata": {},
     "output_type": "display_data"
    }
   ],
   "source": [
    "learn.fit_one_cycle(1, 2e-2, moms=(0.8,0.7))"
   ]
  },
  {
   "cell_type": "code",
   "execution_count": 38,
   "metadata": {},
   "outputs": [],
   "source": [
    "learn.save('first')"
   ]
  },
  {
   "cell_type": "code",
   "execution_count": 39,
   "metadata": {},
   "outputs": [],
   "source": [
    "learn.load('first');"
   ]
  },
  {
   "cell_type": "code",
   "execution_count": 40,
   "metadata": {},
   "outputs": [
    {
     "data": {
      "text/html": [
       "Total time: 03:36 <p><table style='width:375px; margin-bottom:10px'>\n",
       "  <tr>\n",
       "    <th>epoch</th>\n",
       "    <th>train_loss</th>\n",
       "    <th>valid_loss</th>\n",
       "    <th>accuracy</th>\n",
       "    <th>time</th>\n",
       "  </tr>\n",
       "  <tr>\n",
       "    <th>0</th>\n",
       "    <th>0.345674</th>\n",
       "    <th>0.259775</th>\n",
       "    <th>0.892720</th>\n",
       "    <th>03:36</th>\n",
       "  </tr>\n",
       "</table>\n"
      ],
      "text/plain": [
       "<IPython.core.display.HTML object>"
      ]
     },
     "metadata": {},
     "output_type": "display_data"
    }
   ],
   "source": [
    "learn.freeze_to(-2)\n",
    "learn.fit_one_cycle(1, slice(1e-2/(2.6**4),1e-2), moms=(0.8,0.7))"
   ]
  },
  {
   "cell_type": "code",
   "execution_count": 41,
   "metadata": {},
   "outputs": [],
   "source": [
    "learn.save('second')"
   ]
  },
  {
   "cell_type": "code",
   "execution_count": 42,
   "metadata": {},
   "outputs": [],
   "source": [
    "learn.load('second');"
   ]
  },
  {
   "cell_type": "markdown",
   "metadata": {},
   "source": [
    "With fine tuned language model get this result:\n",
    "\n",
    "    Total time: 05:42\n",
    "\n",
    "    epoch \ttrain_loss \tvalid_loss \taccuracy\n",
    "        1 \t0.223174 \t0.165679 \t0.939600"
   ]
  },
  {
   "cell_type": "code",
   "execution_count": 43,
   "metadata": {},
   "outputs": [
    {
     "data": {
      "text/html": [
       "Total time: 04:43 <p><table style='width:375px; margin-bottom:10px'>\n",
       "  <tr>\n",
       "    <th>epoch</th>\n",
       "    <th>train_loss</th>\n",
       "    <th>valid_loss</th>\n",
       "    <th>accuracy</th>\n",
       "    <th>time</th>\n",
       "  </tr>\n",
       "  <tr>\n",
       "    <th>0</th>\n",
       "    <th>0.268781</th>\n",
       "    <th>0.205937</th>\n",
       "    <th>0.918320</th>\n",
       "    <th>04:43</th>\n",
       "  </tr>\n",
       "</table>\n"
      ],
      "text/plain": [
       "<IPython.core.display.HTML object>"
      ]
     },
     "metadata": {},
     "output_type": "display_data"
    }
   ],
   "source": [
    "learn.freeze_to(-3)\n",
    "learn.fit_one_cycle(1, slice(5e-3/(2.6**4),5e-3), moms=(0.8,0.7))"
   ]
  },
  {
   "cell_type": "code",
   "execution_count": 44,
   "metadata": {},
   "outputs": [],
   "source": [
    "learn.save('third')"
   ]
  },
  {
   "cell_type": "code",
   "execution_count": 45,
   "metadata": {},
   "outputs": [
    {
     "data": {
      "text/plain": [
       "RNNLearner(data=TextClasDataBunch;\n",
       "\n",
       "Train: LabelList (25000 items)\n",
       "x: TextList\n",
       "xxbos \" xxmaj sandra , the xxmaj making of a xxmaj woman \" is a standout among exploitation films , and is so for two reasons : ( 1 ) an excellent , yet effortless , performance by xxmaj monica xxmaj gayle , and ( 2 ) the fact that xxmaj gary xxmaj graver was at the helm of the project . xxmaj these two talents , both of whom are quite underrated , make \" xxmaj sandra \" a film that should be seen . \n",
       " \n",
       "  xxmaj another key element of the film 's success is its realism -- there is nothing fake or \" xxmaj hollywood \" about this set - in - xxmaj california film . xxmaj it is truly a slice of life . xxmaj the modest house in which xxmaj sandra lives at the beginning of the film , the simple dresses worn by the character , the scene where xxmaj sandra wakes up in the morning to find xxmaj uschi xxmaj digart bouncing at her front door , and xxmaj sandra sits on the couch without make - up , while xxmaj digart tries to sell her some cosmetics , looking truly as if she just woke up ( but nevertheless beautiful ) , the harmless weirdo xxmaj sandra picks up who likes to make love with her while he wears a bra , the one - room apartment into which xxmaj sandra moves --all of these elements of the film seem totally real , and as such , the viewer is drawn into xxmaj sandra 's little world from the beginning and immediately becomes interested in her and wants her to succeed . xxmaj sandra also makes her case for free love with eloquence and dignity and she comes off with a lot of class . \n",
       " \n",
       "  xxmaj this film could have easily failed in less competent hands , and could have gone off in any of the usual sexploitation directions , but the xxmaj xxunk / xxmaj gale team see to it that \" xxmaj sandra \" is not only the making of a woman but the making of an excellent film .,xxbos xxmaj in xxmaj new xxmaj york , xxmaj andy xxmaj hanson ( xxmaj philip xxmaj seymour xxmaj hoffman ) is an addicted executive of a real estate office that has embezzled a large amount for his addiction and expensive way of life with his wife xxmaj gina ( xxmaj marisa xxmaj tomei ) . xxmaj when an audit is scheduled in his department , he becomes desperate for money . xxmaj his baby brother xxmaj hank xxmaj hanson ( xxmaj ethan xxmaj hawke ) is a complete loser that owes three months of child support to his daughter , and is having a love affair with xxmaj gina every xxmaj thursday afternoon . xxmaj andy plots a heist of the jewelry of their parent in a xxmaj saturday morning without the use of guns , expecting to find an old employee working and without financial damage to his parents , since the insurance company would reimburse the loss . xxmaj on xxmaj monday morning , we would raise the necessary money he needs to cover his embezzlement . xxmaj he invites xxmaj hank to participate , since he is very well known in the mall where the jewelry is located and could be recognized . xxmaj however , xxmaj hank yellows and invites the thief xxmaj bobby xxmaj xxunk ( xxmaj brian xxup f. o'byrne ) to steal the store , but things go wrong when their mother xxmaj nanette ( xxmaj rosemary xxmaj harris ) comes to work as the substitute for the clerk and xxmaj bobby brings a hidden gun . xxmaj nanette reacts and kills xxmaj bobby but she is also lethally shot . xxmaj after the death of xxmaj nanette , their father xxmaj charles xxmaj hanson ( xxmaj albert xxmaj finney ) decides to investigate the robbery with tragic consequences . \n",
       " \n",
       "  \" xxmaj before the xxmaj devil xxmaj knows xxmaj you 're xxmaj dead \" is a comedy of errors , disclosing a good story . xxmaj the originality and the difference are in the screenplay , with a non - linear narrative à la \" xxmaj pulp xxmaj fiction \" . xxmaj the eighty - three year - old xxmaj sidney xxmaj lumet has another great work and it is impressive the longevity of this director . xxmaj philip xxmaj seymour xxmaj hoffman is awesome in the role of a dysfunctional man with traumatic relationship with his father that feels the world falling apart mostly because of his insecure and clumsy brother . xxmaj marisa xxmaj tomei is still impressively gorgeous and sexy , showing a magnificent body . xxmaj the violent conclusion shows that the world is indeed an evil place . xxmaj my vote is seven . \n",
       " \n",
       "  xxmaj title ( xxmaj brazil ) : \" xxmaj xxunk xxmaj que o xxmaj xxunk xxmaj xxunk xxmaj que xxmaj xxunk xxmaj xxunk xxmaj xxunk \" ( \" xxmaj before the xxmaj devil xxmaj knows xxmaj you 're xxmaj dead \" ),xxbos xxmaj this is a perfect series for family viewing . xxmaj we gather around the xxup tv to watch this on xxup bbc xxmaj america . xxmaj it is an up - to - date version of xxmaj robin xxmaj hood and it appeals to children and adults alike . xxmaj our teenager and tween - ager both enjoy sitting with mom and dad and watching xxmaj robin 's next exploits . xxmaj we ca n't wait for the next episode to air each week and are glad for the free \" xxmaj on xxmaj demand \" viewing . \n",
       " \n",
       "  xxmaj the wardrobe has a spot of current fashion . xxmaj there is a moral to each story . xxmaj it is entertaining . xxmaj the violence is not over - the - top or needless . xxmaj the soundtrack is absolutely fantastic with a xxmaj john xxmaj william 's feel to it . xxmaj it is an old world tale that is brought to life again with a new world flair . \n",
       " \n",
       "  xxmaj there is so much garbage on television from brain rotting \" reality \" xxup tv to senseless violence . xxmaj you should take this for what it is and that is an updated \" xxmaj robin xxmaj hood \" not to be compared with the movie exploits of xxmaj errol xxmaj flynn . xxmaj this is a gem to be enjoyed by all . xxmaj parents that are concerned about their children watching too much violence will enjoy that xxmaj robin has lost his taste for war and bloodshed . xxmaj he is a xxmaj robin xxmaj hood that would rather attempt to reason his way out of a disagreement than fight . xxmaj maid xxmaj marian is also an appealing role model for young girls . xxmaj rather than stand by and do nothing , she takes her own role in helping the poor by being the \" xxmaj night xxmaj watchman . \" xxmaj the xxmaj sheriff of xxmaj nottingham is deliciously over the top wicked , just as the xxmaj sheriff should be and looks like a cross between xxmaj billy xxmaj joel and xxmaj tim xxmaj curry . xxmaj guy xxmaj gisborne is played by an extremely handsome actor , one that makes most women wish he did n't have portray the role of a bad \" xxmaj guy \" . \n",
       " \n",
       "  xxmaj the only question we have is \" xxmaj where is xxmaj friar xxmaj tuck ? \",xxbos xxup earth ( 2009 ) * * * 1 / 2 xxmaj big screen adaptation of the xxup bbc / xxmaj discovery xxmaj channel series \" xxmaj planet xxmaj earth \" offers quite a majestic sampling of nature in all its beauty with some truly jaw - dropping moments of \" how the hell did they get this footage ? ! \" while taking in the awesome xxunk of animals in their natural habitats and environmental message of the circle of life can be cruel ( witness a xxmaj great xxmaj white xxmaj shark gulping down a walrus seal as a quick meal ! ) and adorable ( the various babies and their ' rents ) . xxmaj the basso profundo tones of narrator xxmaj james xxmaj earl xxmaj jones solidifies its ' xxmaj god 's eye views ' and profundity . xxmaj culled from literally hundreds of hours of footage , the only gripe comes from the fact this should have been in the xxup imax format and could 've even gone longer ! xxmaj oh , well , there 's always the next time ( since xxmaj disney xxmaj studios has produced this count on a series of more to come ) . xxmaj xxunk : xxmaj alastair xxmaj fothergill & xxmaj mark xxmaj linfield .,xxbos i saw this with few expectations and absolutely loved it ! xxmaj bend it like xxmaj beckham is a fairly typical coming - of - age movie about a fairly atypical girl . xxmaj this is xxmaj parminder xxmaj nagra ( \" xxup er \" ) 's breakout role , playing xxmaj jess , a teenager in xxmaj england who is caught between her traditional xxmaj indian family and her love of football ( that 's soccer to us xxmaj north xxmaj americans ) . xxmaj and even though she 's actually much older than her character , she plays the role pitch - perfect . \n",
       " \n",
       "  xxmaj this is a movie about friendship - specifically xxmaj jess 's friendship with xxmaj jules ( xxmaj keira xxmaj knightley ) , her teammate who is also going through family issues , especially with her mom , who wears purple nail polish and little bows on her shoes , and who wants xxmaj jules to be more feminine , wear lacy underwear and flirt with boys and is terrified that playing sports means her daughter is a lesbian . xxmaj jules and xxmaj jess both love playing the game and have issues trying to convince their families to let them go after their dreams . xxmaj they also , unfortunately , both love the same man - xxmaj joe , their coach ( played by xxmaj jonathan xxmaj rhys - xxmaj meyers ) . xxmaj the love triangle causes some strain in their friendship . \n",
       " \n",
       "  xxmaj in some spots , xxmaj bend xxmaj it xxmaj like xxmaj beckham falls into clichés . xxmaj in others , scenes drag on far too long , and this movie probably could have benefited from overall tighter editing . \n",
       " \n",
       "  xxmaj but this was a refreshingly fun film about growing up , culture clash , and the love of football . xxmaj it 's about female empowerment , chasing your dreams , and supporting your friends . xxmaj funny , charming and fun , xxmaj bend xxmaj it xxmaj like xxmaj beckham is the little film that could ... and did . \n",
       " \n",
       "  xxmaj excellent . 8 / 10 .\n",
       "y: CategoryList\n",
       "pos,pos,pos,pos,pos\n",
       "Path: /home/jupyter/.fastai/data/imdb;\n",
       "\n",
       "Valid: LabelList (25000 items)\n",
       "x: TextList\n",
       "xxbos xxmaj previous commentators have noted the similarity in appearance between this film and xxmaj the xxmaj third xxmaj man , director xxmaj carol xxmaj reed 's classic film noir starring xxmaj orson xxmaj welles and xxmaj joseph xxmaj cotten . xxmaj this similarity strikes the viewer almost immediately . xxmaj it is , indeed , high praise to be compared to xxmaj robert xxmaj krasker 's academy award- winning cinematography in xxmaj the xxmaj third xxmaj man . \n",
       " \n",
       "  xxmaj the plot of xxmaj stolen xxmaj identity also has been delineated fairly accurately but in rather ordinary terms . i found it highly creative and entertaining . xxmaj as common as the \" xxmaj mistaken - or xxmaj stolen - xxmaj identity \" device is in both theater and cinema , it is only a device and not to be mistaken for the plot , itself . xxmaj consequently , while the viewer may have seen this device \" a thousand \" times , the plot of xxmaj stolen xxmaj identity is full of surprises and twists based upon this device . xxmaj it is the unexpected turns that make this film much fresher , more original and engrossing than a plot synopsis might convey . xxmaj stolen xxmaj identity does n't rely on the kind of suspense that characterizes most film noire , because there is no real mystery here . xxmaj instead , it relies on constant , smaller surprises . xxmaj in short , the xxmaj mistaken xxmaj identity device is rather common ; but this plot is not . \n",
       " \n",
       "  xxmaj finally , although i was not familiar with the cast , i found the acting to be uniformly good , occasionally outstanding . i easily could have imagined other actors turning this film into a melodrama , with bombast , overblown gestures and obvious facial expressions . xxmaj the acting is always more restrained and subtle . xxmaj donald xxmaj buka is especially restrained and credible , never \" blowing his cover \" with an obvious facial expression as we see too often in films that depend on the maintenance of subterfuge to sustain dramatic tension . \n",
       " \n",
       "  xxmaj the only disappointment in this otherwise fine film was the very weak development of the love story sub - plot . xxmaj as it stands , it seems like an afterthought - a mild surprise , in fact - tacked on to the end . xxmaj or perhaps during their shared ordeal , the actors simply could n't convey a palpable level of chemistry that i could appreciate . xxmaj this sub - plot should have been made more apparent as the story unfolded . xxmaj all in all , i thought this film was a fine little gem , and i wondered why i had not seen it before . xxmaj try it , you 'll like it .,xxbos i xxup sell xxup the xxup dead ( 2009 ) * * 1 / 2 xxmaj dominic xxmaj monaghan , xxmaj larry xxmaj fessenden , xxmaj ron xxmaj perlman , xxmaj angus xxmaj scrimm , xxmaj john xxmaj speredakos , xxmaj eileen xxmaj xxunk , xxmaj brenda xxmaj cooney . xxmaj uneven blend of horror and comedy that poses as a valentine to the ' 60s horror films by xxmaj roger xxmaj corman and xxmaj hammer xxmaj studios , with two cretinous grave robbers ( xxmaj monaghan and xxmaj fessenden ) facing final punishments for the crimes via the guillotine but not before their tales of the occult can be recalled in flashbacks . xxmaj amusing and a few well sprinkled jolts but really a mess of a b - movie trying in vein to be a cult classic largely thanks to the casting of genre vets xxmaj perlman and xxmaj scrimm to no avail ; a good rental for xxmaj halloween . ( xxmaj dir : xxmaj glenn mcquaid ),xxbos xxmaj if you enjoyed films like xxmaj pulp xxmaj fiction , xxmaj reservoir xxmaj dogs , and xxmaj lock , xxmaj stock , and xxmaj two xxmaj smoking xxmaj barrels , you are going to xxup love xxmaj two xxmaj hands . xxmaj it has the same type of black humor beat to it and will keep you entertained through the whole film . xxmaj like xxmaj pulp xxmaj fiction , it has the wacky scenarios that the characters get into and how they deal with them . xxmaj along with xxmaj gallipoli and xxmaj picnic at xxmaj hanging xxmaj rock , this has to be one of the best xxmaj australian films i 've seen . xxmaj it also stars a young xxmaj heath xxmaj ledger before he got real big in the states . \n",
       " \n",
       "  xxmaj this is a terribly underrated movie that i believe is just as good as xxmaj pulp xxmaj fiction and those greats . xxmaj you have to see it !,xxbos xxmaj jesse yet again delivers , after almost 12 months of hype about his upcoming production it finally reaches the dark world of the internet with more than a brilliant approach to amateur film making . \n",
       " \n",
       "  xxup xxunk is a original , nail - biting commentary on a troubled child growing into an even more troubled adult . if i had more than two thumbs , i would give more , but i think two will be enough . \n",
       " \n",
       "  xxmaj great work from all cast , especially by xxmaj marissa and xxmaj elizabeth , the character of xxmaj emily as an adult has given me shivers so far and i 'm afraid of where she 'll go next . \n",
       " \n",
       "  xxmaj an excellent watch,xxbos xxmaj this is a clever and entertaining film about the backroom battling that went on to choose a successor to xxmaj johnny xxmaj carson on the xxmaj tonight xxmaj show . xxmaj however , the movie 's ultimate thesis , that xxmaj david xxmaj letterman 's superior comedic talents were overlooked because of his controversial nature , and the show diminished by the xxunk of an inferior xxmaj jay xxmaj leno in the leading comedy program on television is simply untrue , as anyone who has watched both xxmaj leno and xxmaj letterman perform can see for themselves . xxmaj the hard and simple truth is exactly as one xxup nbc exec stated in the film \" xxmaj jay xxmaj leno is the funniest man in xxmaj america . \" xxmaj and xxmaj david xxmaj letterman is not . xxmaj once you realize this , then much of the machinations in the film become irrelevant . xxmaj ultimately , the whole film amounts to little more than sour grapes by xxmaj letterman fans , who just can not accept that the better comic was chosen by people whose business it is to know these kind of things . xxmaj the final proof is that despite xxmaj letterman 's early lead , possibly because of the hype that emerged from the battle for xxmaj tonight xxmaj show succession , xxmaj leno 's show has consistently proved to be the more popular , thus , in my mind at least , refuting xxmaj letterman 's claims to be unfairly robbed of his rightful inheritance .\n",
       "y: CategoryList\n",
       "pos,pos,pos,pos,pos\n",
       "Path: /home/jupyter/.fastai/data/imdb;\n",
       "\n",
       "Test: None, model=SequentialRNN(\n",
       "  (0): MultiBatchEncoder(\n",
       "    (module): AWD_LSTM(\n",
       "      (encoder): Embedding(60000, 400, padding_idx=1)\n",
       "      (encoder_dp): EmbeddingDropout(\n",
       "        (emb): Embedding(60000, 400, padding_idx=1)\n",
       "      )\n",
       "      (rnns): ModuleList(\n",
       "        (0): WeightDropout(\n",
       "          (module): LSTM(400, 1152, batch_first=True)\n",
       "        )\n",
       "        (1): WeightDropout(\n",
       "          (module): LSTM(1152, 1152, batch_first=True)\n",
       "        )\n",
       "        (2): WeightDropout(\n",
       "          (module): LSTM(1152, 400, batch_first=True)\n",
       "        )\n",
       "      )\n",
       "      (input_dp): RNNDropout()\n",
       "      (hidden_dps): ModuleList(\n",
       "        (0): RNNDropout()\n",
       "        (1): RNNDropout()\n",
       "        (2): RNNDropout()\n",
       "      )\n",
       "    )\n",
       "  )\n",
       "  (1): PoolingLinearClassifier(\n",
       "    (layers): Sequential(\n",
       "      (0): BatchNorm1d(1200, eps=1e-05, momentum=0.1, affine=True, track_running_stats=True)\n",
       "      (1): Dropout(p=0.2)\n",
       "      (2): Linear(in_features=1200, out_features=50, bias=True)\n",
       "      (3): ReLU(inplace)\n",
       "      (4): BatchNorm1d(50, eps=1e-05, momentum=0.1, affine=True, track_running_stats=True)\n",
       "      (5): Dropout(p=0.1)\n",
       "      (6): Linear(in_features=50, out_features=2, bias=True)\n",
       "    )\n",
       "  )\n",
       "), opt_func=functools.partial(<class 'torch.optim.adam.Adam'>, betas=(0.9, 0.99)), loss_func=FlattenedLoss of CrossEntropyLoss(), metrics=[<function accuracy at 0x7ff1a2b60488>], true_wd=True, bn_wd=True, wd=0.01, train_bn=True, path=PosixPath('/home/jupyter/.fastai/data/imdb'), model_dir='models', callback_fns=[functools.partial(<class 'fastai.basic_train.Recorder'>, add_time=True, silent=False)], callbacks=[RNNTrainer\n",
       "learn: ...\n",
       "alpha: 2.0\n",
       "beta: 1.0], layer_groups=[Sequential(\n",
       "  (0): Embedding(60000, 400, padding_idx=1)\n",
       "  (1): EmbeddingDropout(\n",
       "    (emb): Embedding(60000, 400, padding_idx=1)\n",
       "  )\n",
       "), Sequential(\n",
       "  (0): WeightDropout(\n",
       "    (module): LSTM(400, 1152, batch_first=True)\n",
       "  )\n",
       "  (1): RNNDropout()\n",
       "), Sequential(\n",
       "  (0): WeightDropout(\n",
       "    (module): LSTM(1152, 1152, batch_first=True)\n",
       "  )\n",
       "  (1): RNNDropout()\n",
       "), Sequential(\n",
       "  (0): WeightDropout(\n",
       "    (module): LSTM(1152, 400, batch_first=True)\n",
       "  )\n",
       "  (1): RNNDropout()\n",
       "), Sequential(\n",
       "  (0): PoolingLinearClassifier(\n",
       "    (layers): Sequential(\n",
       "      (0): BatchNorm1d(1200, eps=1e-05, momentum=0.1, affine=True, track_running_stats=True)\n",
       "      (1): Dropout(p=0.2)\n",
       "      (2): Linear(in_features=1200, out_features=50, bias=True)\n",
       "      (3): ReLU(inplace)\n",
       "      (4): BatchNorm1d(50, eps=1e-05, momentum=0.1, affine=True, track_running_stats=True)\n",
       "      (5): Dropout(p=0.1)\n",
       "      (6): Linear(in_features=50, out_features=2, bias=True)\n",
       "    )\n",
       "  )\n",
       ")], add_time=True, silent=None)"
      ]
     },
     "execution_count": 45,
     "metadata": {},
     "output_type": "execute_result"
    }
   ],
   "source": [
    "learn.load('third')"
   ]
  },
  {
   "cell_type": "markdown",
   "metadata": {},
   "source": [
    "With fine tuned language model get this result:\n",
    "\n",
    "    Total time: 15:17\n",
    "\n",
    "    epoch \ttrain_loss \tvalid_loss \taccuracy\n",
    "    1 \t0.240424 \t0.155204 \t0.943160\n",
    "    2 \t0.217462 \t0.153421 \t0.943960"
   ]
  },
  {
   "cell_type": "code",
   "execution_count": 46,
   "metadata": {},
   "outputs": [
    {
     "data": {
      "text/html": [
       "Total time: 11:03 <p><table style='width:375px; margin-bottom:10px'>\n",
       "  <tr>\n",
       "    <th>epoch</th>\n",
       "    <th>train_loss</th>\n",
       "    <th>valid_loss</th>\n",
       "    <th>accuracy</th>\n",
       "    <th>time</th>\n",
       "  </tr>\n",
       "  <tr>\n",
       "    <th>0</th>\n",
       "    <th>0.237766</th>\n",
       "    <th>0.195987</th>\n",
       "    <th>0.924360</th>\n",
       "    <th>05:25</th>\n",
       "  </tr>\n",
       "  <tr>\n",
       "    <th>1</th>\n",
       "    <th>0.211953</th>\n",
       "    <th>0.196726</th>\n",
       "    <th>0.925160</th>\n",
       "    <th>05:37</th>\n",
       "  </tr>\n",
       "</table>\n"
      ],
      "text/plain": [
       "<IPython.core.display.HTML object>"
      ]
     },
     "metadata": {},
     "output_type": "display_data"
    }
   ],
   "source": [
    "learn.unfreeze()\n",
    "learn.fit_one_cycle(2, slice(1e-3/(2.6**4),1e-3), moms=(0.8,0.7))"
   ]
  },
  {
   "cell_type": "code",
   "execution_count": 47,
   "metadata": {},
   "outputs": [
    {
     "data": {
      "text/html": [
       "Total time: 16:08 <p><table style='width:375px; margin-bottom:10px'>\n",
       "  <tr>\n",
       "    <th>epoch</th>\n",
       "    <th>train_loss</th>\n",
       "    <th>valid_loss</th>\n",
       "    <th>accuracy</th>\n",
       "    <th>time</th>\n",
       "  </tr>\n",
       "  <tr>\n",
       "    <th>0</th>\n",
       "    <th>0.200293</th>\n",
       "    <th>0.192823</th>\n",
       "    <th>0.926040</th>\n",
       "    <th>05:19</th>\n",
       "  </tr>\n",
       "  <tr>\n",
       "    <th>1</th>\n",
       "    <th>0.198693</th>\n",
       "    <th>0.194554</th>\n",
       "    <th>0.926840</th>\n",
       "    <th>05:15</th>\n",
       "  </tr>\n",
       "  <tr>\n",
       "    <th>2</th>\n",
       "    <th>0.156156</th>\n",
       "    <th>0.195407</th>\n",
       "    <th>0.927880</th>\n",
       "    <th>05:33</th>\n",
       "  </tr>\n",
       "</table>\n"
      ],
      "text/plain": [
       "<IPython.core.display.HTML object>"
      ]
     },
     "metadata": {},
     "output_type": "display_data"
    }
   ],
   "source": [
    "learn.unfreeze()\n",
    "learn.fit_one_cycle(3, slice(1e-3/(2.6**4),1e-3), moms=(0.8,0.7))"
   ]
  },
  {
   "cell_type": "code",
   "execution_count": null,
   "metadata": {},
   "outputs": [
    {
     "data": {
      "text/plain": [
       "(Category pos, tensor(1), tensor([7.5928e-04, 9.9924e-01]))"
      ]
     },
     "execution_count": null,
     "metadata": {},
     "output_type": "execute_result"
    }
   ],
   "source": [
    "learn.predict(\"I really loved that movie, it was awesome!\")"
   ]
  },
  {
   "cell_type": "code",
   "execution_count": null,
   "metadata": {},
   "outputs": [],
   "source": []
  }
 ],
 "metadata": {
  "kernelspec": {
   "display_name": "Python 3",
   "language": "python",
   "name": "python3"
  },
  "language_info": {
   "codemirror_mode": {
    "name": "ipython",
    "version": 3
   },
   "file_extension": ".py",
   "mimetype": "text/x-python",
   "name": "python",
   "nbconvert_exporter": "python",
   "pygments_lexer": "ipython3",
   "version": "3.7.3"
  }
 },
 "nbformat": 4,
 "nbformat_minor": 4
}
