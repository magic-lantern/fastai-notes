{
 "cells": [
  {
   "cell_type": "markdown",
   "metadata": {},
   "source": [
    "## Using FAST.AI for NLP\n",
    "\n",
    "Exploring the MIMIC III data set medical notes.\n",
    "\n",
    "Tried working with the full dataset, but almost every training step takes many hours (~13 for initial training), predicted 14+ per epoch for fine tuning.\n",
    "\n",
    "Instead will try to work with just 10% sample... Not sure that will work though\n",
    "\n",
    "A few notes:\n",
    "* See https://docs.fast.ai/text.transform.html#Tokenizer for details on what various artificial tokens (e.g xxup, xxmaj, etc.) mean\n",
    "* Due to a change in the markdown package private API, the 'doc' functionality (e.g. ` doc(learn.lr_find)`) is currently broken. See https://github.com/fastai/fastai/commit/21faa5d187b2cccf2a48315d183c2863ed2cdc50"
   ]
  },
  {
   "cell_type": "code",
   "execution_count": 4,
   "metadata": {},
   "outputs": [],
   "source": [
    "from fastai.text import *\n",
    "from sklearn.model_selection import train_test_split"
   ]
  },
  {
   "cell_type": "code",
   "execution_count": 5,
   "metadata": {},
   "outputs": [],
   "source": [
    "# run this to see what has already been imported\n",
    "#whos"
   ]
  },
  {
   "cell_type": "code",
   "execution_count": 6,
   "metadata": {},
   "outputs": [],
   "source": [
    "# pandas doesn't understand ~, so provide full path\n",
    "base_path = Path('/home/jupyter/mimic')"
   ]
  },
  {
   "cell_type": "code",
   "execution_count": 7,
   "metadata": {},
   "outputs": [],
   "source": [
    "# run this the first time to covert CSV to Pickle file\n",
    "df = pd.read_csv(base_path/'NOTEEVENTS.csv', low_memory=False, memory_map=True)\n",
    "df.to_pickle(base_path/'noteevents.pickle')"
   ]
  },
  {
   "cell_type": "code",
   "execution_count": 8,
   "metadata": {},
   "outputs": [],
   "source": [
    "filename = base_path/'noteevents.pickle'\n",
    "\n",
    "if os.path.isfile(filename):\n",
    "    # this is much faster than reading a csv\n",
    "    orig_df = pd.read_pickle(filename)\n",
    "else:\n",
    "    print('Could not find noteevent pickle file; creating it')\n",
    "    # run this the first time to covert CSV to Pickle file\n",
    "    orig_df = pd.read_csv(base_path/'NOTEEVENTS.csv', low_memory=False, memory_map=True)\n",
    "    orig_df.to_pickle(filename)"
   ]
  },
  {
   "cell_type": "code",
   "execution_count": 9,
   "metadata": {},
   "outputs": [],
   "source": [
    "df = orig_df.sample(frac=0.1)"
   ]
  },
  {
   "cell_type": "code",
   "execution_count": 10,
   "metadata": {},
   "outputs": [
    {
     "data": {
      "text/html": [
       "<div>\n",
       "<style scoped>\n",
       "    .dataframe tbody tr th:only-of-type {\n",
       "        vertical-align: middle;\n",
       "    }\n",
       "\n",
       "    .dataframe tbody tr th {\n",
       "        vertical-align: top;\n",
       "    }\n",
       "\n",
       "    .dataframe thead th {\n",
       "        text-align: right;\n",
       "    }\n",
       "</style>\n",
       "<table border=\"1\" class=\"dataframe\">\n",
       "  <thead>\n",
       "    <tr style=\"text-align: right;\">\n",
       "      <th></th>\n",
       "      <th>ROW_ID</th>\n",
       "      <th>SUBJECT_ID</th>\n",
       "      <th>HADM_ID</th>\n",
       "      <th>CHARTDATE</th>\n",
       "      <th>CHARTTIME</th>\n",
       "      <th>STORETIME</th>\n",
       "      <th>CATEGORY</th>\n",
       "      <th>DESCRIPTION</th>\n",
       "      <th>CGID</th>\n",
       "      <th>ISERROR</th>\n",
       "      <th>TEXT</th>\n",
       "    </tr>\n",
       "  </thead>\n",
       "  <tbody>\n",
       "    <tr>\n",
       "      <th>2044605</th>\n",
       "      <td>2074653</td>\n",
       "      <td>31597</td>\n",
       "      <td>131426.0</td>\n",
       "      <td>2199-07-03</td>\n",
       "      <td>2199-07-03 17:15:00</td>\n",
       "      <td>2199-07-03 17:28:00</td>\n",
       "      <td>Nursing/other</td>\n",
       "      <td>Report</td>\n",
       "      <td>15819.0</td>\n",
       "      <td>NaN</td>\n",
       "      <td>NPN [**6-/2092**]\\n\\n\\n\\n #1. rec [**Month/Yea...</td>\n",
       "    </tr>\n",
       "    <tr>\n",
       "      <th>1415322</th>\n",
       "      <td>1434629</td>\n",
       "      <td>13177</td>\n",
       "      <td>131846.0</td>\n",
       "      <td>2126-11-18</td>\n",
       "      <td>2126-11-18 05:45:00</td>\n",
       "      <td>2126-11-18 06:04:00</td>\n",
       "      <td>Nursing/other</td>\n",
       "      <td>Report</td>\n",
       "      <td>19963.0</td>\n",
       "      <td>NaN</td>\n",
       "      <td>NEURO:  ORALLY INTUBATED, SEDATED ON PROPOFOL ...</td>\n",
       "    </tr>\n",
       "    <tr>\n",
       "      <th>1232855</th>\n",
       "      <td>1238558</td>\n",
       "      <td>57190</td>\n",
       "      <td>NaN</td>\n",
       "      <td>2129-05-21</td>\n",
       "      <td>2129-05-21 11:42:00</td>\n",
       "      <td>NaN</td>\n",
       "      <td>Radiology</td>\n",
       "      <td>CHEST (PORTABLE AP)</td>\n",
       "      <td>NaN</td>\n",
       "      <td>NaN</td>\n",
       "      <td>[**2129-5-21**] 11:42 AM\\n CHEST (PORTABLE AP)...</td>\n",
       "    </tr>\n",
       "    <tr>\n",
       "      <th>1977557</th>\n",
       "      <td>1984153</td>\n",
       "      <td>22397</td>\n",
       "      <td>174403.0</td>\n",
       "      <td>2198-08-04</td>\n",
       "      <td>2198-08-04 14:31:00</td>\n",
       "      <td>2198-08-04 14:31:00</td>\n",
       "      <td>Nursing/other</td>\n",
       "      <td>Report</td>\n",
       "      <td>17894.0</td>\n",
       "      <td>NaN</td>\n",
       "      <td>6 Hyperbili\\n\\nREVISIONS TO PATHWAY:\\n\\n  6 Hy...</td>\n",
       "    </tr>\n",
       "    <tr>\n",
       "      <th>708926</th>\n",
       "      <td>711465</td>\n",
       "      <td>51909</td>\n",
       "      <td>186695.0</td>\n",
       "      <td>2184-10-30</td>\n",
       "      <td>2184-10-30 03:01:00</td>\n",
       "      <td>2184-10-30 06:41:28</td>\n",
       "      <td>Nursing</td>\n",
       "      <td>Nursing Progress Note</td>\n",
       "      <td>18804.0</td>\n",
       "      <td>NaN</td>\n",
       "      <td>Aneurysm, other\\n   Assessment:\\n   Patient is...</td>\n",
       "    </tr>\n",
       "  </tbody>\n",
       "</table>\n",
       "</div>"
      ],
      "text/plain": [
       "          ROW_ID  SUBJECT_ID   HADM_ID   CHARTDATE            CHARTTIME  \\\n",
       "2044605  2074653       31597  131426.0  2199-07-03  2199-07-03 17:15:00   \n",
       "1415322  1434629       13177  131846.0  2126-11-18  2126-11-18 05:45:00   \n",
       "1232855  1238558       57190       NaN  2129-05-21  2129-05-21 11:42:00   \n",
       "1977557  1984153       22397  174403.0  2198-08-04  2198-08-04 14:31:00   \n",
       "708926    711465       51909  186695.0  2184-10-30  2184-10-30 03:01:00   \n",
       "\n",
       "                   STORETIME       CATEGORY            DESCRIPTION     CGID  \\\n",
       "2044605  2199-07-03 17:28:00  Nursing/other                 Report  15819.0   \n",
       "1415322  2126-11-18 06:04:00  Nursing/other                 Report  19963.0   \n",
       "1232855                  NaN      Radiology    CHEST (PORTABLE AP)      NaN   \n",
       "1977557  2198-08-04 14:31:00  Nursing/other                 Report  17894.0   \n",
       "708926   2184-10-30 06:41:28        Nursing  Nursing Progress Note  18804.0   \n",
       "\n",
       "         ISERROR                                               TEXT  \n",
       "2044605      NaN  NPN [**6-/2092**]\\n\\n\\n\\n #1. rec [**Month/Yea...  \n",
       "1415322      NaN  NEURO:  ORALLY INTUBATED, SEDATED ON PROPOFOL ...  \n",
       "1232855      NaN  [**2129-5-21**] 11:42 AM\\n CHEST (PORTABLE AP)...  \n",
       "1977557      NaN  6 Hyperbili\\n\\nREVISIONS TO PATHWAY:\\n\\n  6 Hy...  \n",
       "708926       NaN  Aneurysm, other\\n   Assessment:\\n   Patient is...  "
      ]
     },
     "execution_count": 10,
     "metadata": {},
     "output_type": "execute_result"
    }
   ],
   "source": [
    "df.head()"
   ]
  },
  {
   "cell_type": "code",
   "execution_count": 11,
   "metadata": {},
   "outputs": [
    {
     "data": {
      "text/plain": [
       "ROW_ID           int64\n",
       "SUBJECT_ID       int64\n",
       "HADM_ID        float64\n",
       "CHARTDATE       object\n",
       "CHARTTIME       object\n",
       "STORETIME       object\n",
       "CATEGORY        object\n",
       "DESCRIPTION     object\n",
       "CGID           float64\n",
       "ISERROR        float64\n",
       "TEXT            object\n",
       "dtype: object"
      ]
     },
     "execution_count": 11,
     "metadata": {},
     "output_type": "execute_result"
    }
   ],
   "source": [
    "df.dtypes"
   ]
  },
  {
   "cell_type": "code",
   "execution_count": 12,
   "metadata": {},
   "outputs": [
    {
     "data": {
      "text/plain": [
       "(208318, 11)"
      ]
     },
     "execution_count": 12,
     "metadata": {},
     "output_type": "execute_result"
    }
   ],
   "source": [
    "df.shape"
   ]
  },
  {
   "cell_type": "code",
   "execution_count": 13,
   "metadata": {},
   "outputs": [],
   "source": [
    "# split data into train and test sets\n",
    "seed = 42\n",
    "test_size = 0.333333333\n",
    "train, test = train_test_split(df, test_size=test_size, random_state=seed)"
   ]
  },
  {
   "cell_type": "code",
   "execution_count": 14,
   "metadata": {},
   "outputs": [
    {
     "data": {
      "text/plain": [
       "(138878, 11)"
      ]
     },
     "execution_count": 14,
     "metadata": {},
     "output_type": "execute_result"
    }
   ],
   "source": [
    "train.shape"
   ]
  },
  {
   "cell_type": "code",
   "execution_count": 15,
   "metadata": {},
   "outputs": [
    {
     "data": {
      "text/plain": [
       "(69440, 11)"
      ]
     },
     "execution_count": 15,
     "metadata": {},
     "output_type": "execute_result"
    }
   ],
   "source": [
    "test.shape"
   ]
  },
  {
   "cell_type": "code",
   "execution_count": 16,
   "metadata": {},
   "outputs": [],
   "source": [
    "# previously used 48; worked fine but never seemed to use even half of GPU memory\n",
    "bs=64"
   ]
  },
  {
   "cell_type": "markdown",
   "metadata": {},
   "source": [
    "Code to reload previously built language model\n",
    "\n",
    "```python\n",
    "filename = base_path/'mimic_lm.pickle'\n",
    "\n",
    "if os.path.isfile(filename):\n",
    "    data_lm = load_data(base_path, 'mimic_lm.pickle', bs=bs)\n",
    "else:\n",
    "    print('Couldnt find file')\n",
    "```"
   ]
  },
  {
   "cell_type": "markdown",
   "metadata": {},
   "source": [
    "Code to build initial version of language model\n",
    "\n",
    "```python\n",
    "```"
   ]
  },
  {
   "cell_type": "code",
   "execution_count": 13,
   "metadata": {},
   "outputs": [],
   "source": [
    "## why does this only seem to use CPU?\n",
    "# applies to both both textclasdatabunch and textlist...\n",
    "# for 100% of the mimic noteevents data:\n",
    "# run out of memory at 32 GB, error at 52 GB, trying 72GB now... got down to only 440MB free; if crash again, increase memory\n",
    "# now at 20vCPU and 128GB RAM; ok up to 93%; got down to 22GB available\n",
    "# succeeded with 20CPU and 128GB RAM...\n",
    "# try smaller batch size? will that reduce memory requirements?\n",
    "# with 10% dataset sample, it seems I could get by with perhaps 32GB system RAM\n",
    "data_lm = (TextList.from_df(df, 'texts.csv', cols='TEXT')\n",
    "           #We may have other temp folders that contain text files so we only keep what's in train and test\n",
    "           .split_by_rand_pct(0.1)\n",
    "           #We randomly split and keep 10% for validation\n",
    "           .label_for_lm()\n",
    "           #We want to do a language model so we label accordingly\n",
    "           .databunch(bs=bs))"
   ]
  },
  {
   "cell_type": "code",
   "execution_count": 14,
   "metadata": {},
   "outputs": [],
   "source": [
    "data_lm.save(base_path/'mimic_lm.pickle')"
   ]
  },
  {
   "cell_type": "code",
   "execution_count": 17,
   "metadata": {},
   "outputs": [],
   "source": [
    "data_lm = load_data(base_path, 'mimic_lm.pickle', bs=bs)"
   ]
  },
  {
   "cell_type": "markdown",
   "metadata": {},
   "source": [
    "If need to view more data, run appropriate line to make display wider/show more columns...\n",
    "```python\n",
    "# default 20\n",
    "pd.get_option('display.max_columns')\n",
    "pd.set_option('display.max_columns', 20)\n",
    "pd.set_option('display.max_columns', None) # show all\n",
    "# default 50\n",
    "pd.get_option('display.max_colwidth')\n",
    "pd.set_option('display.max_colwidth', -1) # show all\n",
    "```"
   ]
  },
  {
   "cell_type": "code",
   "execution_count": 18,
   "metadata": {},
   "outputs": [
    {
     "data": {
      "text/html": [
       "<table border=\"1\" class=\"dataframe\">\n",
       "  <thead>\n",
       "    <tr style=\"text-align: right;\">\n",
       "      <th>idx</th>\n",
       "      <th>text</th>\n",
       "    </tr>\n",
       "  </thead>\n",
       "  <tbody>\n",
       "    <tr>\n",
       "      <td>0</td>\n",
       "      <td>stiff . xxmaj seems lethargic , sleeping through most of the morning , now more alert . \\n \\n  xxup cv : xxmaj remains hemodynamically stable , tolerating norvasc w / xxup bp 100s-140s / 60s . xxup hr xxup nsr 60s-80s w / rare pvcs noted . xxmaj distal pulses palp , extremities warm / dry . \\n \\n  xxup resp : breathing comfortably on trach collar</td>\n",
       "    </tr>\n",
       "    <tr>\n",
       "      <td>1</td>\n",
       "      <td>. \\n \\n  2 . xxup sepsis : xxmaj infant remains in xxmaj ampicillin and xxmaj gentamicin . \\n  xxmaj antibiotics ordered to be d / c'ed at 48 hrs ( @ 1700 , [ * * 11 - 22 * * ] ) \\n  if blood cultures remain negative . xxmaj blood cultures negative \\n  to date . xxmaj plan : xxmaj continue to monitor</td>\n",
       "    </tr>\n",
       "    <tr>\n",
       "      <td>2</td>\n",
       "      <td>\\n  xxmaj glucose \\n  126 \\n  130 \\n  52 \\n  25 \\n  195 \\n  103 \\n  xxmaj other labs : xxup pt / xxup ptt / xxup inr:14.9 / 31.2 / 1.3 , xxmaj lactic xxmaj acid:1.0 mmol / l , \\n  xxmaj ca:8.2 mg / dl , xxmaj mg:2.3 mg / dl , xxup po4:3.3 mg / dl \\n</td>\n",
       "    </tr>\n",
       "    <tr>\n",
       "      <td>3</td>\n",
       "      <td>and xxmaj morphine \\n  xxmaj blood glucose monitored xxup q1h \\n  xxmaj turned per protocol \\n  xxmaj nitro titrated off \\n  xxmaj tolerating clear liquids \\n  xxmaj lytes monitored \\n  xxmaj time spent with pt to ensure realistic expectations for post - op pain \\n  management . xxmaj pt \\n  s expects to be completely painfree . xxmaj pt fall to sleep</td>\n",
       "    </tr>\n",
       "    <tr>\n",
       "      <td>4</td>\n",
       "      <td>hr . feeds . xxmaj belly \\n  soft , void 4.2cc / kg , and had a sm . stool . xxmaj min . asp . and no \\n  spits . d - s 89 xxup k+ 5.6 xxmaj on kcl supps . \\n  # xxup 5o : xxmaj temp stable , active with cares . xxmaj music on this am . \\n  # xxup 6o</td>\n",
       "    </tr>\n",
       "  </tbody>\n",
       "</table>"
      ],
      "text/plain": [
       "<IPython.core.display.HTML object>"
      ]
     },
     "metadata": {},
     "output_type": "display_data"
    }
   ],
   "source": [
    "data_lm.show_batch()\n",
    "# how to look at original version of text\n",
    "#df[df['TEXT'].str.contains('being paralyzed were discussed', case=False)].TEXT"
   ]
  },
  {
   "cell_type": "code",
   "execution_count": 17,
   "metadata": {},
   "outputs": [
    {
     "data": {
      "text/html": [],
      "text/plain": [
       "<IPython.core.display.HTML object>"
      ]
     },
     "metadata": {},
     "output_type": "display_data"
    },
    {
     "name": "stdout",
     "output_type": "stream",
     "text": [
      "LR Finder is complete, type {learner_name}.recorder.plot() to see the graph.\n"
     ]
    }
   ],
   "source": [
    "learn = language_model_learner(data_lm, AWD_LSTM, drop_mult=0.3)\n",
    "learn.lr_find()"
   ]
  },
  {
   "cell_type": "code",
   "execution_count": 18,
   "metadata": {},
   "outputs": [
    {
     "data": {
      "image/png": "[encoded data removed]",
      "text/plain": [
       "<Figure size 432x288 with 1 Axes>"
      ]
     },
     "metadata": {
      "needs_background": "light"
     },
     "output_type": "display_data"
    }
   ],
   "source": [
    "learn.recorder.plot(skip_end=15)"
   ]
  },
  {
   "cell_type": "markdown",
   "metadata": {},
   "source": [
    "### Initial model training\n",
    "\n",
    "Full data set took about 13 hours using the Nvidia P1000; Full data set was predicted to take about 25 hours with the T4\n",
    "\n",
    "10% data is predicted to take about 1 hour (1:10) using the Nvidia P1000"
   ]
  },
  {
   "cell_type": "code",
   "execution_count": 20,
   "metadata": {},
   "outputs": [
    {
     "data": {
      "text/html": [
       "Total time: 1:12:41 <p><table style='width:375px; margin-bottom:10px'>\n",
       "  <tr>\n",
       "    <th>epoch</th>\n",
       "    <th>train_loss</th>\n",
       "    <th>valid_loss</th>\n",
       "    <th>accuracy</th>\n",
       "    <th>time</th>\n",
       "  </tr>\n",
       "  <tr>\n",
       "    <th>0</th>\n",
       "    <th>2.725131</th>\n",
       "    <th>2.456228</th>\n",
       "    <th>0.537501</th>\n",
       "    <th>1:12:41</th>\n",
       "  </tr>\n",
       "</table>\n"
      ],
      "text/plain": [
       "<IPython.core.display.HTML object>"
      ]
     },
     "metadata": {},
     "output_type": "display_data"
    }
   ],
   "source": [
    "# no idea how long nor how much resources this will take\n",
    "# not sure 1e-2 is the right learning rate; maybe 1e-1 or between 1e-2 and 1e-1\n",
    "# using t4\n",
    "# progress bar says this will take around 24 hours... ran for about 52 minutes\n",
    "# gpustat/nvidia-smi indicates currently only using about 5GB of GPU RAM\n",
    "# using p100\n",
    "# progress bar says this will take around 12 hours; took 13:16\n",
    "# at start GPU using about 5GB RAM\n",
    "# after about 8 hours GPU using about 7.5GB RAM.\n",
    "# looks like I could increase batch size...\n",
    "# with bs=64, still only seems to be using about 7GB GPU RAM after running for 15 minutes. will check after a bit, but likely can increase batch size further\n",
    "learn.fit_one_cycle(1, 5e-2, moms=(0.8,0.7))"
   ]
  },
  {
   "cell_type": "code",
   "execution_count": 21,
   "metadata": {},
   "outputs": [],
   "source": [
    "learn.save(base_path/'mimic_fit_head.pickle')"
   ]
  },
  {
   "cell_type": "code",
   "execution_count": null,
   "metadata": {},
   "outputs": [],
   "source": [
    "learn.load(base_path/'mimic_fit_head.pickle')"
   ]
  },
  {
   "cell_type": "code",
   "execution_count": null,
   "metadata": {},
   "outputs": [],
   "source": [
    "learn.unfreeze()"
   ]
  },
  {
   "cell_type": "code",
   "execution_count": null,
   "metadata": {},
   "outputs": [],
   "source": [
    "learn.fit_one_cycle(10, 5e-3, moms=(0.8,0.7))"
   ]
  },
  {
   "cell_type": "code",
   "execution_count": null,
   "metadata": {},
   "outputs": [],
   "source": [
    "learn.save(base_path/'mimic_fine_tuned.pickle')"
   ]
  },
  {
   "cell_type": "code",
   "execution_count": null,
   "metadata": {},
   "outputs": [],
   "source": [
    "learn.load(base_path/'mimic_fine_tuned.pickle')"
   ]
  },
  {
   "cell_type": "code",
   "execution_count": null,
   "metadata": {},
   "outputs": [],
   "source": [
    "# test the language generation capabilities of this model (not the point, but is interesting)\n",
    "TEXT = \"For confirmation, she underwent CTA of the lung which was negative for pulmonary embolism\"\n",
    "N_WORDS = 40\n",
    "N_SENTENCES = 2\n",
    "In [ ]:\n",
    "print(\"\\n\".join(learn.predict(TEXT, N_WORDS, temperature=0.75) for _ in range(N_SENTENCES)))"
   ]
  },
  {
   "cell_type": "code",
   "execution_count": null,
   "metadata": {},
   "outputs": [],
   "source": [
    "learn.save_encoder('mimic_fine_tuned_enc.pickle')"
   ]
  }
 ],
 "metadata": {
  "kernelspec": {
   "display_name": "Python 3",
   "language": "python",
   "name": "python3"
  },
  "language_info": {
   "codemirror_mode": {
    "name": "ipython",
    "version": 3
   },
   "file_extension": ".py",
   "mimetype": "text/x-python",
   "name": "python",
   "nbconvert_exporter": "python",
   "pygments_lexer": "ipython3",
   "version": "3.7.1"
  }
 },
 "nbformat": 4,
 "nbformat_minor": 2
}
