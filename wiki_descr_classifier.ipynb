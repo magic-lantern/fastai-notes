{
 "cells": [
  {
   "cell_type": "markdown",
   "metadata": {},
   "source": [
    "# Based on general purpose language model, train a 'DESCRIPTION' classifier\n",
    "\n",
    "Instead of building from a MIMIC trained language model, use the general purpose ULMFit Wiki trained model"
   ]
  },
  {
   "cell_type": "code",
   "execution_count": 3,
   "metadata": {},
   "outputs": [],
   "source": [
    "from fastai.text import *\n",
    "from sklearn.model_selection import train_test_split\n",
    "import glob\n",
    "import gc"
   ]
  },
  {
   "cell_type": "markdown",
   "metadata": {},
   "source": [
    "Setup filenames and paths"
   ]
  },
  {
   "cell_type": "code",
   "execution_count": 4,
   "metadata": {},
   "outputs": [],
   "source": [
    "# pandas doesn't understand ~, so provide full path\n",
    "base_path = Path.home() / 'mimic'\n",
    "\n",
    "# files used during processing - all aggregated here\n",
    "admissions_file = base_path/'ADMISSIONS.csv'\n",
    "notes_file = base_path/'NOTEEVENTS.csv'\n",
    "\n",
    "class_file = 'wiki_cl_data.pickle'\n",
    "notes_pickle_file = base_path/'noteevents.pickle'\n",
    "lm_file = 'cl_lm.pickle' # actual file is at base_path/lm_file but due to fastai function, have to pass file name separately\n",
    "init_model_file = base_path/'wiki_cl_head'\n",
    "cycles_file = base_path/'wiki_cl_num_iterations.pickle'\n",
    "enc_file = 'wiki_cl_enc'\n",
    "descr_ft_file = 'wiki_cl_fine_tuned_'"
   ]
  },
  {
   "cell_type": "markdown",
   "metadata": {},
   "source": [
    "Setup parameters for models"
   ]
  },
  {
   "cell_type": "code",
   "execution_count": 5,
   "metadata": {},
   "outputs": [],
   "source": [
    "# original data set too large to work with in reasonable time due to limted GPU resources\n",
    "pct_data_sample = 0.1\n",
    "# how much to hold out for validation\n",
    "valid_pct = 0.2\n",
    "# for repeatability - different seed than used with language model\n",
    "seed = 1776\n",
    "# batch size of 96 GPU needs more than 16GB RAM\n",
    "# batch size of 64 GPU uses 16GB RAM\n",
    "# batch size of 48 GPU uses ??GB RAM\n",
    "# changing batch size affects learning rate\n",
    "bs=64"
   ]
  },
  {
   "cell_type": "code",
   "execution_count": 6,
   "metadata": {},
   "outputs": [],
   "source": [
    "# if this doesn't free memory, can restart Python kernel.\n",
    "# if that still doesn't work, try OS items mentioned here: https://docs.fast.ai/dev/gpu.html\n",
    "def release_mem():\n",
    "    gc.collect()\n",
    "    torch.cuda.empty_cache()\n",
    "release_mem()"
   ]
  },
  {
   "cell_type": "code",
   "execution_count": 7,
   "metadata": {},
   "outputs": [
    {
     "name": "stdout",
     "output_type": "stream",
     "text": [
      "Loading noteevent pickle file\n",
      "(2083180, 11)\n"
     ]
    }
   ],
   "source": [
    "orig_df = pd.DataFrame()\n",
    "if os.path.isfile(notes_pickle_file):\n",
    "    print('Loading noteevent pickle file')\n",
    "    orig_df = pd.read_pickle(notes_pickle_file)\n",
    "    print(orig_df.shape)\n",
    "else:\n",
    "    print('Could not find noteevent pickle file; creating it')\n",
    "    # run this the first time to covert CSV to Pickle file\n",
    "    orig_df = pd.read_csv(notes_file, low_memory=False, memory_map=True)\n",
    "    orig_df.to_pickle(notes_pickle_file)"
   ]
  },
  {
   "cell_type": "code",
   "execution_count": 8,
   "metadata": {},
   "outputs": [],
   "source": [
    "df = orig_df.sample(frac=pct_data_sample, random_state=seed)"
   ]
  },
  {
   "cell_type": "code",
   "execution_count": 9,
   "metadata": {},
   "outputs": [
    {
     "data": {
      "text/html": [
       "<div>\n",
       "<style scoped>\n",
       "    .dataframe tbody tr th:only-of-type {\n",
       "        vertical-align: middle;\n",
       "    }\n",
       "\n",
       "    .dataframe tbody tr th {\n",
       "        vertical-align: top;\n",
       "    }\n",
       "\n",
       "    .dataframe thead th {\n",
       "        text-align: right;\n",
       "    }\n",
       "</style>\n",
       "<table border=\"1\" class=\"dataframe\">\n",
       "  <thead>\n",
       "    <tr style=\"text-align: right;\">\n",
       "      <th></th>\n",
       "      <th>ROW_ID</th>\n",
       "      <th>SUBJECT_ID</th>\n",
       "      <th>HADM_ID</th>\n",
       "      <th>CHARTDATE</th>\n",
       "      <th>CHARTTIME</th>\n",
       "      <th>STORETIME</th>\n",
       "      <th>CATEGORY</th>\n",
       "      <th>DESCRIPTION</th>\n",
       "      <th>CGID</th>\n",
       "      <th>ISERROR</th>\n",
       "      <th>TEXT</th>\n",
       "    </tr>\n",
       "  </thead>\n",
       "  <tbody>\n",
       "    <tr>\n",
       "      <th>1452901</th>\n",
       "      <td>1454539</td>\n",
       "      <td>14755</td>\n",
       "      <td>151669.0</td>\n",
       "      <td>2125-02-13</td>\n",
       "      <td>2125-02-13 05:37:00</td>\n",
       "      <td>2125-02-13 05:40:00</td>\n",
       "      <td>Nursing/other</td>\n",
       "      <td>Report</td>\n",
       "      <td>19585.0</td>\n",
       "      <td>NaN</td>\n",
       "      <td>Respiratory Care:\\nPatient on PSV overnight of...</td>\n",
       "    </tr>\n",
       "    <tr>\n",
       "      <th>462929</th>\n",
       "      <td>466766</td>\n",
       "      <td>46041</td>\n",
       "      <td>176979.0</td>\n",
       "      <td>2160-06-02</td>\n",
       "      <td>2160-06-02 02:43:00</td>\n",
       "      <td>2160-06-02 02:57:32</td>\n",
       "      <td>Nursing</td>\n",
       "      <td>Nursing Progress Note</td>\n",
       "      <td>18654.0</td>\n",
       "      <td>NaN</td>\n",
       "      <td>Shock, cardiogenic\\n   Assessment:\\n   Hemodyn...</td>\n",
       "    </tr>\n",
       "    <tr>\n",
       "      <th>227661</th>\n",
       "      <td>237449</td>\n",
       "      <td>81883</td>\n",
       "      <td>118744.0</td>\n",
       "      <td>2143-10-28</td>\n",
       "      <td>NaN</td>\n",
       "      <td>NaN</td>\n",
       "      <td>ECG</td>\n",
       "      <td>Report</td>\n",
       "      <td>NaN</td>\n",
       "      <td>NaN</td>\n",
       "      <td>Compared to tracing #1 the patient's rate has ...</td>\n",
       "    </tr>\n",
       "    <tr>\n",
       "      <th>597361</th>\n",
       "      <td>603087</td>\n",
       "      <td>50450</td>\n",
       "      <td>147724.0</td>\n",
       "      <td>2191-09-20</td>\n",
       "      <td>2191-09-20 23:48:00</td>\n",
       "      <td>2191-09-20 23:48:27</td>\n",
       "      <td>Physician</td>\n",
       "      <td>Physician Attending Admission Note - MICU</td>\n",
       "      <td>16383.0</td>\n",
       "      <td>NaN</td>\n",
       "      <td>Chief Complaint:  GI Bleed-melena and hemateme...</td>\n",
       "    </tr>\n",
       "    <tr>\n",
       "      <th>973311</th>\n",
       "      <td>962711</td>\n",
       "      <td>7287</td>\n",
       "      <td>108868.0</td>\n",
       "      <td>2152-06-02</td>\n",
       "      <td>2152-06-02 23:18:00</td>\n",
       "      <td>NaN</td>\n",
       "      <td>Radiology</td>\n",
       "      <td>PELVIS PORTABLE</td>\n",
       "      <td>NaN</td>\n",
       "      <td>NaN</td>\n",
       "      <td>[**2152-6-2**] 11:18 PM\\n PELVIS PORTABLE     ...</td>\n",
       "    </tr>\n",
       "  </tbody>\n",
       "</table>\n",
       "</div>"
      ],
      "text/plain": [
       "          ROW_ID  SUBJECT_ID   HADM_ID   CHARTDATE            CHARTTIME  \\\n",
       "1452901  1454539       14755  151669.0  2125-02-13  2125-02-13 05:37:00   \n",
       "462929    466766       46041  176979.0  2160-06-02  2160-06-02 02:43:00   \n",
       "227661    237449       81883  118744.0  2143-10-28                  NaN   \n",
       "597361    603087       50450  147724.0  2191-09-20  2191-09-20 23:48:00   \n",
       "973311    962711        7287  108868.0  2152-06-02  2152-06-02 23:18:00   \n",
       "\n",
       "                   STORETIME       CATEGORY  \\\n",
       "1452901  2125-02-13 05:40:00  Nursing/other   \n",
       "462929   2160-06-02 02:57:32        Nursing   \n",
       "227661                   NaN            ECG   \n",
       "597361   2191-09-20 23:48:27     Physician    \n",
       "973311                   NaN      Radiology   \n",
       "\n",
       "                                       DESCRIPTION     CGID  ISERROR  \\\n",
       "1452901                                     Report  19585.0      NaN   \n",
       "462929                       Nursing Progress Note  18654.0      NaN   \n",
       "227661                                      Report      NaN      NaN   \n",
       "597361   Physician Attending Admission Note - MICU  16383.0      NaN   \n",
       "973311                             PELVIS PORTABLE      NaN      NaN   \n",
       "\n",
       "                                                      TEXT  \n",
       "1452901  Respiratory Care:\\nPatient on PSV overnight of...  \n",
       "462929   Shock, cardiogenic\\n   Assessment:\\n   Hemodyn...  \n",
       "227661   Compared to tracing #1 the patient's rate has ...  \n",
       "597361   Chief Complaint:  GI Bleed-melena and hemateme...  \n",
       "973311   [**2152-6-2**] 11:18 PM\\n PELVIS PORTABLE     ...  "
      ]
     },
     "execution_count": 9,
     "metadata": {},
     "output_type": "execute_result"
    }
   ],
   "source": [
    "df.head()"
   ]
  },
  {
   "cell_type": "code",
   "execution_count": 10,
   "metadata": {},
   "outputs": [
    {
     "name": "stdout",
     "output_type": "stream",
     "text": [
      "Unique Categories: 15\n",
      "Unique Descriptions: 1708\n"
     ]
    }
   ],
   "source": [
    "print('Unique Categories:', len(df.CATEGORY.unique()))\n",
    "print('Unique Descriptions:', len(df.DESCRIPTION.unique()))"
   ]
  },
  {
   "cell_type": "markdown",
   "metadata": {},
   "source": [
    "Original section from lesson3\n",
    "```python\n",
    "data_clas = (TextList.from_folder(path, vocab=data_lm.vocab)\n",
    "             #grab all the text files in path\n",
    "             .split_by_folder(valid='test')\n",
    "             #split by train and valid folder (that only keeps 'train' and 'test' so no need to filter)\n",
    "             .label_from_folder(classes=['neg', 'pos'])\n",
    "             #label them all with their folders\n",
    "             .databunch(bs=bs))\n",
    "\n",
    "data_clas.save('data_clas.pkl')\n",
    "```"
   ]
  },
  {
   "cell_type": "markdown",
   "metadata": {},
   "source": [
    "### Normally you would use transfer learning to adjust the language model to the new data.\n",
    "\n",
    "In this case, I just want to test how the classifier would work without fine-tuning the language model"
   ]
  },
  {
   "cell_type": "code",
   "execution_count": 11,
   "metadata": {},
   "outputs": [
    {
     "name": "stdout",
     "output_type": "stream",
     "text": [
      "CPU times: user 54 s, sys: 19.4 s, total: 1min 13s\n",
      "Wall time: 4min 38s\n"
     ]
    }
   ],
   "source": [
    "%%time\n",
    "\n",
    "tmpfile = base_path/lm_file\n",
    "\n",
    "if os.path.isfile(tmpfile):\n",
    "    print('loading existing language model')\n",
    "    lm = load_data(base_path, lm_file, bs=bs)\n",
    "else:\n",
    "    print('creating new language model')\n",
    "    lm = (TextList.from_df(df, base_path, cols='TEXT')\n",
    "               #df has several columns; actual text is in column TEXT\n",
    "               .split_by_rand_pct(valid_pct=valid_pct, seed=seed)\n",
    "               #We randomly split and keep 10% for validation\n",
    "               .label_for_lm()\n",
    "               #We want to do a language model so we label accordingly\n",
    "               .databunch(bs=bs))\n",
    "    lm.save(tmpfile)"
   ]
  },
  {
   "cell_type": "code",
   "execution_count": 13,
   "metadata": {},
   "outputs": [],
   "source": [
    "learn = language_model_learner(lm, AWD_LSTM, drop_mult=0.3)\n",
    "learn.save_encoder(enc_file)"
   ]
  },
  {
   "cell_type": "markdown",
   "metadata": {},
   "source": [
    "#### This is a very CPU and RAM intensive process - no GPU involved\n",
    "\n",
    "Also, since there are a wide range of descriptions, not all descriptions present in the test set are in the validation set, so cannot learn all of them."
   ]
  },
  {
   "cell_type": "code",
   "execution_count": 14,
   "metadata": {},
   "outputs": [
    {
     "name": "stderr",
     "output_type": "stream",
     "text": [
      "/opt/anaconda3/lib/python3.7/site-packages/fastai/data_block.py:534: UserWarning: You are labelling your items with CategoryList.\n",
      "Your valid set contained the following unknown labels, the corresponding items have been discarded.\n",
      "Nursing 1900 - 0700, Physician Felllow / Attending Progress Note - MICU, SML BOWEL VIA ENTROCLYSIS TUBE, US DRAIN PELV ABSCESS, PMV follow up/Swallow Consult...\n",
      "  if getattr(ds, 'warn', False): warn(ds.warn)\n"
     ]
    }
   ],
   "source": [
    "filename = base_path/class_file\n",
    "if os.path.isfile(filename):\n",
    "    data_cl = load_data(base_path, class_file, bs=bs)\n",
    "else:\n",
    "    # do I need a vocab here? test with and without...\n",
    "    data_cl = (TextList.from_df(df, base_path, cols='TEXT', vocab=lm.vocab)\n",
    "               #df has several columns; actual text is in column TEXT\n",
    "               .split_by_rand_pct(valid_pct=valid_pct, seed=seed)\n",
    "               #We randomly split and keep 20% for validation, set see for repeatability\n",
    "               .label_from_df(cols='DESCRIPTION')\n",
    "               #building classifier to automatically determine DESCRIPTION\n",
    "               .databunch(bs=bs))\n",
    "    data_cl.save(filename)"
   ]
  },
  {
   "cell_type": "code",
   "execution_count": 15,
   "metadata": {},
   "outputs": [],
   "source": [
    "learn = text_classifier_learner(data_cl, AWD_LSTM, drop_mult=0.5)\n",
    "learn.load_encoder(enc_file)"
   ]
  },
  {
   "cell_type": "code",
   "execution_count": 16,
   "metadata": {},
   "outputs": [
    {
     "data": {
      "text/html": [],
      "text/plain": [
       "<IPython.core.display.HTML object>"
      ]
     },
     "metadata": {},
     "output_type": "display_data"
    },
    {
     "name": "stdout",
     "output_type": "stream",
     "text": [
      "LR Finder is complete, type {learner_name}.recorder.plot() to see the graph.\n"
     ]
    }
   ],
   "source": [
    "learn.lr_find()"
   ]
  },
  {
   "cell_type": "code",
   "execution_count": 17,
   "metadata": {},
   "outputs": [
    {
     "data": {
      "image/png": "[encoded data removed]",
      "text/plain": [
       "<Figure size 432x288 with 1 Axes>"
      ]
     },
     "metadata": {
      "needs_background": "light"
     },
     "output_type": "display_data"
    }
   ],
   "source": [
    "learn.recorder.plot()"
   ]
  },
  {
   "cell_type": "markdown",
   "metadata": {},
   "source": [
    "Change learning rate based on results from the above plot\n",
    "\n",
    "First unfrozen training with `learn.fit_one_cycle(1, 5e-2, moms=(0.8,0.7))` results in \n",
    "\n",
    "    Total time: 22:36\n",
    "\n",
    "    epoch \ttrain_loss \tvalid_loss \taccuracy \ttime\n",
    "        0 \t0.967378 \t0.638532 \t0.870705 \t22:36"
   ]
  },
  {
   "cell_type": "code",
   "execution_count": 18,
   "metadata": {},
   "outputs": [
    {
     "name": "stdout",
     "output_type": "stream",
     "text": [
      "Training new initial learner\n"
     ]
    },
    {
     "data": {
      "text/html": [
       "Total time: 22:36 <p><table style='width:375px; margin-bottom:10px'>\n",
       "  <tr>\n",
       "    <th>epoch</th>\n",
       "    <th>train_loss</th>\n",
       "    <th>valid_loss</th>\n",
       "    <th>accuracy</th>\n",
       "    <th>time</th>\n",
       "  </tr>\n",
       "  <tr>\n",
       "    <th>0</th>\n",
       "    <th>0.967378</th>\n",
       "    <th>0.638532</th>\n",
       "    <th>0.870705</th>\n",
       "    <th>22:36</th>\n",
       "  </tr>\n",
       "</table>\n"
      ],
      "text/plain": [
       "<IPython.core.display.HTML object>"
      ]
     },
     "metadata": {},
     "output_type": "display_data"
    },
    {
     "name": "stdout",
     "output_type": "stream",
     "text": [
      "Saving new learner\n",
      "Finished generating new learner\n"
     ]
    }
   ],
   "source": [
    "if os.path.isfile(str(init_model_file) + '.pth'):\n",
    "    learn.load(init_model_file)\n",
    "    print('loaded initial learner')\n",
    "else:\n",
    "    print('Training new initial learner')\n",
    "    learn.fit_one_cycle(1, 5e-2, moms=(0.8,0.7))\n",
    "    print('Saving new learner')\n",
    "    learn.save(init_model_file)\n",
    "    print('Finished generating new learner')"
   ]
  },
  {
   "cell_type": "markdown",
   "metadata": {},
   "source": [
    "Now need to fine tune"
   ]
  },
  {
   "cell_type": "code",
   "execution_count": null,
   "metadata": {},
   "outputs": [],
   "source": [
    "learn.unfreeze()"
   ]
  },
  {
   "cell_type": "code",
   "execution_count": null,
   "metadata": {},
   "outputs": [],
   "source": [
    "release_mem()"
   ]
  },
  {
   "cell_type": "code",
   "execution_count": null,
   "metadata": {},
   "outputs": [
    {
     "data": {
      "text/html": [
       "\n",
       "    <div>\n",
       "        <style>\n",
       "            /* Turns off some styling */\n",
       "            progress {\n",
       "                /* gets rid of default border in Firefox and Opera. */\n",
       "                border: none;\n",
       "                /* Needs to be in here for Safari polyfill so background images work as expected. */\n",
       "                background-size: auto;\n",
       "            }\n",
       "            .progress-bar-interrupted, .progress-bar-interrupted::-webkit-progress-bar {\n",
       "                background: #F44336;\n",
       "            }\n",
       "        </style>\n",
       "      <progress value='3' class='' max='5', style='width:300px; height:20px; vertical-align: middle;'></progress>\n",
       "      60.00% [3/5 2:04:48<1:23:12]\n",
       "    </div>\n",
       "    \n",
       "<table style='width:375px; margin-bottom:10px'>\n",
       "  <tr>\n",
       "    <th>epoch</th>\n",
       "    <th>train_loss</th>\n",
       "    <th>valid_loss</th>\n",
       "    <th>accuracy</th>\n",
       "    <th>time</th>\n",
       "  </tr>\n",
       "  <tr>\n",
       "    <th>0</th>\n",
       "    <th>0.495137</th>\n",
       "    <th>0.334722</th>\n",
       "    <th>0.932630</th>\n",
       "    <th>43:56</th>\n",
       "  </tr>\n",
       "  <tr>\n",
       "    <th>1</th>\n",
       "    <th>0.471803</th>\n",
       "    <th>0.349285</th>\n",
       "    <th>0.933907</th>\n",
       "    <th>40:24</th>\n",
       "  </tr>\n",
       "  <tr>\n",
       "    <th>2</th>\n",
       "    <th>0.349034</th>\n",
       "    <th>0.293346</th>\n",
       "    <th>0.948316</th>\n",
       "    <th>40:25</th>\n",
       "  </tr>\n",
       "</table>\n",
       "\n",
       "\n",
       "    <div>\n",
       "        <style>\n",
       "            /* Turns off some styling */\n",
       "            progress {\n",
       "                /* gets rid of default border in Firefox and Opera. */\n",
       "                border: none;\n",
       "                /* Needs to be in here for Safari polyfill so background images work as expected. */\n",
       "                background-size: auto;\n",
       "            }\n",
       "            .progress-bar-interrupted, .progress-bar-interrupted::-webkit-progress-bar {\n",
       "                background: #F44336;\n",
       "            }\n",
       "        </style>\n",
       "      <progress value='778' class='' max='2603', style='width:300px; height:20px; vertical-align: middle;'></progress>\n",
       "      29.89% [778/2603 08:48<20:40 0.2821]\n",
       "    </div>\n",
       "    "
      ],
      "text/plain": [
       "<IPython.core.display.HTML object>"
      ]
     },
     "metadata": {},
     "output_type": "display_data"
    }
   ],
   "source": [
    "num_cycles = 5\n",
    "prev_cycles = 0\n",
    "\n",
    "file = descr_ft_file + str(prev_cycles)\n",
    "learner_file = base_path/file\n",
    "callback_save_file = str(learner_file) + '_auto'\n",
    "\n",
    "learn.fit_one_cycle(num_cycles, 5e-3, moms=(0.8,0.7),\n",
    "                    callbacks=[\n",
    "                        callbacks.SaveModelCallback(learn, every='epoch', monitor='accuracy', name=callback_save_file),\n",
    "                        # CSVLogger only logs when num_cycles are complete\n",
    "                        callbacks.CSVLogger(learn, filename='descr_fine_tune_history', append=True)\n",
    "                    ])\n",
    "file = descr_ft_file + str(prev_cycles + num_cycles)\n",
    "learner_file = base_path/file\n",
    "learn.save(learner_file)\n",
    "\n",
    "with open(cycles_file, 'wb') as f:\n",
    "    pickle.dump(num_cycles + prev_cycles, f)\n",
    "release_mem()"
   ]
  },
  {
   "cell_type": "code",
   "execution_count": null,
   "metadata": {},
   "outputs": [],
   "source": []
  }
 ],
 "metadata": {
  "kernelspec": {
   "display_name": "Python 3",
   "language": "python",
   "name": "python3"
  },
  "language_info": {
   "codemirror_mode": {
    "name": "ipython",
    "version": 3
   },
   "file_extension": ".py",
   "mimetype": "text/x-python",
   "name": "python",
   "nbconvert_exporter": "python",
   "pygments_lexer": "ipython3",
   "version": "3.7.3"
  }
 },
 "nbformat": 4,
 "nbformat_minor": 4
}
